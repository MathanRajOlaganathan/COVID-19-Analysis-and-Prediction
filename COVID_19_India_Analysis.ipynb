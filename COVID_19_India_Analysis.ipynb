{
 "cells": [
  {
   "cell_type": "markdown",
   "metadata": {
    "colab_type": "text",
    "id": "YySVeH4vHVlQ"
   },
   "source": [
    "**</h1><center>COVID-19 INDIA ANALYSIS</center></h1>**\n",
    "\n",
    "\n",
    "> </h1><center>Mathan Raj O</center></h1>\n",
    " </h1><center>09/04/2020</center></h1>\n",
    "\n",
    "\n",
    "\n",
    "\n",
    "\n"
   ]
  },
  {
   "cell_type": "markdown",
   "metadata": {},
   "source": [
    "<!-- from IPython.display import Image -->"
   ]
  },
  {
   "cell_type": "markdown",
   "metadata": {},
   "source": [
    "## Table of Contents\n",
    "\n",
    "<div  style=\"margin-top: 20px\">\n",
    "\n",
    "<font size = 3>\n",
    "\n",
    "1. <a href=\"#item1\">Introduction</a>\n",
    "\n",
    "2. <a href=\"#item2\">Data</a>\n",
    "\n",
    "3. <a href=\"#item3\">Data Preprocessing</a>\n",
    "\n",
    "4. <a href=\"#item4\">Exploratory Data Analysis</a>\n",
    "\n",
    "5. <a href=\"#item5\">Conclusion</a>\n",
    "\n",
    "</font>\n",
    "</div>"
   ]
  },
  {
   "cell_type": "markdown",
   "metadata": {},
   "source": [
    "<a id = 'item1'></a>"
   ]
  },
  {
   "cell_type": "markdown",
   "metadata": {},
   "source": [
    "## 1.Introduction"
   ]
  },
  {
   "cell_type": "markdown",
   "metadata": {},
   "source": [
    "<img src = 'Images/PunchCorona.JPG' width= '700'  height= 'auto'/>"
   ]
  },
  {
   "cell_type": "markdown",
   "metadata": {
    "colab_type": "text",
    "id": "3lMdfyzfvgUI"
   },
   "source": [
    "### 1.1 Background\n",
    "\n",
    ">Coronavirus disease (COVID-19) is an infectious disease caused by a new virus.They are a large family of viruses which may cause illness in animals or humans. In humans, several coronaviruses are known to cause respiratory infections ranging from the common cold to more severe diseases such as Middle East Respiratory Syndrome (MERS) and Severe Acute Respiratory Syndrome (SARS).\n",
    " \n",
    "### 1.2 Problem Statement\n",
    "\n",
    "The number of new cases are increasing day by day around the world and it has caused acute shortage of healthcare infrastructure. To address this problem,  we will analyse the  number of beds and hospitals in different states and union territories. Along with this data we collect the patient database in predicting the acute shortages of medical infrastructure and supplement wherever necessary."
   ]
  },
  {
   "cell_type": "code",
   "execution_count": 0,
   "metadata": {
    "colab": {},
    "colab_type": "code",
    "id": "NqZUz3MPIBPg"
   },
   "outputs": [],
   "source": [
    "# importing libraries\n",
    "import pandas as pd\n",
    "import numpy as np\n",
    "import matplotlib.pyplot as plt\n",
    "import seaborn as sns\n",
    "from zipfile import ZipFile\n",
    "from geopy.geocoders import Nominatim\n",
    "from google.colab import files\n",
    "import os\n",
    "import matplotlib.cm as cm\n",
    "import matplotlib.colors as colors\n",
    "import plotly.express as px\n",
    "import plotly.graph_objects as go\n",
    "import folium\n",
    "import json\n",
    "import requests\n",
    "import datetime as dt\n",
    "pd.set_option('display.max_rows',None)\n"
   ]
  },
  {
   "cell_type": "markdown",
   "metadata": {
    "colab_type": "text",
    "id": "LkDuUfOzIA1i"
   },
   "source": [
    "Download the dataset from Kaggle"
   ]
  },
  {
   "cell_type": "code",
   "execution_count": 0,
   "metadata": {
    "colab": {
     "base_uri": "https://localhost:8080/",
     "height": 461,
     "resources": {
      "http://localhost:8080/nbextensions/google.colab/files.js": {
       "data": "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",
       "headers": [
        [
         "content-type",
         "application/javascript"
        ]
       ],
       "ok": true,
       "status": 200,
       "status_text": ""
      }
     }
    },
    "colab_type": "code",
    "id": "Y2SfftquEi-y",
    "outputId": "dfadf7d2-aba9-42c4-8f97-21fc09dd2c52"
   },
   "outputs": [
    {
     "data": {
      "text/html": [
       "\n",
       "     <input type=\"file\" id=\"files-45bd72dc-ea80-4735-bc19-d27fda4de89a\" name=\"files[]\" multiple disabled />\n",
       "     <output id=\"result-45bd72dc-ea80-4735-bc19-d27fda4de89a\">\n",
       "      Upload widget is only available when the cell has been executed in the\n",
       "      current browser session. Please rerun this cell to enable.\n",
       "      </output>\n",
       "      <script src=\"/nbextensions/google.colab/files.js\"></script> "
      ],
      "text/plain": [
       "<IPython.core.display.HTML object>"
      ]
     },
     "metadata": {
      "tags": []
     },
     "output_type": "display_data"
    },
    {
     "name": "stdout",
     "output_type": "stream",
     "text": [
      "Saving kaggle.json to kaggle.json\n",
      "Warning: Looks like you're using an outdated API Version, please consider updating (server 1.5.6 / client 1.5.4)\n",
      "ref                                                            title                                                size  lastUpdated          downloadCount  \n",
      "-------------------------------------------------------------  --------------------------------------------------  -----  -------------------  -------------  \n",
      "allen-institute-for-ai/CORD-19-research-challenge              COVID-19 Open Research Dataset Challenge (CORD-19)    1GB  2020-04-11 13:32:24          48778  \n",
      "roche-data-science-coalition/uncover                           UNCOVER COVID-19 Challenge                          123MB  2020-04-08 22:04:30           2765  \n",
      "fireballbyedimyrnmom/us-counties-covid-19-dataset              US counties COVID 19 dataset                        404KB  2020-04-12 12:09:04           3113  \n",
      "ryanxjhan/cbc-news-coronavirus-articles-march-26               CBC News Coronavirus/COVID-19 Articles (NLP)          6MB  2020-03-27 23:23:07            652  \n",
      "bappekim/air-pollution-in-seoul                                Air Pollution in Seoul                               20MB  2020-04-03 16:33:49            910  \n",
      "danevans/world-bank-wdi-212-health-systems                     World Bank WDI 2.12 - Health Systems                  6KB  2020-03-29 19:00:14            861  \n",
      "vitaliymalcev/russian-passenger-air-service-20072020           Russian passenger air service 2007-2020             239KB  2020-04-02 22:27:03            513  \n",
      "eswarchandt/amazon-music-reviews                               Amazon Musicual Instruments Reviews                   5MB  2020-03-29 02:59:52            604  \n",
      "dheerajmpai/hospitals-and-beds-in-india                        Hospitals and beds in India (Statewise)               5KB  2020-03-27 14:05:50            754  \n",
      "lakritidis/identifying-influential-bloggers-techcrunch         Identifying Influential Bloggers: Techcrunch        112MB  2020-03-30 19:22:09            147  \n",
      "monogenea/birdsongs-from-europe                                Bird songs from Europe (xeno-canto)                   7GB  2020-03-23 15:35:20             90  \n",
      "trtmio/project-coviewed-subreddit-coronavirus-news-corpus      Project COVIEWED Coronavirus News Corpus              9MB  2020-04-06 09:01:01             95  \n",
      "sobhanmoosavi/us-accidents                                     US Accidents (3.0 million records)                  199MB  2020-01-17 04:45:09          13174  \n",
      "kimjihoo/coronavirusdataset                                    Data Science for COVID-19 (DS4C)                      3MB  2020-04-07 15:09:23          27639  \n",
      "sudalairajkumar/novel-corona-virus-2019-dataset                Novel Corona Virus 2019 Dataset                     728KB  2020-04-12 15:57:28         137877  \n",
      "clmentbisaillon/fake-and-real-news-dataset                     Fake and real news dataset                           41MB  2020-03-26 18:51:15           1122  \n",
      "unanimad/dataisbeautiful                                       Reddit - Data is Beautiful                           11MB  2020-04-01 12:10:09           1653  \n",
      "jessemostipak/hotel-booking-demand                             Hotel booking demand                                  1MB  2020-02-13 01:27:20          13980  \n",
      "paultimothymooney/covid19-containment-and-mitigation-measures  COVID-19 containment and mitigation measures        141KB  2020-04-12 18:50:10           1571  \n",
      "rubenssjr/brasilian-houses-to-rent                             brazilian_houses_to_rent                            282KB  2020-03-25 22:51:17           1893  \n"
     ]
    }
   ],
   "source": [
    "! pip install -q kaggle\n",
    "\n",
    "from google.colab import files\n",
    "# Choose the kaggle.json file that you downloaded\n",
    "files.upload()\n",
    "\n",
    "# ! mkdir ~/.kaggle\n",
    "#  Make directory named kaggle and copy kaggle.json file there.\n",
    "! cp kaggle.json ~/.kaggle/\n",
    "\n",
    "# Change the permissions of the file.\n",
    "! chmod 600 ~/.kaggle/kaggle.json\n",
    "\n",
    "\n",
    "! kaggle datasets list"
   ]
  },
  {
   "cell_type": "code",
   "execution_count": 0,
   "metadata": {
    "colab": {
     "base_uri": "https://localhost:8080/",
     "height": 67
    },
    "colab_type": "code",
    "id": "IW6iUx5wJTsX",
    "outputId": "a0c18621-896f-4c44-b93a-bade8d6831c4"
   },
   "outputs": [
    {
     "name": "stdout",
     "output_type": "stream",
     "text": [
      "Downloading covid19-in-india.zip to /content\n",
      "\r",
      "  0% 0.00/87.1k [00:00<?, ?B/s]\n",
      "\r",
      "100% 87.1k/87.1k [00:00<00:00, 33.5MB/s]\n"
     ]
    }
   ],
   "source": [
    "!kaggle datasets download -d sudalairajkumar/covid19-in-india"
   ]
  },
  {
   "cell_type": "code",
   "execution_count": 0,
   "metadata": {
    "colab": {
     "base_uri": "https://localhost:8080/",
     "height": 67
    },
    "colab_type": "code",
    "id": "7mdnTGStwbxL",
    "outputId": "a1595e97-e22e-45df-cb7a-6f96a2d323a9"
   },
   "outputs": [
    {
     "name": "stdout",
     "output_type": "stream",
     "text": [
      "Downloading novel-corona-virus-2019-dataset.zip to /content\n",
      "\r",
      "  0% 0.00/728k [00:00<?, ?B/s]\n",
      "\r",
      "100% 728k/728k [00:00<00:00, 47.0MB/s]\n"
     ]
    }
   ],
   "source": [
    "!kaggle datasets download -d sudalairajkumar/novel-corona-virus-2019-dataset"
   ]
  },
  {
   "cell_type": "markdown",
   "metadata": {
    "colab_type": "text",
    "id": "HCZ3wup4JOOW"
   },
   "source": [
    "Extract the zip file"
   ]
  },
  {
   "cell_type": "code",
   "execution_count": 0,
   "metadata": {
    "colab": {},
    "colab_type": "code",
    "id": "jkmTvgaGJgFu"
   },
   "outputs": [],
   "source": [
    "!mkdir covid-19\n",
    "!mkdir covid-19-world"
   ]
  },
  {
   "cell_type": "code",
   "execution_count": 0,
   "metadata": {
    "colab": {
     "base_uri": "https://localhost:8080/",
     "height": 168
    },
    "colab_type": "code",
    "id": "KDEZoXeMJktz",
    "outputId": "44417c33-dec3-4434-9891-20f21bcedd3d"
   },
   "outputs": [
    {
     "name": "stdout",
     "output_type": "stream",
     "text": [
      "Archive:  novel-corona-virus-2019-dataset.zip\n",
      "  inflating: covid-19-world/COVID19_line_list_data.csv  \n",
      "  inflating: covid-19-world/COVID19_open_line_list.csv  \n",
      "  inflating: covid-19-world/covid_19_data.csv  \n",
      "  inflating: covid-19-world/time_series_covid_19_confirmed.csv  \n",
      "  inflating: covid-19-world/time_series_covid_19_confirmed_US.csv  \n",
      "  inflating: covid-19-world/time_series_covid_19_deaths.csv  \n",
      "  inflating: covid-19-world/time_series_covid_19_deaths_US.csv  \n",
      "  inflating: covid-19-world/time_series_covid_19_recovered.csv  \n"
     ]
    }
   ],
   "source": [
    "!unzip covid19-in-india.zip -d covid-19\n",
    "!unzip novel-corona-virus-2019-dataset.zip -d covid-19-world"
   ]
  },
  {
   "cell_type": "code",
   "execution_count": 0,
   "metadata": {
    "colab": {},
    "colab_type": "code",
    "id": "DyvqbQWrKUie"
   },
   "outputs": [],
   "source": [
    "files=[]\n",
    "for dirname, _, filenames in os.walk('covid-19'):\n",
    "    for filename in filenames:\n",
    "         files.append(os.path.join(dirname,filename))"
   ]
  },
  {
   "cell_type": "code",
   "execution_count": 0,
   "metadata": {
    "colab": {},
    "colab_type": "code",
    "id": "N8sUe8-sIADj"
   },
   "outputs": [],
   "source": [
    "# name='covid19-in-india.zip'\n",
    "# filenames=[]\n",
    "# with ZipFile(name,'r') as zip:\n",
    "#               zip.printdir() \n",
    "#                 filenames.append(info.filename)\n",
    "#                 for info in zip.infolist():\n",
    "#                 zip.extractall()\n",
    "                "
   ]
  },
  {
   "cell_type": "code",
   "execution_count": 0,
   "metadata": {
    "colab": {
     "base_uri": "https://localhost:8080/",
     "height": 151
    },
    "colab_type": "code",
    "id": "14Tc_kiPH7Ef",
    "outputId": "089c691d-2df3-4bde-fc0d-d344c21fa2a8"
   },
   "outputs": [
    {
     "data": {
      "text/plain": [
       "['covid-19/ICMRTestingLabs.csv',\n",
       " 'covid-19/HospitalBedsIndia.csv',\n",
       " 'covid-19/IndividualDetails.csv',\n",
       " 'covid-19/AgeGroupDetails.csv',\n",
       " 'covid-19/ICMRTestingDetails.csv',\n",
       " 'covid-19/StatewiseTestingDetails.csv',\n",
       " 'covid-19/population_india_census2011.csv',\n",
       " 'covid-19/covid_19_india.csv']"
      ]
     },
     "execution_count": 14,
     "metadata": {
      "tags": []
     },
     "output_type": "execute_result"
    }
   ],
   "source": [
    "files"
   ]
  },
  {
   "cell_type": "markdown",
   "metadata": {},
   "source": [
    "<a id='item2'></a>"
   ]
  },
  {
   "cell_type": "markdown",
   "metadata": {
    "colab_type": "text",
    "id": "f5FhqFHGqO6I"
   },
   "source": [
    "## 2.Data"
   ]
  },
  {
   "cell_type": "markdown",
   "metadata": {
    "colab_type": "text",
    "id": "hsqQR65kqU-W"
   },
   "source": [
    "## 2.1 DataSource:\n",
    "The dataset is available as zip file in the Kaggle and it has 7 csv files.\n",
    "URL - https://www.kaggle.com/sudalairajkumar/covid19-in-india\n",
    "\n",
    "## 2.2 Files Description:\n",
    "\n",
    "Following are the file description of the 7 files which will be used in this project.\n",
    "  1. covid_19_india.csv  - COVID-19 cases at daily level is present in this file\n",
    "  2. IndividualDetails.csv - Individual level details are present in  file and is obtained from this link(http://portal.covid19india.org/)\n",
    "  3. population_india_census2011.csv file - This file contains the list of Population at state level.\n",
    "  4. ICMRTestingDetails.csv - Number of COVID-19 tests at daily level.\n",
    "  5. HospitalBedsIndia.csv - Number of hospital beds in each state in present in  file and is extracted from this link(https://pib.gov.in/PressReleasePage.aspx?PRID=1539877)\n",
    "  6. ICMRTestingLabs.csv - This file has the list of testing centres.\n",
    "  7. AgeGroupDetails.csv - COVID-19 cases age wise.\n",
    "\n",
    "\n"
   ]
  },
  {
   "cell_type": "markdown",
   "metadata": {
    "colab_type": "text",
    "id": "Od6InMWzH7a-"
   },
   "source": [
    "#### Loading Dataset"
   ]
  },
  {
   "cell_type": "code",
   "execution_count": 0,
   "metadata": {
    "colab": {},
    "colab_type": "code",
    "id": "dNTJAHRCH7d5"
   },
   "outputs": [],
   "source": [
    "df_cov = pd.read_csv('covid-19/covid_19_india.csv', usecols= lambda col: col not in 'Sno')\n",
    "df_test_dtls = pd.read_csv('covid-19/ICMRTestingDetails.csv', usecols= lambda col: col not in 'Sno')\n",
    "df_age = pd.read_csv('covid-19/AgeGroupDetails.csv', parse_dates=True, usecols= lambda col: col not in 'Sno')\n",
    "df_invid_dtls = pd.read_csv('covid-19/IndividualDetails.csv', usecols= lambda col: not str(col).startswith(('Sno','id')))\n",
    "df_test_labs = pd.read_csv('covid-19/ICMRTestingLabs.csv', usecols= lambda col: col not in 'Sno')\n",
    "df_hospital = pd.read_csv('covid-19/HospitalBedsIndia.csv', skip_blank_lines=True, usecols= lambda col: not str(col).startswith(('Sno','Unnamed')))\n",
    "df_pop = pd.read_csv('covid-19/population_india_census2011.csv', usecols= lambda col: col not in 'Sno')"
   ]
  },
  {
   "cell_type": "code",
   "execution_count": 0,
   "metadata": {
    "colab": {},
    "colab_type": "code",
    "id": "dY63k_hwwt8c"
   },
   "outputs": [],
   "source": [
    "df_world = pd.read_csv('covid-19-world/covid_19_data.csv')"
   ]
  },
  {
   "cell_type": "code",
   "execution_count": 0,
   "metadata": {
    "colab": {
     "base_uri": "https://localhost:8080/",
     "height": 195
    },
    "colab_type": "code",
    "id": "NtTcJzt-xGsn",
    "outputId": "0eb07369-1584-40b1-f64b-7b50240e2beb"
   },
   "outputs": [
    {
     "data": {
      "text/html": [
       "<div>\n",
       "<style scoped>\n",
       "    .dataframe tbody tr th:only-of-type {\n",
       "        vertical-align: middle;\n",
       "    }\n",
       "\n",
       "    .dataframe tbody tr th {\n",
       "        vertical-align: top;\n",
       "    }\n",
       "\n",
       "    .dataframe thead th {\n",
       "        text-align: right;\n",
       "    }\n",
       "</style>\n",
       "<table border=\"1\" class=\"dataframe\">\n",
       "  <thead>\n",
       "    <tr style=\"text-align: right;\">\n",
       "      <th></th>\n",
       "      <th>ObservationDate</th>\n",
       "      <th>Province/State</th>\n",
       "      <th>Country/Region</th>\n",
       "      <th>Last Update</th>\n",
       "      <th>Confirmed</th>\n",
       "      <th>Deaths</th>\n",
       "      <th>Recovered</th>\n",
       "      <th>Date</th>\n",
       "    </tr>\n",
       "  </thead>\n",
       "  <tbody>\n",
       "    <tr>\n",
       "      <th>0</th>\n",
       "      <td>01/22/2020</td>\n",
       "      <td>Anhui</td>\n",
       "      <td>Mainland China</td>\n",
       "      <td>1/22/2020 17:00</td>\n",
       "      <td>1.0</td>\n",
       "      <td>0.0</td>\n",
       "      <td>0.0</td>\n",
       "      <td>2020-01-22</td>\n",
       "    </tr>\n",
       "    <tr>\n",
       "      <th>1</th>\n",
       "      <td>01/22/2020</td>\n",
       "      <td>Beijing</td>\n",
       "      <td>Mainland China</td>\n",
       "      <td>1/22/2020 17:00</td>\n",
       "      <td>14.0</td>\n",
       "      <td>0.0</td>\n",
       "      <td>0.0</td>\n",
       "      <td>2020-01-22</td>\n",
       "    </tr>\n",
       "    <tr>\n",
       "      <th>2</th>\n",
       "      <td>01/22/2020</td>\n",
       "      <td>Chongqing</td>\n",
       "      <td>Mainland China</td>\n",
       "      <td>1/22/2020 17:00</td>\n",
       "      <td>6.0</td>\n",
       "      <td>0.0</td>\n",
       "      <td>0.0</td>\n",
       "      <td>2020-01-22</td>\n",
       "    </tr>\n",
       "    <tr>\n",
       "      <th>3</th>\n",
       "      <td>01/22/2020</td>\n",
       "      <td>Fujian</td>\n",
       "      <td>Mainland China</td>\n",
       "      <td>1/22/2020 17:00</td>\n",
       "      <td>1.0</td>\n",
       "      <td>0.0</td>\n",
       "      <td>0.0</td>\n",
       "      <td>2020-01-22</td>\n",
       "    </tr>\n",
       "    <tr>\n",
       "      <th>4</th>\n",
       "      <td>01/22/2020</td>\n",
       "      <td>Gansu</td>\n",
       "      <td>Mainland China</td>\n",
       "      <td>1/22/2020 17:00</td>\n",
       "      <td>0.0</td>\n",
       "      <td>0.0</td>\n",
       "      <td>0.0</td>\n",
       "      <td>2020-01-22</td>\n",
       "    </tr>\n",
       "  </tbody>\n",
       "</table>\n",
       "</div>"
      ],
      "text/plain": [
       "  ObservationDate Province/State  Country/Region  ... Deaths  Recovered       Date\n",
       "0      01/22/2020          Anhui  Mainland China  ...    0.0        0.0 2020-01-22\n",
       "1      01/22/2020        Beijing  Mainland China  ...    0.0        0.0 2020-01-22\n",
       "2      01/22/2020      Chongqing  Mainland China  ...    0.0        0.0 2020-01-22\n",
       "3      01/22/2020         Fujian  Mainland China  ...    0.0        0.0 2020-01-22\n",
       "4      01/22/2020          Gansu  Mainland China  ...    0.0        0.0 2020-01-22\n",
       "\n",
       "[5 rows x 8 columns]"
      ]
     },
     "execution_count": 142,
     "metadata": {
      "tags": []
     },
     "output_type": "execute_result"
    }
   ],
   "source": [
    "\n",
    "df_world['Date'] = df_world['ObservationDate'].apply(pd.to_datetime)\n",
    "df_world.drop(['SNo'],axis=1,inplace=True)\n",
    "\n",
    "df_world.head()"
   ]
  },
  {
   "cell_type": "code",
   "execution_count": 0,
   "metadata": {
    "colab": {},
    "colab_type": "code",
    "id": "FYUMM62NzYUN"
   },
   "outputs": [],
   "source": [
    "table = pd.read_html('https://en.wikipedia.org/wiki/List_of_states_and_union_territories_of_India_by_area')"
   ]
  },
  {
   "cell_type": "code",
   "execution_count": 0,
   "metadata": {
    "colab": {},
    "colab_type": "code",
    "id": "FmqZzliC0CYN"
   },
   "outputs": [],
   "source": [
    "df_stateUT = pd.DataFrame(table[1],columns=['State / Territory','Region'])"
   ]
  },
  {
   "cell_type": "code",
   "execution_count": 0,
   "metadata": {
    "colab": {},
    "colab_type": "code",
    "id": "y56ESUjKl7Gl"
   },
   "outputs": [],
   "source": [
    "df_age.replace('Missing','>=90',inplace=True)"
   ]
  },
  {
   "cell_type": "markdown",
   "metadata": {},
   "source": [
    "<a id='item3'></a>"
   ]
  },
  {
   "cell_type": "markdown",
   "metadata": {
    "colab_type": "text",
    "id": "fs1uYqhfkbSb"
   },
   "source": [
    "## 3.Data Preprocessing"
   ]
  },
  {
   "cell_type": "code",
   "execution_count": 0,
   "metadata": {
    "colab": {},
    "colab_type": "code",
    "id": "QtvoAYB2opGE"
   },
   "outputs": [],
   "source": [
    "def check_for_duplicates(df,str):\n",
    "    print('{} Dataframe has {} duplicates'.format(str,df.duplicated().sum()))"
   ]
  },
  {
   "cell_type": "code",
   "execution_count": 0,
   "metadata": {
    "colab": {
     "base_uri": "https://localhost:8080/",
     "height": 134
    },
    "colab_type": "code",
    "id": "hYCjtKZZk07Q",
    "outputId": "a154aab7-b4cf-477b-8897-735ced34306e"
   },
   "outputs": [
    {
     "name": "stdout",
     "output_type": "stream",
     "text": [
      "age Dataframe has 0 duplicates\n",
      "hospital Dataframe has 0 duplicates\n",
      "test Dataframe has 0 duplicates\n",
      "lab Dataframe has 0 duplicates\n",
      "invid Dataframe has 5269 duplicates\n",
      "cov Dataframe has 0 duplicates\n",
      "pop Dataframe has 0 duplicates\n"
     ]
    }
   ],
   "source": [
    "check_for_duplicates(df_age,'age')\n",
    "check_for_duplicates(df_hospital,'hospital')\n",
    "check_for_duplicates(df_test_dtls,'test')\n",
    "check_for_duplicates(df_test_labs,'lab')\n",
    "check_for_duplicates(df_invid_dtls,'invid')\n",
    "check_for_duplicates(df_cov,'cov')\n",
    "check_for_duplicates(df_pop,'pop')"
   ]
  },
  {
   "cell_type": "code",
   "execution_count": 0,
   "metadata": {
    "colab": {
     "base_uri": "https://localhost:8080/",
     "height": 218
    },
    "colab_type": "code",
    "id": "7TjJAlN4u_Bf",
    "outputId": "b3e219cf-3b5f-4355-c353-6c2740f25545"
   },
   "outputs": [
    {
     "data": {
      "text/plain": [
       "State/UT                            1\n",
       "NumPrimaryHealthCenters_HMIS        1\n",
       "NumCommunityHealthCenters_HMIS      1\n",
       "NumSubDistrictHospitals_HMIS        8\n",
       "NumDistrictHospitals_HMIS           1\n",
       "TotalPublicHealthFacilities_HMIS    1\n",
       "NumPublicBeds_HMIS                  1\n",
       "NumRuralHospitals_NHP18             1\n",
       "NumRuralBeds_NHP18                  1\n",
       "NumUrbanHospitals_NHP18             1\n",
       "NumUrbanBeds_NHP18                  1\n",
       "dtype: int64"
      ]
     },
     "execution_count": 21,
     "metadata": {
      "tags": []
     },
     "output_type": "execute_result"
    }
   ],
   "source": [
    "df_hospital.isna().sum()"
   ]
  },
  {
   "cell_type": "markdown",
   "metadata": {
    "colab_type": "text",
    "id": "Go0Z4o1Awr2h"
   },
   "source": [
    "Lets replace the NaN values with 0"
   ]
  },
  {
   "cell_type": "code",
   "execution_count": 0,
   "metadata": {
    "colab": {},
    "colab_type": "code",
    "id": "BqNwr-mdwxcE"
   },
   "outputs": [],
   "source": [
    "df_hospital.fillna(0,inplace=True)"
   ]
  },
  {
   "cell_type": "code",
   "execution_count": 0,
   "metadata": {
    "colab": {
     "base_uri": "https://localhost:8080/",
     "height": 218
    },
    "colab_type": "code",
    "id": "p2HyZMJOxdm5",
    "outputId": "228dcf3f-1c9c-468d-f917-fb82455af646"
   },
   "outputs": [
    {
     "data": {
      "text/plain": [
       "State/UT                            0\n",
       "NumPrimaryHealthCenters_HMIS        0\n",
       "NumCommunityHealthCenters_HMIS      0\n",
       "NumSubDistrictHospitals_HMIS        0\n",
       "NumDistrictHospitals_HMIS           0\n",
       "TotalPublicHealthFacilities_HMIS    0\n",
       "NumPublicBeds_HMIS                  0\n",
       "NumRuralHospitals_NHP18             0\n",
       "NumRuralBeds_NHP18                  0\n",
       "NumUrbanHospitals_NHP18             0\n",
       "NumUrbanBeds_NHP18                  0\n",
       "dtype: int64"
      ]
     },
     "execution_count": 23,
     "metadata": {
      "tags": []
     },
     "output_type": "execute_result"
    }
   ],
   "source": [
    "df_hospital.isna().sum()"
   ]
  },
  {
   "cell_type": "markdown",
   "metadata": {
    "colab_type": "text",
    "id": "E5m8gwP--W-0"
   },
   "source": [
    "###### Dropping rows with index [36,37]  empty row and total counts\n"
   ]
  },
  {
   "cell_type": "code",
   "execution_count": 0,
   "metadata": {
    "colab": {},
    "colab_type": "code",
    "id": "pVyZKFXYxwsy"
   },
   "outputs": [],
   "source": [
    "df_hospital.drop([36,37],inplace=True)"
   ]
  },
  {
   "cell_type": "code",
   "execution_count": 0,
   "metadata": {
    "colab": {},
    "colab_type": "code",
    "id": "o5mtyMKa9XQk"
   },
   "outputs": [],
   "source": [
    "df_hospital.reset_index(drop=True,inplace=True)"
   ]
  },
  {
   "cell_type": "code",
   "execution_count": 0,
   "metadata": {
    "colab": {},
    "colab_type": "code",
    "id": "bVk9mXSGGJOe"
   },
   "outputs": [],
   "source": [
    "# df_hospital.iloc[:,1:] = df_hospital.iloc[:,1:].applymap(lambda x : int(str(x).replace(',','')))\n",
    "# df_hospital = df_hospital.applymap(lambda x : str(x).replace(',',''))"
   ]
  },
  {
   "cell_type": "code",
   "execution_count": 0,
   "metadata": {
    "colab": {
     "base_uri": "https://localhost:8080/",
     "height": 218
    },
    "colab_type": "code",
    "id": "VWqK5SOw_tx-",
    "outputId": "03847ef7-85c7-4abe-8633-c70374a3b556"
   },
   "outputs": [
    {
     "data": {
      "text/plain": [
       "State/UT                             object\n",
       "NumPrimaryHealthCenters_HMIS         object\n",
       "NumCommunityHealthCenters_HMIS       object\n",
       "NumSubDistrictHospitals_HMIS         object\n",
       "NumDistrictHospitals_HMIS            object\n",
       "TotalPublicHealthFacilities_HMIS     object\n",
       "NumPublicBeds_HMIS                   object\n",
       "NumRuralHospitals_NHP18             float64\n",
       "NumRuralBeds_NHP18                  float64\n",
       "NumUrbanHospitals_NHP18             float64\n",
       "NumUrbanBeds_NHP18                  float64\n",
       "dtype: object"
      ]
     },
     "execution_count": 27,
     "metadata": {
      "tags": []
     },
     "output_type": "execute_result"
    }
   ],
   "source": [
    "df_hospital.dtypes"
   ]
  },
  {
   "cell_type": "code",
   "execution_count": 0,
   "metadata": {
    "colab": {
     "base_uri": "https://localhost:8080/",
     "height": 185
    },
    "colab_type": "code",
    "id": "L7Ktf0sOBG8G",
    "outputId": "377f03b2-2668-4277-d7eb-f53cacc31623"
   },
   "outputs": [
    {
     "name": "stdout",
     "output_type": "stream",
     "text": [
      "NumPrimaryHealthCenters_HMIS\n",
      "NumCommunityHealthCenters_HMIS\n",
      "NumSubDistrictHospitals_HMIS\n",
      "NumDistrictHospitals_HMIS\n",
      "TotalPublicHealthFacilities_HMIS\n",
      "NumPublicBeds_HMIS\n",
      "NumRuralHospitals_NHP18\n",
      "NumRuralBeds_NHP18\n",
      "NumUrbanHospitals_NHP18\n",
      "NumUrbanBeds_NHP18\n"
     ]
    }
   ],
   "source": [
    "for col in df_hospital.columns[1:]:\n",
    "    print(col)\n",
    "    df_hospital[col]=df_hospital[col].astype('int64')\n",
    "  \n"
   ]
  },
  {
   "cell_type": "markdown",
   "metadata": {
    "colab_type": "text",
    "id": "t8_6nz9dMnWk"
   },
   "source": [
    "###### Lets add the NumPublicBeds_HMIS, NumRuralBeds_NHP18, and NumRuralBeds_NHP18 numbers to get total beds count"
   ]
  },
  {
   "cell_type": "code",
   "execution_count": 0,
   "metadata": {
    "colab": {},
    "colab_type": "code",
    "id": "-CgL8KJ9AmGO"
   },
   "outputs": [],
   "source": [
    "df_hospital['Total_Beds'] = df_hospital['NumPublicBeds_HMIS']+df_hospital['NumRuralBeds_NHP18']+df_hospital['NumRuralBeds_NHP18']"
   ]
  },
  {
   "cell_type": "code",
   "execution_count": 0,
   "metadata": {
    "colab": {
     "base_uri": "https://localhost:8080/",
     "height": 282
    },
    "colab_type": "code",
    "id": "ePwiaggFJjub",
    "outputId": "d52746e9-86d4-4224-ca5f-f41aa1105d55"
   },
   "outputs": [
    {
     "data": {
      "text/html": [
       "<div>\n",
       "<style scoped>\n",
       "    .dataframe tbody tr th:only-of-type {\n",
       "        vertical-align: middle;\n",
       "    }\n",
       "\n",
       "    .dataframe tbody tr th {\n",
       "        vertical-align: top;\n",
       "    }\n",
       "\n",
       "    .dataframe thead th {\n",
       "        text-align: right;\n",
       "    }\n",
       "</style>\n",
       "<table border=\"1\" class=\"dataframe\">\n",
       "  <thead>\n",
       "    <tr style=\"text-align: right;\">\n",
       "      <th></th>\n",
       "      <th>State/UT</th>\n",
       "      <th>NumPrimaryHealthCenters_HMIS</th>\n",
       "      <th>NumCommunityHealthCenters_HMIS</th>\n",
       "      <th>NumSubDistrictHospitals_HMIS</th>\n",
       "      <th>NumDistrictHospitals_HMIS</th>\n",
       "      <th>TotalPublicHealthFacilities_HMIS</th>\n",
       "      <th>NumPublicBeds_HMIS</th>\n",
       "      <th>NumRuralHospitals_NHP18</th>\n",
       "      <th>NumRuralBeds_NHP18</th>\n",
       "      <th>NumUrbanHospitals_NHP18</th>\n",
       "      <th>NumUrbanBeds_NHP18</th>\n",
       "      <th>Total_Beds</th>\n",
       "    </tr>\n",
       "  </thead>\n",
       "  <tbody>\n",
       "    <tr>\n",
       "      <th>0</th>\n",
       "      <td>Andaman &amp; Nicobar Islands</td>\n",
       "      <td>27</td>\n",
       "      <td>4</td>\n",
       "      <td>0</td>\n",
       "      <td>3</td>\n",
       "      <td>34</td>\n",
       "      <td>1246</td>\n",
       "      <td>27</td>\n",
       "      <td>575</td>\n",
       "      <td>3</td>\n",
       "      <td>500</td>\n",
       "      <td>2396</td>\n",
       "    </tr>\n",
       "    <tr>\n",
       "      <th>1</th>\n",
       "      <td>Andhra Pradesh</td>\n",
       "      <td>1417</td>\n",
       "      <td>198</td>\n",
       "      <td>31</td>\n",
       "      <td>20</td>\n",
       "      <td>1666</td>\n",
       "      <td>60799</td>\n",
       "      <td>193</td>\n",
       "      <td>6480</td>\n",
       "      <td>65</td>\n",
       "      <td>16658</td>\n",
       "      <td>73759</td>\n",
       "    </tr>\n",
       "    <tr>\n",
       "      <th>2</th>\n",
       "      <td>Arunachal Pradesh</td>\n",
       "      <td>122</td>\n",
       "      <td>62</td>\n",
       "      <td>0</td>\n",
       "      <td>15</td>\n",
       "      <td>199</td>\n",
       "      <td>2320</td>\n",
       "      <td>208</td>\n",
       "      <td>2136</td>\n",
       "      <td>10</td>\n",
       "      <td>268</td>\n",
       "      <td>6592</td>\n",
       "    </tr>\n",
       "    <tr>\n",
       "      <th>3</th>\n",
       "      <td>Assam</td>\n",
       "      <td>1007</td>\n",
       "      <td>166</td>\n",
       "      <td>14</td>\n",
       "      <td>33</td>\n",
       "      <td>1220</td>\n",
       "      <td>19115</td>\n",
       "      <td>1176</td>\n",
       "      <td>10944</td>\n",
       "      <td>50</td>\n",
       "      <td>6198</td>\n",
       "      <td>41003</td>\n",
       "    </tr>\n",
       "    <tr>\n",
       "      <th>4</th>\n",
       "      <td>Bihar</td>\n",
       "      <td>2007</td>\n",
       "      <td>63</td>\n",
       "      <td>33</td>\n",
       "      <td>43</td>\n",
       "      <td>2146</td>\n",
       "      <td>17796</td>\n",
       "      <td>930</td>\n",
       "      <td>6083</td>\n",
       "      <td>103</td>\n",
       "      <td>5936</td>\n",
       "      <td>29962</td>\n",
       "    </tr>\n",
       "  </tbody>\n",
       "</table>\n",
       "</div>"
      ],
      "text/plain": [
       "                    State/UT  ...  Total_Beds\n",
       "0  Andaman & Nicobar Islands  ...        2396\n",
       "1             Andhra Pradesh  ...       73759\n",
       "2          Arunachal Pradesh  ...        6592\n",
       "3                      Assam  ...       41003\n",
       "4                      Bihar  ...       29962\n",
       "\n",
       "[5 rows x 12 columns]"
      ]
     },
     "execution_count": 30,
     "metadata": {
      "tags": []
     },
     "output_type": "execute_result"
    }
   ],
   "source": [
    "df_hospital.head()"
   ]
  },
  {
   "cell_type": "markdown",
   "metadata": {
    "colab_type": "text",
    "id": "IW62X6X9J7Wd"
   },
   "source": [
    "###### Lets gather the location details for all the states and UT"
   ]
  },
  {
   "cell_type": "code",
   "execution_count": 0,
   "metadata": {
    "colab": {},
    "colab_type": "code",
    "id": "TiyjgAE8KDzv"
   },
   "outputs": [],
   "source": [
    "Longitude=[]\n",
    "Latitude=[]\n",
    "for i in range(len(df_hospital)):\n",
    "    geolocator = Nominatim(user_agent='covid-19',timeout=1000)\n",
    "    name = df_hospital['State/UT'][i]+', India'\n",
    "    try:\n",
    "        locations =  geolocator.geocode(name)\n",
    "        Latitude.append(locations.latitude)\n",
    "        Longitude.append(locations.longitude)\n",
    "    except(AttributeError):\n",
    "        print(\"Error\",name)"
   ]
  },
  {
   "cell_type": "code",
   "execution_count": 0,
   "metadata": {
    "colab": {
     "base_uri": "https://localhost:8080/",
     "height": 34
    },
    "colab_type": "code",
    "id": "BKuzm6UIL3U_",
    "outputId": "e66582bf-438a-4d9c-9545-9f6a1c8966d9"
   },
   "outputs": [
    {
     "data": {
      "text/plain": [
       "(36, 36)"
      ]
     },
     "execution_count": 32,
     "metadata": {
      "tags": []
     },
     "output_type": "execute_result"
    }
   ],
   "source": [
    "len(Latitude),len(Longitude)"
   ]
  },
  {
   "cell_type": "code",
   "execution_count": 0,
   "metadata": {
    "colab": {
     "base_uri": "https://localhost:8080/",
     "height": 34
    },
    "colab_type": "code",
    "id": "1UeMJNnwOQZc",
    "outputId": "89eefe0b-4b6e-4ecd-c3b8-c3a767ada5db"
   },
   "outputs": [
    {
     "data": {
      "text/plain": [
       "(15.9240905, 80.1863809)"
      ]
     },
     "execution_count": 33,
     "metadata": {
      "tags": []
     },
     "output_type": "execute_result"
    }
   ],
   "source": [
    "Latitude[1],Longitude[1]"
   ]
  },
  {
   "cell_type": "markdown",
   "metadata": {
    "colab_type": "text",
    "id": "nMNliM8dNarn"
   },
   "source": [
    "###### Lets validate the location details. All the latitude and location data of India  should start with (10,35) and (70,97)"
   ]
  },
  {
   "cell_type": "code",
   "execution_count": 0,
   "metadata": {
    "colab": {},
    "colab_type": "code",
    "id": "JplVSwYrN13Z"
   },
   "outputs": [],
   "source": [
    "# pd.Series(Latitude).between(10,35,inclusive=False)"
   ]
  },
  {
   "cell_type": "code",
   "execution_count": 0,
   "metadata": {
    "colab": {},
    "colab_type": "code",
    "id": "uS8BSnWOOIhj"
   },
   "outputs": [],
   "source": [
    "# pd.Series(Longitude).between(70,97,inclusive=False)"
   ]
  },
  {
   "cell_type": "code",
   "execution_count": 0,
   "metadata": {
    "colab": {},
    "colab_type": "code",
    "id": "ydHoPS2nQCBy"
   },
   "outputs": [],
   "source": [
    "df_hospital['Latitude'] = Latitude\n",
    "df_hospital['Longitude'] = Longitude"
   ]
  },
  {
   "cell_type": "code",
   "execution_count": 0,
   "metadata": {
    "colab": {
     "base_uri": "https://localhost:8080/",
     "height": 168
    },
    "colab_type": "code",
    "id": "YOU-cFwaGcgq",
    "outputId": "2a305258-8302-4224-f60f-596e78bb3492"
   },
   "outputs": [
    {
     "data": {
      "text/plain": [
       "Date                        0\n",
       "Time                        0\n",
       "State/UnionTerritory        0\n",
       "ConfirmedIndianNational     0\n",
       "ConfirmedForeignNational    0\n",
       "Cured                       0\n",
       "Deaths                      0\n",
       "Confirmed                   0\n",
       "dtype: int64"
      ]
     },
     "execution_count": 37,
     "metadata": {
      "tags": []
     },
     "output_type": "execute_result"
    }
   ],
   "source": [
    "df_cov.isna().sum()"
   ]
  },
  {
   "cell_type": "code",
   "execution_count": 0,
   "metadata": {
    "colab": {
     "base_uri": "https://localhost:8080/",
     "height": 195
    },
    "colab_type": "code",
    "id": "kNF5iPb09khV",
    "outputId": "b87efe6a-b802-4df7-f8e4-ea257c579955"
   },
   "outputs": [
    {
     "data": {
      "text/html": [
       "<div>\n",
       "<style scoped>\n",
       "    .dataframe tbody tr th:only-of-type {\n",
       "        vertical-align: middle;\n",
       "    }\n",
       "\n",
       "    .dataframe tbody tr th {\n",
       "        vertical-align: top;\n",
       "    }\n",
       "\n",
       "    .dataframe thead th {\n",
       "        text-align: right;\n",
       "    }\n",
       "</style>\n",
       "<table border=\"1\" class=\"dataframe\">\n",
       "  <thead>\n",
       "    <tr style=\"text-align: right;\">\n",
       "      <th></th>\n",
       "      <th>Date</th>\n",
       "      <th>Time</th>\n",
       "      <th>State/UnionTerritory</th>\n",
       "      <th>ConfirmedIndianNational</th>\n",
       "      <th>ConfirmedForeignNational</th>\n",
       "      <th>Cured</th>\n",
       "      <th>Deaths</th>\n",
       "      <th>Confirmed</th>\n",
       "    </tr>\n",
       "  </thead>\n",
       "  <tbody>\n",
       "    <tr>\n",
       "      <th>889</th>\n",
       "      <td>12/04/20</td>\n",
       "      <td>5:00 PM</td>\n",
       "      <td>Telengana</td>\n",
       "      <td>-</td>\n",
       "      <td>-</td>\n",
       "      <td>43</td>\n",
       "      <td>9</td>\n",
       "      <td>504</td>\n",
       "    </tr>\n",
       "    <tr>\n",
       "      <th>890</th>\n",
       "      <td>12/04/20</td>\n",
       "      <td>5:00 PM</td>\n",
       "      <td>Tripura</td>\n",
       "      <td>-</td>\n",
       "      <td>-</td>\n",
       "      <td>0</td>\n",
       "      <td>0</td>\n",
       "      <td>2</td>\n",
       "    </tr>\n",
       "    <tr>\n",
       "      <th>891</th>\n",
       "      <td>12/04/20</td>\n",
       "      <td>5:00 PM</td>\n",
       "      <td>Uttarakhand</td>\n",
       "      <td>-</td>\n",
       "      <td>-</td>\n",
       "      <td>5</td>\n",
       "      <td>0</td>\n",
       "      <td>35</td>\n",
       "    </tr>\n",
       "    <tr>\n",
       "      <th>892</th>\n",
       "      <td>12/04/20</td>\n",
       "      <td>5:00 PM</td>\n",
       "      <td>Uttar Pradesh</td>\n",
       "      <td>-</td>\n",
       "      <td>-</td>\n",
       "      <td>45</td>\n",
       "      <td>5</td>\n",
       "      <td>452</td>\n",
       "    </tr>\n",
       "    <tr>\n",
       "      <th>893</th>\n",
       "      <td>12/04/20</td>\n",
       "      <td>5:00 PM</td>\n",
       "      <td>West Bengal</td>\n",
       "      <td>-</td>\n",
       "      <td>-</td>\n",
       "      <td>19</td>\n",
       "      <td>5</td>\n",
       "      <td>134</td>\n",
       "    </tr>\n",
       "  </tbody>\n",
       "</table>\n",
       "</div>"
      ],
      "text/plain": [
       "         Date     Time State/UnionTerritory  ... Cured Deaths  Confirmed\n",
       "889  12/04/20  5:00 PM            Telengana  ...    43      9        504\n",
       "890  12/04/20  5:00 PM              Tripura  ...     0      0          2\n",
       "891  12/04/20  5:00 PM          Uttarakhand  ...     5      0         35\n",
       "892  12/04/20  5:00 PM        Uttar Pradesh  ...    45      5        452\n",
       "893  12/04/20  5:00 PM          West Bengal  ...    19      5        134\n",
       "\n",
       "[5 rows x 8 columns]"
      ]
     },
     "execution_count": 38,
     "metadata": {
      "tags": []
     },
     "output_type": "execute_result"
    }
   ],
   "source": [
    "df_cov.tail()"
   ]
  },
  {
   "cell_type": "code",
   "execution_count": 0,
   "metadata": {
    "colab": {
     "base_uri": "https://localhost:8080/",
     "height": 168
    },
    "colab_type": "code",
    "id": "mOzhaAluA2YK",
    "outputId": "4af4a895-abaa-44ac-aca8-920b67c73bdc"
   },
   "outputs": [
    {
     "data": {
      "text/plain": [
       "Date                        0\n",
       "Time                        0\n",
       "State/UnionTerritory        0\n",
       "ConfirmedIndianNational     0\n",
       "ConfirmedForeignNational    0\n",
       "Cured                       0\n",
       "Deaths                      0\n",
       "Confirmed                   0\n",
       "dtype: int64"
      ]
     },
     "execution_count": 40,
     "metadata": {
      "tags": []
     },
     "output_type": "execute_result"
    }
   ],
   "source": [
    "df_cov.isna().sum()"
   ]
  },
  {
   "cell_type": "code",
   "execution_count": 0,
   "metadata": {
    "colab": {
     "base_uri": "https://localhost:8080/",
     "height": 195
    },
    "colab_type": "code",
    "id": "Npr5p9_FGWJL",
    "outputId": "8650f0c6-e1e0-491b-bdf5-d2381adcf371"
   },
   "outputs": [
    {
     "data": {
      "text/html": [
       "<div>\n",
       "<style scoped>\n",
       "    .dataframe tbody tr th:only-of-type {\n",
       "        vertical-align: middle;\n",
       "    }\n",
       "\n",
       "    .dataframe tbody tr th {\n",
       "        vertical-align: top;\n",
       "    }\n",
       "\n",
       "    .dataframe thead th {\n",
       "        text-align: right;\n",
       "    }\n",
       "</style>\n",
       "<table border=\"1\" class=\"dataframe\">\n",
       "  <thead>\n",
       "    <tr style=\"text-align: right;\">\n",
       "      <th></th>\n",
       "      <th>Date</th>\n",
       "      <th>Time</th>\n",
       "      <th>State/UnionTerritory</th>\n",
       "      <th>ConfirmedIndianNational</th>\n",
       "      <th>ConfirmedForeignNational</th>\n",
       "      <th>Cured</th>\n",
       "      <th>Deaths</th>\n",
       "      <th>Confirmed</th>\n",
       "    </tr>\n",
       "  </thead>\n",
       "  <tbody>\n",
       "    <tr>\n",
       "      <th>0</th>\n",
       "      <td>30/01/20</td>\n",
       "      <td>6:00 PM</td>\n",
       "      <td>Kerala</td>\n",
       "      <td>1</td>\n",
       "      <td>0</td>\n",
       "      <td>0</td>\n",
       "      <td>0</td>\n",
       "      <td>1</td>\n",
       "    </tr>\n",
       "    <tr>\n",
       "      <th>1</th>\n",
       "      <td>31/01/20</td>\n",
       "      <td>6:00 PM</td>\n",
       "      <td>Kerala</td>\n",
       "      <td>1</td>\n",
       "      <td>0</td>\n",
       "      <td>0</td>\n",
       "      <td>0</td>\n",
       "      <td>1</td>\n",
       "    </tr>\n",
       "    <tr>\n",
       "      <th>2</th>\n",
       "      <td>01/02/20</td>\n",
       "      <td>6:00 PM</td>\n",
       "      <td>Kerala</td>\n",
       "      <td>2</td>\n",
       "      <td>0</td>\n",
       "      <td>0</td>\n",
       "      <td>0</td>\n",
       "      <td>2</td>\n",
       "    </tr>\n",
       "    <tr>\n",
       "      <th>3</th>\n",
       "      <td>02/02/20</td>\n",
       "      <td>6:00 PM</td>\n",
       "      <td>Kerala</td>\n",
       "      <td>3</td>\n",
       "      <td>0</td>\n",
       "      <td>0</td>\n",
       "      <td>0</td>\n",
       "      <td>3</td>\n",
       "    </tr>\n",
       "    <tr>\n",
       "      <th>4</th>\n",
       "      <td>03/02/20</td>\n",
       "      <td>6:00 PM</td>\n",
       "      <td>Kerala</td>\n",
       "      <td>3</td>\n",
       "      <td>0</td>\n",
       "      <td>0</td>\n",
       "      <td>0</td>\n",
       "      <td>3</td>\n",
       "    </tr>\n",
       "  </tbody>\n",
       "</table>\n",
       "</div>"
      ],
      "text/plain": [
       "       Date     Time State/UnionTerritory  ... Cured Deaths  Confirmed\n",
       "0  30/01/20  6:00 PM               Kerala  ...     0      0          1\n",
       "1  31/01/20  6:00 PM               Kerala  ...     0      0          1\n",
       "2  01/02/20  6:00 PM               Kerala  ...     0      0          2\n",
       "3  02/02/20  6:00 PM               Kerala  ...     0      0          3\n",
       "4  03/02/20  6:00 PM               Kerala  ...     0      0          3\n",
       "\n",
       "[5 rows x 8 columns]"
      ]
     },
     "execution_count": 41,
     "metadata": {
      "tags": []
     },
     "output_type": "execute_result"
    }
   ],
   "source": [
    "df_cov.head()"
   ]
  },
  {
   "cell_type": "code",
   "execution_count": 0,
   "metadata": {
    "colab": {},
    "colab_type": "code",
    "id": "mAOPHLqXRbrj"
   },
   "outputs": [],
   "source": [
    "# def add_daily_measures(df):\n",
    "#     df.loc[0,'Daily Cases'] = df.loc[0,'Confirmed']\n",
    "#     df.loc[0,'Daily Deaths'] = df.loc[0,'Deaths']\n",
    "#     for i in range(1,len(df)):\n",
    "#         df.loc[i,'Daily Cases'] = df.loc[i,'Confirmed'] - df.loc[i-1,'Confirmed']\n",
    "#         df.loc[i,'Daily Deaths'] = df.loc[i,'Deaths'] - df.loc[i-1,'Deaths']\n",
    "#     #Make the first row as 0 because we don't know the previous value\n",
    "#     df.loc[0,'Daily Cases'] = 0\n",
    "#     df.loc[0,'Daily Deaths'] = 0\n",
    "#     return df"
   ]
  },
  {
   "cell_type": "code",
   "execution_count": 0,
   "metadata": {
    "colab": {},
    "colab_type": "code",
    "id": "sTXrs2_jBNVG"
   },
   "outputs": [],
   "source": [
    "df_cov['Date'] = pd.to_datetime(df_cov['Date'],format='%d/%m/%y')"
   ]
  },
  {
   "cell_type": "markdown",
   "metadata": {},
   "source": [
    "<a id='item4'><a/>"
   ]
  },
  {
   "cell_type": "markdown",
   "metadata": {
    "colab_type": "text",
    "id": "HfR22fLHxCWT"
   },
   "source": [
    "## 4.Exploratory Data Analysis"
   ]
  },
  {
   "cell_type": "markdown",
   "metadata": {
    "colab_type": "text",
    "id": "V0qkYqTZDAKz"
   },
   "source": [
    "### 4.1 Number of Beds per State and UT"
   ]
  },
  {
   "cell_type": "code",
   "execution_count": 0,
   "metadata": {
    "colab": {},
    "colab_type": "code",
    "id": "TWbWaCYrYaI9"
   },
   "outputs": [],
   "source": [
    "df_hosp = df_hospital.copy()\n",
    "df_hosp.sort_values('Total_Beds',ascending=False,inplace=True)"
   ]
  },
  {
   "cell_type": "code",
   "execution_count": 0,
   "metadata": {
    "colab": {
     "base_uri": "https://localhost:8080/",
     "height": 626
    },
    "colab_type": "code",
    "id": "UFV8gmHvQ6U9",
    "outputId": "dd34a65a-77c4-46a4-a19e-e9f1f3165461"
   },
   "outputs": [
    {
     "data": {
      "image/png": "[encoded data removed]",
      "text/plain": [
       "<Figure size 1296x504 with 1 Axes>"
      ]
     },
     "metadata": {
      "needs_background": "light",
      "tags": []
     },
     "output_type": "display_data"
    }
   ],
   "source": [
    "fig = plt.figure(figsize=(18,7))\n",
    "ax = sns.barplot(df_hosp['State/UT'],df_hosp['Total_Beds'])\n",
    "ax.spines['top'].set_visible(False)\n",
    "ax.spines['right'].set_visible(False)\n",
    "for p in ax.patches:\n",
    "        ax.annotate(int(p.get_height()), (p.get_x() + p.get_width() / 1.3, \n",
    "          p.get_height()), ha = 'center', va = 'center', xytext = (0, 20), textcoords = 'offset points',rotation=50,fontsize=12,color='maroon')\n",
    "# ax.spines['left'].set_visible(False)\n",
    "for label in ax.xaxis.get_ticklabels():\n",
    "  label.set_fontsize(12)\n",
    "for label in ax.yaxis.get_ticklabels():\n",
    "  label.set_fontsize(12)\n",
    "plt.title('Number of Hospital Beds in State/UT',fontsize=16)\n",
    "plt.xticks(rotation='vertical')\n",
    "plt.xlabel('State/UT',fontsize=12)\n",
    "# plt.legend(df_hospital['Total_Beds'],loc='upper right',bbox_to_anchor=(1.1, 1.1),fontsize=11,edgecolor='inherit')\n",
    "plt.ylabel('Number of Beds',fontsize=12)\n",
    "plt.show()"
   ]
  },
  {
   "cell_type": "code",
   "execution_count": 0,
   "metadata": {
    "colab": {
     "base_uri": "https://localhost:8080/",
     "height": 34
    },
    "colab_type": "code",
    "id": "opWZNg6hd3xN",
    "outputId": "0548cb07-f5f0-4ae0-d703-fdc7a38822dd"
   },
   "outputs": [
    {
     "data": {
      "text/plain": [
       "1298200"
      ]
     },
     "execution_count": 47,
     "metadata": {
      "tags": []
     },
     "output_type": "execute_result"
    }
   ],
   "source": [
    "df_hospital['Total_Beds'].sum()"
   ]
  },
  {
   "cell_type": "markdown",
   "metadata": {
    "colab_type": "text",
    "id": "NkSQOncuRVSz"
   },
   "source": [
    "There are totally **Twelve Lakh Ninety Thosand and Two Hundred beds(1298200)** available in India.<br>\n",
    "\n",
    "\n",
    "**Top Five States/UT with highest number of beds**:<br>\n",
    "Tamilnadu has more number of beds in India - **152974**<br>\n",
    "Uttar Prades - **136518**<br>\n",
    "Karnataka - **98477**<br>\n",
    "Rajasthn - **94020**<br>\n",
    "Maharashtra - **93794**<br>"
   ]
  },
  {
   "cell_type": "markdown",
   "metadata": {
    "colab_type": "text",
    "id": "43ytAzAvfOiI"
   },
   "source": [
    "COVID-19 India Daily, Deaths and Cured Cases"
   ]
  },
  {
   "cell_type": "code",
   "execution_count": 0,
   "metadata": {
    "colab": {},
    "colab_type": "code",
    "id": "-edcA8LpHu22"
   },
   "outputs": [],
   "source": [
    "# fig = go.Figure(data=[\n",
    "#     go.Bar(name='Cases', x=df_covid['Date'], y=df_covid['Confirmed'],text=df_covid['Confirmed'],textposition='auto' ),\n",
    "#     go.Bar(name='Cured', x=df_covid['Date'], y=df_covid['Cured']),\n",
    "#     go.Bar(name='Deaths', x=df_covid['Date'], y=df_covid['Deaths'])\n",
    "# ])\n",
    "# fig.update_layout(barmode='overlay', title='COVID-19 India Daily, Deaths and Cured Cases')\n",
    "# # fig.update_xaxes(rangeslider_visible=True)\n",
    "# fig.show()"
   ]
  },
  {
   "cell_type": "code",
   "execution_count": 0,
   "metadata": {
    "colab": {
     "base_uri": "https://localhost:8080/",
     "height": 84
    },
    "colab_type": "code",
    "id": "XNHAfFv1zzKU",
    "outputId": "2c90f0ad-c57d-4fc8-add7-e4b16b17d47a"
   },
   "outputs": [
    {
     "name": "stderr",
     "output_type": "stream",
     "text": [
      "/usr/local/lib/python3.6/dist-packages/ipykernel_launcher.py:2: FutureWarning:\n",
      "\n",
      "Indexing with multiple keys (implicitly converted to a tuple of keys) will be deprecated, use a list instead.\n",
      "\n"
     ]
    }
   ],
   "source": [
    "df_covid = df_cov.copy()\n",
    "df_covid = df_cov.groupby('Date',as_index=False)['Confirmed','Deaths','Cured'].sum()"
   ]
  },
  {
   "cell_type": "code",
   "execution_count": 0,
   "metadata": {
    "colab": {},
    "colab_type": "code",
    "id": "d8vKdkdY2T-r"
   },
   "outputs": [],
   "source": [
    "def calGrowthRate(df,str):\n",
    "    growth_diff=[]\n",
    "    for i in range(1,len(df)):\n",
    "        growth_diff.append(df[str].iloc[i] / df[str].iloc[i-1])\n",
    "#  return (sum(growth_diff)/len(growth_diff))\n",
    "    return (growth_diff)\n"
   ]
  },
  {
   "cell_type": "code",
   "execution_count": 0,
   "metadata": {
    "colab": {
     "base_uri": "https://localhost:8080/",
     "height": 542
    },
    "colab_type": "code",
    "id": "KxVz3VQv9o7R",
    "outputId": "ec090ca1-6c2f-45a9-88fc-e6e434bb5899"
   },
   "outputs": [
    {
     "data": {
      "text/html": [
       "<html>\n",
       "<head><meta charset=\"utf-8\" /></head>\n",
       "<body>\n",
       "    <div>\n",
       "            <script src=\"https://cdnjs.cloudflare.com/ajax/libs/mathjax/2.7.5/MathJax.js?config=TeX-AMS-MML_SVG\"></script><script type=\"text/javascript\">if (window.MathJax) {MathJax.Hub.Config({SVG: {font: \"STIX-Web\"}});}</script>\n",
       "                <script type=\"text/javascript\">window.PlotlyConfig = {MathJaxConfig: 'local'};</script>\n",
       "        <script src=\"https://cdn.plot.ly/plotly-latest.min.js\"></script>    \n",
       "            <div id=\"6677b852-6031-4c86-9462-a09967df4574\" class=\"plotly-graph-div\" style=\"height:525px; width:100%;\"></div>\n",
       "            <script type=\"text/javascript\">\n",
       "                \n",
       "                    window.PLOTLYENV=window.PLOTLYENV || {};\n",
       "                    \n",
       "                if (document.getElementById(\"6677b852-6031-4c86-9462-a09967df4574\")) {\n",
       "                    Plotly.newPlot(\n",
       "                        '6677b852-6031-4c86-9462-a09967df4574',\n",
       "                        [{\"mode\": \"lines+markers\", \"name\": \"Cases\", \"type\": \"scatter\", \"x\": [\"2020-01-30T00:00:00\", \"2020-01-31T00:00:00\", \"2020-02-01T00:00:00\", \"2020-02-02T00:00:00\", \"2020-02-03T00:00:00\", \"2020-02-04T00:00:00\", \"2020-02-05T00:00:00\", \"2020-02-06T00:00:00\", \"2020-02-07T00:00:00\", \"2020-02-08T00:00:00\", \"2020-02-09T00:00:00\", \"2020-02-10T00:00:00\", \"2020-02-11T00:00:00\", \"2020-02-12T00:00:00\", \"2020-02-13T00:00:00\", \"2020-02-14T00:00:00\", \"2020-02-15T00:00:00\", \"2020-02-16T00:00:00\", \"2020-02-17T00:00:00\", \"2020-02-18T00:00:00\", \"2020-02-19T00:00:00\", \"2020-02-20T00:00:00\", \"2020-02-21T00:00:00\", \"2020-02-22T00:00:00\", \"2020-02-23T00:00:00\", \"2020-02-24T00:00:00\", \"2020-02-25T00:00:00\", \"2020-02-26T00:00:00\", \"2020-02-27T00:00:00\", \"2020-02-28T00:00:00\", \"2020-02-29T00:00:00\", \"2020-03-01T00:00:00\", \"2020-03-02T00:00:00\", \"2020-03-03T00:00:00\", \"2020-03-04T00:00:00\", \"2020-03-05T00:00:00\", \"2020-03-06T00:00:00\", \"2020-03-07T00:00:00\", \"2020-03-08T00:00:00\", \"2020-03-09T00:00:00\", \"2020-03-10T00:00:00\", \"2020-03-11T00:00:00\", \"2020-03-12T00:00:00\", \"2020-03-13T00:00:00\", \"2020-03-14T00:00:00\", \"2020-03-15T00:00:00\", \"2020-03-16T00:00:00\", \"2020-03-17T00:00:00\", \"2020-03-18T00:00:00\", \"2020-03-19T00:00:00\", \"2020-03-20T00:00:00\", \"2020-03-21T00:00:00\", \"2020-03-22T00:00:00\", \"2020-03-23T00:00:00\", \"2020-03-24T00:00:00\", \"2020-03-25T00:00:00\", \"2020-03-26T00:00:00\", \"2020-03-27T00:00:00\", \"2020-03-28T00:00:00\", \"2020-03-29T00:00:00\", \"2020-03-30T00:00:00\", \"2020-03-31T00:00:00\", \"2020-04-01T00:00:00\", \"2020-04-02T00:00:00\", \"2020-04-03T00:00:00\", \"2020-04-04T00:00:00\", \"2020-04-05T00:00:00\", \"2020-04-06T00:00:00\", \"2020-04-07T00:00:00\", \"2020-04-08T00:00:00\", \"2020-04-09T00:00:00\", \"2020-04-10T00:00:00\", \"2020-04-11T00:00:00\", \"2020-04-12T00:00:00\"], \"y\": [1, 1, 2, 3, 3, 3, 3, 3, 3, 3, 3, 3, 3, 3, 3, 3, 3, 3, 3, 3, 3, 3, 3, 3, 3, 3, 3, 3, 3, 3, 3, 3, 5, 6, 28, 30, 31, 34, 39, 46, 58, 60, 74, 81, 84, 110, 114, 137, 151, 173, 223, 283, 360, 433, 519, 606, 694, 724, 909, 1024, 1251, 1397, 1834, 2069, 2547, 3072, 3577, 4281, 4789, 5274, 5865, 6761, 7529, 8447]}, {\"mode\": \"lines+markers\", \"name\": \"Cured\", \"type\": \"scatter\", \"x\": [\"2020-01-30T00:00:00\", \"2020-01-31T00:00:00\", \"2020-02-01T00:00:00\", \"2020-02-02T00:00:00\", \"2020-02-03T00:00:00\", \"2020-02-04T00:00:00\", \"2020-02-05T00:00:00\", \"2020-02-06T00:00:00\", \"2020-02-07T00:00:00\", \"2020-02-08T00:00:00\", \"2020-02-09T00:00:00\", \"2020-02-10T00:00:00\", \"2020-02-11T00:00:00\", \"2020-02-12T00:00:00\", \"2020-02-13T00:00:00\", \"2020-02-14T00:00:00\", \"2020-02-15T00:00:00\", \"2020-02-16T00:00:00\", \"2020-02-17T00:00:00\", \"2020-02-18T00:00:00\", \"2020-02-19T00:00:00\", \"2020-02-20T00:00:00\", \"2020-02-21T00:00:00\", \"2020-02-22T00:00:00\", \"2020-02-23T00:00:00\", \"2020-02-24T00:00:00\", \"2020-02-25T00:00:00\", \"2020-02-26T00:00:00\", \"2020-02-27T00:00:00\", \"2020-02-28T00:00:00\", \"2020-02-29T00:00:00\", \"2020-03-01T00:00:00\", \"2020-03-02T00:00:00\", \"2020-03-03T00:00:00\", \"2020-03-04T00:00:00\", \"2020-03-05T00:00:00\", \"2020-03-06T00:00:00\", \"2020-03-07T00:00:00\", \"2020-03-08T00:00:00\", \"2020-03-09T00:00:00\", \"2020-03-10T00:00:00\", \"2020-03-11T00:00:00\", \"2020-03-12T00:00:00\", \"2020-03-13T00:00:00\", \"2020-03-14T00:00:00\", \"2020-03-15T00:00:00\", \"2020-03-16T00:00:00\", \"2020-03-17T00:00:00\", \"2020-03-18T00:00:00\", \"2020-03-19T00:00:00\", \"2020-03-20T00:00:00\", \"2020-03-21T00:00:00\", \"2020-03-22T00:00:00\", \"2020-03-23T00:00:00\", \"2020-03-24T00:00:00\", \"2020-03-25T00:00:00\", \"2020-03-26T00:00:00\", \"2020-03-27T00:00:00\", \"2020-03-28T00:00:00\", \"2020-03-29T00:00:00\", \"2020-03-30T00:00:00\", \"2020-03-31T00:00:00\", \"2020-04-01T00:00:00\", \"2020-04-02T00:00:00\", \"2020-04-03T00:00:00\", \"2020-04-04T00:00:00\", \"2020-04-05T00:00:00\", \"2020-04-06T00:00:00\", \"2020-04-07T00:00:00\", \"2020-04-08T00:00:00\", \"2020-04-09T00:00:00\", \"2020-04-10T00:00:00\", \"2020-04-11T00:00:00\", \"2020-04-12T00:00:00\"], \"y\": [0, 0, 0, 0, 0, 0, 0, 0, 0, 0, 0, 0, 0, 0, 0, 0, 0, 0, 0, 0, 0, 0, 0, 0, 0, 0, 0, 0, 0, 0, 0, 0, 0, 3, 3, 3, 3, 3, 3, 3, 3, 3, 3, 3, 10, 13, 13, 14, 14, 20, 23, 23, 24, 24, 40, 43, 45, 67, 80, 96, 102, 124, 144, 156, 163, 213, 275, 319, 353, 411, 478, 516, 653, 765]}, {\"mode\": \"lines+markers\", \"name\": \"Deaths\", \"type\": \"scatter\", \"x\": [\"2020-01-30T00:00:00\", \"2020-01-31T00:00:00\", \"2020-02-01T00:00:00\", \"2020-02-02T00:00:00\", \"2020-02-03T00:00:00\", \"2020-02-04T00:00:00\", \"2020-02-05T00:00:00\", \"2020-02-06T00:00:00\", \"2020-02-07T00:00:00\", \"2020-02-08T00:00:00\", \"2020-02-09T00:00:00\", \"2020-02-10T00:00:00\", \"2020-02-11T00:00:00\", \"2020-02-12T00:00:00\", \"2020-02-13T00:00:00\", \"2020-02-14T00:00:00\", \"2020-02-15T00:00:00\", \"2020-02-16T00:00:00\", \"2020-02-17T00:00:00\", \"2020-02-18T00:00:00\", \"2020-02-19T00:00:00\", \"2020-02-20T00:00:00\", \"2020-02-21T00:00:00\", \"2020-02-22T00:00:00\", \"2020-02-23T00:00:00\", \"2020-02-24T00:00:00\", \"2020-02-25T00:00:00\", \"2020-02-26T00:00:00\", \"2020-02-27T00:00:00\", \"2020-02-28T00:00:00\", \"2020-02-29T00:00:00\", \"2020-03-01T00:00:00\", \"2020-03-02T00:00:00\", \"2020-03-03T00:00:00\", \"2020-03-04T00:00:00\", \"2020-03-05T00:00:00\", \"2020-03-06T00:00:00\", \"2020-03-07T00:00:00\", \"2020-03-08T00:00:00\", \"2020-03-09T00:00:00\", \"2020-03-10T00:00:00\", \"2020-03-11T00:00:00\", \"2020-03-12T00:00:00\", \"2020-03-13T00:00:00\", \"2020-03-14T00:00:00\", \"2020-03-15T00:00:00\", \"2020-03-16T00:00:00\", \"2020-03-17T00:00:00\", \"2020-03-18T00:00:00\", \"2020-03-19T00:00:00\", \"2020-03-20T00:00:00\", \"2020-03-21T00:00:00\", \"2020-03-22T00:00:00\", \"2020-03-23T00:00:00\", \"2020-03-24T00:00:00\", \"2020-03-25T00:00:00\", \"2020-03-26T00:00:00\", \"2020-03-27T00:00:00\", \"2020-03-28T00:00:00\", \"2020-03-29T00:00:00\", \"2020-03-30T00:00:00\", \"2020-03-31T00:00:00\", \"2020-04-01T00:00:00\", \"2020-04-02T00:00:00\", \"2020-04-03T00:00:00\", \"2020-04-04T00:00:00\", \"2020-04-05T00:00:00\", \"2020-04-06T00:00:00\", \"2020-04-07T00:00:00\", \"2020-04-08T00:00:00\", \"2020-04-09T00:00:00\", \"2020-04-10T00:00:00\", \"2020-04-11T00:00:00\", \"2020-04-12T00:00:00\"], \"y\": [0, 0, 0, 0, 0, 0, 0, 0, 0, 0, 0, 0, 0, 0, 0, 0, 0, 0, 0, 0, 0, 0, 0, 0, 0, 0, 0, 0, 0, 0, 0, 0, 0, 0, 0, 0, 0, 0, 0, 0, 0, 0, 0, 1, 2, 2, 2, 3, 3, 4, 4, 4, 7, 7, 9, 10, 15, 17, 19, 27, 31, 35, 41, 53, 62, 75, 83, 111, 124, 149, 169, 206, 242, 273]}],\n",
       "                        {\"annotations\": [{\"arrowhead\": 1, \"ax\": -50, \"ay\": -100, \"showarrow\": true, \"text\": \"Lockdown Imposed(23rd March)\", \"x\": \"2020-03-23\", \"xref\": \"x\", \"y\": 433, \"yref\": \"y\"}, {\"arrowhead\": 1, \"ax\": -50, \"ay\": -100, \"showarrow\": true, \"text\": \"First Case Detected(30th Jan)\", \"x\": \"2020-01-30\", \"xref\": \"x\", \"y\": 0, \"yref\": \"y\"}], \"barmode\": \"stack\", \"template\": {\"data\": {\"bar\": [{\"error_x\": {\"color\": \"#2a3f5f\"}, \"error_y\": {\"color\": \"#2a3f5f\"}, \"marker\": {\"line\": {\"color\": \"#E5ECF6\", \"width\": 0.5}}, \"type\": \"bar\"}], \"barpolar\": [{\"marker\": {\"line\": {\"color\": \"#E5ECF6\", \"width\": 0.5}}, \"type\": \"barpolar\"}], \"carpet\": [{\"aaxis\": {\"endlinecolor\": \"#2a3f5f\", \"gridcolor\": \"white\", \"linecolor\": \"white\", \"minorgridcolor\": \"white\", \"startlinecolor\": \"#2a3f5f\"}, \"baxis\": {\"endlinecolor\": \"#2a3f5f\", \"gridcolor\": \"white\", \"linecolor\": \"white\", \"minorgridcolor\": \"white\", \"startlinecolor\": \"#2a3f5f\"}, \"type\": \"carpet\"}], \"choropleth\": [{\"colorbar\": {\"outlinewidth\": 0, \"ticks\": \"\"}, \"type\": \"choropleth\"}], \"contour\": [{\"colorbar\": {\"outlinewidth\": 0, \"ticks\": \"\"}, \"colorscale\": [[0.0, \"#0d0887\"], [0.1111111111111111, \"#46039f\"], [0.2222222222222222, \"#7201a8\"], [0.3333333333333333, \"#9c179e\"], [0.4444444444444444, \"#bd3786\"], [0.5555555555555556, \"#d8576b\"], [0.6666666666666666, \"#ed7953\"], [0.7777777777777778, \"#fb9f3a\"], [0.8888888888888888, \"#fdca26\"], [1.0, \"#f0f921\"]], \"type\": \"contour\"}], \"contourcarpet\": [{\"colorbar\": {\"outlinewidth\": 0, \"ticks\": \"\"}, \"type\": \"contourcarpet\"}], \"heatmap\": [{\"colorbar\": {\"outlinewidth\": 0, \"ticks\": \"\"}, \"colorscale\": [[0.0, \"#0d0887\"], [0.1111111111111111, \"#46039f\"], [0.2222222222222222, \"#7201a8\"], [0.3333333333333333, \"#9c179e\"], [0.4444444444444444, \"#bd3786\"], [0.5555555555555556, \"#d8576b\"], [0.6666666666666666, \"#ed7953\"], [0.7777777777777778, \"#fb9f3a\"], [0.8888888888888888, \"#fdca26\"], [1.0, \"#f0f921\"]], \"type\": \"heatmap\"}], \"heatmapgl\": [{\"colorbar\": {\"outlinewidth\": 0, \"ticks\": \"\"}, \"colorscale\": [[0.0, \"#0d0887\"], [0.1111111111111111, \"#46039f\"], [0.2222222222222222, \"#7201a8\"], [0.3333333333333333, \"#9c179e\"], [0.4444444444444444, \"#bd3786\"], [0.5555555555555556, \"#d8576b\"], [0.6666666666666666, \"#ed7953\"], [0.7777777777777778, \"#fb9f3a\"], [0.8888888888888888, \"#fdca26\"], [1.0, \"#f0f921\"]], \"type\": \"heatmapgl\"}], \"histogram\": [{\"marker\": {\"colorbar\": {\"outlinewidth\": 0, \"ticks\": \"\"}}, \"type\": \"histogram\"}], \"histogram2d\": [{\"colorbar\": {\"outlinewidth\": 0, \"ticks\": \"\"}, \"colorscale\": [[0.0, \"#0d0887\"], [0.1111111111111111, \"#46039f\"], [0.2222222222222222, \"#7201a8\"], [0.3333333333333333, \"#9c179e\"], [0.4444444444444444, \"#bd3786\"], [0.5555555555555556, \"#d8576b\"], [0.6666666666666666, \"#ed7953\"], [0.7777777777777778, \"#fb9f3a\"], [0.8888888888888888, \"#fdca26\"], [1.0, \"#f0f921\"]], \"type\": \"histogram2d\"}], \"histogram2dcontour\": [{\"colorbar\": {\"outlinewidth\": 0, \"ticks\": \"\"}, \"colorscale\": [[0.0, \"#0d0887\"], [0.1111111111111111, \"#46039f\"], [0.2222222222222222, \"#7201a8\"], [0.3333333333333333, \"#9c179e\"], [0.4444444444444444, \"#bd3786\"], [0.5555555555555556, \"#d8576b\"], [0.6666666666666666, \"#ed7953\"], [0.7777777777777778, \"#fb9f3a\"], [0.8888888888888888, \"#fdca26\"], [1.0, \"#f0f921\"]], \"type\": \"histogram2dcontour\"}], \"mesh3d\": [{\"colorbar\": {\"outlinewidth\": 0, \"ticks\": \"\"}, \"type\": \"mesh3d\"}], \"parcoords\": [{\"line\": {\"colorbar\": {\"outlinewidth\": 0, \"ticks\": \"\"}}, \"type\": \"parcoords\"}], \"pie\": [{\"automargin\": true, \"type\": \"pie\"}], \"scatter\": [{\"marker\": {\"colorbar\": {\"outlinewidth\": 0, \"ticks\": \"\"}}, \"type\": \"scatter\"}], \"scatter3d\": [{\"line\": {\"colorbar\": {\"outlinewidth\": 0, \"ticks\": \"\"}}, \"marker\": {\"colorbar\": {\"outlinewidth\": 0, \"ticks\": \"\"}}, \"type\": \"scatter3d\"}], \"scattercarpet\": [{\"marker\": {\"colorbar\": {\"outlinewidth\": 0, \"ticks\": \"\"}}, \"type\": \"scattercarpet\"}], \"scattergeo\": [{\"marker\": {\"colorbar\": {\"outlinewidth\": 0, \"ticks\": \"\"}}, \"type\": \"scattergeo\"}], \"scattergl\": [{\"marker\": {\"colorbar\": {\"outlinewidth\": 0, \"ticks\": \"\"}}, \"type\": \"scattergl\"}], \"scattermapbox\": [{\"marker\": {\"colorbar\": {\"outlinewidth\": 0, \"ticks\": \"\"}}, \"type\": \"scattermapbox\"}], \"scatterpolar\": [{\"marker\": {\"colorbar\": {\"outlinewidth\": 0, \"ticks\": \"\"}}, \"type\": \"scatterpolar\"}], \"scatterpolargl\": [{\"marker\": {\"colorbar\": {\"outlinewidth\": 0, \"ticks\": \"\"}}, \"type\": \"scatterpolargl\"}], \"scatterternary\": [{\"marker\": {\"colorbar\": {\"outlinewidth\": 0, \"ticks\": \"\"}}, \"type\": \"scatterternary\"}], \"surface\": [{\"colorbar\": {\"outlinewidth\": 0, \"ticks\": \"\"}, \"colorscale\": [[0.0, \"#0d0887\"], [0.1111111111111111, \"#46039f\"], [0.2222222222222222, \"#7201a8\"], [0.3333333333333333, \"#9c179e\"], [0.4444444444444444, \"#bd3786\"], [0.5555555555555556, \"#d8576b\"], [0.6666666666666666, \"#ed7953\"], [0.7777777777777778, \"#fb9f3a\"], [0.8888888888888888, \"#fdca26\"], [1.0, \"#f0f921\"]], \"type\": \"surface\"}], \"table\": [{\"cells\": {\"fill\": {\"color\": \"#EBF0F8\"}, \"line\": {\"color\": \"white\"}}, \"header\": {\"fill\": {\"color\": \"#C8D4E3\"}, \"line\": {\"color\": \"white\"}}, \"type\": \"table\"}]}, \"layout\": {\"annotationdefaults\": {\"arrowcolor\": \"#2a3f5f\", \"arrowhead\": 0, \"arrowwidth\": 1}, \"coloraxis\": {\"colorbar\": {\"outlinewidth\": 0, \"ticks\": \"\"}}, \"colorscale\": {\"diverging\": [[0, \"#8e0152\"], [0.1, \"#c51b7d\"], [0.2, \"#de77ae\"], [0.3, \"#f1b6da\"], [0.4, \"#fde0ef\"], [0.5, \"#f7f7f7\"], [0.6, \"#e6f5d0\"], [0.7, \"#b8e186\"], [0.8, \"#7fbc41\"], [0.9, \"#4d9221\"], [1, \"#276419\"]], \"sequential\": [[0.0, \"#0d0887\"], [0.1111111111111111, \"#46039f\"], [0.2222222222222222, \"#7201a8\"], [0.3333333333333333, \"#9c179e\"], [0.4444444444444444, \"#bd3786\"], [0.5555555555555556, \"#d8576b\"], [0.6666666666666666, \"#ed7953\"], [0.7777777777777778, \"#fb9f3a\"], [0.8888888888888888, \"#fdca26\"], [1.0, \"#f0f921\"]], \"sequentialminus\": [[0.0, \"#0d0887\"], [0.1111111111111111, \"#46039f\"], [0.2222222222222222, \"#7201a8\"], [0.3333333333333333, \"#9c179e\"], [0.4444444444444444, \"#bd3786\"], [0.5555555555555556, \"#d8576b\"], [0.6666666666666666, \"#ed7953\"], [0.7777777777777778, \"#fb9f3a\"], [0.8888888888888888, \"#fdca26\"], [1.0, \"#f0f921\"]]}, \"colorway\": [\"#636efa\", \"#EF553B\", \"#00cc96\", \"#ab63fa\", \"#FFA15A\", \"#19d3f3\", \"#FF6692\", \"#B6E880\", \"#FF97FF\", \"#FECB52\"], \"font\": {\"color\": \"#2a3f5f\"}, \"geo\": {\"bgcolor\": \"white\", \"lakecolor\": \"white\", \"landcolor\": \"#E5ECF6\", \"showlakes\": true, \"showland\": true, \"subunitcolor\": \"white\"}, \"hoverlabel\": {\"align\": \"left\"}, \"hovermode\": \"closest\", \"mapbox\": {\"style\": \"light\"}, \"paper_bgcolor\": \"white\", \"plot_bgcolor\": \"#E5ECF6\", \"polar\": {\"angularaxis\": {\"gridcolor\": \"white\", \"linecolor\": \"white\", \"ticks\": \"\"}, \"bgcolor\": \"#E5ECF6\", \"radialaxis\": {\"gridcolor\": \"white\", \"linecolor\": \"white\", \"ticks\": \"\"}}, \"scene\": {\"xaxis\": {\"backgroundcolor\": \"#E5ECF6\", \"gridcolor\": \"white\", \"gridwidth\": 2, \"linecolor\": \"white\", \"showbackground\": true, \"ticks\": \"\", \"zerolinecolor\": \"white\"}, \"yaxis\": {\"backgroundcolor\": \"#E5ECF6\", \"gridcolor\": \"white\", \"gridwidth\": 2, \"linecolor\": \"white\", \"showbackground\": true, \"ticks\": \"\", \"zerolinecolor\": \"white\"}, \"zaxis\": {\"backgroundcolor\": \"#E5ECF6\", \"gridcolor\": \"white\", \"gridwidth\": 2, \"linecolor\": \"white\", \"showbackground\": true, \"ticks\": \"\", \"zerolinecolor\": \"white\"}}, \"shapedefaults\": {\"line\": {\"color\": \"#2a3f5f\"}}, \"ternary\": {\"aaxis\": {\"gridcolor\": \"white\", \"linecolor\": \"white\", \"ticks\": \"\"}, \"baxis\": {\"gridcolor\": \"white\", \"linecolor\": \"white\", \"ticks\": \"\"}, \"bgcolor\": \"#E5ECF6\", \"caxis\": {\"gridcolor\": \"white\", \"linecolor\": \"white\", \"ticks\": \"\"}}, \"title\": {\"x\": 0.05}, \"xaxis\": {\"automargin\": true, \"gridcolor\": \"white\", \"linecolor\": \"white\", \"ticks\": \"\", \"title\": {\"standoff\": 15}, \"zerolinecolor\": \"white\", \"zerolinewidth\": 2}, \"yaxis\": {\"automargin\": true, \"gridcolor\": \"white\", \"linecolor\": \"white\", \"ticks\": \"\", \"title\": {\"standoff\": 15}, \"zerolinecolor\": \"white\", \"zerolinewidth\": 2}}}, \"title\": {\"text\": \"COVID-19  Confirmed, Deaths and Cured Cases - India\"}},\n",
       "                        {\"responsive\": true}\n",
       "                    ).then(function(){\n",
       "                            \n",
       "var gd = document.getElementById('6677b852-6031-4c86-9462-a09967df4574');\n",
       "var x = new MutationObserver(function (mutations, observer) {{\n",
       "        var display = window.getComputedStyle(gd).display;\n",
       "        if (!display || display === 'none') {{\n",
       "            console.log([gd, 'removed!']);\n",
       "            Plotly.purge(gd);\n",
       "            observer.disconnect();\n",
       "        }}\n",
       "}});\n",
       "\n",
       "// Listen for the removal of the full notebook cells\n",
       "var notebookContainer = gd.closest('#notebook-container');\n",
       "if (notebookContainer) {{\n",
       "    x.observe(notebookContainer, {childList: true});\n",
       "}}\n",
       "\n",
       "// Listen for the clearing of the current output cell\n",
       "var outputEl = gd.closest('.output');\n",
       "if (outputEl) {{\n",
       "    x.observe(outputEl, {childList: true});\n",
       "}}\n",
       "\n",
       "                        })\n",
       "                };\n",
       "                \n",
       "            </script>\n",
       "        </div>\n",
       "</body>\n",
       "</html>"
      ]
     },
     "metadata": {
      "tags": []
     },
     "output_type": "display_data"
    }
   ],
   "source": [
    "fig = go.Figure(data=[\n",
    "    go.Scatter(name='Cases', x=df_covid['Date'], y=df_covid['Confirmed'],mode='lines+markers'),\n",
    "    go.Scatter(name='Cured', x=df_covid['Date'], y=df_covid['Cured'],mode='lines+markers'),\n",
    "    go.Scatter(name='Deaths', x=df_covid['Date'], y=df_covid['Deaths'],mode='lines+markers')\n",
    "])\n",
    "fig.update_layout(barmode='stack', title='COVID-19  Confirmed, Deaths and Cured Cases - India',\n",
    "                  annotations=[dict(x='2020-03-23', y=433, xref=\"x\", yref=\"y\",\n",
    "                                    text=\"Lockdown Imposed(23rd March)\", showarrow=True, arrowhead=1, ax=-50, ay=-100),\n",
    "                               dict(x='2020-01-30', y=0, xref=\"x\", yref=\"y\",\n",
    "                                    text=\"First Case Detected(30th Jan)\", showarrow=True, arrowhead=1, ax=-50, ay=-100),\n",
    "                               ])\n",
    "# fig.update_xaxes(rangeslider_visible=True)\n",
    "\n",
    "fig.show()\n"
   ]
  },
  {
   "cell_type": "markdown",
   "metadata": {
    "colab_type": "text",
    "id": "gJKlue1JmNkH"
   },
   "source": [
    "###### The first case was diagonsed on Jan 30th and after 52 days lockdown was imposed  with confirmed Cases, Deaths standing on 433 and 24 respectively.After 22 days of lockdown, there are 8447 confirmed cases, 273 deaths and 765 recovered cases."
   ]
  },
  {
   "cell_type": "code",
   "execution_count": 0,
   "metadata": {
    "colab": {
     "base_uri": "https://localhost:8080/",
     "height": 542
    },
    "colab_type": "code",
    "id": "BxQBHzppso-1",
    "outputId": "a906f6d8-70c2-4306-d997-18693dd23bd7"
   },
   "outputs": [
    {
     "data": {
      "text/html": [
       "<html>\n",
       "<head><meta charset=\"utf-8\" /></head>\n",
       "<body>\n",
       "    <div>\n",
       "            <script src=\"https://cdnjs.cloudflare.com/ajax/libs/mathjax/2.7.5/MathJax.js?config=TeX-AMS-MML_SVG\"></script><script type=\"text/javascript\">if (window.MathJax) {MathJax.Hub.Config({SVG: {font: \"STIX-Web\"}});}</script>\n",
       "                <script type=\"text/javascript\">window.PlotlyConfig = {MathJaxConfig: 'local'};</script>\n",
       "        <script src=\"https://cdn.plot.ly/plotly-latest.min.js\"></script>    \n",
       "            <div id=\"debd48a1-f7d8-470f-82e0-96c4a4388686\" class=\"plotly-graph-div\" style=\"height:525px; width:100%;\"></div>\n",
       "            <script type=\"text/javascript\">\n",
       "                \n",
       "                    window.PLOTLYENV=window.PLOTLYENV || {};\n",
       "                    \n",
       "                if (document.getElementById(\"debd48a1-f7d8-470f-82e0-96c4a4388686\")) {\n",
       "                    Plotly.newPlot(\n",
       "                        'debd48a1-f7d8-470f-82e0-96c4a4388686',\n",
       "                        [{\"name\": \"Logarithmic Scale India\", \"type\": \"scatter\", \"x\": [\"2020-01-30T00:00:00\", \"2020-01-31T00:00:00\", \"2020-02-01T00:00:00\", \"2020-02-02T00:00:00\", \"2020-02-03T00:00:00\", \"2020-02-04T00:00:00\", \"2020-02-05T00:00:00\", \"2020-02-06T00:00:00\", \"2020-02-07T00:00:00\", \"2020-02-08T00:00:00\", \"2020-02-09T00:00:00\", \"2020-02-10T00:00:00\", \"2020-02-11T00:00:00\", \"2020-02-12T00:00:00\", \"2020-02-13T00:00:00\", \"2020-02-14T00:00:00\", \"2020-02-15T00:00:00\", \"2020-02-16T00:00:00\", \"2020-02-17T00:00:00\", \"2020-02-18T00:00:00\", \"2020-02-19T00:00:00\", \"2020-02-20T00:00:00\", \"2020-02-21T00:00:00\", \"2020-02-22T00:00:00\", \"2020-02-23T00:00:00\", \"2020-02-24T00:00:00\", \"2020-02-25T00:00:00\", \"2020-02-26T00:00:00\", \"2020-02-27T00:00:00\", \"2020-02-28T00:00:00\", \"2020-02-29T00:00:00\", \"2020-03-01T00:00:00\", \"2020-03-02T00:00:00\", \"2020-03-03T00:00:00\", \"2020-03-04T00:00:00\", \"2020-03-05T00:00:00\", \"2020-03-06T00:00:00\", \"2020-03-07T00:00:00\", \"2020-03-08T00:00:00\", \"2020-03-09T00:00:00\", \"2020-03-10T00:00:00\", \"2020-03-11T00:00:00\", \"2020-03-12T00:00:00\", \"2020-03-13T00:00:00\", \"2020-03-14T00:00:00\", \"2020-03-15T00:00:00\", \"2020-03-16T00:00:00\", \"2020-03-17T00:00:00\", \"2020-03-18T00:00:00\", \"2020-03-19T00:00:00\", \"2020-03-20T00:00:00\", \"2020-03-21T00:00:00\", \"2020-03-22T00:00:00\", \"2020-03-23T00:00:00\", \"2020-03-24T00:00:00\", \"2020-03-25T00:00:00\", \"2020-03-26T00:00:00\", \"2020-03-27T00:00:00\", \"2020-03-28T00:00:00\", \"2020-03-29T00:00:00\", \"2020-03-30T00:00:00\", \"2020-03-31T00:00:00\", \"2020-04-01T00:00:00\", \"2020-04-02T00:00:00\", \"2020-04-03T00:00:00\", \"2020-04-04T00:00:00\", \"2020-04-05T00:00:00\", \"2020-04-06T00:00:00\", \"2020-04-07T00:00:00\", \"2020-04-08T00:00:00\", \"2020-04-09T00:00:00\", \"2020-04-10T00:00:00\", \"2020-04-11T00:00:00\", \"2020-04-12T00:00:00\"], \"y\": [1, 1, 2, 3, 3, 3, 3, 3, 3, 3, 3, 3, 3, 3, 3, 3, 3, 3, 3, 3, 3, 3, 3, 3, 3, 3, 3, 3, 3, 3, 3, 3, 5, 6, 28, 30, 31, 34, 39, 46, 58, 60, 74, 81, 84, 110, 114, 137, 151, 173, 223, 283, 360, 433, 519, 606, 694, 724, 909, 1024, 1251, 1397, 1834, 2069, 2547, 3072, 3577, 4281, 4789, 5274, 5865, 6761, 7529, 8447]}, {\"mode\": \"lines+markers\", \"name\": \"Logarithmic Scale USA\", \"type\": \"scatter\", \"x\": [\"2020-01-22T00:00:00\", \"2020-01-23T00:00:00\", \"2020-01-24T00:00:00\", \"2020-01-25T00:00:00\", \"2020-01-26T00:00:00\", \"2020-01-27T00:00:00\", \"2020-01-28T00:00:00\", \"2020-01-29T00:00:00\", \"2020-01-30T00:00:00\", \"2020-01-31T00:00:00\", \"2020-02-01T00:00:00\", \"2020-02-02T00:00:00\", \"2020-02-03T00:00:00\", \"2020-02-04T00:00:00\", \"2020-02-05T00:00:00\", \"2020-02-06T00:00:00\", \"2020-02-07T00:00:00\", \"2020-02-08T00:00:00\", \"2020-02-09T00:00:00\", \"2020-02-10T00:00:00\", \"2020-02-11T00:00:00\", \"2020-02-12T00:00:00\", \"2020-02-13T00:00:00\", \"2020-02-14T00:00:00\", \"2020-02-15T00:00:00\", \"2020-02-16T00:00:00\", \"2020-02-17T00:00:00\", \"2020-02-18T00:00:00\", \"2020-02-19T00:00:00\", \"2020-02-20T00:00:00\", \"2020-02-21T00:00:00\", \"2020-02-22T00:00:00\", \"2020-02-23T00:00:00\", \"2020-02-24T00:00:00\", \"2020-02-25T00:00:00\", \"2020-02-26T00:00:00\", \"2020-02-27T00:00:00\", \"2020-02-28T00:00:00\", \"2020-02-29T00:00:00\", \"2020-03-01T00:00:00\", \"2020-03-02T00:00:00\", \"2020-03-03T00:00:00\", \"2020-03-04T00:00:00\", \"2020-03-05T00:00:00\", \"2020-03-06T00:00:00\", \"2020-03-07T00:00:00\", \"2020-03-08T00:00:00\", \"2020-03-09T00:00:00\", \"2020-03-10T00:00:00\", \"2020-03-11T00:00:00\", \"2020-03-12T00:00:00\", \"2020-03-13T00:00:00\", \"2020-03-14T00:00:00\", \"2020-03-15T00:00:00\", \"2020-03-16T00:00:00\", \"2020-03-17T00:00:00\", \"2020-03-18T00:00:00\", \"2020-03-19T00:00:00\", \"2020-03-20T00:00:00\", \"2020-03-21T00:00:00\", \"2020-03-22T00:00:00\", \"2020-03-23T00:00:00\", \"2020-03-24T00:00:00\", \"2020-03-25T00:00:00\", \"2020-03-26T00:00:00\", \"2020-03-27T00:00:00\", \"2020-03-28T00:00:00\", \"2020-03-29T00:00:00\", \"2020-03-30T00:00:00\", \"2020-03-31T00:00:00\", \"2020-04-01T00:00:00\", \"2020-04-02T00:00:00\", \"2020-04-03T00:00:00\", \"2020-04-04T00:00:00\", \"2020-04-05T00:00:00\", \"2020-04-06T00:00:00\", \"2020-04-07T00:00:00\", \"2020-04-08T00:00:00\", \"2020-04-09T00:00:00\", \"2020-04-10T00:00:00\", \"2020-04-11T00:00:00\"], \"y\": [1.0, 1.0, 2.0, 2.0, 5.0, 5.0, 5.0, 5.0, 5.0, 6.0, 8.0, 8.0, 11.0, 11.0, 12.0, 12.0, 12.0, 12.0, 12.0, 12.0, 13.0, 13.0, 15.0, 15.0, 15.0, 15.0, 15.0, 15.0, 15.0, 15.0, 35.0, 35.0, 35.0, 53.0, 53.0, 59.0, 60.0, 62.0, 70.0, 76.0, 101.0, 122.0, 153.0, 221.0, 278.0, 417.0, 537.0, 605.0, 959.0, 1281.0, 1663.0, 2179.0, 2726.0, 3499.0, 4632.0, 6421.0, 7786.0, 13680.0, 19101.0, 25514.0, 33848.0, 43667.0, 53740.0, 65778.0, 83836.0, 101657.0, 121465.0, 140909.0, 161831.0, 188172.0, 213372.0, 243599.0, 275586.0, 308853.0, 337072.0, 366667.0, 396223.0, 429052.0, 461437.0, 496535.0, 526396.0]}],\n",
       "                        {\"template\": {\"data\": {\"bar\": [{\"error_x\": {\"color\": \"#2a3f5f\"}, \"error_y\": {\"color\": \"#2a3f5f\"}, \"marker\": {\"line\": {\"color\": \"#E5ECF6\", \"width\": 0.5}}, \"type\": \"bar\"}], \"barpolar\": [{\"marker\": {\"line\": {\"color\": \"#E5ECF6\", \"width\": 0.5}}, \"type\": \"barpolar\"}], \"carpet\": [{\"aaxis\": {\"endlinecolor\": \"#2a3f5f\", \"gridcolor\": \"white\", \"linecolor\": \"white\", \"minorgridcolor\": \"white\", \"startlinecolor\": \"#2a3f5f\"}, \"baxis\": {\"endlinecolor\": \"#2a3f5f\", \"gridcolor\": \"white\", \"linecolor\": \"white\", \"minorgridcolor\": \"white\", \"startlinecolor\": \"#2a3f5f\"}, \"type\": \"carpet\"}], \"choropleth\": [{\"colorbar\": {\"outlinewidth\": 0, \"ticks\": \"\"}, \"type\": \"choropleth\"}], \"contour\": [{\"colorbar\": {\"outlinewidth\": 0, \"ticks\": \"\"}, \"colorscale\": [[0.0, \"#0d0887\"], [0.1111111111111111, \"#46039f\"], [0.2222222222222222, \"#7201a8\"], [0.3333333333333333, \"#9c179e\"], [0.4444444444444444, \"#bd3786\"], [0.5555555555555556, \"#d8576b\"], [0.6666666666666666, \"#ed7953\"], [0.7777777777777778, \"#fb9f3a\"], [0.8888888888888888, \"#fdca26\"], [1.0, \"#f0f921\"]], \"type\": \"contour\"}], \"contourcarpet\": [{\"colorbar\": {\"outlinewidth\": 0, \"ticks\": \"\"}, \"type\": \"contourcarpet\"}], \"heatmap\": [{\"colorbar\": {\"outlinewidth\": 0, \"ticks\": \"\"}, \"colorscale\": [[0.0, \"#0d0887\"], [0.1111111111111111, \"#46039f\"], [0.2222222222222222, \"#7201a8\"], [0.3333333333333333, \"#9c179e\"], [0.4444444444444444, \"#bd3786\"], [0.5555555555555556, \"#d8576b\"], [0.6666666666666666, \"#ed7953\"], [0.7777777777777778, \"#fb9f3a\"], [0.8888888888888888, \"#fdca26\"], [1.0, \"#f0f921\"]], \"type\": \"heatmap\"}], \"heatmapgl\": [{\"colorbar\": {\"outlinewidth\": 0, \"ticks\": \"\"}, \"colorscale\": [[0.0, \"#0d0887\"], [0.1111111111111111, \"#46039f\"], [0.2222222222222222, \"#7201a8\"], [0.3333333333333333, \"#9c179e\"], [0.4444444444444444, \"#bd3786\"], [0.5555555555555556, \"#d8576b\"], [0.6666666666666666, \"#ed7953\"], [0.7777777777777778, \"#fb9f3a\"], [0.8888888888888888, \"#fdca26\"], [1.0, \"#f0f921\"]], \"type\": \"heatmapgl\"}], \"histogram\": [{\"marker\": {\"colorbar\": {\"outlinewidth\": 0, \"ticks\": \"\"}}, \"type\": \"histogram\"}], \"histogram2d\": [{\"colorbar\": {\"outlinewidth\": 0, \"ticks\": \"\"}, \"colorscale\": [[0.0, \"#0d0887\"], [0.1111111111111111, \"#46039f\"], [0.2222222222222222, \"#7201a8\"], [0.3333333333333333, \"#9c179e\"], [0.4444444444444444, \"#bd3786\"], [0.5555555555555556, \"#d8576b\"], [0.6666666666666666, \"#ed7953\"], [0.7777777777777778, \"#fb9f3a\"], [0.8888888888888888, \"#fdca26\"], [1.0, \"#f0f921\"]], \"type\": \"histogram2d\"}], \"histogram2dcontour\": [{\"colorbar\": {\"outlinewidth\": 0, \"ticks\": \"\"}, \"colorscale\": [[0.0, \"#0d0887\"], [0.1111111111111111, \"#46039f\"], [0.2222222222222222, \"#7201a8\"], [0.3333333333333333, \"#9c179e\"], [0.4444444444444444, \"#bd3786\"], [0.5555555555555556, \"#d8576b\"], [0.6666666666666666, \"#ed7953\"], [0.7777777777777778, \"#fb9f3a\"], [0.8888888888888888, \"#fdca26\"], [1.0, \"#f0f921\"]], \"type\": \"histogram2dcontour\"}], \"mesh3d\": [{\"colorbar\": {\"outlinewidth\": 0, \"ticks\": \"\"}, \"type\": \"mesh3d\"}], \"parcoords\": [{\"line\": {\"colorbar\": {\"outlinewidth\": 0, \"ticks\": \"\"}}, \"type\": \"parcoords\"}], \"pie\": [{\"automargin\": true, \"type\": \"pie\"}], \"scatter\": [{\"marker\": {\"colorbar\": {\"outlinewidth\": 0, \"ticks\": \"\"}}, \"type\": \"scatter\"}], \"scatter3d\": [{\"line\": {\"colorbar\": {\"outlinewidth\": 0, \"ticks\": \"\"}}, \"marker\": {\"colorbar\": {\"outlinewidth\": 0, \"ticks\": \"\"}}, \"type\": \"scatter3d\"}], \"scattercarpet\": [{\"marker\": {\"colorbar\": {\"outlinewidth\": 0, \"ticks\": \"\"}}, \"type\": \"scattercarpet\"}], \"scattergeo\": [{\"marker\": {\"colorbar\": {\"outlinewidth\": 0, \"ticks\": \"\"}}, \"type\": \"scattergeo\"}], \"scattergl\": [{\"marker\": {\"colorbar\": {\"outlinewidth\": 0, \"ticks\": \"\"}}, \"type\": \"scattergl\"}], \"scattermapbox\": [{\"marker\": {\"colorbar\": {\"outlinewidth\": 0, \"ticks\": \"\"}}, \"type\": \"scattermapbox\"}], \"scatterpolar\": [{\"marker\": {\"colorbar\": {\"outlinewidth\": 0, \"ticks\": \"\"}}, \"type\": \"scatterpolar\"}], \"scatterpolargl\": [{\"marker\": {\"colorbar\": {\"outlinewidth\": 0, \"ticks\": \"\"}}, \"type\": \"scatterpolargl\"}], \"scatterternary\": [{\"marker\": {\"colorbar\": {\"outlinewidth\": 0, \"ticks\": \"\"}}, \"type\": \"scatterternary\"}], \"surface\": [{\"colorbar\": {\"outlinewidth\": 0, \"ticks\": \"\"}, \"colorscale\": [[0.0, \"#0d0887\"], [0.1111111111111111, \"#46039f\"], [0.2222222222222222, \"#7201a8\"], [0.3333333333333333, \"#9c179e\"], [0.4444444444444444, \"#bd3786\"], [0.5555555555555556, \"#d8576b\"], [0.6666666666666666, \"#ed7953\"], [0.7777777777777778, \"#fb9f3a\"], [0.8888888888888888, \"#fdca26\"], [1.0, \"#f0f921\"]], \"type\": \"surface\"}], \"table\": [{\"cells\": {\"fill\": {\"color\": \"#EBF0F8\"}, \"line\": {\"color\": \"white\"}}, \"header\": {\"fill\": {\"color\": \"#C8D4E3\"}, \"line\": {\"color\": \"white\"}}, \"type\": \"table\"}]}, \"layout\": {\"annotationdefaults\": {\"arrowcolor\": \"#2a3f5f\", \"arrowhead\": 0, \"arrowwidth\": 1}, \"coloraxis\": {\"colorbar\": {\"outlinewidth\": 0, \"ticks\": \"\"}}, \"colorscale\": {\"diverging\": [[0, \"#8e0152\"], [0.1, \"#c51b7d\"], [0.2, \"#de77ae\"], [0.3, \"#f1b6da\"], [0.4, \"#fde0ef\"], [0.5, \"#f7f7f7\"], [0.6, \"#e6f5d0\"], [0.7, \"#b8e186\"], [0.8, \"#7fbc41\"], [0.9, \"#4d9221\"], [1, \"#276419\"]], \"sequential\": [[0.0, \"#0d0887\"], [0.1111111111111111, \"#46039f\"], [0.2222222222222222, \"#7201a8\"], [0.3333333333333333, \"#9c179e\"], [0.4444444444444444, \"#bd3786\"], [0.5555555555555556, \"#d8576b\"], [0.6666666666666666, \"#ed7953\"], [0.7777777777777778, \"#fb9f3a\"], [0.8888888888888888, \"#fdca26\"], [1.0, \"#f0f921\"]], \"sequentialminus\": [[0.0, \"#0d0887\"], [0.1111111111111111, \"#46039f\"], [0.2222222222222222, \"#7201a8\"], [0.3333333333333333, \"#9c179e\"], [0.4444444444444444, \"#bd3786\"], [0.5555555555555556, \"#d8576b\"], [0.6666666666666666, \"#ed7953\"], [0.7777777777777778, \"#fb9f3a\"], [0.8888888888888888, \"#fdca26\"], [1.0, \"#f0f921\"]]}, \"colorway\": [\"#636efa\", \"#EF553B\", \"#00cc96\", \"#ab63fa\", \"#FFA15A\", \"#19d3f3\", \"#FF6692\", \"#B6E880\", \"#FF97FF\", \"#FECB52\"], \"font\": {\"color\": \"#2a3f5f\"}, \"geo\": {\"bgcolor\": \"white\", \"lakecolor\": \"white\", \"landcolor\": \"#E5ECF6\", \"showlakes\": true, \"showland\": true, \"subunitcolor\": \"white\"}, \"hoverlabel\": {\"align\": \"left\"}, \"hovermode\": \"closest\", \"mapbox\": {\"style\": \"light\"}, \"paper_bgcolor\": \"white\", \"plot_bgcolor\": \"#E5ECF6\", \"polar\": {\"angularaxis\": {\"gridcolor\": \"white\", \"linecolor\": \"white\", \"ticks\": \"\"}, \"bgcolor\": \"#E5ECF6\", \"radialaxis\": {\"gridcolor\": \"white\", \"linecolor\": \"white\", \"ticks\": \"\"}}, \"scene\": {\"xaxis\": {\"backgroundcolor\": \"#E5ECF6\", \"gridcolor\": \"white\", \"gridwidth\": 2, \"linecolor\": \"white\", \"showbackground\": true, \"ticks\": \"\", \"zerolinecolor\": \"white\"}, \"yaxis\": {\"backgroundcolor\": \"#E5ECF6\", \"gridcolor\": \"white\", \"gridwidth\": 2, \"linecolor\": \"white\", \"showbackground\": true, \"ticks\": \"\", \"zerolinecolor\": \"white\"}, \"zaxis\": {\"backgroundcolor\": \"#E5ECF6\", \"gridcolor\": \"white\", \"gridwidth\": 2, \"linecolor\": \"white\", \"showbackground\": true, \"ticks\": \"\", \"zerolinecolor\": \"white\"}}, \"shapedefaults\": {\"line\": {\"color\": \"#2a3f5f\"}}, \"ternary\": {\"aaxis\": {\"gridcolor\": \"white\", \"linecolor\": \"white\", \"ticks\": \"\"}, \"baxis\": {\"gridcolor\": \"white\", \"linecolor\": \"white\", \"ticks\": \"\"}, \"bgcolor\": \"#E5ECF6\", \"caxis\": {\"gridcolor\": \"white\", \"linecolor\": \"white\", \"ticks\": \"\"}}, \"title\": {\"x\": 0.05}, \"xaxis\": {\"automargin\": true, \"gridcolor\": \"white\", \"linecolor\": \"white\", \"ticks\": \"\", \"title\": {\"standoff\": 15}, \"zerolinecolor\": \"white\", \"zerolinewidth\": 2}, \"yaxis\": {\"automargin\": true, \"gridcolor\": \"white\", \"linecolor\": \"white\", \"ticks\": \"\", \"title\": {\"standoff\": 15}, \"zerolinecolor\": \"white\", \"zerolinewidth\": 2}}}, \"title\": {\"text\": \"Log Scale of India and USA Confirmed Cases\"}, \"yaxis\": {\"type\": \"log\"}},\n",
       "                        {\"responsive\": true}\n",
       "                    ).then(function(){\n",
       "                            \n",
       "var gd = document.getElementById('debd48a1-f7d8-470f-82e0-96c4a4388686');\n",
       "var x = new MutationObserver(function (mutations, observer) {{\n",
       "        var display = window.getComputedStyle(gd).display;\n",
       "        if (!display || display === 'none') {{\n",
       "            console.log([gd, 'removed!']);\n",
       "            Plotly.purge(gd);\n",
       "            observer.disconnect();\n",
       "        }}\n",
       "}});\n",
       "\n",
       "// Listen for the removal of the full notebook cells\n",
       "var notebookContainer = gd.closest('#notebook-container');\n",
       "if (notebookContainer) {{\n",
       "    x.observe(notebookContainer, {childList: true});\n",
       "}}\n",
       "\n",
       "// Listen for the clearing of the current output cell\n",
       "var outputEl = gd.closest('.output');\n",
       "if (outputEl) {{\n",
       "    x.observe(outputEl, {childList: true});\n",
       "}}\n",
       "\n",
       "                        })\n",
       "                };\n",
       "                \n",
       "            </script>\n",
       "        </div>\n",
       "</body>\n",
       "</html>"
      ]
     },
     "metadata": {
      "tags": []
     },
     "output_type": "display_data"
    }
   ],
   "source": [
    "\n",
    "fig = go.Figure(data=[\n",
    "     go.Scatter(name='Logarithmic Scale India', x=df_covid['Date'], y=df_covid['Confirmed']),\n",
    "     go.Scatter(name='Logarithmic Scale USA', x=df_US_group['Date'], y=df_US_group['Confirmed'],mode='lines+markers')\n",
    "])\n",
    "fig.update_layout( title='Log Scale of India and USA Confirmed Cases', yaxis_type=\"log\")\n",
    "# fig.update_xaxes(rangeslider_visible=True)\n",
    "\n",
    "fig.show()\n"
   ]
  },
  {
   "cell_type": "markdown",
   "metadata": {
    "colab_type": "text",
    "id": "iI8cZlXVzZUJ"
   },
   "source": [
    "###### Lets Compare USA and India Confirmed Cases"
   ]
  },
  {
   "cell_type": "code",
   "execution_count": 0,
   "metadata": {
    "colab": {},
    "colab_type": "code",
    "id": "BneKUGEpzfOJ"
   },
   "outputs": [],
   "source": [
    "df_USA = df_world[df_world['Country/Region']=='US'].copy()\n"
   ]
  },
  {
   "cell_type": "code",
   "execution_count": 0,
   "metadata": {
    "colab": {
     "base_uri": "https://localhost:8080/",
     "height": 84
    },
    "colab_type": "code",
    "id": "3hHVatruz86s",
    "outputId": "17e4136a-6913-4f80-eaed-34895909eb5c"
   },
   "outputs": [
    {
     "name": "stderr",
     "output_type": "stream",
     "text": [
      "/usr/local/lib/python3.6/dist-packages/ipykernel_launcher.py:3: FutureWarning:\n",
      "\n",
      "Indexing with multiple keys (implicitly converted to a tuple of keys) will be deprecated, use a list instead.\n",
      "\n"
     ]
    }
   ],
   "source": [
    "df_USA.reset_index(drop=True,inplace=True)\n",
    "df_USA = df_USA[['Date','Confirmed','Deaths','Recovered']]\n",
    "df_US_group = df_USA.groupby('Date',as_index=False)['Confirmed','Deaths','Recovered'].sum()"
   ]
  },
  {
   "cell_type": "code",
   "execution_count": 0,
   "metadata": {
    "colab": {
     "base_uri": "https://localhost:8080/",
     "height": 542
    },
    "colab_type": "code",
    "id": "idZeeACM1U5M",
    "outputId": "488af871-623d-4cba-a448-9d5074414d58"
   },
   "outputs": [
    {
     "data": {
      "text/html": [
       "<html>\n",
       "<head><meta charset=\"utf-8\" /></head>\n",
       "<body>\n",
       "    <div>\n",
       "            <script src=\"https://cdnjs.cloudflare.com/ajax/libs/mathjax/2.7.5/MathJax.js?config=TeX-AMS-MML_SVG\"></script><script type=\"text/javascript\">if (window.MathJax) {MathJax.Hub.Config({SVG: {font: \"STIX-Web\"}});}</script>\n",
       "                <script type=\"text/javascript\">window.PlotlyConfig = {MathJaxConfig: 'local'};</script>\n",
       "        <script src=\"https://cdn.plot.ly/plotly-latest.min.js\"></script>    \n",
       "            <div id=\"79d9a92f-79ac-4275-951c-7d6491e920a2\" class=\"plotly-graph-div\" style=\"height:525px; width:100%;\"></div>\n",
       "            <script type=\"text/javascript\">\n",
       "                \n",
       "                    window.PLOTLYENV=window.PLOTLYENV || {};\n",
       "                    \n",
       "                if (document.getElementById(\"79d9a92f-79ac-4275-951c-7d6491e920a2\")) {\n",
       "                    Plotly.newPlot(\n",
       "                        '79d9a92f-79ac-4275-951c-7d6491e920a2',\n",
       "                        [{\"mode\": \"lines+markers\", \"name\": \"India Cases\", \"type\": \"scatter\", \"x\": [\"2020-01-30T00:00:00\", \"2020-01-31T00:00:00\", \"2020-02-01T00:00:00\", \"2020-02-02T00:00:00\", \"2020-02-03T00:00:00\", \"2020-02-04T00:00:00\", \"2020-02-05T00:00:00\", \"2020-02-06T00:00:00\", \"2020-02-07T00:00:00\", \"2020-02-08T00:00:00\", \"2020-02-09T00:00:00\", \"2020-02-10T00:00:00\", \"2020-02-11T00:00:00\", \"2020-02-12T00:00:00\", \"2020-02-13T00:00:00\", \"2020-02-14T00:00:00\", \"2020-02-15T00:00:00\", \"2020-02-16T00:00:00\", \"2020-02-17T00:00:00\", \"2020-02-18T00:00:00\", \"2020-02-19T00:00:00\", \"2020-02-20T00:00:00\", \"2020-02-21T00:00:00\", \"2020-02-22T00:00:00\", \"2020-02-23T00:00:00\", \"2020-02-24T00:00:00\", \"2020-02-25T00:00:00\", \"2020-02-26T00:00:00\", \"2020-02-27T00:00:00\", \"2020-02-28T00:00:00\", \"2020-02-29T00:00:00\", \"2020-03-01T00:00:00\", \"2020-03-02T00:00:00\", \"2020-03-03T00:00:00\", \"2020-03-04T00:00:00\", \"2020-03-05T00:00:00\", \"2020-03-06T00:00:00\", \"2020-03-07T00:00:00\", \"2020-03-08T00:00:00\", \"2020-03-09T00:00:00\", \"2020-03-10T00:00:00\", \"2020-03-11T00:00:00\", \"2020-03-12T00:00:00\", \"2020-03-13T00:00:00\", \"2020-03-14T00:00:00\", \"2020-03-15T00:00:00\", \"2020-03-16T00:00:00\", \"2020-03-17T00:00:00\", \"2020-03-18T00:00:00\", \"2020-03-19T00:00:00\", \"2020-03-20T00:00:00\", \"2020-03-21T00:00:00\", \"2020-03-22T00:00:00\", \"2020-03-23T00:00:00\", \"2020-03-24T00:00:00\", \"2020-03-25T00:00:00\", \"2020-03-26T00:00:00\", \"2020-03-27T00:00:00\", \"2020-03-28T00:00:00\", \"2020-03-29T00:00:00\", \"2020-03-30T00:00:00\", \"2020-03-31T00:00:00\", \"2020-04-01T00:00:00\", \"2020-04-02T00:00:00\", \"2020-04-03T00:00:00\", \"2020-04-04T00:00:00\", \"2020-04-05T00:00:00\", \"2020-04-06T00:00:00\", \"2020-04-07T00:00:00\", \"2020-04-08T00:00:00\", \"2020-04-09T00:00:00\", \"2020-04-10T00:00:00\", \"2020-04-11T00:00:00\", \"2020-04-12T00:00:00\"], \"y\": [1, 1, 2, 3, 3, 3, 3, 3, 3, 3, 3, 3, 3, 3, 3, 3, 3, 3, 3, 3, 3, 3, 3, 3, 3, 3, 3, 3, 3, 3, 3, 3, 5, 6, 28, 30, 31, 34, 39, 46, 58, 60, 74, 81, 84, 110, 114, 137, 151, 173, 223, 283, 360, 433, 519, 606, 694, 724, 909, 1024, 1251, 1397, 1834, 2069, 2547, 3072, 3577, 4281, 4789, 5274, 5865, 6761, 7529, 8447]}, {\"mode\": \"lines+markers\", \"name\": \"USA Cases\", \"type\": \"scatter\", \"x\": [\"2020-01-22T00:00:00\", \"2020-01-23T00:00:00\", \"2020-01-24T00:00:00\", \"2020-01-25T00:00:00\", \"2020-01-26T00:00:00\", \"2020-01-27T00:00:00\", \"2020-01-28T00:00:00\", \"2020-01-29T00:00:00\", \"2020-01-30T00:00:00\", \"2020-01-31T00:00:00\", \"2020-02-01T00:00:00\", \"2020-02-02T00:00:00\", \"2020-02-03T00:00:00\", \"2020-02-04T00:00:00\", \"2020-02-05T00:00:00\", \"2020-02-06T00:00:00\", \"2020-02-07T00:00:00\", \"2020-02-08T00:00:00\", \"2020-02-09T00:00:00\", \"2020-02-10T00:00:00\", \"2020-02-11T00:00:00\", \"2020-02-12T00:00:00\", \"2020-02-13T00:00:00\", \"2020-02-14T00:00:00\", \"2020-02-15T00:00:00\", \"2020-02-16T00:00:00\", \"2020-02-17T00:00:00\", \"2020-02-18T00:00:00\", \"2020-02-19T00:00:00\", \"2020-02-20T00:00:00\", \"2020-02-21T00:00:00\", \"2020-02-22T00:00:00\", \"2020-02-23T00:00:00\", \"2020-02-24T00:00:00\", \"2020-02-25T00:00:00\", \"2020-02-26T00:00:00\", \"2020-02-27T00:00:00\", \"2020-02-28T00:00:00\", \"2020-02-29T00:00:00\", \"2020-03-01T00:00:00\", \"2020-03-02T00:00:00\", \"2020-03-03T00:00:00\", \"2020-03-04T00:00:00\", \"2020-03-05T00:00:00\", \"2020-03-06T00:00:00\", \"2020-03-07T00:00:00\", \"2020-03-08T00:00:00\", \"2020-03-09T00:00:00\", \"2020-03-10T00:00:00\", \"2020-03-11T00:00:00\", \"2020-03-12T00:00:00\", \"2020-03-13T00:00:00\", \"2020-03-14T00:00:00\", \"2020-03-15T00:00:00\", \"2020-03-16T00:00:00\", \"2020-03-17T00:00:00\", \"2020-03-18T00:00:00\", \"2020-03-19T00:00:00\", \"2020-03-20T00:00:00\", \"2020-03-21T00:00:00\", \"2020-03-22T00:00:00\", \"2020-03-23T00:00:00\", \"2020-03-24T00:00:00\", \"2020-03-25T00:00:00\", \"2020-03-26T00:00:00\", \"2020-03-27T00:00:00\", \"2020-03-28T00:00:00\", \"2020-03-29T00:00:00\", \"2020-03-30T00:00:00\", \"2020-03-31T00:00:00\", \"2020-04-01T00:00:00\", \"2020-04-02T00:00:00\", \"2020-04-03T00:00:00\", \"2020-04-04T00:00:00\", \"2020-04-05T00:00:00\", \"2020-04-06T00:00:00\", \"2020-04-07T00:00:00\", \"2020-04-08T00:00:00\", \"2020-04-09T00:00:00\", \"2020-04-10T00:00:00\", \"2020-04-11T00:00:00\"], \"y\": [1.0, 1.0, 2.0, 2.0, 5.0, 5.0, 5.0, 5.0, 5.0, 6.0, 8.0, 8.0, 11.0, 11.0, 12.0, 12.0, 12.0, 12.0, 12.0, 12.0, 13.0, 13.0, 15.0, 15.0, 15.0, 15.0, 15.0, 15.0, 15.0, 15.0, 35.0, 35.0, 35.0, 53.0, 53.0, 59.0, 60.0, 62.0, 70.0, 76.0, 101.0, 122.0, 153.0, 221.0, 278.0, 417.0, 537.0, 605.0, 959.0, 1281.0, 1663.0, 2179.0, 2726.0, 3499.0, 4632.0, 6421.0, 7786.0, 13680.0, 19101.0, 25514.0, 33848.0, 43667.0, 53740.0, 65778.0, 83836.0, 101657.0, 121465.0, 140909.0, 161831.0, 188172.0, 213372.0, 243599.0, 275586.0, 308853.0, 337072.0, 366667.0, 396223.0, 429052.0, 461437.0, 496535.0, 526396.0]}],\n",
       "                        {\"annotations\": [{\"arrowhead\": 1, \"ax\": -50, \"ay\": -100, \"showarrow\": true, \"text\": \"Lockdown Imposed(23rd March)\", \"x\": \"2020-03-23\", \"xref\": \"x\", \"y\": 433, \"yref\": \"y\"}, {\"arrowhead\": 1, \"ax\": -50, \"ay\": -100, \"showarrow\": true, \"text\": \"1st Case Ind\", \"x\": \"2020-01-30\", \"xref\": \"x\", \"y\": 0, \"yref\": \"y\"}, {\"arrowhead\": 1, \"ax\": -50, \"ay\": -100, \"showarrow\": true, \"text\": \"1st Case  USA\", \"x\": \"2020-01-22\", \"xref\": \"x\", \"y\": 0, \"yref\": \"y\"}], \"barmode\": \"stack\", \"template\": {\"data\": {\"bar\": [{\"error_x\": {\"color\": \"#2a3f5f\"}, \"error_y\": {\"color\": \"#2a3f5f\"}, \"marker\": {\"line\": {\"color\": \"#E5ECF6\", \"width\": 0.5}}, \"type\": \"bar\"}], \"barpolar\": [{\"marker\": {\"line\": {\"color\": \"#E5ECF6\", \"width\": 0.5}}, \"type\": \"barpolar\"}], \"carpet\": [{\"aaxis\": {\"endlinecolor\": \"#2a3f5f\", \"gridcolor\": \"white\", \"linecolor\": \"white\", \"minorgridcolor\": \"white\", \"startlinecolor\": \"#2a3f5f\"}, \"baxis\": {\"endlinecolor\": \"#2a3f5f\", \"gridcolor\": \"white\", \"linecolor\": \"white\", \"minorgridcolor\": \"white\", \"startlinecolor\": \"#2a3f5f\"}, \"type\": \"carpet\"}], \"choropleth\": [{\"colorbar\": {\"outlinewidth\": 0, \"ticks\": \"\"}, \"type\": \"choropleth\"}], \"contour\": [{\"colorbar\": {\"outlinewidth\": 0, \"ticks\": \"\"}, \"colorscale\": [[0.0, \"#0d0887\"], [0.1111111111111111, \"#46039f\"], [0.2222222222222222, \"#7201a8\"], [0.3333333333333333, \"#9c179e\"], [0.4444444444444444, \"#bd3786\"], [0.5555555555555556, \"#d8576b\"], [0.6666666666666666, \"#ed7953\"], [0.7777777777777778, \"#fb9f3a\"], [0.8888888888888888, \"#fdca26\"], [1.0, \"#f0f921\"]], \"type\": \"contour\"}], \"contourcarpet\": [{\"colorbar\": {\"outlinewidth\": 0, \"ticks\": \"\"}, \"type\": \"contourcarpet\"}], \"heatmap\": [{\"colorbar\": {\"outlinewidth\": 0, \"ticks\": \"\"}, \"colorscale\": [[0.0, \"#0d0887\"], [0.1111111111111111, \"#46039f\"], [0.2222222222222222, \"#7201a8\"], [0.3333333333333333, \"#9c179e\"], [0.4444444444444444, \"#bd3786\"], [0.5555555555555556, \"#d8576b\"], [0.6666666666666666, \"#ed7953\"], [0.7777777777777778, \"#fb9f3a\"], [0.8888888888888888, \"#fdca26\"], [1.0, \"#f0f921\"]], \"type\": \"heatmap\"}], \"heatmapgl\": [{\"colorbar\": {\"outlinewidth\": 0, \"ticks\": \"\"}, \"colorscale\": [[0.0, \"#0d0887\"], [0.1111111111111111, \"#46039f\"], [0.2222222222222222, \"#7201a8\"], [0.3333333333333333, \"#9c179e\"], [0.4444444444444444, \"#bd3786\"], [0.5555555555555556, \"#d8576b\"], [0.6666666666666666, \"#ed7953\"], [0.7777777777777778, \"#fb9f3a\"], [0.8888888888888888, \"#fdca26\"], [1.0, \"#f0f921\"]], \"type\": \"heatmapgl\"}], \"histogram\": [{\"marker\": {\"colorbar\": {\"outlinewidth\": 0, \"ticks\": \"\"}}, \"type\": \"histogram\"}], \"histogram2d\": [{\"colorbar\": {\"outlinewidth\": 0, \"ticks\": \"\"}, \"colorscale\": [[0.0, \"#0d0887\"], [0.1111111111111111, \"#46039f\"], [0.2222222222222222, \"#7201a8\"], [0.3333333333333333, \"#9c179e\"], [0.4444444444444444, \"#bd3786\"], [0.5555555555555556, \"#d8576b\"], [0.6666666666666666, \"#ed7953\"], [0.7777777777777778, \"#fb9f3a\"], [0.8888888888888888, \"#fdca26\"], [1.0, \"#f0f921\"]], \"type\": \"histogram2d\"}], \"histogram2dcontour\": [{\"colorbar\": {\"outlinewidth\": 0, \"ticks\": \"\"}, \"colorscale\": [[0.0, \"#0d0887\"], [0.1111111111111111, \"#46039f\"], [0.2222222222222222, \"#7201a8\"], [0.3333333333333333, \"#9c179e\"], [0.4444444444444444, \"#bd3786\"], [0.5555555555555556, \"#d8576b\"], [0.6666666666666666, \"#ed7953\"], [0.7777777777777778, \"#fb9f3a\"], [0.8888888888888888, \"#fdca26\"], [1.0, \"#f0f921\"]], \"type\": \"histogram2dcontour\"}], \"mesh3d\": [{\"colorbar\": {\"outlinewidth\": 0, \"ticks\": \"\"}, \"type\": \"mesh3d\"}], \"parcoords\": [{\"line\": {\"colorbar\": {\"outlinewidth\": 0, \"ticks\": \"\"}}, \"type\": \"parcoords\"}], \"pie\": [{\"automargin\": true, \"type\": \"pie\"}], \"scatter\": [{\"marker\": {\"colorbar\": {\"outlinewidth\": 0, \"ticks\": \"\"}}, \"type\": \"scatter\"}], \"scatter3d\": [{\"line\": {\"colorbar\": {\"outlinewidth\": 0, \"ticks\": \"\"}}, \"marker\": {\"colorbar\": {\"outlinewidth\": 0, \"ticks\": \"\"}}, \"type\": \"scatter3d\"}], \"scattercarpet\": [{\"marker\": {\"colorbar\": {\"outlinewidth\": 0, \"ticks\": \"\"}}, \"type\": \"scattercarpet\"}], \"scattergeo\": [{\"marker\": {\"colorbar\": {\"outlinewidth\": 0, \"ticks\": \"\"}}, \"type\": \"scattergeo\"}], \"scattergl\": [{\"marker\": {\"colorbar\": {\"outlinewidth\": 0, \"ticks\": \"\"}}, \"type\": \"scattergl\"}], \"scattermapbox\": [{\"marker\": {\"colorbar\": {\"outlinewidth\": 0, \"ticks\": \"\"}}, \"type\": \"scattermapbox\"}], \"scatterpolar\": [{\"marker\": {\"colorbar\": {\"outlinewidth\": 0, \"ticks\": \"\"}}, \"type\": \"scatterpolar\"}], \"scatterpolargl\": [{\"marker\": {\"colorbar\": {\"outlinewidth\": 0, \"ticks\": \"\"}}, \"type\": \"scatterpolargl\"}], \"scatterternary\": [{\"marker\": {\"colorbar\": {\"outlinewidth\": 0, \"ticks\": \"\"}}, \"type\": \"scatterternary\"}], \"surface\": [{\"colorbar\": {\"outlinewidth\": 0, \"ticks\": \"\"}, \"colorscale\": [[0.0, \"#0d0887\"], [0.1111111111111111, \"#46039f\"], [0.2222222222222222, \"#7201a8\"], [0.3333333333333333, \"#9c179e\"], [0.4444444444444444, \"#bd3786\"], [0.5555555555555556, \"#d8576b\"], [0.6666666666666666, \"#ed7953\"], [0.7777777777777778, \"#fb9f3a\"], [0.8888888888888888, \"#fdca26\"], [1.0, \"#f0f921\"]], \"type\": \"surface\"}], \"table\": [{\"cells\": {\"fill\": {\"color\": \"#EBF0F8\"}, \"line\": {\"color\": \"white\"}}, \"header\": {\"fill\": {\"color\": \"#C8D4E3\"}, \"line\": {\"color\": \"white\"}}, \"type\": \"table\"}]}, \"layout\": {\"annotationdefaults\": {\"arrowcolor\": \"#2a3f5f\", \"arrowhead\": 0, \"arrowwidth\": 1}, \"coloraxis\": {\"colorbar\": {\"outlinewidth\": 0, \"ticks\": \"\"}}, \"colorscale\": {\"diverging\": [[0, \"#8e0152\"], [0.1, \"#c51b7d\"], [0.2, \"#de77ae\"], [0.3, \"#f1b6da\"], [0.4, \"#fde0ef\"], [0.5, \"#f7f7f7\"], [0.6, \"#e6f5d0\"], [0.7, \"#b8e186\"], [0.8, \"#7fbc41\"], [0.9, \"#4d9221\"], [1, \"#276419\"]], \"sequential\": [[0.0, \"#0d0887\"], [0.1111111111111111, \"#46039f\"], [0.2222222222222222, \"#7201a8\"], [0.3333333333333333, \"#9c179e\"], [0.4444444444444444, \"#bd3786\"], [0.5555555555555556, \"#d8576b\"], [0.6666666666666666, \"#ed7953\"], [0.7777777777777778, \"#fb9f3a\"], [0.8888888888888888, \"#fdca26\"], [1.0, \"#f0f921\"]], \"sequentialminus\": [[0.0, \"#0d0887\"], [0.1111111111111111, \"#46039f\"], [0.2222222222222222, \"#7201a8\"], [0.3333333333333333, \"#9c179e\"], [0.4444444444444444, \"#bd3786\"], [0.5555555555555556, \"#d8576b\"], [0.6666666666666666, \"#ed7953\"], [0.7777777777777778, \"#fb9f3a\"], [0.8888888888888888, \"#fdca26\"], [1.0, \"#f0f921\"]]}, \"colorway\": [\"#636efa\", \"#EF553B\", \"#00cc96\", \"#ab63fa\", \"#FFA15A\", \"#19d3f3\", \"#FF6692\", \"#B6E880\", \"#FF97FF\", \"#FECB52\"], \"font\": {\"color\": \"#2a3f5f\"}, \"geo\": {\"bgcolor\": \"white\", \"lakecolor\": \"white\", \"landcolor\": \"#E5ECF6\", \"showlakes\": true, \"showland\": true, \"subunitcolor\": \"white\"}, \"hoverlabel\": {\"align\": \"left\"}, \"hovermode\": \"closest\", \"mapbox\": {\"style\": \"light\"}, \"paper_bgcolor\": \"white\", \"plot_bgcolor\": \"#E5ECF6\", \"polar\": {\"angularaxis\": {\"gridcolor\": \"white\", \"linecolor\": \"white\", \"ticks\": \"\"}, \"bgcolor\": \"#E5ECF6\", \"radialaxis\": {\"gridcolor\": \"white\", \"linecolor\": \"white\", \"ticks\": \"\"}}, \"scene\": {\"xaxis\": {\"backgroundcolor\": \"#E5ECF6\", \"gridcolor\": \"white\", \"gridwidth\": 2, \"linecolor\": \"white\", \"showbackground\": true, \"ticks\": \"\", \"zerolinecolor\": \"white\"}, \"yaxis\": {\"backgroundcolor\": \"#E5ECF6\", \"gridcolor\": \"white\", \"gridwidth\": 2, \"linecolor\": \"white\", \"showbackground\": true, \"ticks\": \"\", \"zerolinecolor\": \"white\"}, \"zaxis\": {\"backgroundcolor\": \"#E5ECF6\", \"gridcolor\": \"white\", \"gridwidth\": 2, \"linecolor\": \"white\", \"showbackground\": true, \"ticks\": \"\", \"zerolinecolor\": \"white\"}}, \"shapedefaults\": {\"line\": {\"color\": \"#2a3f5f\"}}, \"ternary\": {\"aaxis\": {\"gridcolor\": \"white\", \"linecolor\": \"white\", \"ticks\": \"\"}, \"baxis\": {\"gridcolor\": \"white\", \"linecolor\": \"white\", \"ticks\": \"\"}, \"bgcolor\": \"#E5ECF6\", \"caxis\": {\"gridcolor\": \"white\", \"linecolor\": \"white\", \"ticks\": \"\"}}, \"title\": {\"x\": 0.05}, \"xaxis\": {\"automargin\": true, \"gridcolor\": \"white\", \"linecolor\": \"white\", \"ticks\": \"\", \"title\": {\"standoff\": 15}, \"zerolinecolor\": \"white\", \"zerolinewidth\": 2}, \"yaxis\": {\"automargin\": true, \"gridcolor\": \"white\", \"linecolor\": \"white\", \"ticks\": \"\", \"title\": {\"standoff\": 15}, \"zerolinecolor\": \"white\", \"zerolinewidth\": 2}}}, \"title\": {\"text\": \"India VS USA Confirmed Cases\"}},\n",
       "                        {\"responsive\": true}\n",
       "                    ).then(function(){\n",
       "                            \n",
       "var gd = document.getElementById('79d9a92f-79ac-4275-951c-7d6491e920a2');\n",
       "var x = new MutationObserver(function (mutations, observer) {{\n",
       "        var display = window.getComputedStyle(gd).display;\n",
       "        if (!display || display === 'none') {{\n",
       "            console.log([gd, 'removed!']);\n",
       "            Plotly.purge(gd);\n",
       "            observer.disconnect();\n",
       "        }}\n",
       "}});\n",
       "\n",
       "// Listen for the removal of the full notebook cells\n",
       "var notebookContainer = gd.closest('#notebook-container');\n",
       "if (notebookContainer) {{\n",
       "    x.observe(notebookContainer, {childList: true});\n",
       "}}\n",
       "\n",
       "// Listen for the clearing of the current output cell\n",
       "var outputEl = gd.closest('.output');\n",
       "if (outputEl) {{\n",
       "    x.observe(outputEl, {childList: true});\n",
       "}}\n",
       "\n",
       "                        })\n",
       "                };\n",
       "                \n",
       "            </script>\n",
       "        </div>\n",
       "</body>\n",
       "</html>"
      ]
     },
     "metadata": {
      "tags": []
     },
     "output_type": "display_data"
    }
   ],
   "source": [
    "fig = go.Figure(data=[\n",
    "    go.Scatter(name='India Cases', x=df_covid['Date'], y=df_covid['Confirmed'],mode='lines+markers'),\n",
    "     go.Scatter(name='USA Cases', x=df_US_group['Date'], y=df_US_group['Confirmed'],mode='lines+markers')\n",
    "])\n",
    "fig.update_layout(barmode='stack', title='India VS USA Confirmed Cases',\n",
    "                  annotations=[dict(x='2020-03-23', y=433, xref=\"x\", yref=\"y\",\n",
    "                                    text=\"Lockdown Imposed(23rd March)\", showarrow=True, arrowhead=1, ax=-50, ay=-100),\n",
    "                               dict(x='2020-01-30', y=0, xref=\"x\", yref=\"y\",\n",
    "                                    text=\"1st Case Ind\", showarrow=True, arrowhead=1, ax=-50, ay=-100),\n",
    "                               dict(x='2020-01-22', y=0, xref=\"x\", yref=\"y\",\n",
    "                                    text=\"1st Case  USA\", showarrow=True, arrowhead=1, ax=-50, ay=-100),\n",
    "                               ])\n",
    "# fig.update_xaxes(rangeslider_visible=True)\n",
    "\n",
    "fig.show()\n"
   ]
  },
  {
   "cell_type": "markdown",
   "metadata": {
    "colab_type": "text",
    "id": "htf9zJjG1rJX"
   },
   "source": [
    "###### The first case for USA and India was diagonsed on Jan 22nd and Jan30th respectively. So, India were 8 days behind USA which is a notable difference given the nature of the virus. When India imposed lockdwon(March 23rd), USA had almost 43K cases veruse 433 in India.This huge difference is because of lockdown and lack of testing in India.\n"
   ]
  },
  {
   "cell_type": "markdown",
   "metadata": {
    "colab_type": "text",
    "id": "8emXvLTV3oXQ"
   },
   "source": [
    "###### Lets Calculate the growth rate after lockdown for India and USA\n"
   ]
  },
  {
   "cell_type": "code",
   "execution_count": 0,
   "metadata": {
    "colab": {
     "base_uri": "https://localhost:8080/",
     "height": 34
    },
    "colab_type": "code",
    "id": "aeSHV2Zm3sye",
    "outputId": "5bd78583-9827-4d14-be7a-59aec66f819e"
   },
   "outputs": [
    {
     "data": {
      "text/plain": [
       "1.168286310920373"
      ]
     },
     "execution_count": 297,
     "metadata": {
      "tags": []
     },
     "output_type": "execute_result"
    }
   ],
   "source": [
    "df_covid_slct_data = df_covid[(df_covid['Date']>='2020-01-23')& (df_covid['Date']<='2020-03-23')]\n",
    "calGrowthRate(df_covid)"
   ]
  },
  {
   "cell_type": "code",
   "execution_count": 0,
   "metadata": {
    "colab": {
     "base_uri": "https://localhost:8080/",
     "height": 907
    },
    "colab_type": "code",
    "id": "Gj9_imfi3swe",
    "outputId": "c14f806d-423b-4e82-b2e8-833a2544db28"
   },
   "outputs": [
    {
     "data": {
      "text/plain": [
       "[1.2,\n",
       " 1.3333333333333333,\n",
       " 1.0,\n",
       " 1.375,\n",
       " 1.0,\n",
       " 1.0909090909090908,\n",
       " 1.0,\n",
       " 1.0,\n",
       " 1.0,\n",
       " 1.0,\n",
       " 1.0,\n",
       " 1.0833333333333333,\n",
       " 1.0,\n",
       " 1.1538461538461537,\n",
       " 1.0,\n",
       " 1.0,\n",
       " 1.0,\n",
       " 1.0,\n",
       " 1.0,\n",
       " 1.0,\n",
       " 1.0,\n",
       " 2.3333333333333335,\n",
       " 1.0,\n",
       " 1.0,\n",
       " 1.5142857142857142,\n",
       " 1.0,\n",
       " 1.1132075471698113,\n",
       " 1.0169491525423728,\n",
       " 1.0333333333333334,\n",
       " 1.1290322580645162,\n",
       " 1.0857142857142856,\n",
       " 1.3289473684210527,\n",
       " 1.2079207920792079,\n",
       " 1.2540983606557377,\n",
       " 1.4444444444444444,\n",
       " 1.257918552036199,\n",
       " 1.5,\n",
       " 1.2877697841726619,\n",
       " 1.1266294227188083,\n",
       " 1.5851239669421489,\n",
       " 1.3357664233576643,\n",
       " 1.2982045277127245,\n",
       " 1.3102826217678893,\n",
       " 1.2510325837540155,\n",
       " 1.2835656639765223,\n",
       " 1.3238068019434124,\n",
       " 1.3862262521588946,\n",
       " 1.2125837097025385,\n",
       " 1.7569997431286926,\n",
       " 1.3962719298245614,\n",
       " 1.3357415842102507,\n",
       " 1.326644195343733,\n",
       " 1.2900909950366344]"
      ]
     },
     "execution_count": 310,
     "metadata": {
      "tags": []
     },
     "output_type": "execute_result"
    }
   ],
   "source": [
    "df_US_group_data = df_US_group[(df_US_group['Date']>='2020-01-30')& (df_US_group['Date']<='2020-03-23')]\n",
    "calGrowthRate(df_US_group_data)"
   ]
  },
  {
   "cell_type": "code",
   "execution_count": 0,
   "metadata": {
    "colab": {
     "base_uri": "https://localhost:8080/",
     "height": 195
    },
    "colab_type": "code",
    "id": "YRo7UmYFFkLz",
    "outputId": "6699ac4c-54ea-4bdf-e04a-2f863c6f8228"
   },
   "outputs": [
    {
     "data": {
      "text/html": [
       "<div>\n",
       "<style scoped>\n",
       "    .dataframe tbody tr th:only-of-type {\n",
       "        vertical-align: middle;\n",
       "    }\n",
       "\n",
       "    .dataframe tbody tr th {\n",
       "        vertical-align: top;\n",
       "    }\n",
       "\n",
       "    .dataframe thead th {\n",
       "        text-align: right;\n",
       "    }\n",
       "</style>\n",
       "<table border=\"1\" class=\"dataframe\">\n",
       "  <thead>\n",
       "    <tr style=\"text-align: right;\">\n",
       "      <th></th>\n",
       "      <th>Date</th>\n",
       "      <th>Confirmed</th>\n",
       "      <th>Deaths</th>\n",
       "      <th>Cured</th>\n",
       "    </tr>\n",
       "  </thead>\n",
       "  <tbody>\n",
       "    <tr>\n",
       "      <th>57</th>\n",
       "      <td>2020-03-19</td>\n",
       "      <td>13680.0</td>\n",
       "      <td>200.0</td>\n",
       "      <td>108.0</td>\n",
       "    </tr>\n",
       "    <tr>\n",
       "      <th>58</th>\n",
       "      <td>2020-03-20</td>\n",
       "      <td>19101.0</td>\n",
       "      <td>244.0</td>\n",
       "      <td>147.0</td>\n",
       "    </tr>\n",
       "    <tr>\n",
       "      <th>59</th>\n",
       "      <td>2020-03-21</td>\n",
       "      <td>25514.0</td>\n",
       "      <td>307.0</td>\n",
       "      <td>171.0</td>\n",
       "    </tr>\n",
       "    <tr>\n",
       "      <th>60</th>\n",
       "      <td>2020-03-22</td>\n",
       "      <td>33848.0</td>\n",
       "      <td>427.0</td>\n",
       "      <td>0.0</td>\n",
       "    </tr>\n",
       "    <tr>\n",
       "      <th>61</th>\n",
       "      <td>2020-03-23</td>\n",
       "      <td>43667.0</td>\n",
       "      <td>552.0</td>\n",
       "      <td>0.0</td>\n",
       "    </tr>\n",
       "  </tbody>\n",
       "</table>\n",
       "</div>"
      ],
      "text/plain": [
       "         Date  Confirmed  Deaths  Cured\n",
       "57 2020-03-19    13680.0   200.0  108.0\n",
       "58 2020-03-20    19101.0   244.0  147.0\n",
       "59 2020-03-21    25514.0   307.0  171.0\n",
       "60 2020-03-22    33848.0   427.0    0.0\n",
       "61 2020-03-23    43667.0   552.0    0.0"
      ]
     },
     "execution_count": 236,
     "metadata": {
      "tags": []
     },
     "output_type": "execute_result"
    }
   ],
   "source": [
    "df_US_group_data.tail()S"
   ]
  },
  {
   "cell_type": "code",
   "execution_count": 0,
   "metadata": {
    "colab": {
     "base_uri": "https://localhost:8080/",
     "height": 151
    },
    "colab_type": "code",
    "id": "odEd9JC59Xia",
    "outputId": "739c0c7d-a1b6-4178-fb38-57d443837c8f"
   },
   "outputs": [
    {
     "name": "stderr",
     "output_type": "stream",
     "text": [
      "/usr/local/lib/python3.6/dist-packages/ipykernel_launcher.py:3: SettingWithCopyWarning:\n",
      "\n",
      "\n",
      "A value is trying to be set on a copy of a slice from a DataFrame.\n",
      "Try using .loc[row_indexer,col_indexer] = value instead\n",
      "\n",
      "See the caveats in the documentation: https://pandas.pydata.org/pandas-docs/stable/user_guide/indexing.html#returning-a-view-versus-a-copy\n",
      "\n"
     ]
    }
   ],
   "source": [
    "df_covid_growth = df_covid.copy()\n",
    "df_cov_gr_date = df_covid_growth[df_covid_growth['Date'].between('2020-03-24','2020-04-12')]\n",
    "df_cov_gr_date['Confirmed'] = 20*df_cov_gr_date['Confirmed']"
   ]
  },
  {
   "cell_type": "code",
   "execution_count": 0,
   "metadata": {
    "colab": {},
    "colab_type": "code",
    "id": "ive4YuW0ADYh"
   },
   "outputs": [],
   "source": [
    "df_covid_growth = df_covid_growth[df_covid_growth['Date'].between('2020-01-30','2020-03-23')]"
   ]
  },
  {
   "cell_type": "code",
   "execution_count": 0,
   "metadata": {
    "colab": {},
    "colab_type": "code",
    "id": "zOyCaH7q682X"
   },
   "outputs": [],
   "source": [
    "df_covid_us = pd.concat([df_covid_growth,df_cov_gr_date])"
   ]
  },
  {
   "cell_type": "code",
   "execution_count": 0,
   "metadata": {
    "colab": {
     "base_uri": "https://localhost:8080/",
     "height": 195
    },
    "colab_type": "code",
    "id": "siDvUr15BeWz",
    "outputId": "4851b660-d925-4f1c-9503-4f44a3a6e7e5"
   },
   "outputs": [
    {
     "data": {
      "text/html": [
       "<div>\n",
       "<style scoped>\n",
       "    .dataframe tbody tr th:only-of-type {\n",
       "        vertical-align: middle;\n",
       "    }\n",
       "\n",
       "    .dataframe tbody tr th {\n",
       "        vertical-align: top;\n",
       "    }\n",
       "\n",
       "    .dataframe thead th {\n",
       "        text-align: right;\n",
       "    }\n",
       "</style>\n",
       "<table border=\"1\" class=\"dataframe\">\n",
       "  <thead>\n",
       "    <tr style=\"text-align: right;\">\n",
       "      <th></th>\n",
       "      <th>Date</th>\n",
       "      <th>Confirmed</th>\n",
       "      <th>Deaths</th>\n",
       "      <th>Cured</th>\n",
       "    </tr>\n",
       "  </thead>\n",
       "  <tbody>\n",
       "    <tr>\n",
       "      <th>69</th>\n",
       "      <td>2020-04-08</td>\n",
       "      <td>105480</td>\n",
       "      <td>149</td>\n",
       "      <td>411</td>\n",
       "    </tr>\n",
       "    <tr>\n",
       "      <th>70</th>\n",
       "      <td>2020-04-09</td>\n",
       "      <td>117300</td>\n",
       "      <td>169</td>\n",
       "      <td>478</td>\n",
       "    </tr>\n",
       "    <tr>\n",
       "      <th>71</th>\n",
       "      <td>2020-04-10</td>\n",
       "      <td>135220</td>\n",
       "      <td>206</td>\n",
       "      <td>516</td>\n",
       "    </tr>\n",
       "    <tr>\n",
       "      <th>72</th>\n",
       "      <td>2020-04-11</td>\n",
       "      <td>150580</td>\n",
       "      <td>242</td>\n",
       "      <td>653</td>\n",
       "    </tr>\n",
       "    <tr>\n",
       "      <th>73</th>\n",
       "      <td>2020-04-12</td>\n",
       "      <td>168940</td>\n",
       "      <td>273</td>\n",
       "      <td>765</td>\n",
       "    </tr>\n",
       "  </tbody>\n",
       "</table>\n",
       "</div>"
      ],
      "text/plain": [
       "         Date  Confirmed  Deaths  Cured\n",
       "69 2020-04-08     105480     149    411\n",
       "70 2020-04-09     117300     169    478\n",
       "71 2020-04-10     135220     206    516\n",
       "72 2020-04-11     150580     242    653\n",
       "73 2020-04-12     168940     273    765"
      ]
     },
     "execution_count": 274,
     "metadata": {
      "tags": []
     },
     "output_type": "execute_result"
    }
   ],
   "source": [
    "df_covid_us.tail()"
   ]
  },
  {
   "cell_type": "code",
   "execution_count": 0,
   "metadata": {
    "colab": {
     "base_uri": "https://localhost:8080/",
     "height": 542
    },
    "colab_type": "code",
    "id": "0bD76gwPBtdh",
    "outputId": "104cbd1d-434c-47c0-bfcd-12350f5ca669"
   },
   "outputs": [
    {
     "data": {
      "text/html": [
       "<html>\n",
       "<head><meta charset=\"utf-8\" /></head>\n",
       "<body>\n",
       "    <div>\n",
       "            <script src=\"https://cdnjs.cloudflare.com/ajax/libs/mathjax/2.7.5/MathJax.js?config=TeX-AMS-MML_SVG\"></script><script type=\"text/javascript\">if (window.MathJax) {MathJax.Hub.Config({SVG: {font: \"STIX-Web\"}});}</script>\n",
       "                <script type=\"text/javascript\">window.PlotlyConfig = {MathJaxConfig: 'local'};</script>\n",
       "        <script src=\"https://cdn.plot.ly/plotly-latest.min.js\"></script>    \n",
       "            <div id=\"96cdfe20-d868-4138-ab16-1378d081acd7\" class=\"plotly-graph-div\" style=\"height:525px; width:100%;\"></div>\n",
       "            <script type=\"text/javascript\">\n",
       "                \n",
       "                    window.PLOTLYENV=window.PLOTLYENV || {};\n",
       "                    \n",
       "                if (document.getElementById(\"96cdfe20-d868-4138-ab16-1378d081acd7\")) {\n",
       "                    Plotly.newPlot(\n",
       "                        '96cdfe20-d868-4138-ab16-1378d081acd7',\n",
       "                        [{\"mode\": \"lines+markers\", \"name\": \"India Cases\", \"type\": \"scatter\", \"x\": [\"2020-01-30T00:00:00\", \"2020-01-31T00:00:00\", \"2020-02-01T00:00:00\", \"2020-02-02T00:00:00\", \"2020-02-03T00:00:00\", \"2020-02-04T00:00:00\", \"2020-02-05T00:00:00\", \"2020-02-06T00:00:00\", \"2020-02-07T00:00:00\", \"2020-02-08T00:00:00\", \"2020-02-09T00:00:00\", \"2020-02-10T00:00:00\", \"2020-02-11T00:00:00\", \"2020-02-12T00:00:00\", \"2020-02-13T00:00:00\", \"2020-02-14T00:00:00\", \"2020-02-15T00:00:00\", \"2020-02-16T00:00:00\", \"2020-02-17T00:00:00\", \"2020-02-18T00:00:00\", \"2020-02-19T00:00:00\", \"2020-02-20T00:00:00\", \"2020-02-21T00:00:00\", \"2020-02-22T00:00:00\", \"2020-02-23T00:00:00\", \"2020-02-24T00:00:00\", \"2020-02-25T00:00:00\", \"2020-02-26T00:00:00\", \"2020-02-27T00:00:00\", \"2020-02-28T00:00:00\", \"2020-02-29T00:00:00\", \"2020-03-01T00:00:00\", \"2020-03-02T00:00:00\", \"2020-03-03T00:00:00\", \"2020-03-04T00:00:00\", \"2020-03-05T00:00:00\", \"2020-03-06T00:00:00\", \"2020-03-07T00:00:00\", \"2020-03-08T00:00:00\", \"2020-03-09T00:00:00\", \"2020-03-10T00:00:00\", \"2020-03-11T00:00:00\", \"2020-03-12T00:00:00\", \"2020-03-13T00:00:00\", \"2020-03-14T00:00:00\", \"2020-03-15T00:00:00\", \"2020-03-16T00:00:00\", \"2020-03-17T00:00:00\", \"2020-03-18T00:00:00\", \"2020-03-19T00:00:00\", \"2020-03-20T00:00:00\", \"2020-03-21T00:00:00\", \"2020-03-22T00:00:00\", \"2020-03-23T00:00:00\", \"2020-03-24T00:00:00\", \"2020-03-25T00:00:00\", \"2020-03-26T00:00:00\", \"2020-03-27T00:00:00\", \"2020-03-28T00:00:00\", \"2020-03-29T00:00:00\", \"2020-03-30T00:00:00\", \"2020-03-31T00:00:00\", \"2020-04-01T00:00:00\", \"2020-04-02T00:00:00\", \"2020-04-03T00:00:00\", \"2020-04-04T00:00:00\", \"2020-04-05T00:00:00\", \"2020-04-06T00:00:00\", \"2020-04-07T00:00:00\", \"2020-04-08T00:00:00\", \"2020-04-09T00:00:00\", \"2020-04-10T00:00:00\", \"2020-04-11T00:00:00\", \"2020-04-12T00:00:00\"], \"y\": [1, 1, 2, 3, 3, 3, 3, 3, 3, 3, 3, 3, 3, 3, 3, 3, 3, 3, 3, 3, 3, 3, 3, 3, 3, 3, 3, 3, 3, 3, 3, 3, 5, 6, 28, 30, 31, 34, 39, 46, 58, 60, 74, 81, 84, 110, 114, 137, 151, 173, 223, 283, 360, 433, 519, 606, 694, 724, 909, 1024, 1251, 1397, 1834, 2069, 2547, 3072, 3577, 4281, 4789, 5274, 5865, 6761, 7529, 8447]}, {\"mode\": \"lines+markers\", \"name\": \"India Cases Without Lockdown\", \"type\": \"scatter\", \"x\": [\"2020-01-30T00:00:00\", \"2020-01-31T00:00:00\", \"2020-02-01T00:00:00\", \"2020-02-02T00:00:00\", \"2020-02-03T00:00:00\", \"2020-02-04T00:00:00\", \"2020-02-05T00:00:00\", \"2020-02-06T00:00:00\", \"2020-02-07T00:00:00\", \"2020-02-08T00:00:00\", \"2020-02-09T00:00:00\", \"2020-02-10T00:00:00\", \"2020-02-11T00:00:00\", \"2020-02-12T00:00:00\", \"2020-02-13T00:00:00\", \"2020-02-14T00:00:00\", \"2020-02-15T00:00:00\", \"2020-02-16T00:00:00\", \"2020-02-17T00:00:00\", \"2020-02-18T00:00:00\", \"2020-02-19T00:00:00\", \"2020-02-20T00:00:00\", \"2020-02-21T00:00:00\", \"2020-02-22T00:00:00\", \"2020-02-23T00:00:00\", \"2020-02-24T00:00:00\", \"2020-02-25T00:00:00\", \"2020-02-26T00:00:00\", \"2020-02-27T00:00:00\", \"2020-02-28T00:00:00\", \"2020-02-29T00:00:00\", \"2020-03-01T00:00:00\", \"2020-03-02T00:00:00\", \"2020-03-03T00:00:00\", \"2020-03-04T00:00:00\", \"2020-03-05T00:00:00\", \"2020-03-06T00:00:00\", \"2020-03-07T00:00:00\", \"2020-03-08T00:00:00\", \"2020-03-09T00:00:00\", \"2020-03-10T00:00:00\", \"2020-03-11T00:00:00\", \"2020-03-12T00:00:00\", \"2020-03-13T00:00:00\", \"2020-03-14T00:00:00\", \"2020-03-15T00:00:00\", \"2020-03-16T00:00:00\", \"2020-03-17T00:00:00\", \"2020-03-18T00:00:00\", \"2020-03-19T00:00:00\", \"2020-03-20T00:00:00\", \"2020-03-21T00:00:00\", \"2020-03-22T00:00:00\", \"2020-03-23T00:00:00\", \"2020-03-24T00:00:00\", \"2020-03-25T00:00:00\", \"2020-03-26T00:00:00\", \"2020-03-27T00:00:00\", \"2020-03-28T00:00:00\", \"2020-03-29T00:00:00\", \"2020-03-30T00:00:00\", \"2020-03-31T00:00:00\", \"2020-04-01T00:00:00\", \"2020-04-02T00:00:00\", \"2020-04-03T00:00:00\", \"2020-04-04T00:00:00\", \"2020-04-05T00:00:00\", \"2020-04-06T00:00:00\", \"2020-04-07T00:00:00\", \"2020-04-08T00:00:00\", \"2020-04-09T00:00:00\", \"2020-04-10T00:00:00\", \"2020-04-11T00:00:00\", \"2020-04-12T00:00:00\"], \"y\": [1, 1, 2, 3, 3, 3, 3, 3, 3, 3, 3, 3, 3, 3, 3, 3, 3, 3, 3, 3, 3, 3, 3, 3, 3, 3, 3, 3, 3, 3, 3, 3, 5, 6, 28, 30, 31, 34, 39, 46, 58, 60, 74, 81, 84, 110, 114, 137, 151, 173, 223, 283, 360, 433, 10380, 12120, 13880, 14480, 18180, 20480, 25020, 27940, 36680, 41380, 50940, 61440, 71540, 85620, 95780, 105480, 117300, 135220, 150580, 168940]}],\n",
       "                        {\"annotations\": [{\"arrowhead\": 1, \"ax\": -50, \"ay\": -100, \"showarrow\": true, \"text\": \"Lockdown Imposed(23rd March)\", \"x\": \"2020-03-23\", \"xref\": \"x\", \"y\": 433, \"yref\": \"y\"}, {\"arrowhead\": 1, \"ax\": -50, \"ay\": -100, \"showarrow\": true, \"text\": \"1st Case Ind\", \"x\": \"2020-01-30\", \"xref\": \"x\", \"y\": 0, \"yref\": \"y\"}, {\"arrowhead\": 1, \"ax\": -50, \"ay\": -100, \"showarrow\": true, \"text\": \"Without Lockdown\", \"x\": \"2020-04-01\", \"xref\": \"x\", \"y\": 36680, \"yref\": \"y\"}], \"barmode\": \"stack\", \"template\": {\"data\": {\"bar\": [{\"error_x\": {\"color\": \"#2a3f5f\"}, \"error_y\": {\"color\": \"#2a3f5f\"}, \"marker\": {\"line\": {\"color\": \"#E5ECF6\", \"width\": 0.5}}, \"type\": \"bar\"}], \"barpolar\": [{\"marker\": {\"line\": {\"color\": \"#E5ECF6\", \"width\": 0.5}}, \"type\": \"barpolar\"}], \"carpet\": [{\"aaxis\": {\"endlinecolor\": \"#2a3f5f\", \"gridcolor\": \"white\", \"linecolor\": \"white\", \"minorgridcolor\": \"white\", \"startlinecolor\": \"#2a3f5f\"}, \"baxis\": {\"endlinecolor\": \"#2a3f5f\", \"gridcolor\": \"white\", \"linecolor\": \"white\", \"minorgridcolor\": \"white\", \"startlinecolor\": \"#2a3f5f\"}, \"type\": \"carpet\"}], \"choropleth\": [{\"colorbar\": {\"outlinewidth\": 0, \"ticks\": \"\"}, \"type\": \"choropleth\"}], \"contour\": [{\"colorbar\": {\"outlinewidth\": 0, \"ticks\": \"\"}, \"colorscale\": [[0.0, \"#0d0887\"], [0.1111111111111111, \"#46039f\"], [0.2222222222222222, \"#7201a8\"], [0.3333333333333333, \"#9c179e\"], [0.4444444444444444, \"#bd3786\"], [0.5555555555555556, \"#d8576b\"], [0.6666666666666666, \"#ed7953\"], [0.7777777777777778, \"#fb9f3a\"], [0.8888888888888888, \"#fdca26\"], [1.0, \"#f0f921\"]], \"type\": \"contour\"}], \"contourcarpet\": [{\"colorbar\": {\"outlinewidth\": 0, \"ticks\": \"\"}, \"type\": \"contourcarpet\"}], \"heatmap\": [{\"colorbar\": {\"outlinewidth\": 0, \"ticks\": \"\"}, \"colorscale\": [[0.0, \"#0d0887\"], [0.1111111111111111, \"#46039f\"], [0.2222222222222222, \"#7201a8\"], [0.3333333333333333, \"#9c179e\"], [0.4444444444444444, \"#bd3786\"], [0.5555555555555556, \"#d8576b\"], [0.6666666666666666, \"#ed7953\"], [0.7777777777777778, \"#fb9f3a\"], [0.8888888888888888, \"#fdca26\"], [1.0, \"#f0f921\"]], \"type\": \"heatmap\"}], \"heatmapgl\": [{\"colorbar\": {\"outlinewidth\": 0, \"ticks\": \"\"}, \"colorscale\": [[0.0, \"#0d0887\"], [0.1111111111111111, \"#46039f\"], [0.2222222222222222, \"#7201a8\"], [0.3333333333333333, \"#9c179e\"], [0.4444444444444444, \"#bd3786\"], [0.5555555555555556, \"#d8576b\"], [0.6666666666666666, \"#ed7953\"], [0.7777777777777778, \"#fb9f3a\"], [0.8888888888888888, \"#fdca26\"], [1.0, \"#f0f921\"]], \"type\": \"heatmapgl\"}], \"histogram\": [{\"marker\": {\"colorbar\": {\"outlinewidth\": 0, \"ticks\": \"\"}}, \"type\": \"histogram\"}], \"histogram2d\": [{\"colorbar\": {\"outlinewidth\": 0, \"ticks\": \"\"}, \"colorscale\": [[0.0, \"#0d0887\"], [0.1111111111111111, \"#46039f\"], [0.2222222222222222, \"#7201a8\"], [0.3333333333333333, \"#9c179e\"], [0.4444444444444444, \"#bd3786\"], [0.5555555555555556, \"#d8576b\"], [0.6666666666666666, \"#ed7953\"], [0.7777777777777778, \"#fb9f3a\"], [0.8888888888888888, \"#fdca26\"], [1.0, \"#f0f921\"]], \"type\": \"histogram2d\"}], \"histogram2dcontour\": [{\"colorbar\": {\"outlinewidth\": 0, \"ticks\": \"\"}, \"colorscale\": [[0.0, \"#0d0887\"], [0.1111111111111111, \"#46039f\"], [0.2222222222222222, \"#7201a8\"], [0.3333333333333333, \"#9c179e\"], [0.4444444444444444, \"#bd3786\"], [0.5555555555555556, \"#d8576b\"], [0.6666666666666666, \"#ed7953\"], [0.7777777777777778, \"#fb9f3a\"], [0.8888888888888888, \"#fdca26\"], [1.0, \"#f0f921\"]], \"type\": \"histogram2dcontour\"}], \"mesh3d\": [{\"colorbar\": {\"outlinewidth\": 0, \"ticks\": \"\"}, \"type\": \"mesh3d\"}], \"parcoords\": [{\"line\": {\"colorbar\": {\"outlinewidth\": 0, \"ticks\": \"\"}}, \"type\": \"parcoords\"}], \"pie\": [{\"automargin\": true, \"type\": \"pie\"}], \"scatter\": [{\"marker\": {\"colorbar\": {\"outlinewidth\": 0, \"ticks\": \"\"}}, \"type\": \"scatter\"}], \"scatter3d\": [{\"line\": {\"colorbar\": {\"outlinewidth\": 0, \"ticks\": \"\"}}, \"marker\": {\"colorbar\": {\"outlinewidth\": 0, \"ticks\": \"\"}}, \"type\": \"scatter3d\"}], \"scattercarpet\": [{\"marker\": {\"colorbar\": {\"outlinewidth\": 0, \"ticks\": \"\"}}, \"type\": \"scattercarpet\"}], \"scattergeo\": [{\"marker\": {\"colorbar\": {\"outlinewidth\": 0, \"ticks\": \"\"}}, \"type\": \"scattergeo\"}], \"scattergl\": [{\"marker\": {\"colorbar\": {\"outlinewidth\": 0, \"ticks\": \"\"}}, \"type\": \"scattergl\"}], \"scattermapbox\": [{\"marker\": {\"colorbar\": {\"outlinewidth\": 0, \"ticks\": \"\"}}, \"type\": \"scattermapbox\"}], \"scatterpolar\": [{\"marker\": {\"colorbar\": {\"outlinewidth\": 0, \"ticks\": \"\"}}, \"type\": \"scatterpolar\"}], \"scatterpolargl\": [{\"marker\": {\"colorbar\": {\"outlinewidth\": 0, \"ticks\": \"\"}}, \"type\": \"scatterpolargl\"}], \"scatterternary\": [{\"marker\": {\"colorbar\": {\"outlinewidth\": 0, \"ticks\": \"\"}}, \"type\": \"scatterternary\"}], \"surface\": [{\"colorbar\": {\"outlinewidth\": 0, \"ticks\": \"\"}, \"colorscale\": [[0.0, \"#0d0887\"], [0.1111111111111111, \"#46039f\"], [0.2222222222222222, \"#7201a8\"], [0.3333333333333333, \"#9c179e\"], [0.4444444444444444, \"#bd3786\"], [0.5555555555555556, \"#d8576b\"], [0.6666666666666666, \"#ed7953\"], [0.7777777777777778, \"#fb9f3a\"], [0.8888888888888888, \"#fdca26\"], [1.0, \"#f0f921\"]], \"type\": \"surface\"}], \"table\": [{\"cells\": {\"fill\": {\"color\": \"#EBF0F8\"}, \"line\": {\"color\": \"white\"}}, \"header\": {\"fill\": {\"color\": \"#C8D4E3\"}, \"line\": {\"color\": \"white\"}}, \"type\": \"table\"}]}, \"layout\": {\"annotationdefaults\": {\"arrowcolor\": \"#2a3f5f\", \"arrowhead\": 0, \"arrowwidth\": 1}, \"coloraxis\": {\"colorbar\": {\"outlinewidth\": 0, \"ticks\": \"\"}}, \"colorscale\": {\"diverging\": [[0, \"#8e0152\"], [0.1, \"#c51b7d\"], [0.2, \"#de77ae\"], [0.3, \"#f1b6da\"], [0.4, \"#fde0ef\"], [0.5, \"#f7f7f7\"], [0.6, \"#e6f5d0\"], [0.7, \"#b8e186\"], [0.8, \"#7fbc41\"], [0.9, \"#4d9221\"], [1, \"#276419\"]], \"sequential\": [[0.0, \"#0d0887\"], [0.1111111111111111, \"#46039f\"], [0.2222222222222222, \"#7201a8\"], [0.3333333333333333, \"#9c179e\"], [0.4444444444444444, \"#bd3786\"], [0.5555555555555556, \"#d8576b\"], [0.6666666666666666, \"#ed7953\"], [0.7777777777777778, \"#fb9f3a\"], [0.8888888888888888, \"#fdca26\"], [1.0, \"#f0f921\"]], \"sequentialminus\": [[0.0, \"#0d0887\"], [0.1111111111111111, \"#46039f\"], [0.2222222222222222, \"#7201a8\"], [0.3333333333333333, \"#9c179e\"], [0.4444444444444444, \"#bd3786\"], [0.5555555555555556, \"#d8576b\"], [0.6666666666666666, \"#ed7953\"], [0.7777777777777778, \"#fb9f3a\"], [0.8888888888888888, \"#fdca26\"], [1.0, \"#f0f921\"]]}, \"colorway\": [\"#636efa\", \"#EF553B\", \"#00cc96\", \"#ab63fa\", \"#FFA15A\", \"#19d3f3\", \"#FF6692\", \"#B6E880\", \"#FF97FF\", \"#FECB52\"], \"font\": {\"color\": \"#2a3f5f\"}, \"geo\": {\"bgcolor\": \"white\", \"lakecolor\": \"white\", \"landcolor\": \"#E5ECF6\", \"showlakes\": true, \"showland\": true, \"subunitcolor\": \"white\"}, \"hoverlabel\": {\"align\": \"left\"}, \"hovermode\": \"closest\", \"mapbox\": {\"style\": \"light\"}, \"paper_bgcolor\": \"white\", \"plot_bgcolor\": \"#E5ECF6\", \"polar\": {\"angularaxis\": {\"gridcolor\": \"white\", \"linecolor\": \"white\", \"ticks\": \"\"}, \"bgcolor\": \"#E5ECF6\", \"radialaxis\": {\"gridcolor\": \"white\", \"linecolor\": \"white\", \"ticks\": \"\"}}, \"scene\": {\"xaxis\": {\"backgroundcolor\": \"#E5ECF6\", \"gridcolor\": \"white\", \"gridwidth\": 2, \"linecolor\": \"white\", \"showbackground\": true, \"ticks\": \"\", \"zerolinecolor\": \"white\"}, \"yaxis\": {\"backgroundcolor\": \"#E5ECF6\", \"gridcolor\": \"white\", \"gridwidth\": 2, \"linecolor\": \"white\", \"showbackground\": true, \"ticks\": \"\", \"zerolinecolor\": \"white\"}, \"zaxis\": {\"backgroundcolor\": \"#E5ECF6\", \"gridcolor\": \"white\", \"gridwidth\": 2, \"linecolor\": \"white\", \"showbackground\": true, \"ticks\": \"\", \"zerolinecolor\": \"white\"}}, \"shapedefaults\": {\"line\": {\"color\": \"#2a3f5f\"}}, \"ternary\": {\"aaxis\": {\"gridcolor\": \"white\", \"linecolor\": \"white\", \"ticks\": \"\"}, \"baxis\": {\"gridcolor\": \"white\", \"linecolor\": \"white\", \"ticks\": \"\"}, \"bgcolor\": \"#E5ECF6\", \"caxis\": {\"gridcolor\": \"white\", \"linecolor\": \"white\", \"ticks\": \"\"}}, \"title\": {\"x\": 0.05}, \"xaxis\": {\"automargin\": true, \"gridcolor\": \"white\", \"linecolor\": \"white\", \"ticks\": \"\", \"title\": {\"standoff\": 15}, \"zerolinecolor\": \"white\", \"zerolinewidth\": 2}, \"yaxis\": {\"automargin\": true, \"gridcolor\": \"white\", \"linecolor\": \"white\", \"ticks\": \"\", \"title\": {\"standoff\": 15}, \"zerolinecolor\": \"white\", \"zerolinewidth\": 2}}}, \"title\": {\"text\": \"India Without Lockdown\"}},\n",
       "                        {\"responsive\": true}\n",
       "                    ).then(function(){\n",
       "                            \n",
       "var gd = document.getElementById('96cdfe20-d868-4138-ab16-1378d081acd7');\n",
       "var x = new MutationObserver(function (mutations, observer) {{\n",
       "        var display = window.getComputedStyle(gd).display;\n",
       "        if (!display || display === 'none') {{\n",
       "            console.log([gd, 'removed!']);\n",
       "            Plotly.purge(gd);\n",
       "            observer.disconnect();\n",
       "        }}\n",
       "}});\n",
       "\n",
       "// Listen for the removal of the full notebook cells\n",
       "var notebookContainer = gd.closest('#notebook-container');\n",
       "if (notebookContainer) {{\n",
       "    x.observe(notebookContainer, {childList: true});\n",
       "}}\n",
       "\n",
       "// Listen for the clearing of the current output cell\n",
       "var outputEl = gd.closest('.output');\n",
       "if (outputEl) {{\n",
       "    x.observe(outputEl, {childList: true});\n",
       "}}\n",
       "\n",
       "                        })\n",
       "                };\n",
       "                \n",
       "            </script>\n",
       "        </div>\n",
       "</body>\n",
       "</html>"
      ]
     },
     "metadata": {
      "tags": []
     },
     "output_type": "display_data"
    }
   ],
   "source": [
    "fig = go.Figure(data=[\n",
    "    go.Scatter(name='India Cases', x=df_covid['Date'], y=df_covid['Confirmed'],mode='lines+markers'),\n",
    "     go.Scatter(name='India Cases Without Lockdown', x=df_covid_us['Date'], y=df_covid_us['Confirmed'],mode='lines+markers')\n",
    "    #  go.Scatter(name='USA Cases', x=df_US_group['Date'], y=df_US_group['Confirmed'],mode='lines+markers')\n",
    "])\n",
    "fig.update_layout(barmode='stack', title='India Without Lockdown',\n",
    "                  annotations=[dict(x='2020-03-23', y=433, xref=\"x\", yref=\"y\",\n",
    "                                    text=\"Lockdown Imposed(23rd March)\", showarrow=True, arrowhead=1, ax=-50, ay=-100),\n",
    "                               dict(x='2020-01-30', y=0, xref=\"x\", yref=\"y\",\n",
    "                                    text=\"1st Case Ind\", showarrow=True, arrowhead=1, ax=-50, ay=-100),\n",
    "                                dict(text='Without Lockdown',x='2020-04-01', y=36680, xref=\"x\", yref=\"y\",\n",
    "                                      showarrow=True, arrowhead=1, ax=-50, ay=-100),\n",
    "                               ])\n",
    "# fig.update_xaxes(rangeslider_visible=True)\n",
    "\n",
    "fig.show()\n"
   ]
  },
  {
   "cell_type": "markdown",
   "metadata": {
    "colab_type": "text",
    "id": "J6cCx45l_fbF"
   },
   "source": [
    "###### Number of Cases and Beds available - State/UT"
   ]
  },
  {
   "cell_type": "markdown",
   "metadata": {
    "colab_type": "text",
    "id": "gDf-zLYy59Fg"
   },
   "source": [
    "###### Grouping by 'State/UnionTerritory' and taking the max value to get the total no of cases up to date for each State/UT,"
   ]
  },
  {
   "cell_type": "code",
   "execution_count": 0,
   "metadata": {
    "colab": {},
    "colab_type": "code",
    "id": "wgT4T4cP0Rog"
   },
   "outputs": [],
   "source": [
    "df_stateUT.rename(columns={'State / Territory':'State/UT'},inplace=True)"
   ]
  },
  {
   "cell_type": "code",
   "execution_count": 0,
   "metadata": {
    "colab": {},
    "colab_type": "code",
    "id": "mPv_nodGR1qW"
   },
   "outputs": [],
   "source": [
    "df_stateUT.drop([36,37],axis=0,inplace=True)"
   ]
  },
  {
   "cell_type": "code",
   "execution_count": 0,
   "metadata": {
    "colab": {},
    "colab_type": "code",
    "id": "KCnHkhLOVvms"
   },
   "outputs": [],
   "source": [
    "def changeStateName(df):\n",
    "  if 'Telengana' in df['State/UT'].values:\n",
    "    print('True')\n",
    "    return df.replace('Telengana','Telangana')\n",
    "  else:\n",
    "    return df"
   ]
  },
  {
   "cell_type": "code",
   "execution_count": 0,
   "metadata": {
    "colab": {
     "base_uri": "https://localhost:8080/",
     "height": 84
    },
    "colab_type": "code",
    "id": "m4GbL5Ia4_E_",
    "outputId": "f45b46f1-e50d-4261-cfd7-f6c64efa3bc0"
   },
   "outputs": [
    {
     "name": "stderr",
     "output_type": "stream",
     "text": [
      "/usr/local/lib/python3.6/dist-packages/ipykernel_launcher.py:2: FutureWarning:\n",
      "\n",
      "Indexing with multiple keys (implicitly converted to a tuple of keys) will be deprecated, use a list instead.\n",
      "\n"
     ]
    }
   ],
   "source": [
    "df_state_wise = df_cov[['State/UnionTerritory','Confirmed','Deaths','Cured']].copy()\n",
    "df_state_wise = df_state_wise.groupby(['State/UnionTerritory'],as_index=False)['Confirmed','Deaths','Cured'].max()\n",
    "df_state_wise.rename(columns={'State/UnionTerritory':'State/UT'},inplace=True)\n"
   ]
  },
  {
   "cell_type": "code",
   "execution_count": 0,
   "metadata": {
    "colab": {
     "base_uri": "https://localhost:8080/",
     "height": 34
    },
    "colab_type": "code",
    "id": "BmPxRBtxVzys",
    "outputId": "1e821088-2684-48f7-e5f6-d40320b8aa4b"
   },
   "outputs": [
    {
     "name": "stdout",
     "output_type": "stream",
     "text": [
      "True\n"
     ]
    }
   ],
   "source": [
    "df_state_wise = changeStateName(df_state_wise)"
   ]
  },
  {
   "cell_type": "code",
   "execution_count": 0,
   "metadata": {
    "colab": {
     "base_uri": "https://localhost:8080/",
     "height": 77
    },
    "colab_type": "code",
    "id": "jeSLHqlloHzy",
    "outputId": "f27edf16-9c14-4b90-e818-7d042e34b085"
   },
   "outputs": [
    {
     "data": {
      "text/html": [
       "<div>\n",
       "<style scoped>\n",
       "    .dataframe tbody tr th:only-of-type {\n",
       "        vertical-align: middle;\n",
       "    }\n",
       "\n",
       "    .dataframe tbody tr th {\n",
       "        vertical-align: top;\n",
       "    }\n",
       "\n",
       "    .dataframe thead th {\n",
       "        text-align: right;\n",
       "    }\n",
       "</style>\n",
       "<table border=\"1\" class=\"dataframe\">\n",
       "  <thead>\n",
       "    <tr style=\"text-align: right;\">\n",
       "      <th></th>\n",
       "      <th>State/UT</th>\n",
       "      <th>Confirmed</th>\n",
       "      <th>Deaths</th>\n",
       "      <th>Cured</th>\n",
       "    </tr>\n",
       "  </thead>\n",
       "  <tbody>\n",
       "    <tr>\n",
       "      <th>28</th>\n",
       "      <td>Unassigned</td>\n",
       "      <td>77</td>\n",
       "      <td>0</td>\n",
       "      <td>0</td>\n",
       "    </tr>\n",
       "  </tbody>\n",
       "</table>\n",
       "</div>"
      ],
      "text/plain": [
       "      State/UT  Confirmed  Deaths  Cured\n",
       "28  Unassigned         77       0      0"
      ]
     },
     "execution_count": 56,
     "metadata": {
      "tags": []
     },
     "output_type": "execute_result"
    }
   ],
   "source": [
    "df_state_wise[df_state_wise['State/UT'] =='Unassigned']"
   ]
  },
  {
   "cell_type": "markdown",
   "metadata": {
    "colab_type": "text",
    "id": "HJ9wJOZSQBV7"
   },
   "source": [
    "Lets remove the Unassigned Observations"
   ]
  },
  {
   "cell_type": "code",
   "execution_count": 0,
   "metadata": {
    "colab": {},
    "colab_type": "code",
    "id": "8iiWLFDWQFDo"
   },
   "outputs": [],
   "source": [
    "df_state_wise.drop(df_state_wise[df_state_wise['State/UT'] =='Unassigned'].index,axis=0,inplace=True)"
   ]
  },
  {
   "cell_type": "code",
   "execution_count": 0,
   "metadata": {
    "colab": {},
    "colab_type": "code",
    "id": "AOfGBC5gn_X7"
   },
   "outputs": [],
   "source": [
    "df_state_wise.reset_index(drop=True,inplace=True)"
   ]
  },
  {
   "cell_type": "code",
   "execution_count": 0,
   "metadata": {
    "colab": {},
    "colab_type": "code",
    "id": "xAheBD4bYYvP"
   },
   "outputs": [],
   "source": [
    "df_hosp_beds = df_hospital[['State/UT','Total_Beds']].copy()\n",
    "# df_hosp_beds"
   ]
  },
  {
   "cell_type": "markdown",
   "metadata": {
    "colab_type": "text",
    "id": "luWq0jZWXW0P"
   },
   "source": [
    "###### Dropping 'Dadra & Nagar Haveli','Daman & Diu' as we dont have values in Covid-19 dataframe for these"
   ]
  },
  {
   "cell_type": "code",
   "execution_count": 0,
   "metadata": {
    "colab": {},
    "colab_type": "code",
    "id": "jq6yscqLYI0-"
   },
   "outputs": [],
   "source": [
    "\n",
    "indexNames = df_hosp_beds[(df_hosp_beds['State/UT']=='Dadra & Nagar Haveli') | ( df_hosp_beds['State/UT']=='Daman & Diu')].index"
   ]
  },
  {
   "cell_type": "code",
   "execution_count": 0,
   "metadata": {
    "colab": {},
    "colab_type": "code",
    "id": "Ha0TUHatXIGN"
   },
   "outputs": [],
   "source": [
    "df_hosp_beds.drop(indexNames,axis=0,inplace=True)"
   ]
  },
  {
   "cell_type": "code",
   "execution_count": 0,
   "metadata": {
    "colab": {},
    "colab_type": "code",
    "id": "MhRQkCK32pJG"
   },
   "outputs": [],
   "source": [
    "states_dict = dict(zip(list(df_stateUT['State/UT'].str[:6]),list(df_stateUT['State/UT'])))\n",
    "df_state_wise['State/UT'] = df_state_wise['State/UT'].str[:6].map(states_dict)\n",
    "df_hosp_beds['State/UT'] =df_hosp_beds['State/UT'].str[:6].map(states_dict)\n",
    "df_state_wise.sort_values('State/UT',inplace=True)\n",
    "df_hosp_beds.sort_values('State/UT',inplace=True)"
   ]
  },
  {
   "cell_type": "code",
   "execution_count": 0,
   "metadata": {
    "colab": {},
    "colab_type": "code",
    "id": "oKfciaVc6FN0"
   },
   "outputs": [],
   "source": [
    "df_state_beds = df_state_wise.merge(df_hosp_beds, on=['State/UT'],how='inner')"
   ]
  },
  {
   "cell_type": "code",
   "execution_count": 0,
   "metadata": {
    "colab": {
     "base_uri": "https://localhost:8080/",
     "height": 638
    },
    "colab_type": "code",
    "id": "fQDXR1W_FKc1",
    "outputId": "1e4652f5-699e-456e-9600-e374bdeb2d0b"
   },
   "outputs": [
    {
     "data": {
      "text/html": [
       "<style  type=\"text/css\" >\n",
       "    #T_383ae9ce_7d16_11ea_ae14_0242ac1c0002row0_col1 {\n",
       "            background-color:  #000004;\n",
       "            color:  #f1f1f1;\n",
       "        }    #T_383ae9ce_7d16_11ea_ae14_0242ac1c0002row0_col2 {\n",
       "            background-color:  #1a1a1a;\n",
       "            color:  #f1f1f1;\n",
       "        }    #T_383ae9ce_7d16_11ea_ae14_0242ac1c0002row0_col3 {\n",
       "            background-color:  #004529;\n",
       "            color:  #f1f1f1;\n",
       "        }    #T_383ae9ce_7d16_11ea_ae14_0242ac1c0002row0_col4 {\n",
       "            background-color:  #f6fcfd;\n",
       "            color:  #000000;\n",
       "        }    #T_383ae9ce_7d16_11ea_ae14_0242ac1c0002row0_col5 {\n",
       "            background-color:  #9dbad9;\n",
       "            color:  #000000;\n",
       "        }    #T_383ae9ce_7d16_11ea_ae14_0242ac1c0002row1_col1 {\n",
       "            background-color:  #892881;\n",
       "            color:  #f1f1f1;\n",
       "        }    #T_383ae9ce_7d16_11ea_ae14_0242ac1c0002row1_col2 {\n",
       "            background-color:  #c43b3c;\n",
       "            color:  #f1f1f1;\n",
       "        }    #T_383ae9ce_7d16_11ea_ae14_0242ac1c0002row1_col3 {\n",
       "            background-color:  #f7fcbc;\n",
       "            color:  #000000;\n",
       "        }    #T_383ae9ce_7d16_11ea_ae14_0242ac1c0002row1_col4 {\n",
       "            background-color:  #218944;\n",
       "            color:  #000000;\n",
       "        }    #T_383ae9ce_7d16_11ea_ae14_0242ac1c0002row1_col5 {\n",
       "            background-color:  #016a57;\n",
       "            color:  #f1f1f1;\n",
       "        }    #T_383ae9ce_7d16_11ea_ae14_0242ac1c0002row2_col1 {\n",
       "            background-color:  #a1307e;\n",
       "            color:  #f1f1f1;\n",
       "        }    #T_383ae9ce_7d16_11ea_ae14_0242ac1c0002row2_col2 {\n",
       "            background-color:  #a21328;\n",
       "            color:  #f1f1f1;\n",
       "        }    #T_383ae9ce_7d16_11ea_ae14_0242ac1c0002row2_col3 {\n",
       "            background-color:  #e2f4aa;\n",
       "            color:  #000000;\n",
       "        }    #T_383ae9ce_7d16_11ea_ae14_0242ac1c0002row2_col4 {\n",
       "            background-color:  #05712f;\n",
       "            color:  #f1f1f1;\n",
       "        }    #T_383ae9ce_7d16_11ea_ae14_0242ac1c0002row2_col5 {\n",
       "            background-color:  #fff7fb;\n",
       "            color:  #000000;\n",
       "        }    #T_383ae9ce_7d16_11ea_ae14_0242ac1c0002row3_col1 {\n",
       "            background-color:  #df4a68;\n",
       "            color:  #000000;\n",
       "        }    #T_383ae9ce_7d16_11ea_ae14_0242ac1c0002row3_col2 {\n",
       "            background-color:  #790622;\n",
       "            color:  #f1f1f1;\n",
       "        }    #T_383ae9ce_7d16_11ea_ae14_0242ac1c0002row3_col3 {\n",
       "            background-color:  #f9fdc2;\n",
       "            color:  #000000;\n",
       "        }    #T_383ae9ce_7d16_11ea_ae14_0242ac1c0002row3_col4 {\n",
       "            background-color:  #005723;\n",
       "            color:  #f1f1f1;\n",
       "        }    #T_383ae9ce_7d16_11ea_ae14_0242ac1c0002row3_col5 {\n",
       "            background-color:  #9dbad9;\n",
       "            color:  #000000;\n",
       "        }    #T_383ae9ce_7d16_11ea_ae14_0242ac1c0002row4_col1 {\n",
       "            background-color:  #f4675c;\n",
       "            color:  #000000;\n",
       "        }    #T_383ae9ce_7d16_11ea_ae14_0242ac1c0002row4_col2 {\n",
       "            background-color:  #ef9979;\n",
       "            color:  #000000;\n",
       "        }    #T_383ae9ce_7d16_11ea_ae14_0242ac1c0002row4_col3 {\n",
       "            background-color:  #ffffe5;\n",
       "            color:  #000000;\n",
       "        }    #T_383ae9ce_7d16_11ea_ae14_0242ac1c0002row4_col4 {\n",
       "            background-color:  #e5f5f9;\n",
       "            color:  #000000;\n",
       "        }    #T_383ae9ce_7d16_11ea_ae14_0242ac1c0002row4_col5 {\n",
       "            background-color:  #338fbd;\n",
       "            color:  #000000;\n",
       "        }    #T_383ae9ce_7d16_11ea_ae14_0242ac1c0002row5_col1 {\n",
       "            background-color:  #f8765c;\n",
       "            color:  #000000;\n",
       "        }    #T_383ae9ce_7d16_11ea_ae14_0242ac1c0002row5_col2 {\n",
       "            background-color:  #9c1127;\n",
       "            color:  #f1f1f1;\n",
       "        }    #T_383ae9ce_7d16_11ea_ae14_0242ac1c0002row5_col3 {\n",
       "            background-color:  #e4f4ab;\n",
       "            color:  #000000;\n",
       "        }    #T_383ae9ce_7d16_11ea_ae14_0242ac1c0002row5_col4 {\n",
       "            background-color:  #218944;\n",
       "            color:  #000000;\n",
       "        }    #T_383ae9ce_7d16_11ea_ae14_0242ac1c0002row5_col5 {\n",
       "            background-color:  #027976;\n",
       "            color:  #f1f1f1;\n",
       "        }    #T_383ae9ce_7d16_11ea_ae14_0242ac1c0002row6_col1 {\n",
       "            background-color:  #fb8560;\n",
       "            color:  #000000;\n",
       "        }    #T_383ae9ce_7d16_11ea_ae14_0242ac1c0002row6_col2 {\n",
       "            background-color:  #840924;\n",
       "            color:  #f1f1f1;\n",
       "        }    #T_383ae9ce_7d16_11ea_ae14_0242ac1c0002row6_col3 {\n",
       "            background-color:  #e1f3a9;\n",
       "            color:  #000000;\n",
       "        }    #T_383ae9ce_7d16_11ea_ae14_0242ac1c0002row6_col4 {\n",
       "            background-color:  #087432;\n",
       "            color:  #f1f1f1;\n",
       "        }    #T_383ae9ce_7d16_11ea_ae14_0242ac1c0002row6_col5 {\n",
       "            background-color:  #efe5f2;\n",
       "            color:  #000000;\n",
       "        }    #T_383ae9ce_7d16_11ea_ae14_0242ac1c0002row7_col1 {\n",
       "            background-color:  #fc8a62;\n",
       "            color:  #000000;\n",
       "        }    #T_383ae9ce_7d16_11ea_ae14_0242ac1c0002row7_col2 {\n",
       "            background-color:  #cc4c44;\n",
       "            color:  #f1f1f1;\n",
       "        }    #T_383ae9ce_7d16_11ea_ae14_0242ac1c0002row7_col3 {\n",
       "            background-color:  #e2f4aa;\n",
       "            color:  #000000;\n",
       "        }    #T_383ae9ce_7d16_11ea_ae14_0242ac1c0002row7_col4 {\n",
       "            background-color:  #b7e4da;\n",
       "            color:  #000000;\n",
       "        }    #T_383ae9ce_7d16_11ea_ae14_0242ac1c0002row7_col5 {\n",
       "            background-color:  #4497c4;\n",
       "            color:  #000000;\n",
       "        }    #T_383ae9ce_7d16_11ea_ae14_0242ac1c0002row8_col1 {\n",
       "            background-color:  #fd9869;\n",
       "            color:  #000000;\n",
       "        }    #T_383ae9ce_7d16_11ea_ae14_0242ac1c0002row8_col2 {\n",
       "            background-color:  #8a0b25;\n",
       "            color:  #f1f1f1;\n",
       "        }    #T_383ae9ce_7d16_11ea_ae14_0242ac1c0002row8_col3 {\n",
       "            background-color:  #fcfed3;\n",
       "            color:  #000000;\n",
       "        }    #T_383ae9ce_7d16_11ea_ae14_0242ac1c0002row8_col4 {\n",
       "            background-color:  #19833e;\n",
       "            color:  #f1f1f1;\n",
       "        }    #T_383ae9ce_7d16_11ea_ae14_0242ac1c0002row8_col5 {\n",
       "            background-color:  #5da4cc;\n",
       "            color:  #000000;\n",
       "        }    #T_383ae9ce_7d16_11ea_ae14_0242ac1c0002row9_col1 {\n",
       "            background-color:  #fd9a6a;\n",
       "            color:  #000000;\n",
       "        }    #T_383ae9ce_7d16_11ea_ae14_0242ac1c0002row9_col2 {\n",
       "            background-color:  #730421;\n",
       "            color:  #f1f1f1;\n",
       "        }    #T_383ae9ce_7d16_11ea_ae14_0242ac1c0002row9_col3 {\n",
       "            background-color:  #339951;\n",
       "            color:  #000000;\n",
       "        }    #T_383ae9ce_7d16_11ea_ae14_0242ac1c0002row9_col4 {\n",
       "            background-color:  #005b25;\n",
       "            color:  #f1f1f1;\n",
       "        }    #T_383ae9ce_7d16_11ea_ae14_0242ac1c0002row9_col5 {\n",
       "            background-color:  #5ba3cb;\n",
       "            color:  #000000;\n",
       "        }    #T_383ae9ce_7d16_11ea_ae14_0242ac1c0002row10_col1 {\n",
       "            background-color:  #fec287;\n",
       "            color:  #000000;\n",
       "        }    #T_383ae9ce_7d16_11ea_ae14_0242ac1c0002row10_col2 {\n",
       "            background-color:  #8a0b25;\n",
       "            color:  #f1f1f1;\n",
       "        }    #T_383ae9ce_7d16_11ea_ae14_0242ac1c0002row10_col3 {\n",
       "            background-color:  #ebf7b0;\n",
       "            color:  #000000;\n",
       "        }    #T_383ae9ce_7d16_11ea_ae14_0242ac1c0002row10_col4 {\n",
       "            background-color:  #3fab72;\n",
       "            color:  #000000;\n",
       "        }    #T_383ae9ce_7d16_11ea_ae14_0242ac1c0002row10_col5 {\n",
       "            background-color:  #abbfdc;\n",
       "            color:  #000000;\n",
       "        }    #T_383ae9ce_7d16_11ea_ae14_0242ac1c0002row11_col1 {\n",
       "            background-color:  #fec287;\n",
       "            color:  #000000;\n",
       "        }    #T_383ae9ce_7d16_11ea_ae14_0242ac1c0002row11_col2 {\n",
       "            background-color:  #7f0823;\n",
       "            color:  #f1f1f1;\n",
       "        }    #T_383ae9ce_7d16_11ea_ae14_0242ac1c0002row11_col3 {\n",
       "            background-color:  #fdfedb;\n",
       "            color:  #000000;\n",
       "        }    #T_383ae9ce_7d16_11ea_ae14_0242ac1c0002row11_col4 {\n",
       "            background-color:  #218944;\n",
       "            color:  #000000;\n",
       "        }    #T_383ae9ce_7d16_11ea_ae14_0242ac1c0002row11_col5 {\n",
       "            background-color:  #017164;\n",
       "            color:  #f1f1f1;\n",
       "        }    #T_383ae9ce_7d16_11ea_ae14_0242ac1c0002row12_col1 {\n",
       "            background-color:  #fecd90;\n",
       "            color:  #000000;\n",
       "        }    #T_383ae9ce_7d16_11ea_ae14_0242ac1c0002row12_col2 {\n",
       "            background-color:  #790622;\n",
       "            color:  #f1f1f1;\n",
       "        }    #T_383ae9ce_7d16_11ea_ae14_0242ac1c0002row12_col3 {\n",
       "            background-color:  #f4fbb7;\n",
       "            color:  #000000;\n",
       "        }    #T_383ae9ce_7d16_11ea_ae14_0242ac1c0002row12_col4 {\n",
       "            background-color:  #1a843f;\n",
       "            color:  #000000;\n",
       "        }    #T_383ae9ce_7d16_11ea_ae14_0242ac1c0002row12_col5 {\n",
       "            background-color:  #017369;\n",
       "            color:  #f1f1f1;\n",
       "        }    #T_383ae9ce_7d16_11ea_ae14_0242ac1c0002row13_col1 {\n",
       "            background-color:  #fed799;\n",
       "            color:  #000000;\n",
       "        }    #T_383ae9ce_7d16_11ea_ae14_0242ac1c0002row13_col2 {\n",
       "            background-color:  #a81529;\n",
       "            color:  #f1f1f1;\n",
       "        }    #T_383ae9ce_7d16_11ea_ae14_0242ac1c0002row13_col3 {\n",
       "            background-color:  #fdfedd;\n",
       "            color:  #000000;\n",
       "        }    #T_383ae9ce_7d16_11ea_ae14_0242ac1c0002row13_col4 {\n",
       "            background-color:  #f7fcfd;\n",
       "            color:  #000000;\n",
       "        }    #T_383ae9ce_7d16_11ea_ae14_0242ac1c0002row13_col5 {\n",
       "            background-color:  #017062;\n",
       "            color:  #f1f1f1;\n",
       "        }    #T_383ae9ce_7d16_11ea_ae14_0242ac1c0002row14_col1 {\n",
       "            background-color:  #fdda9c;\n",
       "            color:  #000000;\n",
       "        }    #T_383ae9ce_7d16_11ea_ae14_0242ac1c0002row14_col2 {\n",
       "            background-color:  #840924;\n",
       "            color:  #f1f1f1;\n",
       "        }    #T_383ae9ce_7d16_11ea_ae14_0242ac1c0002row14_col3 {\n",
       "            background-color:  #f9fdc5;\n",
       "            color:  #000000;\n",
       "        }    #T_383ae9ce_7d16_11ea_ae14_0242ac1c0002row14_col4 {\n",
       "            background-color:  #6cc4a8;\n",
       "            color:  #000000;\n",
       "        }    #T_383ae9ce_7d16_11ea_ae14_0242ac1c0002row14_col5 {\n",
       "            background-color:  #91b6d7;\n",
       "            color:  #000000;\n",
       "        }    #T_383ae9ce_7d16_11ea_ae14_0242ac1c0002row15_col1 {\n",
       "            background-color:  #fcecae;\n",
       "            color:  #000000;\n",
       "        }    #T_383ae9ce_7d16_11ea_ae14_0242ac1c0002row15_col2 {\n",
       "            background-color:  #6d0220;\n",
       "            color:  #f1f1f1;\n",
       "        }    #T_383ae9ce_7d16_11ea_ae14_0242ac1c0002row15_col3 {\n",
       "            background-color:  #f9fdc5;\n",
       "            color:  #000000;\n",
       "        }    #T_383ae9ce_7d16_11ea_ae14_0242ac1c0002row15_col4 {\n",
       "            background-color:  #18823d;\n",
       "            color:  #f1f1f1;\n",
       "        }    #T_383ae9ce_7d16_11ea_ae14_0242ac1c0002row15_col5 {\n",
       "            background-color:  #01756f;\n",
       "            color:  #f1f1f1;\n",
       "        }    #T_383ae9ce_7d16_11ea_ae14_0242ac1c0002row16_col1 {\n",
       "            background-color:  #fcf0b2;\n",
       "            color:  #000000;\n",
       "        }    #T_383ae9ce_7d16_11ea_ae14_0242ac1c0002row16_col2 {\n",
       "            background-color:  #6d0220;\n",
       "            color:  #f1f1f1;\n",
       "        }    #T_383ae9ce_7d16_11ea_ae14_0242ac1c0002row16_col3 {\n",
       "            background-color:  #fbfed2;\n",
       "            color:  #000000;\n",
       "        }    #T_383ae9ce_7d16_11ea_ae14_0242ac1c0002row16_col4 {\n",
       "            background-color:  #248c47;\n",
       "            color:  #000000;\n",
       "        }    #T_383ae9ce_7d16_11ea_ae14_0242ac1c0002row16_col5 {\n",
       "            background-color:  #01756d;\n",
       "            color:  #f1f1f1;\n",
       "        }    #T_383ae9ce_7d16_11ea_ae14_0242ac1c0002row17_col1 {\n",
       "            background-color:  #fcf6b8;\n",
       "            color:  #000000;\n",
       "        }    #T_383ae9ce_7d16_11ea_ae14_0242ac1c0002row17_col2 {\n",
       "            background-color:  #67001f;\n",
       "            color:  #f1f1f1;\n",
       "        }    #T_383ae9ce_7d16_11ea_ae14_0242ac1c0002row17_col3 {\n",
       "            background-color:  #fdfedd;\n",
       "            color:  #000000;\n",
       "        }    #T_383ae9ce_7d16_11ea_ae14_0242ac1c0002row17_col4 {\n",
       "            background-color:  #00441b;\n",
       "            color:  #f1f1f1;\n",
       "        }    #T_383ae9ce_7d16_11ea_ae14_0242ac1c0002row17_col5 {\n",
       "            background-color:  #015b4a;\n",
       "            color:  #f1f1f1;\n",
       "        }    #T_383ae9ce_7d16_11ea_ae14_0242ac1c0002row18_col1 {\n",
       "            background-color:  #fcf6b8;\n",
       "            color:  #000000;\n",
       "        }    #T_383ae9ce_7d16_11ea_ae14_0242ac1c0002row18_col2 {\n",
       "            background-color:  #6d0220;\n",
       "            color:  #f1f1f1;\n",
       "        }    #T_383ae9ce_7d16_11ea_ae14_0242ac1c0002row18_col3 {\n",
       "            background-color:  #fdfedb;\n",
       "            color:  #000000;\n",
       "        }    #T_383ae9ce_7d16_11ea_ae14_0242ac1c0002row18_col4 {\n",
       "            background-color:  #51b689;\n",
       "            color:  #000000;\n",
       "        }    #T_383ae9ce_7d16_11ea_ae14_0242ac1c0002row18_col5 {\n",
       "            background-color:  #016956;\n",
       "            color:  #f1f1f1;\n",
       "        }    #T_383ae9ce_7d16_11ea_ae14_0242ac1c0002row19_col1 {\n",
       "            background-color:  #fcf6b8;\n",
       "            color:  #000000;\n",
       "        }    #T_383ae9ce_7d16_11ea_ae14_0242ac1c0002row19_col2 {\n",
       "            background-color:  #6d0220;\n",
       "            color:  #f1f1f1;\n",
       "        }    #T_383ae9ce_7d16_11ea_ae14_0242ac1c0002row19_col3 {\n",
       "            background-color:  #ffffe5;\n",
       "            color:  #000000;\n",
       "        }    #T_383ae9ce_7d16_11ea_ae14_0242ac1c0002row19_col4 {\n",
       "            background-color:  #5ebe9b;\n",
       "            color:  #000000;\n",
       "        }    #T_383ae9ce_7d16_11ea_ae14_0242ac1c0002row19_col5 {\n",
       "            background-color:  #04828c;\n",
       "            color:  #f1f1f1;\n",
       "        }    #T_383ae9ce_7d16_11ea_ae14_0242ac1c0002row20_col1 {\n",
       "            background-color:  #fcf7b9;\n",
       "            color:  #000000;\n",
       "        }    #T_383ae9ce_7d16_11ea_ae14_0242ac1c0002row20_col2 {\n",
       "            background-color:  #67001f;\n",
       "            color:  #f1f1f1;\n",
       "        }    #T_383ae9ce_7d16_11ea_ae14_0242ac1c0002row20_col3 {\n",
       "            background-color:  #fcfed4;\n",
       "            color:  #000000;\n",
       "        }    #T_383ae9ce_7d16_11ea_ae14_0242ac1c0002row20_col4 {\n",
       "            background-color:  #00441b;\n",
       "            color:  #f1f1f1;\n",
       "        }    #T_383ae9ce_7d16_11ea_ae14_0242ac1c0002row20_col5 {\n",
       "            background-color:  #016f61;\n",
       "            color:  #f1f1f1;\n",
       "        }    #T_383ae9ce_7d16_11ea_ae14_0242ac1c0002row21_col1 {\n",
       "            background-color:  #fcf9bb;\n",
       "            color:  #000000;\n",
       "        }    #T_383ae9ce_7d16_11ea_ae14_0242ac1c0002row21_col2 {\n",
       "            background-color:  #67001f;\n",
       "            color:  #f1f1f1;\n",
       "        }    #T_383ae9ce_7d16_11ea_ae14_0242ac1c0002row21_col3 {\n",
       "            background-color:  #fdfeda;\n",
       "            color:  #000000;\n",
       "        }    #T_383ae9ce_7d16_11ea_ae14_0242ac1c0002row21_col4 {\n",
       "            background-color:  #00441b;\n",
       "            color:  #f1f1f1;\n",
       "        }    #T_383ae9ce_7d16_11ea_ae14_0242ac1c0002row21_col5 {\n",
       "            background-color:  #014838;\n",
       "            color:  #f1f1f1;\n",
       "        }    #T_383ae9ce_7d16_11ea_ae14_0242ac1c0002row22_col1 {\n",
       "            background-color:  #fcf9bb;\n",
       "            color:  #000000;\n",
       "        }    #T_383ae9ce_7d16_11ea_ae14_0242ac1c0002row22_col2 {\n",
       "            background-color:  #6d0220;\n",
       "            color:  #f1f1f1;\n",
       "        }    #T_383ae9ce_7d16_11ea_ae14_0242ac1c0002row22_col3 {\n",
       "            background-color:  #ffffe5;\n",
       "            color:  #000000;\n",
       "        }    #T_383ae9ce_7d16_11ea_ae14_0242ac1c0002row22_col4 {\n",
       "            background-color:  #d8f0ef;\n",
       "            color:  #000000;\n",
       "        }    #T_383ae9ce_7d16_11ea_ae14_0242ac1c0002row22_col5 {\n",
       "            background-color:  #016755;\n",
       "            color:  #f1f1f1;\n",
       "        }    #T_383ae9ce_7d16_11ea_ae14_0242ac1c0002row23_col1 {\n",
       "            background-color:  #fcfbbd;\n",
       "            color:  #000000;\n",
       "        }    #T_383ae9ce_7d16_11ea_ae14_0242ac1c0002row23_col2 {\n",
       "            background-color:  #67001f;\n",
       "            color:  #f1f1f1;\n",
       "        }    #T_383ae9ce_7d16_11ea_ae14_0242ac1c0002row23_col3 {\n",
       "            background-color:  #fcfed4;\n",
       "            color:  #000000;\n",
       "        }    #T_383ae9ce_7d16_11ea_ae14_0242ac1c0002row23_col4 {\n",
       "            background-color:  #00441b;\n",
       "            color:  #f1f1f1;\n",
       "        }    #T_383ae9ce_7d16_11ea_ae14_0242ac1c0002row23_col5 {\n",
       "            background-color:  #014636;\n",
       "            color:  #f1f1f1;\n",
       "        }    #T_383ae9ce_7d16_11ea_ae14_0242ac1c0002row24_col1 {\n",
       "            background-color:  #fcfdbf;\n",
       "            color:  #000000;\n",
       "        }    #T_383ae9ce_7d16_11ea_ae14_0242ac1c0002row24_col2 {\n",
       "            background-color:  #67001f;\n",
       "            color:  #f1f1f1;\n",
       "        }    #T_383ae9ce_7d16_11ea_ae14_0242ac1c0002row24_col3 {\n",
       "            background-color:  #fdfedd;\n",
       "            color:  #000000;\n",
       "        }    #T_383ae9ce_7d16_11ea_ae14_0242ac1c0002row24_col4 {\n",
       "            background-color:  #00441b;\n",
       "            color:  #f1f1f1;\n",
       "        }    #T_383ae9ce_7d16_11ea_ae14_0242ac1c0002row24_col5 {\n",
       "            background-color:  #014c3b;\n",
       "            color:  #f1f1f1;\n",
       "        }    #T_383ae9ce_7d16_11ea_ae14_0242ac1c0002row25_col1 {\n",
       "            background-color:  #fcfdbf;\n",
       "            color:  #000000;\n",
       "        }    #T_383ae9ce_7d16_11ea_ae14_0242ac1c0002row25_col2 {\n",
       "            background-color:  #67001f;\n",
       "            color:  #f1f1f1;\n",
       "        }    #T_383ae9ce_7d16_11ea_ae14_0242ac1c0002row25_col3 {\n",
       "            background-color:  #ffffe4;\n",
       "            color:  #000000;\n",
       "        }    #T_383ae9ce_7d16_11ea_ae14_0242ac1c0002row25_col4 {\n",
       "            background-color:  #00441b;\n",
       "            color:  #f1f1f1;\n",
       "        }    #T_383ae9ce_7d16_11ea_ae14_0242ac1c0002row25_col5 {\n",
       "            background-color:  #014a39;\n",
       "            color:  #f1f1f1;\n",
       "        }    #T_383ae9ce_7d16_11ea_ae14_0242ac1c0002row26_col1 {\n",
       "            background-color:  #fcfdbf;\n",
       "            color:  #000000;\n",
       "        }    #T_383ae9ce_7d16_11ea_ae14_0242ac1c0002row26_col2 {\n",
       "            background-color:  #67001f;\n",
       "            color:  #f1f1f1;\n",
       "        }    #T_383ae9ce_7d16_11ea_ae14_0242ac1c0002row26_col3 {\n",
       "            background-color:  #ffffe4;\n",
       "            color:  #000000;\n",
       "        }    #T_383ae9ce_7d16_11ea_ae14_0242ac1c0002row26_col4 {\n",
       "            background-color:  #00441b;\n",
       "            color:  #f1f1f1;\n",
       "        }    #T_383ae9ce_7d16_11ea_ae14_0242ac1c0002row26_col5 {\n",
       "            background-color:  #014838;\n",
       "            color:  #f1f1f1;\n",
       "        }    #T_383ae9ce_7d16_11ea_ae14_0242ac1c0002row27_col1 {\n",
       "            background-color:  #fcfdbf;\n",
       "            color:  #000000;\n",
       "        }    #T_383ae9ce_7d16_11ea_ae14_0242ac1c0002row27_col2 {\n",
       "            background-color:  #67001f;\n",
       "            color:  #f1f1f1;\n",
       "        }    #T_383ae9ce_7d16_11ea_ae14_0242ac1c0002row27_col3 {\n",
       "            background-color:  #ffffe5;\n",
       "            color:  #000000;\n",
       "        }    #T_383ae9ce_7d16_11ea_ae14_0242ac1c0002row27_col4 {\n",
       "            background-color:  #00441b;\n",
       "            color:  #f1f1f1;\n",
       "        }    #T_383ae9ce_7d16_11ea_ae14_0242ac1c0002row27_col5 {\n",
       "            background-color:  #01503f;\n",
       "            color:  #f1f1f1;\n",
       "        }    #T_383ae9ce_7d16_11ea_ae14_0242ac1c0002row28_col1 {\n",
       "            background-color:  #fcfdbf;\n",
       "            color:  #000000;\n",
       "        }    #T_383ae9ce_7d16_11ea_ae14_0242ac1c0002row28_col2 {\n",
       "            background-color:  #67001f;\n",
       "            color:  #f1f1f1;\n",
       "        }    #T_383ae9ce_7d16_11ea_ae14_0242ac1c0002row28_col3 {\n",
       "            background-color:  #ffffe5;\n",
       "            color:  #000000;\n",
       "        }    #T_383ae9ce_7d16_11ea_ae14_0242ac1c0002row28_col4 {\n",
       "            background-color:  #00441b;\n",
       "            color:  #f1f1f1;\n",
       "        }    #T_383ae9ce_7d16_11ea_ae14_0242ac1c0002row28_col5 {\n",
       "            background-color:  #014737;\n",
       "            color:  #f1f1f1;\n",
       "        }    #T_383ae9ce_7d16_11ea_ae14_0242ac1c0002row29_col1 {\n",
       "            background-color:  #fcfdbf;\n",
       "            color:  #000000;\n",
       "        }    #T_383ae9ce_7d16_11ea_ae14_0242ac1c0002row29_col2 {\n",
       "            background-color:  #67001f;\n",
       "            color:  #f1f1f1;\n",
       "        }    #T_383ae9ce_7d16_11ea_ae14_0242ac1c0002row29_col3 {\n",
       "            background-color:  #ffffe5;\n",
       "            color:  #000000;\n",
       "        }    #T_383ae9ce_7d16_11ea_ae14_0242ac1c0002row29_col4 {\n",
       "            background-color:  #00441b;\n",
       "            color:  #f1f1f1;\n",
       "        }    #T_383ae9ce_7d16_11ea_ae14_0242ac1c0002row29_col5 {\n",
       "            background-color:  #014e3e;\n",
       "            color:  #f1f1f1;\n",
       "        }</style><table id=\"T_383ae9ce_7d16_11ea_ae14_0242ac1c0002\" ><thead>    <tr>        <th class=\"blank level0\" ></th>        <th class=\"col_heading level0 col0\" >State/UT</th>        <th class=\"col_heading level0 col1\" >Confirmed</th>        <th class=\"col_heading level0 col2\" >Deaths</th>        <th class=\"col_heading level0 col3\" >Cured</th>        <th class=\"col_heading level0 col4\" >Mortality_Rate</th>        <th class=\"col_heading level0 col5\" >Total_Beds</th>    </tr></thead><tbody>\n",
       "                <tr>\n",
       "                        <th id=\"T_383ae9ce_7d16_11ea_ae14_0242ac1c0002level0_row0\" class=\"row_heading level0 row0\" >0</th>\n",
       "                        <td id=\"T_383ae9ce_7d16_11ea_ae14_0242ac1c0002row0_col0\" class=\"data row0 col0\" >Maharashtra</td>\n",
       "                        <td id=\"T_383ae9ce_7d16_11ea_ae14_0242ac1c0002row0_col1\" class=\"data row0 col1\" >1761</td>\n",
       "                        <td id=\"T_383ae9ce_7d16_11ea_ae14_0242ac1c0002row0_col2\" class=\"data row0 col2\" >127</td>\n",
       "                        <td id=\"T_383ae9ce_7d16_11ea_ae14_0242ac1c0002row0_col3\" class=\"data row0 col3\" >208</td>\n",
       "                        <td id=\"T_383ae9ce_7d16_11ea_ae14_0242ac1c0002row0_col4\" class=\"data row0 col4\" >7.210000</td>\n",
       "                        <td id=\"T_383ae9ce_7d16_11ea_ae14_0242ac1c0002row0_col5\" class=\"data row0 col5\" >93794</td>\n",
       "            </tr>\n",
       "            <tr>\n",
       "                        <th id=\"T_383ae9ce_7d16_11ea_ae14_0242ac1c0002level0_row1\" class=\"row_heading level0 row1\" >1</th>\n",
       "                        <td id=\"T_383ae9ce_7d16_11ea_ae14_0242ac1c0002row1_col0\" class=\"data row1 col0\" >Delhi</td>\n",
       "                        <td id=\"T_383ae9ce_7d16_11ea_ae14_0242ac1c0002row1_col1\" class=\"data row1 col1\" >1069</td>\n",
       "                        <td id=\"T_383ae9ce_7d16_11ea_ae14_0242ac1c0002row1_col2\" class=\"data row1 col2\" >19</td>\n",
       "                        <td id=\"T_383ae9ce_7d16_11ea_ae14_0242ac1c0002row1_col3\" class=\"data row1 col3\" >25</td>\n",
       "                        <td id=\"T_383ae9ce_7d16_11ea_ae14_0242ac1c0002row1_col4\" class=\"data row1 col4\" >1.780000</td>\n",
       "                        <td id=\"T_383ae9ce_7d16_11ea_ae14_0242ac1c0002row1_col5\" class=\"data row1 col5\" >20572</td>\n",
       "            </tr>\n",
       "            <tr>\n",
       "                        <th id=\"T_383ae9ce_7d16_11ea_ae14_0242ac1c0002level0_row2\" class=\"row_heading level0 row2\" >2</th>\n",
       "                        <td id=\"T_383ae9ce_7d16_11ea_ae14_0242ac1c0002row2_col0\" class=\"data row2 col0\" >Tamil Nadu</td>\n",
       "                        <td id=\"T_383ae9ce_7d16_11ea_ae14_0242ac1c0002row2_col1\" class=\"data row2 col1\" >969</td>\n",
       "                        <td id=\"T_383ae9ce_7d16_11ea_ae14_0242ac1c0002row2_col2\" class=\"data row2 col2\" >10</td>\n",
       "                        <td id=\"T_383ae9ce_7d16_11ea_ae14_0242ac1c0002row2_col3\" class=\"data row2 col3\" >44</td>\n",
       "                        <td id=\"T_383ae9ce_7d16_11ea_ae14_0242ac1c0002row2_col4\" class=\"data row2 col4\" >1.030000</td>\n",
       "                        <td id=\"T_383ae9ce_7d16_11ea_ae14_0242ac1c0002row2_col5\" class=\"data row2 col5\" >152974</td>\n",
       "            </tr>\n",
       "            <tr>\n",
       "                        <th id=\"T_383ae9ce_7d16_11ea_ae14_0242ac1c0002level0_row3\" class=\"row_heading level0 row3\" >3</th>\n",
       "                        <td id=\"T_383ae9ce_7d16_11ea_ae14_0242ac1c0002row3_col0\" class=\"data row3 col0\" >Rajasthan</td>\n",
       "                        <td id=\"T_383ae9ce_7d16_11ea_ae14_0242ac1c0002row3_col1\" class=\"data row3 col1\" >700</td>\n",
       "                        <td id=\"T_383ae9ce_7d16_11ea_ae14_0242ac1c0002row3_col2\" class=\"data row3 col2\" >3</td>\n",
       "                        <td id=\"T_383ae9ce_7d16_11ea_ae14_0242ac1c0002row3_col3\" class=\"data row3 col3\" >21</td>\n",
       "                        <td id=\"T_383ae9ce_7d16_11ea_ae14_0242ac1c0002row3_col4\" class=\"data row3 col4\" >0.430000</td>\n",
       "                        <td id=\"T_383ae9ce_7d16_11ea_ae14_0242ac1c0002row3_col5\" class=\"data row3 col5\" >94020</td>\n",
       "            </tr>\n",
       "            <tr>\n",
       "                        <th id=\"T_383ae9ce_7d16_11ea_ae14_0242ac1c0002level0_row4\" class=\"row_heading level0 row4\" >4</th>\n",
       "                        <td id=\"T_383ae9ce_7d16_11ea_ae14_0242ac1c0002row4_col0\" class=\"data row4 col0\" >Madhya Pradesh</td>\n",
       "                        <td id=\"T_383ae9ce_7d16_11ea_ae14_0242ac1c0002row4_col1\" class=\"data row4 col1\" >564</td>\n",
       "                        <td id=\"T_383ae9ce_7d16_11ea_ae14_0242ac1c0002row4_col2\" class=\"data row4 col2\" >36</td>\n",
       "                        <td id=\"T_383ae9ce_7d16_11ea_ae14_0242ac1c0002row4_col3\" class=\"data row4 col3\" >0</td>\n",
       "                        <td id=\"T_383ae9ce_7d16_11ea_ae14_0242ac1c0002row4_col4\" class=\"data row4 col4\" >6.380000</td>\n",
       "                        <td id=\"T_383ae9ce_7d16_11ea_ae14_0242ac1c0002row4_col5\" class=\"data row4 col5\" >58180</td>\n",
       "            </tr>\n",
       "            <tr>\n",
       "                        <th id=\"T_383ae9ce_7d16_11ea_ae14_0242ac1c0002level0_row5\" class=\"row_heading level0 row5\" >5</th>\n",
       "                        <td id=\"T_383ae9ce_7d16_11ea_ae14_0242ac1c0002row5_col0\" class=\"data row5 col0\" >Telangana</td>\n",
       "                        <td id=\"T_383ae9ce_7d16_11ea_ae14_0242ac1c0002row5_col1\" class=\"data row5 col1\" >504</td>\n",
       "                        <td id=\"T_383ae9ce_7d16_11ea_ae14_0242ac1c0002row5_col2\" class=\"data row5 col2\" >9</td>\n",
       "                        <td id=\"T_383ae9ce_7d16_11ea_ae14_0242ac1c0002row5_col3\" class=\"data row5 col3\" >43</td>\n",
       "                        <td id=\"T_383ae9ce_7d16_11ea_ae14_0242ac1c0002row5_col4\" class=\"data row5 col4\" >1.790000</td>\n",
       "                        <td id=\"T_383ae9ce_7d16_11ea_ae14_0242ac1c0002row5_col5\" class=\"data row5 col5\" >32694</td>\n",
       "            </tr>\n",
       "            <tr>\n",
       "                        <th id=\"T_383ae9ce_7d16_11ea_ae14_0242ac1c0002level0_row6\" class=\"row_heading level0 row6\" >6</th>\n",
       "                        <td id=\"T_383ae9ce_7d16_11ea_ae14_0242ac1c0002row6_col0\" class=\"data row6 col0\" >Uttar Pradesh</td>\n",
       "                        <td id=\"T_383ae9ce_7d16_11ea_ae14_0242ac1c0002row6_col1\" class=\"data row6 col1\" >452</td>\n",
       "                        <td id=\"T_383ae9ce_7d16_11ea_ae14_0242ac1c0002row6_col2\" class=\"data row6 col2\" >5</td>\n",
       "                        <td id=\"T_383ae9ce_7d16_11ea_ae14_0242ac1c0002row6_col3\" class=\"data row6 col3\" >45</td>\n",
       "                        <td id=\"T_383ae9ce_7d16_11ea_ae14_0242ac1c0002row6_col4\" class=\"data row6 col4\" >1.110000</td>\n",
       "                        <td id=\"T_383ae9ce_7d16_11ea_ae14_0242ac1c0002row6_col5\" class=\"data row6 col5\" >136518</td>\n",
       "            </tr>\n",
       "            <tr>\n",
       "                        <th id=\"T_383ae9ce_7d16_11ea_ae14_0242ac1c0002level0_row7\" class=\"row_heading level0 row7\" >7</th>\n",
       "                        <td id=\"T_383ae9ce_7d16_11ea_ae14_0242ac1c0002row7_col0\" class=\"data row7 col0\" >Gujarat</td>\n",
       "                        <td id=\"T_383ae9ce_7d16_11ea_ae14_0242ac1c0002row7_col1\" class=\"data row7 col1\" >432</td>\n",
       "                        <td id=\"T_383ae9ce_7d16_11ea_ae14_0242ac1c0002row7_col2\" class=\"data row7 col2\" >22</td>\n",
       "                        <td id=\"T_383ae9ce_7d16_11ea_ae14_0242ac1c0002row7_col3\" class=\"data row7 col3\" >44</td>\n",
       "                        <td id=\"T_383ae9ce_7d16_11ea_ae14_0242ac1c0002row7_col4\" class=\"data row7 col4\" >5.090000</td>\n",
       "                        <td id=\"T_383ae9ce_7d16_11ea_ae14_0242ac1c0002row7_col5\" class=\"data row7 col5\" >64559</td>\n",
       "            </tr>\n",
       "            <tr>\n",
       "                        <th id=\"T_383ae9ce_7d16_11ea_ae14_0242ac1c0002level0_row8\" class=\"row_heading level0 row8\" >8</th>\n",
       "                        <td id=\"T_383ae9ce_7d16_11ea_ae14_0242ac1c0002row8_col0\" class=\"data row8 col0\" >Andhra Pradesh</td>\n",
       "                        <td id=\"T_383ae9ce_7d16_11ea_ae14_0242ac1c0002row8_col1\" class=\"data row8 col1\" >381</td>\n",
       "                        <td id=\"T_383ae9ce_7d16_11ea_ae14_0242ac1c0002row8_col2\" class=\"data row8 col2\" >6</td>\n",
       "                        <td id=\"T_383ae9ce_7d16_11ea_ae14_0242ac1c0002row8_col3\" class=\"data row8 col3\" >11</td>\n",
       "                        <td id=\"T_383ae9ce_7d16_11ea_ae14_0242ac1c0002row8_col4\" class=\"data row8 col4\" >1.570000</td>\n",
       "                        <td id=\"T_383ae9ce_7d16_11ea_ae14_0242ac1c0002row8_col5\" class=\"data row8 col5\" >73759</td>\n",
       "            </tr>\n",
       "            <tr>\n",
       "                        <th id=\"T_383ae9ce_7d16_11ea_ae14_0242ac1c0002level0_row9\" class=\"row_heading level0 row9\" >9</th>\n",
       "                        <td id=\"T_383ae9ce_7d16_11ea_ae14_0242ac1c0002row9_col0\" class=\"data row9 col0\" >Kerala</td>\n",
       "                        <td id=\"T_383ae9ce_7d16_11ea_ae14_0242ac1c0002row9_col1\" class=\"data row9 col1\" >374</td>\n",
       "                        <td id=\"T_383ae9ce_7d16_11ea_ae14_0242ac1c0002row9_col2\" class=\"data row9 col2\" >2</td>\n",
       "                        <td id=\"T_383ae9ce_7d16_11ea_ae14_0242ac1c0002row9_col3\" class=\"data row9 col3\" >142</td>\n",
       "                        <td id=\"T_383ae9ce_7d16_11ea_ae14_0242ac1c0002row9_col4\" class=\"data row9 col4\" >0.530000</td>\n",
       "                        <td id=\"T_383ae9ce_7d16_11ea_ae14_0242ac1c0002row9_col5\" class=\"data row9 col5\" >73241</td>\n",
       "            </tr>\n",
       "            <tr>\n",
       "                        <th id=\"T_383ae9ce_7d16_11ea_ae14_0242ac1c0002level0_row10\" class=\"row_heading level0 row10\" >10</th>\n",
       "                        <td id=\"T_383ae9ce_7d16_11ea_ae14_0242ac1c0002row10_col0\" class=\"data row10 col0\" >Karnataka</td>\n",
       "                        <td id=\"T_383ae9ce_7d16_11ea_ae14_0242ac1c0002row10_col1\" class=\"data row10 col1\" >226</td>\n",
       "                        <td id=\"T_383ae9ce_7d16_11ea_ae14_0242ac1c0002row10_col2\" class=\"data row10 col2\" >6</td>\n",
       "                        <td id=\"T_383ae9ce_7d16_11ea_ae14_0242ac1c0002row10_col3\" class=\"data row10 col3\" >37</td>\n",
       "                        <td id=\"T_383ae9ce_7d16_11ea_ae14_0242ac1c0002row10_col4\" class=\"data row10 col4\" >2.650000</td>\n",
       "                        <td id=\"T_383ae9ce_7d16_11ea_ae14_0242ac1c0002row10_col5\" class=\"data row10 col5\" >98477</td>\n",
       "            </tr>\n",
       "            <tr>\n",
       "                        <th id=\"T_383ae9ce_7d16_11ea_ae14_0242ac1c0002level0_row11\" class=\"row_heading level0 row11\" >11</th>\n",
       "                        <td id=\"T_383ae9ce_7d16_11ea_ae14_0242ac1c0002row11_col0\" class=\"data row11 col0\" >Jammu and Kashmir</td>\n",
       "                        <td id=\"T_383ae9ce_7d16_11ea_ae14_0242ac1c0002row11_col1\" class=\"data row11 col1\" >224</td>\n",
       "                        <td id=\"T_383ae9ce_7d16_11ea_ae14_0242ac1c0002row11_col2\" class=\"data row11 col2\" >4</td>\n",
       "                        <td id=\"T_383ae9ce_7d16_11ea_ae14_0242ac1c0002row11_col3\" class=\"data row11 col3\" >6</td>\n",
       "                        <td id=\"T_383ae9ce_7d16_11ea_ae14_0242ac1c0002row11_col4\" class=\"data row11 col4\" >1.790000</td>\n",
       "                        <td id=\"T_383ae9ce_7d16_11ea_ae14_0242ac1c0002row11_col5\" class=\"data row11 col5\" >25810</td>\n",
       "            </tr>\n",
       "            <tr>\n",
       "                        <th id=\"T_383ae9ce_7d16_11ea_ae14_0242ac1c0002level0_row12\" class=\"row_heading level0 row12\" >12</th>\n",
       "                        <td id=\"T_383ae9ce_7d16_11ea_ae14_0242ac1c0002row12_col0\" class=\"data row12 col0\" >Haryana</td>\n",
       "                        <td id=\"T_383ae9ce_7d16_11ea_ae14_0242ac1c0002row12_col1\" class=\"data row12 col1\" >185</td>\n",
       "                        <td id=\"T_383ae9ce_7d16_11ea_ae14_0242ac1c0002row12_col2\" class=\"data row12 col2\" >3</td>\n",
       "                        <td id=\"T_383ae9ce_7d16_11ea_ae14_0242ac1c0002row12_col3\" class=\"data row12 col3\" >29</td>\n",
       "                        <td id=\"T_383ae9ce_7d16_11ea_ae14_0242ac1c0002row12_col4\" class=\"data row12 col4\" >1.620000</td>\n",
       "                        <td id=\"T_383ae9ce_7d16_11ea_ae14_0242ac1c0002row12_col5\" class=\"data row12 col5\" >27221</td>\n",
       "            </tr>\n",
       "            <tr>\n",
       "                        <th id=\"T_383ae9ce_7d16_11ea_ae14_0242ac1c0002level0_row13\" class=\"row_heading level0 row13\" >13</th>\n",
       "                        <td id=\"T_383ae9ce_7d16_11ea_ae14_0242ac1c0002row13_col0\" class=\"data row13 col0\" >Punjab</td>\n",
       "                        <td id=\"T_383ae9ce_7d16_11ea_ae14_0242ac1c0002row13_col1\" class=\"data row13 col1\" >151</td>\n",
       "                        <td id=\"T_383ae9ce_7d16_11ea_ae14_0242ac1c0002row13_col2\" class=\"data row13 col2\" >11</td>\n",
       "                        <td id=\"T_383ae9ce_7d16_11ea_ae14_0242ac1c0002row13_col3\" class=\"data row13 col3\" >5</td>\n",
       "                        <td id=\"T_383ae9ce_7d16_11ea_ae14_0242ac1c0002row13_col4\" class=\"data row13 col4\" >7.280000</td>\n",
       "                        <td id=\"T_383ae9ce_7d16_11ea_ae14_0242ac1c0002row13_col5\" class=\"data row13 col5\" >25137</td>\n",
       "            </tr>\n",
       "            <tr>\n",
       "                        <th id=\"T_383ae9ce_7d16_11ea_ae14_0242ac1c0002level0_row14\" class=\"row_heading level0 row14\" >14</th>\n",
       "                        <td id=\"T_383ae9ce_7d16_11ea_ae14_0242ac1c0002row14_col0\" class=\"data row14 col0\" >West Bengal</td>\n",
       "                        <td id=\"T_383ae9ce_7d16_11ea_ae14_0242ac1c0002row14_col1\" class=\"data row14 col1\" >134</td>\n",
       "                        <td id=\"T_383ae9ce_7d16_11ea_ae14_0242ac1c0002row14_col2\" class=\"data row14 col2\" >5</td>\n",
       "                        <td id=\"T_383ae9ce_7d16_11ea_ae14_0242ac1c0002row14_col3\" class=\"data row14 col3\" >19</td>\n",
       "                        <td id=\"T_383ae9ce_7d16_11ea_ae14_0242ac1c0002row14_col4\" class=\"data row14 col4\" >3.730000</td>\n",
       "                        <td id=\"T_383ae9ce_7d16_11ea_ae14_0242ac1c0002row14_col5\" class=\"data row14 col5\" >90531</td>\n",
       "            </tr>\n",
       "            <tr>\n",
       "                        <th id=\"T_383ae9ce_7d16_11ea_ae14_0242ac1c0002level0_row15\" class=\"row_heading level0 row15\" >15</th>\n",
       "                        <td id=\"T_383ae9ce_7d16_11ea_ae14_0242ac1c0002row15_col0\" class=\"data row15 col0\" >Bihar</td>\n",
       "                        <td id=\"T_383ae9ce_7d16_11ea_ae14_0242ac1c0002row15_col1\" class=\"data row15 col1\" >64</td>\n",
       "                        <td id=\"T_383ae9ce_7d16_11ea_ae14_0242ac1c0002row15_col2\" class=\"data row15 col2\" >1</td>\n",
       "                        <td id=\"T_383ae9ce_7d16_11ea_ae14_0242ac1c0002row15_col3\" class=\"data row15 col3\" >19</td>\n",
       "                        <td id=\"T_383ae9ce_7d16_11ea_ae14_0242ac1c0002row15_col4\" class=\"data row15 col4\" >1.560000</td>\n",
       "                        <td id=\"T_383ae9ce_7d16_11ea_ae14_0242ac1c0002row15_col5\" class=\"data row15 col5\" >29962</td>\n",
       "            </tr>\n",
       "            <tr>\n",
       "                        <th id=\"T_383ae9ce_7d16_11ea_ae14_0242ac1c0002level0_row16\" class=\"row_heading level0 row16\" >16</th>\n",
       "                        <td id=\"T_383ae9ce_7d16_11ea_ae14_0242ac1c0002row16_col0\" class=\"data row16 col0\" >Odisha</td>\n",
       "                        <td id=\"T_383ae9ce_7d16_11ea_ae14_0242ac1c0002row16_col1\" class=\"data row16 col1\" >54</td>\n",
       "                        <td id=\"T_383ae9ce_7d16_11ea_ae14_0242ac1c0002row16_col2\" class=\"data row16 col2\" >1</td>\n",
       "                        <td id=\"T_383ae9ce_7d16_11ea_ae14_0242ac1c0002row16_col3\" class=\"data row16 col3\" >12</td>\n",
       "                        <td id=\"T_383ae9ce_7d16_11ea_ae14_0242ac1c0002row16_col4\" class=\"data row16 col4\" >1.850000</td>\n",
       "                        <td id=\"T_383ae9ce_7d16_11ea_ae14_0242ac1c0002row16_col5\" class=\"data row16 col5\" >29175</td>\n",
       "            </tr>\n",
       "            <tr>\n",
       "                        <th id=\"T_383ae9ce_7d16_11ea_ae14_0242ac1c0002level0_row17\" class=\"row_heading level0 row17\" >17</th>\n",
       "                        <td id=\"T_383ae9ce_7d16_11ea_ae14_0242ac1c0002row17_col0\" class=\"data row17 col0\" >Uttarakhand</td>\n",
       "                        <td id=\"T_383ae9ce_7d16_11ea_ae14_0242ac1c0002row17_col1\" class=\"data row17 col1\" >35</td>\n",
       "                        <td id=\"T_383ae9ce_7d16_11ea_ae14_0242ac1c0002row17_col2\" class=\"data row17 col2\" >0</td>\n",
       "                        <td id=\"T_383ae9ce_7d16_11ea_ae14_0242ac1c0002row17_col3\" class=\"data row17 col3\" >5</td>\n",
       "                        <td id=\"T_383ae9ce_7d16_11ea_ae14_0242ac1c0002row17_col4\" class=\"data row17 col4\" >0.000000</td>\n",
       "                        <td id=\"T_383ae9ce_7d16_11ea_ae14_0242ac1c0002row17_col5\" class=\"data row17 col5\" >13228</td>\n",
       "            </tr>\n",
       "            <tr>\n",
       "                        <th id=\"T_383ae9ce_7d16_11ea_ae14_0242ac1c0002level0_row18\" class=\"row_heading level0 row18\" >18</th>\n",
       "                        <td id=\"T_383ae9ce_7d16_11ea_ae14_0242ac1c0002row18_col0\" class=\"data row18 col0\" >Himachal Pradesh</td>\n",
       "                        <td id=\"T_383ae9ce_7d16_11ea_ae14_0242ac1c0002row18_col1\" class=\"data row18 col1\" >32</td>\n",
       "                        <td id=\"T_383ae9ce_7d16_11ea_ae14_0242ac1c0002row18_col2\" class=\"data row18 col2\" >1</td>\n",
       "                        <td id=\"T_383ae9ce_7d16_11ea_ae14_0242ac1c0002row18_col3\" class=\"data row18 col3\" >6</td>\n",
       "                        <td id=\"T_383ae9ce_7d16_11ea_ae14_0242ac1c0002row18_col4\" class=\"data row18 col4\" >3.120000</td>\n",
       "                        <td id=\"T_383ae9ce_7d16_11ea_ae14_0242ac1c0002row18_col5\" class=\"data row18 col5\" >20036</td>\n",
       "            </tr>\n",
       "            <tr>\n",
       "                        <th id=\"T_383ae9ce_7d16_11ea_ae14_0242ac1c0002level0_row19\" class=\"row_heading level0 row19\" >19</th>\n",
       "                        <td id=\"T_383ae9ce_7d16_11ea_ae14_0242ac1c0002row19_col0\" class=\"data row19 col0\" >Assam</td>\n",
       "                        <td id=\"T_383ae9ce_7d16_11ea_ae14_0242ac1c0002row19_col1\" class=\"data row19 col1\" >29</td>\n",
       "                        <td id=\"T_383ae9ce_7d16_11ea_ae14_0242ac1c0002row19_col2\" class=\"data row19 col2\" >1</td>\n",
       "                        <td id=\"T_383ae9ce_7d16_11ea_ae14_0242ac1c0002row19_col3\" class=\"data row19 col3\" >0</td>\n",
       "                        <td id=\"T_383ae9ce_7d16_11ea_ae14_0242ac1c0002row19_col4\" class=\"data row19 col4\" >3.450000</td>\n",
       "                        <td id=\"T_383ae9ce_7d16_11ea_ae14_0242ac1c0002row19_col5\" class=\"data row19 col5\" >41003</td>\n",
       "            </tr>\n",
       "            <tr>\n",
       "                        <th id=\"T_383ae9ce_7d16_11ea_ae14_0242ac1c0002level0_row20\" class=\"row_heading level0 row20\" >20</th>\n",
       "                        <td id=\"T_383ae9ce_7d16_11ea_ae14_0242ac1c0002row20_col0\" class=\"data row20 col0\" >Chhattisgarh</td>\n",
       "                        <td id=\"T_383ae9ce_7d16_11ea_ae14_0242ac1c0002row20_col1\" class=\"data row20 col1\" >25</td>\n",
       "                        <td id=\"T_383ae9ce_7d16_11ea_ae14_0242ac1c0002row20_col2\" class=\"data row20 col2\" >0</td>\n",
       "                        <td id=\"T_383ae9ce_7d16_11ea_ae14_0242ac1c0002row20_col3\" class=\"data row20 col3\" >10</td>\n",
       "                        <td id=\"T_383ae9ce_7d16_11ea_ae14_0242ac1c0002row20_col4\" class=\"data row20 col4\" >0.000000</td>\n",
       "                        <td id=\"T_383ae9ce_7d16_11ea_ae14_0242ac1c0002row20_col5\" class=\"data row20 col5\" >24494</td>\n",
       "            </tr>\n",
       "            <tr>\n",
       "                        <th id=\"T_383ae9ce_7d16_11ea_ae14_0242ac1c0002level0_row21\" class=\"row_heading level0 row21\" >21</th>\n",
       "                        <td id=\"T_383ae9ce_7d16_11ea_ae14_0242ac1c0002row21_col0\" class=\"data row21 col0\" >Chandigarh</td>\n",
       "                        <td id=\"T_383ae9ce_7d16_11ea_ae14_0242ac1c0002row21_col1\" class=\"data row21 col1\" >19</td>\n",
       "                        <td id=\"T_383ae9ce_7d16_11ea_ae14_0242ac1c0002row21_col2\" class=\"data row21 col2\" >0</td>\n",
       "                        <td id=\"T_383ae9ce_7d16_11ea_ae14_0242ac1c0002row21_col3\" class=\"data row21 col3\" >7</td>\n",
       "                        <td id=\"T_383ae9ce_7d16_11ea_ae14_0242ac1c0002row21_col4\" class=\"data row21 col4\" >0.000000</td>\n",
       "                        <td id=\"T_383ae9ce_7d16_11ea_ae14_0242ac1c0002row21_col5\" class=\"data row21 col5\" >3756</td>\n",
       "            </tr>\n",
       "            <tr>\n",
       "                        <th id=\"T_383ae9ce_7d16_11ea_ae14_0242ac1c0002level0_row22\" class=\"row_heading level0 row22\" >22</th>\n",
       "                        <td id=\"T_383ae9ce_7d16_11ea_ae14_0242ac1c0002row22_col0\" class=\"data row22 col0\" >Jharkhand</td>\n",
       "                        <td id=\"T_383ae9ce_7d16_11ea_ae14_0242ac1c0002row22_col1\" class=\"data row22 col1\" >17</td>\n",
       "                        <td id=\"T_383ae9ce_7d16_11ea_ae14_0242ac1c0002row22_col2\" class=\"data row22 col2\" >1</td>\n",
       "                        <td id=\"T_383ae9ce_7d16_11ea_ae14_0242ac1c0002row22_col3\" class=\"data row22 col3\" >0</td>\n",
       "                        <td id=\"T_383ae9ce_7d16_11ea_ae14_0242ac1c0002row22_col4\" class=\"data row22 col4\" >5.880000</td>\n",
       "                        <td id=\"T_383ae9ce_7d16_11ea_ae14_0242ac1c0002row22_col5\" class=\"data row22 col5\" >19088</td>\n",
       "            </tr>\n",
       "            <tr>\n",
       "                        <th id=\"T_383ae9ce_7d16_11ea_ae14_0242ac1c0002level0_row23\" class=\"row_heading level0 row23\" >23</th>\n",
       "                        <td id=\"T_383ae9ce_7d16_11ea_ae14_0242ac1c0002row23_col0\" class=\"data row23 col0\" >Andaman and Nicobar Islands</td>\n",
       "                        <td id=\"T_383ae9ce_7d16_11ea_ae14_0242ac1c0002row23_col1\" class=\"data row23 col1\" >11</td>\n",
       "                        <td id=\"T_383ae9ce_7d16_11ea_ae14_0242ac1c0002row23_col2\" class=\"data row23 col2\" >0</td>\n",
       "                        <td id=\"T_383ae9ce_7d16_11ea_ae14_0242ac1c0002row23_col3\" class=\"data row23 col3\" >10</td>\n",
       "                        <td id=\"T_383ae9ce_7d16_11ea_ae14_0242ac1c0002row23_col4\" class=\"data row23 col4\" >0.000000</td>\n",
       "                        <td id=\"T_383ae9ce_7d16_11ea_ae14_0242ac1c0002row23_col5\" class=\"data row23 col5\" >2396</td>\n",
       "            </tr>\n",
       "            <tr>\n",
       "                        <th id=\"T_383ae9ce_7d16_11ea_ae14_0242ac1c0002level0_row24\" class=\"row_heading level0 row24\" >24</th>\n",
       "                        <td id=\"T_383ae9ce_7d16_11ea_ae14_0242ac1c0002row24_col0\" class=\"data row24 col0\" >Goa</td>\n",
       "                        <td id=\"T_383ae9ce_7d16_11ea_ae14_0242ac1c0002row24_col1\" class=\"data row24 col1\" >7</td>\n",
       "                        <td id=\"T_383ae9ce_7d16_11ea_ae14_0242ac1c0002row24_col2\" class=\"data row24 col2\" >0</td>\n",
       "                        <td id=\"T_383ae9ce_7d16_11ea_ae14_0242ac1c0002row24_col3\" class=\"data row24 col3\" >5</td>\n",
       "                        <td id=\"T_383ae9ce_7d16_11ea_ae14_0242ac1c0002row24_col4\" class=\"data row24 col4\" >0.000000</td>\n",
       "                        <td id=\"T_383ae9ce_7d16_11ea_ae14_0242ac1c0002row24_col5\" class=\"data row24 col5\" >5476</td>\n",
       "            </tr>\n",
       "            <tr>\n",
       "                        <th id=\"T_383ae9ce_7d16_11ea_ae14_0242ac1c0002level0_row25\" class=\"row_heading level0 row25\" >25</th>\n",
       "                        <td id=\"T_383ae9ce_7d16_11ea_ae14_0242ac1c0002row25_col0\" class=\"data row25 col0\" >Puducherry</td>\n",
       "                        <td id=\"T_383ae9ce_7d16_11ea_ae14_0242ac1c0002row25_col1\" class=\"data row25 col1\" >7</td>\n",
       "                        <td id=\"T_383ae9ce_7d16_11ea_ae14_0242ac1c0002row25_col2\" class=\"data row25 col2\" >0</td>\n",
       "                        <td id=\"T_383ae9ce_7d16_11ea_ae14_0242ac1c0002row25_col3\" class=\"data row25 col3\" >1</td>\n",
       "                        <td id=\"T_383ae9ce_7d16_11ea_ae14_0242ac1c0002row25_col4\" class=\"data row25 col4\" >0.000000</td>\n",
       "                        <td id=\"T_383ae9ce_7d16_11ea_ae14_0242ac1c0002row25_col5\" class=\"data row25 col5\" >4654</td>\n",
       "            </tr>\n",
       "            <tr>\n",
       "                        <th id=\"T_383ae9ce_7d16_11ea_ae14_0242ac1c0002level0_row26\" class=\"row_heading level0 row26\" >26</th>\n",
       "                        <td id=\"T_383ae9ce_7d16_11ea_ae14_0242ac1c0002row26_col0\" class=\"data row26 col0\" >Manipur</td>\n",
       "                        <td id=\"T_383ae9ce_7d16_11ea_ae14_0242ac1c0002row26_col1\" class=\"data row26 col1\" >2</td>\n",
       "                        <td id=\"T_383ae9ce_7d16_11ea_ae14_0242ac1c0002row26_col2\" class=\"data row26 col2\" >0</td>\n",
       "                        <td id=\"T_383ae9ce_7d16_11ea_ae14_0242ac1c0002row26_col3\" class=\"data row26 col3\" >1</td>\n",
       "                        <td id=\"T_383ae9ce_7d16_11ea_ae14_0242ac1c0002row26_col4\" class=\"data row26 col4\" >0.000000</td>\n",
       "                        <td id=\"T_383ae9ce_7d16_11ea_ae14_0242ac1c0002row26_col5\" class=\"data row26 col5\" >4022</td>\n",
       "            </tr>\n",
       "            <tr>\n",
       "                        <th id=\"T_383ae9ce_7d16_11ea_ae14_0242ac1c0002level0_row27\" class=\"row_heading level0 row27\" >27</th>\n",
       "                        <td id=\"T_383ae9ce_7d16_11ea_ae14_0242ac1c0002row27_col0\" class=\"data row27 col0\" >Tripura</td>\n",
       "                        <td id=\"T_383ae9ce_7d16_11ea_ae14_0242ac1c0002row27_col1\" class=\"data row27 col1\" >2</td>\n",
       "                        <td id=\"T_383ae9ce_7d16_11ea_ae14_0242ac1c0002row27_col2\" class=\"data row27 col2\" >0</td>\n",
       "                        <td id=\"T_383ae9ce_7d16_11ea_ae14_0242ac1c0002row27_col3\" class=\"data row27 col3\" >0</td>\n",
       "                        <td id=\"T_383ae9ce_7d16_11ea_ae14_0242ac1c0002row27_col4\" class=\"data row27 col4\" >0.000000</td>\n",
       "                        <td id=\"T_383ae9ce_7d16_11ea_ae14_0242ac1c0002row27_col5\" class=\"data row27 col5\" >7175</td>\n",
       "            </tr>\n",
       "            <tr>\n",
       "                        <th id=\"T_383ae9ce_7d16_11ea_ae14_0242ac1c0002level0_row28\" class=\"row_heading level0 row28\" >28</th>\n",
       "                        <td id=\"T_383ae9ce_7d16_11ea_ae14_0242ac1c0002row28_col0\" class=\"data row28 col0\" >Mizoram</td>\n",
       "                        <td id=\"T_383ae9ce_7d16_11ea_ae14_0242ac1c0002row28_col1\" class=\"data row28 col1\" >1</td>\n",
       "                        <td id=\"T_383ae9ce_7d16_11ea_ae14_0242ac1c0002row28_col2\" class=\"data row28 col2\" >0</td>\n",
       "                        <td id=\"T_383ae9ce_7d16_11ea_ae14_0242ac1c0002row28_col3\" class=\"data row28 col3\" >0</td>\n",
       "                        <td id=\"T_383ae9ce_7d16_11ea_ae14_0242ac1c0002row28_col4\" class=\"data row28 col4\" >0.000000</td>\n",
       "                        <td id=\"T_383ae9ce_7d16_11ea_ae14_0242ac1c0002row28_col5\" class=\"data row28 col5\" >3520</td>\n",
       "            </tr>\n",
       "            <tr>\n",
       "                        <th id=\"T_383ae9ce_7d16_11ea_ae14_0242ac1c0002level0_row29\" class=\"row_heading level0 row29\" >29</th>\n",
       "                        <td id=\"T_383ae9ce_7d16_11ea_ae14_0242ac1c0002row29_col0\" class=\"data row29 col0\" >Arunachal Pradesh</td>\n",
       "                        <td id=\"T_383ae9ce_7d16_11ea_ae14_0242ac1c0002row29_col1\" class=\"data row29 col1\" >1</td>\n",
       "                        <td id=\"T_383ae9ce_7d16_11ea_ae14_0242ac1c0002row29_col2\" class=\"data row29 col2\" >0</td>\n",
       "                        <td id=\"T_383ae9ce_7d16_11ea_ae14_0242ac1c0002row29_col3\" class=\"data row29 col3\" >0</td>\n",
       "                        <td id=\"T_383ae9ce_7d16_11ea_ae14_0242ac1c0002row29_col4\" class=\"data row29 col4\" >0.000000</td>\n",
       "                        <td id=\"T_383ae9ce_7d16_11ea_ae14_0242ac1c0002row29_col5\" class=\"data row29 col5\" >6592</td>\n",
       "            </tr>\n",
       "    </tbody></table>"
      ],
      "text/plain": [
       "<pandas.io.formats.style.Styler at 0x7f31cd0510b8>"
      ]
     },
     "execution_count": 125,
     "metadata": {
      "tags": []
     },
     "output_type": "execute_result"
    }
   ],
   "source": [
    "df_state_beds.sort_values('Confirmed',ascending=False,inplace=True)\n",
    "df_state_beds.reset_index(drop=True,inplace=True)\n",
    "df_state_beds['Mortality_Rate'] =np.round((df_state_beds['Deaths']/df_state_beds['Confirmed'])*100,2)\n",
    "df_state_beds =df_state_beds[['State/UT','Confirmed','Deaths','Cured','Mortality_Rate','Total_Beds']] \n",
    "# df_state_beds = df_state_beds.append({'State/UT':'Total','Confirmed':df_state_beds.Confirmed.sum(),'Deaths':df_state_beds.Deaths.sum(),\n",
    "#                       'Cured':df_state_beds.Cured.sum(),'Total_Beds':df_state_beds.Total_Beds.sum()}, ignore_index=True)\n",
    "# df_state_beds.style.background_gradient(cmap='RdYlGn_r')\n",
    "df_state_beds.style.background_gradient(cmap='magma_r',subset=[\"Confirmed\"])\\\n",
    "                        .background_gradient(cmap='RdGy',subset=[\"Deaths\"])\\\n",
    "                        .background_gradient(cmap='YlGn',subset=[\"Cured\"])\\\n",
    "                        .background_gradient(cmap='BuGn_r',subset=[\"Mortality_Rate\"])\\\n",
    "                        .background_gradient(cmap='PuBuGn_r',subset=[\"Total_Beds\"])"
   ]
  },
  {
   "cell_type": "code",
   "execution_count": 0,
   "metadata": {
    "colab": {
     "base_uri": "https://localhost:8080/",
     "height": 542
    },
    "colab_type": "code",
    "id": "oR7DanIlbuho",
    "outputId": "26003c28-ec0b-4e42-a9a5-4ab807e0658b"
   },
   "outputs": [
    {
     "data": {
      "text/html": [
       "<html>\n",
       "<head><meta charset=\"utf-8\" /></head>\n",
       "<body>\n",
       "    <div>\n",
       "            <script src=\"https://cdnjs.cloudflare.com/ajax/libs/mathjax/2.7.5/MathJax.js?config=TeX-AMS-MML_SVG\"></script><script type=\"text/javascript\">if (window.MathJax) {MathJax.Hub.Config({SVG: {font: \"STIX-Web\"}});}</script>\n",
       "                <script type=\"text/javascript\">window.PlotlyConfig = {MathJaxConfig: 'local'};</script>\n",
       "        <script src=\"https://cdn.plot.ly/plotly-latest.min.js\"></script>    \n",
       "            <div id=\"541b7486-28fc-4327-bdb1-5470b2131623\" class=\"plotly-graph-div\" style=\"height:525px; width:100%;\"></div>\n",
       "            <script type=\"text/javascript\">\n",
       "                \n",
       "                    window.PLOTLYENV=window.PLOTLYENV || {};\n",
       "                    \n",
       "                if (document.getElementById(\"541b7486-28fc-4327-bdb1-5470b2131623\")) {\n",
       "                    Plotly.newPlot(\n",
       "                        '541b7486-28fc-4327-bdb1-5470b2131623',\n",
       "                        [{\"name\": \"Confirmed Cases\", \"orientation\": \"v\", \"text\": [1761.0, 1069.0, 969.0, 700.0, 564.0, 504.0, 452.0, 432.0, 381.0, 374.0, 226.0, 224.0, 185.0, 151.0, 134.0, 64.0, 54.0, 35.0, 32.0, 29.0, 25.0, 19.0, 17.0, 11.0, 7.0, 7.0, 2.0, 2.0, 1.0, 1.0], \"textposition\": \"outside\", \"texttemplate\": \"%{text:.2s}\", \"type\": \"bar\", \"x\": [\"Maharashtra\", \"Delhi\", \"Tamil Nadu\", \"Rajasthan\", \"Madhya Pradesh\", \"Telangana\", \"Uttar Pradesh\", \"Gujarat\", \"Andhra Pradesh\", \"Kerala\", \"Karnataka\", \"Jammu and Kashmir\", \"Haryana\", \"Punjab\", \"West Bengal\", \"Bihar\", \"Odisha\", \"Uttarakhand\", \"Himachal Pradesh\", \"Assam\", \"Chhattisgarh\", \"Chandigarh\", \"Jharkhand\", \"Andaman and Nicobar Islands\", \"Goa\", \"Puducherry\", \"Manipur\", \"Tripura\", \"Mizoram\", \"Arunachal Pradesh\"], \"y\": [1761, 1069, 969, 700, 564, 504, 452, 432, 381, 374, 226, 224, 185, 151, 134, 64, 54, 35, 32, 29, 25, 19, 17, 11, 7, 7, 2, 2, 1, 1]}, {\"name\": \"Beds Available\", \"orientation\": \"v\", \"text\": [93794.0, 20572.0, 152974.0, 94020.0, 58180.0, 32694.0, 136518.0, 64559.0, 73759.0, 73241.0, 98477.0, 25810.0, 27221.0, 25137.0, 90531.0, 29962.0, 29175.0, 13228.0, 20036.0, 41003.0, 24494.0, 3756.0, 19088.0, 2396.0, 5476.0, 4654.0, 4022.0, 7175.0, 3520.0, 6592.0], \"textposition\": \"outside\", \"texttemplate\": \"%{text:.2s}\", \"type\": \"bar\", \"x\": [\"Maharashtra\", \"Delhi\", \"Tamil Nadu\", \"Rajasthan\", \"Madhya Pradesh\", \"Telangana\", \"Uttar Pradesh\", \"Gujarat\", \"Andhra Pradesh\", \"Kerala\", \"Karnataka\", \"Jammu and Kashmir\", \"Haryana\", \"Punjab\", \"West Bengal\", \"Bihar\", \"Odisha\", \"Uttarakhand\", \"Himachal Pradesh\", \"Assam\", \"Chhattisgarh\", \"Chandigarh\", \"Jharkhand\", \"Andaman and Nicobar Islands\", \"Goa\", \"Puducherry\", \"Manipur\", \"Tripura\", \"Mizoram\", \"Arunachal Pradesh\"], \"y\": [93794, 20572, 152974, 94020, 58180, 32694, 136518, 64559, 73759, 73241, 98477, 25810, 27221, 25137, 90531, 29962, 29175, 13228, 20036, 41003, 24494, 3756, 19088, 2396, 5476, 4654, 4022, 7175, 3520, 6592]}],\n",
       "                        {\"barmode\": \"group\", \"template\": {\"data\": {\"bar\": [{\"error_x\": {\"color\": \"#2a3f5f\"}, \"error_y\": {\"color\": \"#2a3f5f\"}, \"marker\": {\"line\": {\"color\": \"#E5ECF6\", \"width\": 0.5}}, \"type\": \"bar\"}], \"barpolar\": [{\"marker\": {\"line\": {\"color\": \"#E5ECF6\", \"width\": 0.5}}, \"type\": \"barpolar\"}], \"carpet\": [{\"aaxis\": {\"endlinecolor\": \"#2a3f5f\", \"gridcolor\": \"white\", \"linecolor\": \"white\", \"minorgridcolor\": \"white\", \"startlinecolor\": \"#2a3f5f\"}, \"baxis\": {\"endlinecolor\": \"#2a3f5f\", \"gridcolor\": \"white\", \"linecolor\": \"white\", \"minorgridcolor\": \"white\", \"startlinecolor\": \"#2a3f5f\"}, \"type\": \"carpet\"}], \"choropleth\": [{\"colorbar\": {\"outlinewidth\": 0, \"ticks\": \"\"}, \"type\": \"choropleth\"}], \"contour\": [{\"colorbar\": {\"outlinewidth\": 0, \"ticks\": \"\"}, \"colorscale\": [[0.0, \"#0d0887\"], [0.1111111111111111, \"#46039f\"], [0.2222222222222222, \"#7201a8\"], [0.3333333333333333, \"#9c179e\"], [0.4444444444444444, \"#bd3786\"], [0.5555555555555556, \"#d8576b\"], [0.6666666666666666, \"#ed7953\"], [0.7777777777777778, \"#fb9f3a\"], [0.8888888888888888, \"#fdca26\"], [1.0, \"#f0f921\"]], \"type\": \"contour\"}], \"contourcarpet\": [{\"colorbar\": {\"outlinewidth\": 0, \"ticks\": \"\"}, \"type\": \"contourcarpet\"}], \"heatmap\": [{\"colorbar\": {\"outlinewidth\": 0, \"ticks\": \"\"}, \"colorscale\": [[0.0, \"#0d0887\"], [0.1111111111111111, \"#46039f\"], [0.2222222222222222, \"#7201a8\"], [0.3333333333333333, \"#9c179e\"], [0.4444444444444444, \"#bd3786\"], [0.5555555555555556, \"#d8576b\"], [0.6666666666666666, \"#ed7953\"], [0.7777777777777778, \"#fb9f3a\"], [0.8888888888888888, \"#fdca26\"], [1.0, \"#f0f921\"]], \"type\": \"heatmap\"}], \"heatmapgl\": [{\"colorbar\": {\"outlinewidth\": 0, \"ticks\": \"\"}, \"colorscale\": [[0.0, \"#0d0887\"], [0.1111111111111111, \"#46039f\"], [0.2222222222222222, \"#7201a8\"], [0.3333333333333333, \"#9c179e\"], [0.4444444444444444, \"#bd3786\"], [0.5555555555555556, \"#d8576b\"], [0.6666666666666666, \"#ed7953\"], [0.7777777777777778, \"#fb9f3a\"], [0.8888888888888888, \"#fdca26\"], [1.0, \"#f0f921\"]], \"type\": \"heatmapgl\"}], \"histogram\": [{\"marker\": {\"colorbar\": {\"outlinewidth\": 0, \"ticks\": \"\"}}, \"type\": \"histogram\"}], \"histogram2d\": [{\"colorbar\": {\"outlinewidth\": 0, \"ticks\": \"\"}, \"colorscale\": [[0.0, \"#0d0887\"], [0.1111111111111111, \"#46039f\"], [0.2222222222222222, \"#7201a8\"], [0.3333333333333333, \"#9c179e\"], [0.4444444444444444, \"#bd3786\"], [0.5555555555555556, \"#d8576b\"], [0.6666666666666666, \"#ed7953\"], [0.7777777777777778, \"#fb9f3a\"], [0.8888888888888888, \"#fdca26\"], [1.0, \"#f0f921\"]], \"type\": \"histogram2d\"}], \"histogram2dcontour\": [{\"colorbar\": {\"outlinewidth\": 0, \"ticks\": \"\"}, \"colorscale\": [[0.0, \"#0d0887\"], [0.1111111111111111, \"#46039f\"], [0.2222222222222222, \"#7201a8\"], [0.3333333333333333, \"#9c179e\"], [0.4444444444444444, \"#bd3786\"], [0.5555555555555556, \"#d8576b\"], [0.6666666666666666, \"#ed7953\"], [0.7777777777777778, \"#fb9f3a\"], [0.8888888888888888, \"#fdca26\"], [1.0, \"#f0f921\"]], \"type\": \"histogram2dcontour\"}], \"mesh3d\": [{\"colorbar\": {\"outlinewidth\": 0, \"ticks\": \"\"}, \"type\": \"mesh3d\"}], \"parcoords\": [{\"line\": {\"colorbar\": {\"outlinewidth\": 0, \"ticks\": \"\"}}, \"type\": \"parcoords\"}], \"pie\": [{\"automargin\": true, \"type\": \"pie\"}], \"scatter\": [{\"marker\": {\"colorbar\": {\"outlinewidth\": 0, \"ticks\": \"\"}}, \"type\": \"scatter\"}], \"scatter3d\": [{\"line\": {\"colorbar\": {\"outlinewidth\": 0, \"ticks\": \"\"}}, \"marker\": {\"colorbar\": {\"outlinewidth\": 0, \"ticks\": \"\"}}, \"type\": \"scatter3d\"}], \"scattercarpet\": [{\"marker\": {\"colorbar\": {\"outlinewidth\": 0, \"ticks\": \"\"}}, \"type\": \"scattercarpet\"}], \"scattergeo\": [{\"marker\": {\"colorbar\": {\"outlinewidth\": 0, \"ticks\": \"\"}}, \"type\": \"scattergeo\"}], \"scattergl\": [{\"marker\": {\"colorbar\": {\"outlinewidth\": 0, \"ticks\": \"\"}}, \"type\": \"scattergl\"}], \"scattermapbox\": [{\"marker\": {\"colorbar\": {\"outlinewidth\": 0, \"ticks\": \"\"}}, \"type\": \"scattermapbox\"}], \"scatterpolar\": [{\"marker\": {\"colorbar\": {\"outlinewidth\": 0, \"ticks\": \"\"}}, \"type\": \"scatterpolar\"}], \"scatterpolargl\": [{\"marker\": {\"colorbar\": {\"outlinewidth\": 0, \"ticks\": \"\"}}, \"type\": \"scatterpolargl\"}], \"scatterternary\": [{\"marker\": {\"colorbar\": {\"outlinewidth\": 0, \"ticks\": \"\"}}, \"type\": \"scatterternary\"}], \"surface\": [{\"colorbar\": {\"outlinewidth\": 0, \"ticks\": \"\"}, \"colorscale\": [[0.0, \"#0d0887\"], [0.1111111111111111, \"#46039f\"], [0.2222222222222222, \"#7201a8\"], [0.3333333333333333, \"#9c179e\"], [0.4444444444444444, \"#bd3786\"], [0.5555555555555556, \"#d8576b\"], [0.6666666666666666, \"#ed7953\"], [0.7777777777777778, \"#fb9f3a\"], [0.8888888888888888, \"#fdca26\"], [1.0, \"#f0f921\"]], \"type\": \"surface\"}], \"table\": [{\"cells\": {\"fill\": {\"color\": \"#EBF0F8\"}, \"line\": {\"color\": \"white\"}}, \"header\": {\"fill\": {\"color\": \"#C8D4E3\"}, \"line\": {\"color\": \"white\"}}, \"type\": \"table\"}]}, \"layout\": {\"annotationdefaults\": {\"arrowcolor\": \"#2a3f5f\", \"arrowhead\": 0, \"arrowwidth\": 1}, \"coloraxis\": {\"colorbar\": {\"outlinewidth\": 0, \"ticks\": \"\"}}, \"colorscale\": {\"diverging\": [[0, \"#8e0152\"], [0.1, \"#c51b7d\"], [0.2, \"#de77ae\"], [0.3, \"#f1b6da\"], [0.4, \"#fde0ef\"], [0.5, \"#f7f7f7\"], [0.6, \"#e6f5d0\"], [0.7, \"#b8e186\"], [0.8, \"#7fbc41\"], [0.9, \"#4d9221\"], [1, \"#276419\"]], \"sequential\": [[0.0, \"#0d0887\"], [0.1111111111111111, \"#46039f\"], [0.2222222222222222, \"#7201a8\"], [0.3333333333333333, \"#9c179e\"], [0.4444444444444444, \"#bd3786\"], [0.5555555555555556, \"#d8576b\"], [0.6666666666666666, \"#ed7953\"], [0.7777777777777778, \"#fb9f3a\"], [0.8888888888888888, \"#fdca26\"], [1.0, \"#f0f921\"]], \"sequentialminus\": [[0.0, \"#0d0887\"], [0.1111111111111111, \"#46039f\"], [0.2222222222222222, \"#7201a8\"], [0.3333333333333333, \"#9c179e\"], [0.4444444444444444, \"#bd3786\"], [0.5555555555555556, \"#d8576b\"], [0.6666666666666666, \"#ed7953\"], [0.7777777777777778, \"#fb9f3a\"], [0.8888888888888888, \"#fdca26\"], [1.0, \"#f0f921\"]]}, \"colorway\": [\"#636efa\", \"#EF553B\", \"#00cc96\", \"#ab63fa\", \"#FFA15A\", \"#19d3f3\", \"#FF6692\", \"#B6E880\", \"#FF97FF\", \"#FECB52\"], \"font\": {\"color\": \"#2a3f5f\"}, \"geo\": {\"bgcolor\": \"white\", \"lakecolor\": \"white\", \"landcolor\": \"#E5ECF6\", \"showlakes\": true, \"showland\": true, \"subunitcolor\": \"white\"}, \"hoverlabel\": {\"align\": \"left\"}, \"hovermode\": \"closest\", \"mapbox\": {\"style\": \"light\"}, \"paper_bgcolor\": \"white\", \"plot_bgcolor\": \"#E5ECF6\", \"polar\": {\"angularaxis\": {\"gridcolor\": \"white\", \"linecolor\": \"white\", \"ticks\": \"\"}, \"bgcolor\": \"#E5ECF6\", \"radialaxis\": {\"gridcolor\": \"white\", \"linecolor\": \"white\", \"ticks\": \"\"}}, \"scene\": {\"xaxis\": {\"backgroundcolor\": \"#E5ECF6\", \"gridcolor\": \"white\", \"gridwidth\": 2, \"linecolor\": \"white\", \"showbackground\": true, \"ticks\": \"\", \"zerolinecolor\": \"white\"}, \"yaxis\": {\"backgroundcolor\": \"#E5ECF6\", \"gridcolor\": \"white\", \"gridwidth\": 2, \"linecolor\": \"white\", \"showbackground\": true, \"ticks\": \"\", \"zerolinecolor\": \"white\"}, \"zaxis\": {\"backgroundcolor\": \"#E5ECF6\", \"gridcolor\": \"white\", \"gridwidth\": 2, \"linecolor\": \"white\", \"showbackground\": true, \"ticks\": \"\", \"zerolinecolor\": \"white\"}}, \"shapedefaults\": {\"line\": {\"color\": \"#2a3f5f\"}}, \"ternary\": {\"aaxis\": {\"gridcolor\": \"white\", \"linecolor\": \"white\", \"ticks\": \"\"}, \"baxis\": {\"gridcolor\": \"white\", \"linecolor\": \"white\", \"ticks\": \"\"}, \"bgcolor\": \"#E5ECF6\", \"caxis\": {\"gridcolor\": \"white\", \"linecolor\": \"white\", \"ticks\": \"\"}}, \"title\": {\"x\": 0.05}, \"xaxis\": {\"automargin\": true, \"gridcolor\": \"white\", \"linecolor\": \"white\", \"ticks\": \"\", \"title\": {\"standoff\": 15}, \"zerolinecolor\": \"white\", \"zerolinewidth\": 2}, \"yaxis\": {\"automargin\": true, \"gridcolor\": \"white\", \"linecolor\": \"white\", \"ticks\": \"\", \"title\": {\"standoff\": 15}, \"zerolinecolor\": \"white\", \"zerolinewidth\": 2}}}, \"title\": {\"text\": \"State/UT breakdown of Confirmed Cases and Number of Beds available\"}},\n",
       "                        {\"responsive\": true}\n",
       "                    ).then(function(){\n",
       "                            \n",
       "var gd = document.getElementById('541b7486-28fc-4327-bdb1-5470b2131623');\n",
       "var x = new MutationObserver(function (mutations, observer) {{\n",
       "        var display = window.getComputedStyle(gd).display;\n",
       "        if (!display || display === 'none') {{\n",
       "            console.log([gd, 'removed!']);\n",
       "            Plotly.purge(gd);\n",
       "            observer.disconnect();\n",
       "        }}\n",
       "}});\n",
       "\n",
       "// Listen for the removal of the full notebook cells\n",
       "var notebookContainer = gd.closest('#notebook-container');\n",
       "if (notebookContainer) {{\n",
       "    x.observe(notebookContainer, {childList: true});\n",
       "}}\n",
       "\n",
       "// Listen for the clearing of the current output cell\n",
       "var outputEl = gd.closest('.output');\n",
       "if (outputEl) {{\n",
       "    x.observe(outputEl, {childList: true});\n",
       "}}\n",
       "\n",
       "                        })\n",
       "                };\n",
       "                \n",
       "            </script>\n",
       "        </div>\n",
       "</body>\n",
       "</html>"
      ]
     },
     "metadata": {
      "tags": []
     },
     "output_type": "display_data"
    }
   ],
   "source": [
    "fig = go.Figure(data=[\n",
    "    go.Bar(name='Confirmed Cases', x=df_state_beds['State/UT'], y=df_state_beds['Confirmed'],text=df_state_beds['Confirmed'],textposition='auto',orientation='v'),\n",
    "    go.Bar(name='Beds Available', x=df_state_beds['State/UT'], y=df_state_beds['Total_Beds'],text=df_state_beds['Total_Beds'],textposition='auto',orientation='v')\n",
    "    # go.Bar(name='Deaths', x=df_covid['Date'], y=df_covid['Deaths'])\n",
    "])\n",
    "fig.update_traces(texttemplate='%{text:.2s}',textposition='outside')\n",
    "fig.update_layout(barmode='group', title='State/UT breakdown of Confirmed Cases and Number of Beds available')\n",
    "# fig.update_xaxes(rangeslider_visible=True)\n",
    "fig.show()"
   ]
  },
  {
   "cell_type": "code",
   "execution_count": 0,
   "metadata": {
    "colab": {},
    "colab_type": "code",
    "id": "EtvlBFTdfeF7"
   },
   "outputs": [],
   "source": [
    "df_total_cases_beds = pd.DataFrame({'Total':['Total'],'Total Confirmed':[df_state_beds.Confirmed.sum()],'Total Deaths':[df_state_beds.Deaths.sum()],\n",
    "                       'Total Cured':[df_state_beds.Cured.sum()],'Total_Beds':[df_state_beds.Total_Beds.sum()]})"
   ]
  },
  {
   "cell_type": "code",
   "execution_count": 0,
   "metadata": {
    "colab": {
     "base_uri": "https://localhost:8080/",
     "height": 542
    },
    "colab_type": "code",
    "id": "qCe7aoeygktq",
    "outputId": "a7057175-f498-4819-c3b1-85a2e3b86f5e"
   },
   "outputs": [
    {
     "data": {
      "text/html": [
       "<html>\n",
       "<head><meta charset=\"utf-8\" /></head>\n",
       "<body>\n",
       "    <div>\n",
       "            <script src=\"https://cdnjs.cloudflare.com/ajax/libs/mathjax/2.7.5/MathJax.js?config=TeX-AMS-MML_SVG\"></script><script type=\"text/javascript\">if (window.MathJax) {MathJax.Hub.Config({SVG: {font: \"STIX-Web\"}});}</script>\n",
       "                <script type=\"text/javascript\">window.PlotlyConfig = {MathJaxConfig: 'local'};</script>\n",
       "        <script src=\"https://cdn.plot.ly/plotly-latest.min.js\"></script>    \n",
       "            <div id=\"59c4e9db-4199-4e40-ac15-d1bff30f5e36\" class=\"plotly-graph-div\" style=\"height:525px; width:100%;\"></div>\n",
       "            <script type=\"text/javascript\">\n",
       "                \n",
       "                    window.PLOTLYENV=window.PLOTLYENV || {};\n",
       "                    \n",
       "                if (document.getElementById(\"59c4e9db-4199-4e40-ac15-d1bff30f5e36\")) {\n",
       "                    Plotly.newPlot(\n",
       "                        '59c4e9db-4199-4e40-ac15-d1bff30f5e36',\n",
       "                        [{\"name\": \"Total Confirmed\", \"text\": [8432.0], \"textposition\": \"outside\", \"texttemplate\": \"%{text:.2s}\", \"type\": \"bar\", \"x\": [\"Total\"], \"y\": [8432]}, {\"name\": \"Total Deaths\", \"text\": [273.0], \"textposition\": \"outside\", \"texttemplate\": \"%{text:.2s}\", \"type\": \"bar\", \"x\": [\"Total\"], \"y\": [273]}, {\"marker\": {\"color\": \"crimson\"}, \"name\": \"Total Beds Available\", \"text\": [1282064.0], \"textposition\": \"outside\", \"texttemplate\": \"%{text:.2s}\", \"type\": \"bar\", \"x\": [\"Total\"], \"y\": [1282064]}],\n",
       "                        {\"template\": {\"data\": {\"bar\": [{\"error_x\": {\"color\": \"#2a3f5f\"}, \"error_y\": {\"color\": \"#2a3f5f\"}, \"marker\": {\"line\": {\"color\": \"#E5ECF6\", \"width\": 0.5}}, \"type\": \"bar\"}], \"barpolar\": [{\"marker\": {\"line\": {\"color\": \"#E5ECF6\", \"width\": 0.5}}, \"type\": \"barpolar\"}], \"carpet\": [{\"aaxis\": {\"endlinecolor\": \"#2a3f5f\", \"gridcolor\": \"white\", \"linecolor\": \"white\", \"minorgridcolor\": \"white\", \"startlinecolor\": \"#2a3f5f\"}, \"baxis\": {\"endlinecolor\": \"#2a3f5f\", \"gridcolor\": \"white\", \"linecolor\": \"white\", \"minorgridcolor\": \"white\", \"startlinecolor\": \"#2a3f5f\"}, \"type\": \"carpet\"}], \"choropleth\": [{\"colorbar\": {\"outlinewidth\": 0, \"ticks\": \"\"}, \"type\": \"choropleth\"}], \"contour\": [{\"colorbar\": {\"outlinewidth\": 0, \"ticks\": \"\"}, \"colorscale\": [[0.0, \"#0d0887\"], [0.1111111111111111, \"#46039f\"], [0.2222222222222222, \"#7201a8\"], [0.3333333333333333, \"#9c179e\"], [0.4444444444444444, \"#bd3786\"], [0.5555555555555556, \"#d8576b\"], [0.6666666666666666, \"#ed7953\"], [0.7777777777777778, \"#fb9f3a\"], [0.8888888888888888, \"#fdca26\"], [1.0, \"#f0f921\"]], \"type\": \"contour\"}], \"contourcarpet\": [{\"colorbar\": {\"outlinewidth\": 0, \"ticks\": \"\"}, \"type\": \"contourcarpet\"}], \"heatmap\": [{\"colorbar\": {\"outlinewidth\": 0, \"ticks\": \"\"}, \"colorscale\": [[0.0, \"#0d0887\"], [0.1111111111111111, \"#46039f\"], [0.2222222222222222, \"#7201a8\"], [0.3333333333333333, \"#9c179e\"], [0.4444444444444444, \"#bd3786\"], [0.5555555555555556, \"#d8576b\"], [0.6666666666666666, \"#ed7953\"], [0.7777777777777778, \"#fb9f3a\"], [0.8888888888888888, \"#fdca26\"], [1.0, \"#f0f921\"]], \"type\": \"heatmap\"}], \"heatmapgl\": [{\"colorbar\": {\"outlinewidth\": 0, \"ticks\": \"\"}, \"colorscale\": [[0.0, \"#0d0887\"], [0.1111111111111111, \"#46039f\"], [0.2222222222222222, \"#7201a8\"], [0.3333333333333333, \"#9c179e\"], [0.4444444444444444, \"#bd3786\"], [0.5555555555555556, \"#d8576b\"], [0.6666666666666666, \"#ed7953\"], [0.7777777777777778, \"#fb9f3a\"], [0.8888888888888888, \"#fdca26\"], [1.0, \"#f0f921\"]], \"type\": \"heatmapgl\"}], \"histogram\": [{\"marker\": {\"colorbar\": {\"outlinewidth\": 0, \"ticks\": \"\"}}, \"type\": \"histogram\"}], \"histogram2d\": [{\"colorbar\": {\"outlinewidth\": 0, \"ticks\": \"\"}, \"colorscale\": [[0.0, \"#0d0887\"], [0.1111111111111111, \"#46039f\"], [0.2222222222222222, \"#7201a8\"], [0.3333333333333333, \"#9c179e\"], [0.4444444444444444, \"#bd3786\"], [0.5555555555555556, \"#d8576b\"], [0.6666666666666666, \"#ed7953\"], [0.7777777777777778, \"#fb9f3a\"], [0.8888888888888888, \"#fdca26\"], [1.0, \"#f0f921\"]], \"type\": \"histogram2d\"}], \"histogram2dcontour\": [{\"colorbar\": {\"outlinewidth\": 0, \"ticks\": \"\"}, \"colorscale\": [[0.0, \"#0d0887\"], [0.1111111111111111, \"#46039f\"], [0.2222222222222222, \"#7201a8\"], [0.3333333333333333, \"#9c179e\"], [0.4444444444444444, \"#bd3786\"], [0.5555555555555556, \"#d8576b\"], [0.6666666666666666, \"#ed7953\"], [0.7777777777777778, \"#fb9f3a\"], [0.8888888888888888, \"#fdca26\"], [1.0, \"#f0f921\"]], \"type\": \"histogram2dcontour\"}], \"mesh3d\": [{\"colorbar\": {\"outlinewidth\": 0, \"ticks\": \"\"}, \"type\": \"mesh3d\"}], \"parcoords\": [{\"line\": {\"colorbar\": {\"outlinewidth\": 0, \"ticks\": \"\"}}, \"type\": \"parcoords\"}], \"pie\": [{\"automargin\": true, \"type\": \"pie\"}], \"scatter\": [{\"marker\": {\"colorbar\": {\"outlinewidth\": 0, \"ticks\": \"\"}}, \"type\": \"scatter\"}], \"scatter3d\": [{\"line\": {\"colorbar\": {\"outlinewidth\": 0, \"ticks\": \"\"}}, \"marker\": {\"colorbar\": {\"outlinewidth\": 0, \"ticks\": \"\"}}, \"type\": \"scatter3d\"}], \"scattercarpet\": [{\"marker\": {\"colorbar\": {\"outlinewidth\": 0, \"ticks\": \"\"}}, \"type\": \"scattercarpet\"}], \"scattergeo\": [{\"marker\": {\"colorbar\": {\"outlinewidth\": 0, \"ticks\": \"\"}}, \"type\": \"scattergeo\"}], \"scattergl\": [{\"marker\": {\"colorbar\": {\"outlinewidth\": 0, \"ticks\": \"\"}}, \"type\": \"scattergl\"}], \"scattermapbox\": [{\"marker\": {\"colorbar\": {\"outlinewidth\": 0, \"ticks\": \"\"}}, \"type\": \"scattermapbox\"}], \"scatterpolar\": [{\"marker\": {\"colorbar\": {\"outlinewidth\": 0, \"ticks\": \"\"}}, \"type\": \"scatterpolar\"}], \"scatterpolargl\": [{\"marker\": {\"colorbar\": {\"outlinewidth\": 0, \"ticks\": \"\"}}, \"type\": \"scatterpolargl\"}], \"scatterternary\": [{\"marker\": {\"colorbar\": {\"outlinewidth\": 0, \"ticks\": \"\"}}, \"type\": \"scatterternary\"}], \"surface\": [{\"colorbar\": {\"outlinewidth\": 0, \"ticks\": \"\"}, \"colorscale\": [[0.0, \"#0d0887\"], [0.1111111111111111, \"#46039f\"], [0.2222222222222222, \"#7201a8\"], [0.3333333333333333, \"#9c179e\"], [0.4444444444444444, \"#bd3786\"], [0.5555555555555556, \"#d8576b\"], [0.6666666666666666, \"#ed7953\"], [0.7777777777777778, \"#fb9f3a\"], [0.8888888888888888, \"#fdca26\"], [1.0, \"#f0f921\"]], \"type\": \"surface\"}], \"table\": [{\"cells\": {\"fill\": {\"color\": \"#EBF0F8\"}, \"line\": {\"color\": \"white\"}}, \"header\": {\"fill\": {\"color\": \"#C8D4E3\"}, \"line\": {\"color\": \"white\"}}, \"type\": \"table\"}]}, \"layout\": {\"annotationdefaults\": {\"arrowcolor\": \"#2a3f5f\", \"arrowhead\": 0, \"arrowwidth\": 1}, \"coloraxis\": {\"colorbar\": {\"outlinewidth\": 0, \"ticks\": \"\"}}, \"colorscale\": {\"diverging\": [[0, \"#8e0152\"], [0.1, \"#c51b7d\"], [0.2, \"#de77ae\"], [0.3, \"#f1b6da\"], [0.4, \"#fde0ef\"], [0.5, \"#f7f7f7\"], [0.6, \"#e6f5d0\"], [0.7, \"#b8e186\"], [0.8, \"#7fbc41\"], [0.9, \"#4d9221\"], [1, \"#276419\"]], \"sequential\": [[0.0, \"#0d0887\"], [0.1111111111111111, \"#46039f\"], [0.2222222222222222, \"#7201a8\"], [0.3333333333333333, \"#9c179e\"], [0.4444444444444444, \"#bd3786\"], [0.5555555555555556, \"#d8576b\"], [0.6666666666666666, \"#ed7953\"], [0.7777777777777778, \"#fb9f3a\"], [0.8888888888888888, \"#fdca26\"], [1.0, \"#f0f921\"]], \"sequentialminus\": [[0.0, \"#0d0887\"], [0.1111111111111111, \"#46039f\"], [0.2222222222222222, \"#7201a8\"], [0.3333333333333333, \"#9c179e\"], [0.4444444444444444, \"#bd3786\"], [0.5555555555555556, \"#d8576b\"], [0.6666666666666666, \"#ed7953\"], [0.7777777777777778, \"#fb9f3a\"], [0.8888888888888888, \"#fdca26\"], [1.0, \"#f0f921\"]]}, \"colorway\": [\"#636efa\", \"#EF553B\", \"#00cc96\", \"#ab63fa\", \"#FFA15A\", \"#19d3f3\", \"#FF6692\", \"#B6E880\", \"#FF97FF\", \"#FECB52\"], \"font\": {\"color\": \"#2a3f5f\"}, \"geo\": {\"bgcolor\": \"white\", \"lakecolor\": \"white\", \"landcolor\": \"#E5ECF6\", \"showlakes\": true, \"showland\": true, \"subunitcolor\": \"white\"}, \"hoverlabel\": {\"align\": \"left\"}, \"hovermode\": \"closest\", \"mapbox\": {\"style\": \"light\"}, \"paper_bgcolor\": \"white\", \"plot_bgcolor\": \"#E5ECF6\", \"polar\": {\"angularaxis\": {\"gridcolor\": \"white\", \"linecolor\": \"white\", \"ticks\": \"\"}, \"bgcolor\": \"#E5ECF6\", \"radialaxis\": {\"gridcolor\": \"white\", \"linecolor\": \"white\", \"ticks\": \"\"}}, \"scene\": {\"xaxis\": {\"backgroundcolor\": \"#E5ECF6\", \"gridcolor\": \"white\", \"gridwidth\": 2, \"linecolor\": \"white\", \"showbackground\": true, \"ticks\": \"\", \"zerolinecolor\": \"white\"}, \"yaxis\": {\"backgroundcolor\": \"#E5ECF6\", \"gridcolor\": \"white\", \"gridwidth\": 2, \"linecolor\": \"white\", \"showbackground\": true, \"ticks\": \"\", \"zerolinecolor\": \"white\"}, \"zaxis\": {\"backgroundcolor\": \"#E5ECF6\", \"gridcolor\": \"white\", \"gridwidth\": 2, \"linecolor\": \"white\", \"showbackground\": true, \"ticks\": \"\", \"zerolinecolor\": \"white\"}}, \"shapedefaults\": {\"line\": {\"color\": \"#2a3f5f\"}}, \"ternary\": {\"aaxis\": {\"gridcolor\": \"white\", \"linecolor\": \"white\", \"ticks\": \"\"}, \"baxis\": {\"gridcolor\": \"white\", \"linecolor\": \"white\", \"ticks\": \"\"}, \"bgcolor\": \"#E5ECF6\", \"caxis\": {\"gridcolor\": \"white\", \"linecolor\": \"white\", \"ticks\": \"\"}}, \"title\": {\"x\": 0.05}, \"xaxis\": {\"automargin\": true, \"gridcolor\": \"white\", \"linecolor\": \"white\", \"ticks\": \"\", \"title\": {\"standoff\": 15}, \"zerolinecolor\": \"white\", \"zerolinewidth\": 2}, \"yaxis\": {\"automargin\": true, \"gridcolor\": \"white\", \"linecolor\": \"white\", \"ticks\": \"\", \"title\": {\"standoff\": 15}, \"zerolinecolor\": \"white\", \"zerolinewidth\": 2}}}, \"title\": {\"text\": \"Total number cases versus number of beds available in India\"}},\n",
       "                        {\"responsive\": true}\n",
       "                    ).then(function(){\n",
       "                            \n",
       "var gd = document.getElementById('59c4e9db-4199-4e40-ac15-d1bff30f5e36');\n",
       "var x = new MutationObserver(function (mutations, observer) {{\n",
       "        var display = window.getComputedStyle(gd).display;\n",
       "        if (!display || display === 'none') {{\n",
       "            console.log([gd, 'removed!']);\n",
       "            Plotly.purge(gd);\n",
       "            observer.disconnect();\n",
       "        }}\n",
       "}});\n",
       "\n",
       "// Listen for the removal of the full notebook cells\n",
       "var notebookContainer = gd.closest('#notebook-container');\n",
       "if (notebookContainer) {{\n",
       "    x.observe(notebookContainer, {childList: true});\n",
       "}}\n",
       "\n",
       "// Listen for the clearing of the current output cell\n",
       "var outputEl = gd.closest('.output');\n",
       "if (outputEl) {{\n",
       "    x.observe(outputEl, {childList: true});\n",
       "}}\n",
       "\n",
       "                        })\n",
       "                };\n",
       "                \n",
       "            </script>\n",
       "        </div>\n",
       "</body>\n",
       "</html>"
      ]
     },
     "metadata": {
      "tags": []
     },
     "output_type": "display_data"
    }
   ],
   "source": [
    "fig = go.Figure(data=[\n",
    "          go.Bar(name='Total Confirmed',x=df_total_cases_beds['Total'],y=df_total_cases_beds['Total Confirmed'],text=df_total_cases_beds['Total Confirmed']),\n",
    "          go.Bar(name='Total Deaths',x=df_total_cases_beds['Total'],y=df_total_cases_beds['Total Deaths'],text=df_total_cases_beds['Total Deaths']),\n",
    "          go.Bar(name='Total Beds Available',x=df_total_cases_beds['Total'],y=df_total_cases_beds['Total_Beds'],text=df_total_cases_beds['Total_Beds'],marker_color='crimson')\n",
    "          \n",
    "    ])\n",
    "fig.update_traces(texttemplate='%{text:.2s}',textposition='outside')\n",
    "fig.update_layout(title='Total number cases versus number of beds available in India')\n",
    "fig.show()\n"
   ]
  },
  {
   "cell_type": "code",
   "execution_count": 0,
   "metadata": {
    "colab": {
     "base_uri": "https://localhost:8080/",
     "height": 542
    },
    "colab_type": "code",
    "id": "rY2cRzChn5Jm",
    "outputId": "369587c5-ea5a-4b67-b6df-e2ab28272a76"
   },
   "outputs": [
    {
     "data": {
      "text/html": [
       "<html>\n",
       "<head><meta charset=\"utf-8\" /></head>\n",
       "<body>\n",
       "    <div>\n",
       "            <script src=\"https://cdnjs.cloudflare.com/ajax/libs/mathjax/2.7.5/MathJax.js?config=TeX-AMS-MML_SVG\"></script><script type=\"text/javascript\">if (window.MathJax) {MathJax.Hub.Config({SVG: {font: \"STIX-Web\"}});}</script>\n",
       "                <script type=\"text/javascript\">window.PlotlyConfig = {MathJaxConfig: 'local'};</script>\n",
       "        <script src=\"https://cdn.plot.ly/plotly-latest.min.js\"></script>    \n",
       "            <div id=\"a61ec7c8-8273-495f-84f6-a9e859e536d0\" class=\"plotly-graph-div\" style=\"height:525px; width:100%;\"></div>\n",
       "            <script type=\"text/javascript\">\n",
       "                \n",
       "                    window.PLOTLYENV=window.PLOTLYENV || {};\n",
       "                    \n",
       "                if (document.getElementById(\"a61ec7c8-8273-495f-84f6-a9e859e536d0\")) {\n",
       "                    Plotly.newPlot(\n",
       "                        'a61ec7c8-8273-495f-84f6-a9e859e536d0',\n",
       "                        [{\"labels\": [\"0-9\", \"10-19\", \"20-29\", \"30-39\", \"40-49\", \"50-59\", \"60-69\", \"70-79\", \">=80\", \">=90\"], \"pull\": [0, 0, 0.2, 0, 0, 0, 0, 0, 0, 0, 0], \"type\": \"pie\", \"values\": [22, 27, 172, 146, 112, 77, 89, 28, 10, 9]}],\n",
       "                        {\"template\": {\"data\": {\"bar\": [{\"error_x\": {\"color\": \"#2a3f5f\"}, \"error_y\": {\"color\": \"#2a3f5f\"}, \"marker\": {\"line\": {\"color\": \"#E5ECF6\", \"width\": 0.5}}, \"type\": \"bar\"}], \"barpolar\": [{\"marker\": {\"line\": {\"color\": \"#E5ECF6\", \"width\": 0.5}}, \"type\": \"barpolar\"}], \"carpet\": [{\"aaxis\": {\"endlinecolor\": \"#2a3f5f\", \"gridcolor\": \"white\", \"linecolor\": \"white\", \"minorgridcolor\": \"white\", \"startlinecolor\": \"#2a3f5f\"}, \"baxis\": {\"endlinecolor\": \"#2a3f5f\", \"gridcolor\": \"white\", \"linecolor\": \"white\", \"minorgridcolor\": \"white\", \"startlinecolor\": \"#2a3f5f\"}, \"type\": \"carpet\"}], \"choropleth\": [{\"colorbar\": {\"outlinewidth\": 0, \"ticks\": \"\"}, \"type\": \"choropleth\"}], \"contour\": [{\"colorbar\": {\"outlinewidth\": 0, \"ticks\": \"\"}, \"colorscale\": [[0.0, \"#0d0887\"], [0.1111111111111111, \"#46039f\"], [0.2222222222222222, \"#7201a8\"], [0.3333333333333333, \"#9c179e\"], [0.4444444444444444, \"#bd3786\"], [0.5555555555555556, \"#d8576b\"], [0.6666666666666666, \"#ed7953\"], [0.7777777777777778, \"#fb9f3a\"], [0.8888888888888888, \"#fdca26\"], [1.0, \"#f0f921\"]], \"type\": \"contour\"}], \"contourcarpet\": [{\"colorbar\": {\"outlinewidth\": 0, \"ticks\": \"\"}, \"type\": \"contourcarpet\"}], \"heatmap\": [{\"colorbar\": {\"outlinewidth\": 0, \"ticks\": \"\"}, \"colorscale\": [[0.0, \"#0d0887\"], [0.1111111111111111, \"#46039f\"], [0.2222222222222222, \"#7201a8\"], [0.3333333333333333, \"#9c179e\"], [0.4444444444444444, \"#bd3786\"], [0.5555555555555556, \"#d8576b\"], [0.6666666666666666, \"#ed7953\"], [0.7777777777777778, \"#fb9f3a\"], [0.8888888888888888, \"#fdca26\"], [1.0, \"#f0f921\"]], \"type\": \"heatmap\"}], \"heatmapgl\": [{\"colorbar\": {\"outlinewidth\": 0, \"ticks\": \"\"}, \"colorscale\": [[0.0, \"#0d0887\"], [0.1111111111111111, \"#46039f\"], [0.2222222222222222, \"#7201a8\"], [0.3333333333333333, \"#9c179e\"], [0.4444444444444444, \"#bd3786\"], [0.5555555555555556, \"#d8576b\"], [0.6666666666666666, \"#ed7953\"], [0.7777777777777778, \"#fb9f3a\"], [0.8888888888888888, \"#fdca26\"], [1.0, \"#f0f921\"]], \"type\": \"heatmapgl\"}], \"histogram\": [{\"marker\": {\"colorbar\": {\"outlinewidth\": 0, \"ticks\": \"\"}}, \"type\": \"histogram\"}], \"histogram2d\": [{\"colorbar\": {\"outlinewidth\": 0, \"ticks\": \"\"}, \"colorscale\": [[0.0, \"#0d0887\"], [0.1111111111111111, \"#46039f\"], [0.2222222222222222, \"#7201a8\"], [0.3333333333333333, \"#9c179e\"], [0.4444444444444444, \"#bd3786\"], [0.5555555555555556, \"#d8576b\"], [0.6666666666666666, \"#ed7953\"], [0.7777777777777778, \"#fb9f3a\"], [0.8888888888888888, \"#fdca26\"], [1.0, \"#f0f921\"]], \"type\": \"histogram2d\"}], \"histogram2dcontour\": [{\"colorbar\": {\"outlinewidth\": 0, \"ticks\": \"\"}, \"colorscale\": [[0.0, \"#0d0887\"], [0.1111111111111111, \"#46039f\"], [0.2222222222222222, \"#7201a8\"], [0.3333333333333333, \"#9c179e\"], [0.4444444444444444, \"#bd3786\"], [0.5555555555555556, \"#d8576b\"], [0.6666666666666666, \"#ed7953\"], [0.7777777777777778, \"#fb9f3a\"], [0.8888888888888888, \"#fdca26\"], [1.0, \"#f0f921\"]], \"type\": \"histogram2dcontour\"}], \"mesh3d\": [{\"colorbar\": {\"outlinewidth\": 0, \"ticks\": \"\"}, \"type\": \"mesh3d\"}], \"parcoords\": [{\"line\": {\"colorbar\": {\"outlinewidth\": 0, \"ticks\": \"\"}}, \"type\": \"parcoords\"}], \"pie\": [{\"automargin\": true, \"type\": \"pie\"}], \"scatter\": [{\"marker\": {\"colorbar\": {\"outlinewidth\": 0, \"ticks\": \"\"}}, \"type\": \"scatter\"}], \"scatter3d\": [{\"line\": {\"colorbar\": {\"outlinewidth\": 0, \"ticks\": \"\"}}, \"marker\": {\"colorbar\": {\"outlinewidth\": 0, \"ticks\": \"\"}}, \"type\": \"scatter3d\"}], \"scattercarpet\": [{\"marker\": {\"colorbar\": {\"outlinewidth\": 0, \"ticks\": \"\"}}, \"type\": \"scattercarpet\"}], \"scattergeo\": [{\"marker\": {\"colorbar\": {\"outlinewidth\": 0, \"ticks\": \"\"}}, \"type\": \"scattergeo\"}], \"scattergl\": [{\"marker\": {\"colorbar\": {\"outlinewidth\": 0, \"ticks\": \"\"}}, \"type\": \"scattergl\"}], \"scattermapbox\": [{\"marker\": {\"colorbar\": {\"outlinewidth\": 0, \"ticks\": \"\"}}, \"type\": \"scattermapbox\"}], \"scatterpolar\": [{\"marker\": {\"colorbar\": {\"outlinewidth\": 0, \"ticks\": \"\"}}, \"type\": \"scatterpolar\"}], \"scatterpolargl\": [{\"marker\": {\"colorbar\": {\"outlinewidth\": 0, \"ticks\": \"\"}}, \"type\": \"scatterpolargl\"}], \"scatterternary\": [{\"marker\": {\"colorbar\": {\"outlinewidth\": 0, \"ticks\": \"\"}}, \"type\": \"scatterternary\"}], \"surface\": [{\"colorbar\": {\"outlinewidth\": 0, \"ticks\": \"\"}, \"colorscale\": [[0.0, \"#0d0887\"], [0.1111111111111111, \"#46039f\"], [0.2222222222222222, \"#7201a8\"], [0.3333333333333333, \"#9c179e\"], [0.4444444444444444, \"#bd3786\"], [0.5555555555555556, \"#d8576b\"], [0.6666666666666666, \"#ed7953\"], [0.7777777777777778, \"#fb9f3a\"], [0.8888888888888888, \"#fdca26\"], [1.0, \"#f0f921\"]], \"type\": \"surface\"}], \"table\": [{\"cells\": {\"fill\": {\"color\": \"#EBF0F8\"}, \"line\": {\"color\": \"white\"}}, \"header\": {\"fill\": {\"color\": \"#C8D4E3\"}, \"line\": {\"color\": \"white\"}}, \"type\": \"table\"}]}, \"layout\": {\"annotationdefaults\": {\"arrowcolor\": \"#2a3f5f\", \"arrowhead\": 0, \"arrowwidth\": 1}, \"coloraxis\": {\"colorbar\": {\"outlinewidth\": 0, \"ticks\": \"\"}}, \"colorscale\": {\"diverging\": [[0, \"#8e0152\"], [0.1, \"#c51b7d\"], [0.2, \"#de77ae\"], [0.3, \"#f1b6da\"], [0.4, \"#fde0ef\"], [0.5, \"#f7f7f7\"], [0.6, \"#e6f5d0\"], [0.7, \"#b8e186\"], [0.8, \"#7fbc41\"], [0.9, \"#4d9221\"], [1, \"#276419\"]], \"sequential\": [[0.0, \"#0d0887\"], [0.1111111111111111, \"#46039f\"], [0.2222222222222222, \"#7201a8\"], [0.3333333333333333, \"#9c179e\"], [0.4444444444444444, \"#bd3786\"], [0.5555555555555556, \"#d8576b\"], [0.6666666666666666, \"#ed7953\"], [0.7777777777777778, \"#fb9f3a\"], [0.8888888888888888, \"#fdca26\"], [1.0, \"#f0f921\"]], \"sequentialminus\": [[0.0, \"#0d0887\"], [0.1111111111111111, \"#46039f\"], [0.2222222222222222, \"#7201a8\"], [0.3333333333333333, \"#9c179e\"], [0.4444444444444444, \"#bd3786\"], [0.5555555555555556, \"#d8576b\"], [0.6666666666666666, \"#ed7953\"], [0.7777777777777778, \"#fb9f3a\"], [0.8888888888888888, \"#fdca26\"], [1.0, \"#f0f921\"]]}, \"colorway\": [\"#636efa\", \"#EF553B\", \"#00cc96\", \"#ab63fa\", \"#FFA15A\", \"#19d3f3\", \"#FF6692\", \"#B6E880\", \"#FF97FF\", \"#FECB52\"], \"font\": {\"color\": \"#2a3f5f\"}, \"geo\": {\"bgcolor\": \"white\", \"lakecolor\": \"white\", \"landcolor\": \"#E5ECF6\", \"showlakes\": true, \"showland\": true, \"subunitcolor\": \"white\"}, \"hoverlabel\": {\"align\": \"left\"}, \"hovermode\": \"closest\", \"mapbox\": {\"style\": \"light\"}, \"paper_bgcolor\": \"white\", \"plot_bgcolor\": \"#E5ECF6\", \"polar\": {\"angularaxis\": {\"gridcolor\": \"white\", \"linecolor\": \"white\", \"ticks\": \"\"}, \"bgcolor\": \"#E5ECF6\", \"radialaxis\": {\"gridcolor\": \"white\", \"linecolor\": \"white\", \"ticks\": \"\"}}, \"scene\": {\"xaxis\": {\"backgroundcolor\": \"#E5ECF6\", \"gridcolor\": \"white\", \"gridwidth\": 2, \"linecolor\": \"white\", \"showbackground\": true, \"ticks\": \"\", \"zerolinecolor\": \"white\"}, \"yaxis\": {\"backgroundcolor\": \"#E5ECF6\", \"gridcolor\": \"white\", \"gridwidth\": 2, \"linecolor\": \"white\", \"showbackground\": true, \"ticks\": \"\", \"zerolinecolor\": \"white\"}, \"zaxis\": {\"backgroundcolor\": \"#E5ECF6\", \"gridcolor\": \"white\", \"gridwidth\": 2, \"linecolor\": \"white\", \"showbackground\": true, \"ticks\": \"\", \"zerolinecolor\": \"white\"}}, \"shapedefaults\": {\"line\": {\"color\": \"#2a3f5f\"}}, \"ternary\": {\"aaxis\": {\"gridcolor\": \"white\", \"linecolor\": \"white\", \"ticks\": \"\"}, \"baxis\": {\"gridcolor\": \"white\", \"linecolor\": \"white\", \"ticks\": \"\"}, \"bgcolor\": \"#E5ECF6\", \"caxis\": {\"gridcolor\": \"white\", \"linecolor\": \"white\", \"ticks\": \"\"}}, \"title\": {\"x\": 0.05}, \"xaxis\": {\"automargin\": true, \"gridcolor\": \"white\", \"linecolor\": \"white\", \"ticks\": \"\", \"title\": {\"standoff\": 15}, \"zerolinecolor\": \"white\", \"zerolinewidth\": 2}, \"yaxis\": {\"automargin\": true, \"gridcolor\": \"white\", \"linecolor\": \"white\", \"ticks\": \"\", \"title\": {\"standoff\": 15}, \"zerolinecolor\": \"white\", \"zerolinewidth\": 2}}}, \"title\": {\"text\": \"Age Wise Spread of COVID-19 Cases in India\"}},\n",
       "                        {\"responsive\": true}\n",
       "                    ).then(function(){\n",
       "                            \n",
       "var gd = document.getElementById('a61ec7c8-8273-495f-84f6-a9e859e536d0');\n",
       "var x = new MutationObserver(function (mutations, observer) {{\n",
       "        var display = window.getComputedStyle(gd).display;\n",
       "        if (!display || display === 'none') {{\n",
       "            console.log([gd, 'removed!']);\n",
       "            Plotly.purge(gd);\n",
       "            observer.disconnect();\n",
       "        }}\n",
       "}});\n",
       "\n",
       "// Listen for the removal of the full notebook cells\n",
       "var notebookContainer = gd.closest('#notebook-container');\n",
       "if (notebookContainer) {{\n",
       "    x.observe(notebookContainer, {childList: true});\n",
       "}}\n",
       "\n",
       "// Listen for the clearing of the current output cell\n",
       "var outputEl = gd.closest('.output');\n",
       "if (outputEl) {{\n",
       "    x.observe(outputEl, {childList: true});\n",
       "}}\n",
       "\n",
       "                        })\n",
       "                };\n",
       "                \n",
       "            </script>\n",
       "        </div>\n",
       "</body>\n",
       "</html>"
      ]
     },
     "metadata": {
      "tags": []
     },
     "output_type": "display_data"
    }
   ],
   "source": [
    "fig = go.Figure(data=[\n",
    "                      go.Pie(labels=df_age['AgeGroup'],values=df_age['TotalCases'],pull=[0,0,0.2,0,0,0,0,0,0,0,0])\n",
    "])\n",
    "fig.update_layout(title='Age Wise Spread of COVID-19 Cases in India')\n",
    "fig.show()"
   ]
  },
  {
   "cell_type": "markdown",
   "metadata": {
    "colab_type": "text",
    "id": "llKVICmqplgv"
   },
   "source": [
    "###### As per the above pie chart, the most affected age group is 20-29 and it is followed by 30-39. Altogether, 40% of the cases fall under age less than 40 which is expected since there would be more working people here. And this is also says elderly people have more chance of getting affected."
   ]
  },
  {
   "cell_type": "code",
   "execution_count": 0,
   "metadata": {
    "colab": {},
    "colab_type": "code",
    "id": "rk2wNwKpO5z-"
   },
   "outputs": [],
   "source": [
    "df_indi =df_invid_dtls .copy()\n",
    "df_indi.dropna(subset=['current_status', 'age'], inplace=True)\n",
    "df_indi.reset_index(drop=True, inplace=True)\n",
    "# df_US_group = df_USA.groupby('Date',as_index=False)['Confirmed','Deaths','Recovered'].sum()"
   ]
  },
  {
   "cell_type": "code",
   "execution_count": 0,
   "metadata": {
    "colab": {
     "base_uri": "https://localhost:8080/",
     "height": 542
    },
    "colab_type": "code",
    "id": "pT3ssQMQOkhr",
    "outputId": "1d5b3593-6262-4787-8559-bc3270982316"
   },
   "outputs": [
    {
     "data": {
      "text/html": [
       "<html>\n",
       "<head><meta charset=\"utf-8\" /></head>\n",
       "<body>\n",
       "    <div>\n",
       "            <script src=\"https://cdnjs.cloudflare.com/ajax/libs/mathjax/2.7.5/MathJax.js?config=TeX-AMS-MML_SVG\"></script><script type=\"text/javascript\">if (window.MathJax) {MathJax.Hub.Config({SVG: {font: \"STIX-Web\"}});}</script>\n",
       "                <script type=\"text/javascript\">window.PlotlyConfig = {MathJaxConfig: 'local'};</script>\n",
       "        <script src=\"https://cdn.plot.ly/plotly-latest.min.js\"></script>    \n",
       "            <div id=\"1c2067cb-677b-40cc-aad5-771cb42904ab\" class=\"plotly-graph-div\" style=\"height:525px; width:100%;\"></div>\n",
       "            <script type=\"text/javascript\">\n",
       "                \n",
       "                    window.PLOTLYENV=window.PLOTLYENV || {};\n",
       "                    \n",
       "                if (document.getElementById(\"1c2067cb-677b-40cc-aad5-771cb42904ab\")) {\n",
       "                    Plotly.newPlot(\n",
       "                        '1c2067cb-677b-40cc-aad5-771cb42904ab',\n",
       "                        [{\"name\": \"Deceased Patients\", \"type\": \"box\", \"y\": [\"69\", \"76\", \"65\", \"70\", \"63\", \"67\", \"57\", \"38\", \"69\", \"85\", \"69\", \"54\", \"65\", \"65\", \"70\", \"35\", \"60\", \"74\", \"44\", \"68\", \"45\", \"48\", \"75\", \"75\", \"1\", \"80\", \"72\", \"65\"]}, {\"name\": \"Hospitalized Patients\", \"type\": \"box\", \"y\": [\"55\", \"55\", \"27\", \"65\", \"75\", \"25\", \"63\", \"3\", \"46\", \"70\", \"68\", \"45\", \"33\", \"33\", \"27\", \"37\", \"59\", \"43\", \"21\", \"24\", \"59\", \"46\", \"47\", \"42\", \"33\", \"3\", \"44\", \"51\", \"31\", \"29\", \"49\", \"26\", \"68\", \"52\", \"22\", \"34\", \"28\", \"25\", \"22\", \"27\", \"44\", \"20\", \"68\", \"21\", \"50\", \"67\", \"33\", \"30\", \"3\", \"38\", \"23\", \"22\", \"49\", \"24\", \"47\", \"32\", \"21\", \"51\", \"19\", \"22\", \"22\", \"32\", \"22\", \"69\", \"58\", \"24\", \"38\", \"20\", \"22\", \"47\", \"37\", \"35\", \"20\", \"41\", \"18\", \"69\", \"27\", \"26\", \"52\", \"21\", \"52\", \"27\", \"2\", \"63\", \"59\", \"45\", \"22\", \"24\", \"27\", \"60\", \"32\", \"53\", \"20\", \"42\", \"74\", \"28\", \"59\", \"41\", \"24\", \"26\", \"32\", \"38\", \"26\", \"53\", \"39\", \"19\", \"35\", \"33\", \"69\", \"75\", \"65\", \"35\", \"34\", \"45\", \"40\", \"17\", \"36\", \"60\", \"54\", \"21\", \"23\", \"59\", \"22\", \"24\", \"31\", \"30\", \"32\", \"30\", \"21\", \"60\", \"64\", \"35\", \"25\", \"24\", \"81\", \"26\", \"58\", \"27\", \"32\", \"41\", \"33\", \"26\", \"34\", \"23\", \"23\", \"50\", \"32\", \"24\", \"41\", \"21\", \"37\", \"62\", \"47\", \"20\", \"53\", \"64\", \"43\", \"49\", \"36\", \"46\", \"45\", \"58\", \"57\", \"27\", \"29\", \"24\", \"33\", \"49\", \"46\", \"61\", \"21\", \"30\", \"23\", \"21\", \"20\", \"25\", \"56\", \"32\", \"49\", \"24\", \"30\", \"31\", \"41\", \"34\", \"40\", \"37\", \"47\", \"34\", \"50\", \"32\", \"27\", \"33\", \"32\", \"27\", \"34\", \"52\", \"26\", \"61\", \"56\", \"30\", \"60\", \"22\", \"38\", \"45\", \"45\", \"2\", \"25\", \"25\", \"48\", \"24\", \"35\", \"41\", \"65\", \"53\", \"54\", \"58\", \"74\", \"52\", \"25\", \"49\", \"39\", \"61\", \"56\", \"55\", \"57\", \"47\", \"57\", \"70\", \"25\", \"65\", \"55\", \"25\", \"64\", \"36\", \"75\", \"57\", \"36\", \"50\", \"57\", \"27\", \"39\", \"38\", \"63\", \"34\", \"21\", \"22\", \"23\", \"37\", \"63\", \"59\", \"26\", \"26\", \"9\", \"7\", \"55\", \"31\", \"26\", \"23\", \"24\", \"43\", \"3\", \"22\", \"18\", \"26\", \"63\", \"52\", \"25\", \"29\", \"55\", \"66\", \"21\", \"39\", \"33\", \"32\", \"40\", \"12\", \"49\", \"36\", \"41\", \"45\", \"35\", \"64\", \"45\", \"42\", \"21\", \"24\", \"7\", \"1\", \"37\", \"38\", \"49\", \"39\", \"32\", \"21\", \"24\", \"65\", \"20\", \"29\", \"60\", \"45\", \"37\", \"53\", \"54\", \"22\", \"44\", \"42\", \"46\", \"23\", \"25\", \"1\", \"20\", \"25\", \"35\", \"33\", \"22\", \"53\", \"38\", \"30\", \"42\", \"41\", \"53\", \"18\", \"14\", \"47\", \"23\", \"64\", \"11\", \"27\", \"45\", \"6\", \"1\", \"73\", \"61\", \"39\", \"45\", \"22\", \"50\", \"37\", \"39\", \"33\", \"25\", \"65\", \"42\", \"49\", \"66\", \"23\", \"21\", \"54\", \"28\", \"23\", \"23\", \"32\", \"38\", \"18\", \"63\", \"21\", \"45\", \"40\", \"56\", \"28-35\", \"28-35\", \"28-35\", \"28-35\", \"11\", \"35\", \"63\", \"18\", \"33\", \"44\", \"35\", \"60\", \"21\", \"25\", \"24\", \"76\", \"56\", \"54\", \"36\", \"52\", \"31\", \"50\", \"23\", \"58\", \"21\", \"60\", \"50\", \"65\", \"39\", \"38\", \"21\", \"31\", \"42\", \"30\", \"21\", \"40\", \"48\", \"21\", \"38\", \"17\", \"53\", \"47\", \"67\", \"34\", \"21\", \"19\", \"53\", \"35\", \"34\", \"37\", \"19\", \"52\", \"45\", \"30\", \"25\", \"41\", \"50\", \"43\", \"28\", \"39\", \"45\", \"48\", \"67\", \"62\", \"35\", \"29\", \"47\", \"52\", \"66\", \"53\", \"40\", \"20\", \"35\", \"59\", \"65\", \"41\", \"38\", \"50\", \"92\", \"55\", \"65\", \"49\", \"72\", \"25\", \"52\", \"76\", \"15\", \"20\", \"50\", \"42\", \"77\", \"32\", \"32\", \"23\", \"23\", \"40\", \"13\", \"32\", \"34\", \"21\", \"24\", \"81\", \"52\", \"48\", \"26\", \"44\", \"17\", \"65\", \"60\", \"35\", \"55\", \"51\", \"52\", \"43\", \"28\", \"10\", \"34\", \"31\", \"32\", \"28\", \"28\", \"39\", \"65\", \"42\", \"39\", \"32\", \"59\", \"44\", \"28\", \"46\", \"35\", \"65\", \"40\", \"19\", \"40\", \"35\", \"41\", \"34\", \"26\", \"57\", \"22\", \"56\", \"23\", \"43\", \"23\", \"52\", \"28\", \"60\", \"40\", \"62\", \"35\", \"31\", \"36\", \"27\", \"35\", \"70\", \"23\", \"21\", \"70\", \"29\", \"31\", \"40\", \"58\", \"31\", \"52\", \"18\", \"45\", \"65\", \"68\", \"54\", \"58\", \"67\", \"40\", \"54\", \"50\", \"41\", \"25\", \"50\", \"20\", \"54\", \"36\", \"40\", \"26\", \"40\", \"41\", \"46\", \"53\", \"36\", \"35\", \"39\", \"36\", \"39\", \"27\", \"45\", \"34\", \"47\", \"48\", \"39\", \"44\", \"54\", \"45\", \"30\", \"33\", \"50\", \"50\", \"20\", \"53\", \"46\", \"50\", \"39\", \"31\", \"35\", \"80\", \"35\", \"72\", \"24\", \"37\", \"27\", \"33\", \"65\", \"28\", \"40\", \"34\", \"36\", \"41\", \"38\", \"39\", \"40\", \"30\", \"45\", \"57\", \"32\", \"34\", \"45\", \"52\", \"40\", \"46\", \"37\", \"47\", \"33\", \"21\", \"44\", \"39\", \"38\", \"55\", \"31\", \"51\", \"34\", \"40\", \"50\", \"43\", \"33\", \"38\", \"37\", \"26\", \"54\", \"60\", \"50\", \"63\", \"55\", \"56\", \"66\", \"52\", \"63\", \"27\", \"40\", \"48\", \"54\", \"71\", \"31\", \"50\", \"48\", \"68\", \"36\", \"47\", \"55\", \"22\", \"55\", \"35\", \"35\", \"48\", \"42\", \"48\", \"38\", \"40\", \"58\", \"42\", \"40\", \"27\", \"39\", \"41\", \"38\", \"25\", \"42\", \"66\", \"18\", \"52\", \"52\", \"72\", \"32\", \"11\", \"15\", \"32\", \"17\", \"47\", \"61\", \"30\", \"50\", \"36\", \"27\", \"42\", \"27\", \"36\", \"78\", \"49\", \"26\", \"63\", \"63\", \"27\", \"25\", \"36\", \"18\", \"16\", \"42\", \"43\", \"43\", \"40\", \"72\", \"72\", \"40\", \"61\", \"36\", \"52\", \"52\", \"31\", \"10\", \"10\", \"10\", \"40\", \"53\", \"61\", \"60\", \"43\", \"34\", \"42\", \"43\", \"32\", \"47\", \"31\", \"36\", \"35\", \"37\", \"39\", \"46\", \"33\", \"43\", \"23\", \"52\", \"65\", \"48\", \"30\", \"41\", \"66\", \"59\", \"39\", \"60\", \"63\", \"73\", \"45\", \"60\", \"60\", \"38\", \"70\", \"35\", \"10\", \"7\", \"58\", \"27\", \"28\", \"36\", \"1\", \"36\", \"24\", \"22\", \"14\", \"28\", \"17\", \"60\", \"35\", \"30\", \"7\", \"68\", \"65\", \"69\", \"51\", \"70\", \"26\", \"20\", \"35\", \"37\", \"32\", \"30\", \"58\", \"34\", \"56\", \"16\", \"21\", \"57\", \"43\", \"78\", \"60\", \"38\", \"19\", \"39\", \"39\", \"54\", \"40\", \"34\", \"47\", \"63\", \"43\", \"52\", \"60\", \"35\", \"65\", \"61\", \"45\", \"60\", \"33\", \"47\", \"45\", \"33\", \"34\", \"32\", \"52\", \"35\", \"36\", \"40\", \"45\", \"25\", \"35\", \"17\", \"27\", \"37\", \"45\", \"28\", \"30\", \"37\", \"43\", \"37\", \"35\", \"65\", \"48\", \"45\", \"48\", \"33\", \"27\", \"50\", \"65\", \"55\", \"17\", \"42\", \"56\", \"16\", \"18\", \"41\", \"55\", \"75\", \"34\", \"26\", \"60\", \"54\", \"40\", \"34\", \"68\", \"62\", \"70\", \"29\", \"42\", \"44\", \"81\", \"7\", \"36\", \"40\", \"67\", \"41\", \"41\", \"20\", \"28\", \"22\", \"44\", \"30\", \"60\", \"59\", \"19\", \"77\", \"30\", \"32\", \"31\", \"50\", \"52\", \"36\", \"31\", \"31\", \"45\", \"32\", \"36\", \"37\", \"50\", \"52\", \"62\", \"90\", \"48\", \"20\", \"37\", \"39\", \"37\", \"32\", \"35\", \"24\", \"38\", \"38\", \"16\", \"60\", \"51\", \"47\", \"52\", \"27\", \"15\", \"32\", \"62\", \"20\", \"37\", \"57\", \"22\", \"26\", \"33\", \"35\", \"54\", \"58\", \"43\", \"19\", \"80\", \"55\", \"17\", \"16\", \"52\", \"57\", \"45\", \"70\", \"32\", \"60\", \"64\", \"24\", \"33\", \"59\", \"64\", \"53\", \"65\", \"26\", \"41\", \"40\", \"25\", \"64\", \"33\", \"21\", \"48\", \"29\", \"54\", \"33\", \"33\", \"41\", \"29\", \"50\", \"35\", \"68\", \"32\", \"36\", \"65\", \"28\", \"57\", \"45\", \"35\", \"77\", \"31\", \"42\", \"45\", \"22\", \"36\", \"27\", \"46\", \"28\", \"51\", \"27\", \"67\", \"40\", \"42\", \"40\", \"26\", \"20\", \"15\", \"16\", \"70\", \"22\", \"43\", \"38\", \"26\", \"72\", \"35\", \"23\", \"27\", \"50\", \"35\", \"32\", \"11\", \"55\", \"60\", \"21\", \"46\", \"20\", \"57\", \"21\", \"52\", \"38\", \"26\", \"18\", \"12\", \"29\", \"52\", \"50\", \"12\", \"20\", \"30\", \"10\", \"15\", \"18\", \"36\", \"69\", \"51\", \"50\", \"55\", \"68\", \"32\", \"4\", \"13\", \"9\", \"19\", \"27\", \"48\", \"42\", \"74\", \"63\", \"13\", \"75\", \"21\", \"35\", \"19\", \"14\", \"8\", \"46\", \"19\", \"22\", \"25\", \"19\", \"11\", \"19\", \"60\", \"20\", \"37\", \"9\", \"5\", \"10\", \"28\", \"48\", \"57\", \"8\", \"48\", \"33\", \"28\", \"48\", \"55\", \"35\", \"11\", \"47\", \"54\", \"40\", \"32\", \"35\", \"32\", \"46\", \"43\", \"50\", \"27\", \"31\", \"26\", \"45\", \"10\", \"16\", \"40\", \"63\", \"32\", \"75\", \"58\", \"76\", \"24\", \"60\", \"38\", \"19\", \"38\", \"55\", \"25\"]}, {\"name\": \"Recovered Patients\", \"type\": \"box\", \"y\": [\"20\", \"45\", \"24\", \"69\", \"55\", \"55\", \"55\", \"55\", \"55\", \"55\", \"55\", \"55\", \"55\", \"55\", \"55\", \"55\", \"70\", \"45\", \"16\", \"59\", \"45\", \"24\", \"54\", \"53\", \"65\", \"61\", \"3\", \"48\", \"40\", \"13\", \"96\", \"89\", \"85\", \"27\", \"26\", \"32\", \"45\", \"20\", \"67\", \"63\", \"18\", \"56\", \"25\", \"35\", \"35\", \"24\", \"21\", \"65\", \"34\", \"32\", \"23\", \"35\", \"33\", \"22\", \"27\", \"64\", \"36\", \"27\", \"51\", \"48\", \"21\", \"38\", \"41\", \"24\", \"23\", \"32\", \"40\", \"65\", \"56\", \"47\", \"23\", \"37\", \"63\", \"69\", \"35\", \"26\", \"36\", \"18\", \"21\", \"25\", \"70\", \"20\", \"30\", \"45\", \"40\", \"48\", \"35\", \"40\", \"29\", \"58\", \"1\", \"51\"]}],\n",
       "                        {\"template\": {\"data\": {\"bar\": [{\"error_x\": {\"color\": \"#2a3f5f\"}, \"error_y\": {\"color\": \"#2a3f5f\"}, \"marker\": {\"line\": {\"color\": \"#E5ECF6\", \"width\": 0.5}}, \"type\": \"bar\"}], \"barpolar\": [{\"marker\": {\"line\": {\"color\": \"#E5ECF6\", \"width\": 0.5}}, \"type\": \"barpolar\"}], \"carpet\": [{\"aaxis\": {\"endlinecolor\": \"#2a3f5f\", \"gridcolor\": \"white\", \"linecolor\": \"white\", \"minorgridcolor\": \"white\", \"startlinecolor\": \"#2a3f5f\"}, \"baxis\": {\"endlinecolor\": \"#2a3f5f\", \"gridcolor\": \"white\", \"linecolor\": \"white\", \"minorgridcolor\": \"white\", \"startlinecolor\": \"#2a3f5f\"}, \"type\": \"carpet\"}], \"choropleth\": [{\"colorbar\": {\"outlinewidth\": 0, \"ticks\": \"\"}, \"type\": \"choropleth\"}], \"contour\": [{\"colorbar\": {\"outlinewidth\": 0, \"ticks\": \"\"}, \"colorscale\": [[0.0, \"#0d0887\"], [0.1111111111111111, \"#46039f\"], [0.2222222222222222, \"#7201a8\"], [0.3333333333333333, \"#9c179e\"], [0.4444444444444444, \"#bd3786\"], [0.5555555555555556, \"#d8576b\"], [0.6666666666666666, \"#ed7953\"], [0.7777777777777778, \"#fb9f3a\"], [0.8888888888888888, \"#fdca26\"], [1.0, \"#f0f921\"]], \"type\": \"contour\"}], \"contourcarpet\": [{\"colorbar\": {\"outlinewidth\": 0, \"ticks\": \"\"}, \"type\": \"contourcarpet\"}], \"heatmap\": [{\"colorbar\": {\"outlinewidth\": 0, \"ticks\": \"\"}, \"colorscale\": [[0.0, \"#0d0887\"], [0.1111111111111111, \"#46039f\"], [0.2222222222222222, \"#7201a8\"], [0.3333333333333333, \"#9c179e\"], [0.4444444444444444, \"#bd3786\"], [0.5555555555555556, \"#d8576b\"], [0.6666666666666666, \"#ed7953\"], [0.7777777777777778, \"#fb9f3a\"], [0.8888888888888888, \"#fdca26\"], [1.0, \"#f0f921\"]], \"type\": \"heatmap\"}], \"heatmapgl\": [{\"colorbar\": {\"outlinewidth\": 0, \"ticks\": \"\"}, \"colorscale\": [[0.0, \"#0d0887\"], [0.1111111111111111, \"#46039f\"], [0.2222222222222222, \"#7201a8\"], [0.3333333333333333, \"#9c179e\"], [0.4444444444444444, \"#bd3786\"], [0.5555555555555556, \"#d8576b\"], [0.6666666666666666, \"#ed7953\"], [0.7777777777777778, \"#fb9f3a\"], [0.8888888888888888, \"#fdca26\"], [1.0, \"#f0f921\"]], \"type\": \"heatmapgl\"}], \"histogram\": [{\"marker\": {\"colorbar\": {\"outlinewidth\": 0, \"ticks\": \"\"}}, \"type\": \"histogram\"}], \"histogram2d\": [{\"colorbar\": {\"outlinewidth\": 0, \"ticks\": \"\"}, \"colorscale\": [[0.0, \"#0d0887\"], [0.1111111111111111, \"#46039f\"], [0.2222222222222222, \"#7201a8\"], [0.3333333333333333, \"#9c179e\"], [0.4444444444444444, \"#bd3786\"], [0.5555555555555556, \"#d8576b\"], [0.6666666666666666, \"#ed7953\"], [0.7777777777777778, \"#fb9f3a\"], [0.8888888888888888, \"#fdca26\"], [1.0, \"#f0f921\"]], \"type\": \"histogram2d\"}], \"histogram2dcontour\": [{\"colorbar\": {\"outlinewidth\": 0, \"ticks\": \"\"}, \"colorscale\": [[0.0, \"#0d0887\"], [0.1111111111111111, \"#46039f\"], [0.2222222222222222, \"#7201a8\"], [0.3333333333333333, \"#9c179e\"], [0.4444444444444444, \"#bd3786\"], [0.5555555555555556, \"#d8576b\"], [0.6666666666666666, \"#ed7953\"], [0.7777777777777778, \"#fb9f3a\"], [0.8888888888888888, \"#fdca26\"], [1.0, \"#f0f921\"]], \"type\": \"histogram2dcontour\"}], \"mesh3d\": [{\"colorbar\": {\"outlinewidth\": 0, \"ticks\": \"\"}, \"type\": \"mesh3d\"}], \"parcoords\": [{\"line\": {\"colorbar\": {\"outlinewidth\": 0, \"ticks\": \"\"}}, \"type\": \"parcoords\"}], \"pie\": [{\"automargin\": true, \"type\": \"pie\"}], \"scatter\": [{\"marker\": {\"colorbar\": {\"outlinewidth\": 0, \"ticks\": \"\"}}, \"type\": \"scatter\"}], \"scatter3d\": [{\"line\": {\"colorbar\": {\"outlinewidth\": 0, \"ticks\": \"\"}}, \"marker\": {\"colorbar\": {\"outlinewidth\": 0, \"ticks\": \"\"}}, \"type\": \"scatter3d\"}], \"scattercarpet\": [{\"marker\": {\"colorbar\": {\"outlinewidth\": 0, \"ticks\": \"\"}}, \"type\": \"scattercarpet\"}], \"scattergeo\": [{\"marker\": {\"colorbar\": {\"outlinewidth\": 0, \"ticks\": \"\"}}, \"type\": \"scattergeo\"}], \"scattergl\": [{\"marker\": {\"colorbar\": {\"outlinewidth\": 0, \"ticks\": \"\"}}, \"type\": \"scattergl\"}], \"scattermapbox\": [{\"marker\": {\"colorbar\": {\"outlinewidth\": 0, \"ticks\": \"\"}}, \"type\": \"scattermapbox\"}], \"scatterpolar\": [{\"marker\": {\"colorbar\": {\"outlinewidth\": 0, \"ticks\": \"\"}}, \"type\": \"scatterpolar\"}], \"scatterpolargl\": [{\"marker\": {\"colorbar\": {\"outlinewidth\": 0, \"ticks\": \"\"}}, \"type\": \"scatterpolargl\"}], \"scatterternary\": [{\"marker\": {\"colorbar\": {\"outlinewidth\": 0, \"ticks\": \"\"}}, \"type\": \"scatterternary\"}], \"surface\": [{\"colorbar\": {\"outlinewidth\": 0, \"ticks\": \"\"}, \"colorscale\": [[0.0, \"#0d0887\"], [0.1111111111111111, \"#46039f\"], [0.2222222222222222, \"#7201a8\"], [0.3333333333333333, \"#9c179e\"], [0.4444444444444444, \"#bd3786\"], [0.5555555555555556, \"#d8576b\"], [0.6666666666666666, \"#ed7953\"], [0.7777777777777778, \"#fb9f3a\"], [0.8888888888888888, \"#fdca26\"], [1.0, \"#f0f921\"]], \"type\": \"surface\"}], \"table\": [{\"cells\": {\"fill\": {\"color\": \"#EBF0F8\"}, \"line\": {\"color\": \"white\"}}, \"header\": {\"fill\": {\"color\": \"#C8D4E3\"}, \"line\": {\"color\": \"white\"}}, \"type\": \"table\"}]}, \"layout\": {\"annotationdefaults\": {\"arrowcolor\": \"#2a3f5f\", \"arrowhead\": 0, \"arrowwidth\": 1}, \"coloraxis\": {\"colorbar\": {\"outlinewidth\": 0, \"ticks\": \"\"}}, \"colorscale\": {\"diverging\": [[0, \"#8e0152\"], [0.1, \"#c51b7d\"], [0.2, \"#de77ae\"], [0.3, \"#f1b6da\"], [0.4, \"#fde0ef\"], [0.5, \"#f7f7f7\"], [0.6, \"#e6f5d0\"], [0.7, \"#b8e186\"], [0.8, \"#7fbc41\"], [0.9, \"#4d9221\"], [1, \"#276419\"]], \"sequential\": [[0.0, \"#0d0887\"], [0.1111111111111111, \"#46039f\"], [0.2222222222222222, \"#7201a8\"], [0.3333333333333333, \"#9c179e\"], [0.4444444444444444, \"#bd3786\"], [0.5555555555555556, \"#d8576b\"], [0.6666666666666666, \"#ed7953\"], [0.7777777777777778, \"#fb9f3a\"], [0.8888888888888888, \"#fdca26\"], [1.0, \"#f0f921\"]], \"sequentialminus\": [[0.0, \"#0d0887\"], [0.1111111111111111, \"#46039f\"], [0.2222222222222222, \"#7201a8\"], [0.3333333333333333, \"#9c179e\"], [0.4444444444444444, \"#bd3786\"], [0.5555555555555556, \"#d8576b\"], [0.6666666666666666, \"#ed7953\"], [0.7777777777777778, \"#fb9f3a\"], [0.8888888888888888, \"#fdca26\"], [1.0, \"#f0f921\"]]}, \"colorway\": [\"#636efa\", \"#EF553B\", \"#00cc96\", \"#ab63fa\", \"#FFA15A\", \"#19d3f3\", \"#FF6692\", \"#B6E880\", \"#FF97FF\", \"#FECB52\"], \"font\": {\"color\": \"#2a3f5f\"}, \"geo\": {\"bgcolor\": \"white\", \"lakecolor\": \"white\", \"landcolor\": \"#E5ECF6\", \"showlakes\": true, \"showland\": true, \"subunitcolor\": \"white\"}, \"hoverlabel\": {\"align\": \"left\"}, \"hovermode\": \"closest\", \"mapbox\": {\"style\": \"light\"}, \"paper_bgcolor\": \"white\", \"plot_bgcolor\": \"#E5ECF6\", \"polar\": {\"angularaxis\": {\"gridcolor\": \"white\", \"linecolor\": \"white\", \"ticks\": \"\"}, \"bgcolor\": \"#E5ECF6\", \"radialaxis\": {\"gridcolor\": \"white\", \"linecolor\": \"white\", \"ticks\": \"\"}}, \"scene\": {\"xaxis\": {\"backgroundcolor\": \"#E5ECF6\", \"gridcolor\": \"white\", \"gridwidth\": 2, \"linecolor\": \"white\", \"showbackground\": true, \"ticks\": \"\", \"zerolinecolor\": \"white\"}, \"yaxis\": {\"backgroundcolor\": \"#E5ECF6\", \"gridcolor\": \"white\", \"gridwidth\": 2, \"linecolor\": \"white\", \"showbackground\": true, \"ticks\": \"\", \"zerolinecolor\": \"white\"}, \"zaxis\": {\"backgroundcolor\": \"#E5ECF6\", \"gridcolor\": \"white\", \"gridwidth\": 2, \"linecolor\": \"white\", \"showbackground\": true, \"ticks\": \"\", \"zerolinecolor\": \"white\"}}, \"shapedefaults\": {\"line\": {\"color\": \"#2a3f5f\"}}, \"ternary\": {\"aaxis\": {\"gridcolor\": \"white\", \"linecolor\": \"white\", \"ticks\": \"\"}, \"baxis\": {\"gridcolor\": \"white\", \"linecolor\": \"white\", \"ticks\": \"\"}, \"bgcolor\": \"#E5ECF6\", \"caxis\": {\"gridcolor\": \"white\", \"linecolor\": \"white\", \"ticks\": \"\"}}, \"title\": {\"x\": 0.05}, \"xaxis\": {\"automargin\": true, \"gridcolor\": \"white\", \"linecolor\": \"white\", \"ticks\": \"\", \"title\": {\"standoff\": 15}, \"zerolinecolor\": \"white\", \"zerolinewidth\": 2}, \"yaxis\": {\"automargin\": true, \"gridcolor\": \"white\", \"linecolor\": \"white\", \"ticks\": \"\", \"title\": {\"standoff\": 15}, \"zerolinecolor\": \"white\", \"zerolinewidth\": 2}}}, \"title\": {\"text\": \"Indian COVID-19 Patients Outcome Age-Wise\"}},\n",
       "                        {\"responsive\": true}\n",
       "                    ).then(function(){\n",
       "                            \n",
       "var gd = document.getElementById('1c2067cb-677b-40cc-aad5-771cb42904ab');\n",
       "var x = new MutationObserver(function (mutations, observer) {{\n",
       "        var display = window.getComputedStyle(gd).display;\n",
       "        if (!display || display === 'none') {{\n",
       "            console.log([gd, 'removed!']);\n",
       "            Plotly.purge(gd);\n",
       "            observer.disconnect();\n",
       "        }}\n",
       "}});\n",
       "\n",
       "// Listen for the removal of the full notebook cells\n",
       "var notebookContainer = gd.closest('#notebook-container');\n",
       "if (notebookContainer) {{\n",
       "    x.observe(notebookContainer, {childList: true});\n",
       "}}\n",
       "\n",
       "// Listen for the clearing of the current output cell\n",
       "var outputEl = gd.closest('.output');\n",
       "if (outputEl) {{\n",
       "    x.observe(outputEl, {childList: true});\n",
       "}}\n",
       "\n",
       "                        })\n",
       "                };\n",
       "                \n",
       "            </script>\n",
       "        </div>\n",
       "</body>\n",
       "</html>"
      ]
     },
     "metadata": {
      "tags": []
     },
     "output_type": "display_data"
    }
   ],
   "source": [
    "df1_indians = df_indi[df_indi['current_status'] == 'Deceased']\n",
    "df2_indians = df_indi[df_indi['current_status'] == 'Hospitalized']\n",
    "df3_indians = df_indi[df_indi['current_status'] == 'Recovered']\n",
    "\n",
    "fig = go.Figure()\n",
    "fig.add_trace(go.Box(y=df1_indians['age'], name=\"Deceased Patients\"))\n",
    "fig.add_trace(go.Box(y=df2_indians['age'], name=\"Hospitalized Patients\"))\n",
    "fig.add_trace(go.Box(y=df3_indians['age'], name=\"Recovered Patients\"))\n",
    "fig.update_layout(title_text='Indian COVID-19 Patients Outcome Age-Wise')\n",
    "fig.show()"
   ]
  },
  {
   "cell_type": "code",
   "execution_count": 0,
   "metadata": {
    "colab": {},
    "colab_type": "code",
    "id": "Mb_a6qwDP6Da"
   },
   "outputs": [],
   "source": [
    "pep_no_trav_his = df_indi[df_indi['notes'].str.contains('Travel') == False]\n",
    "pep_with_trav_his = df_indi[df_indi['notes'].str.contains('Travel') == True]"
   ]
  },
  {
   "cell_type": "code",
   "execution_count": 0,
   "metadata": {
    "colab": {
     "base_uri": "https://localhost:8080/",
     "height": 465
    },
    "colab_type": "code",
    "id": "RjM6Q8jqQD6R",
    "outputId": "7d782658-4429-4ec8-dcfc-b9ac215237d1"
   },
   "outputs": [
    {
     "data": {
      "image/png": "[encoded data removed]",
      "text/plain": [
       "<Figure size 1080x1080 with 1 Axes>"
      ]
     },
     "metadata": {
      "needs_background": "light",
      "tags": []
     },
     "output_type": "display_data"
    }
   ],
   "source": [
    "from wordcloud import WordCloud, STOPWORDS\n",
    "stopwords = set(STOPWORDS)\n",
    "\n",
    "def show_wordcloud(data, title = None):\n",
    "    wordcloud = WordCloud(\n",
    "        background_color='black',\n",
    "        stopwords=stopwords,\n",
    "        max_words=200,\n",
    "        max_font_size=40, \n",
    "        scale=3,\n",
    "        random_state=1\n",
    ").generate(str(data))\n",
    "\n",
    "    fig = plt.figure(1, figsize=(15, 15))\n",
    "    plt.axis('off')\n",
    "    if title: \n",
    "        fig.suptitle(title, fontsize=20)\n",
    "        fig.subplots_adjust(top=2.3)\n",
    "\n",
    "    plt.imshow(wordcloud)\n",
    "    plt.title('Possible Reasons for those Affected without Travel History ')\n",
    "    plt.show()\n",
    "    \n",
    "\n",
    "show_wordcloud(pep_no_trav_his['notes'].apply(lambda x: x.replace('travel', '')))"
   ]
  },
  {
   "cell_type": "markdown",
   "metadata": {
    "colab_type": "text",
    "id": "ZV-_VKqcQx-J"
   },
   "source": [
    "###### The main reasons for those affetced without travel history are Conatct with the infected ones and local transmission"
   ]
  },
  {
   "cell_type": "code",
   "execution_count": 0,
   "metadata": {
    "colab": {},
    "colab_type": "code",
    "id": "TPbV9iMZyDWO"
   },
   "outputs": [],
   "source": [
    "df_testing_dtls = df_test_dtls.copy()"
   ]
  },
  {
   "cell_type": "code",
   "execution_count": 0,
   "metadata": {
    "colab": {},
    "colab_type": "code",
    "id": "7zhcWiUryCLT"
   },
   "outputs": [],
   "source": [
    "df_testing_dtls.drop(['TotalIndividualsTested','Source'],axis=1,inplace=True)\n",
    "df_testing_dtls.fillna(df_testing_dtls.median(),inplace=True)\n",
    "df_testing_dtls['DateTime'] = pd.to_datetime(df_testing_dtls['DateTime'],format='%d/%m/%y %H:%M')\n"
   ]
  },
  {
   "cell_type": "code",
   "execution_count": 0,
   "metadata": {
    "colab": {},
    "colab_type": "code",
    "id": "RDB3KyUj2fO9"
   },
   "outputs": [],
   "source": [
    "df_testing_dtls['Date']=[dt.datetime.date(d) for d in df_testing_dtls['DateTime']]\n",
    "df_testing_dtls.drop(['SNo','DateTime'],axis=1,inplace=True)\n",
    "df_testing_dtls['Diagnosed_Rate'] = (( df_testing_dtls['TotalPositiveCases']/df_testing_dtls['TotalSamplesTested'])*100).map('{:,.2f}%'.format)"
   ]
  },
  {
   "cell_type": "code",
   "execution_count": 0,
   "metadata": {
    "colab": {},
    "colab_type": "code",
    "id": "19euRETe1l8I"
   },
   "outputs": [],
   "source": [
    "# df_testing_dtls.set_index('Date',drop=True,inplace=True)"
   ]
  },
  {
   "cell_type": "code",
   "execution_count": 0,
   "metadata": {
    "colab": {
     "base_uri": "https://localhost:8080/",
     "height": 34
    },
    "colab_type": "code",
    "id": "2v5ewS_K109r",
    "outputId": "ba62bf98-2f6e-4342-94e5-6e27fa951d92"
   },
   "outputs": [
    {
     "data": {
      "text/plain": [
       "Index(['TotalSamplesTested', 'TotalPositiveCases', 'Date', 'Diagnosed_Rate'], dtype='object')"
      ]
     },
     "execution_count": 73,
     "metadata": {
      "tags": []
     },
     "output_type": "execute_result"
    }
   ],
   "source": [
    "df_testing_dtls.columns"
   ]
  },
  {
   "cell_type": "code",
   "execution_count": 0,
   "metadata": {
    "colab": {
     "base_uri": "https://localhost:8080/",
     "height": 542
    },
    "colab_type": "code",
    "id": "tyKmUCcG7uwr",
    "outputId": "72fed3df-1768-49ca-cf09-cd7ee15682d1"
   },
   "outputs": [
    {
     "data": {
      "text/html": [
       "<html>\n",
       "<head><meta charset=\"utf-8\" /></head>\n",
       "<body>\n",
       "    <div>\n",
       "            <script src=\"https://cdnjs.cloudflare.com/ajax/libs/mathjax/2.7.5/MathJax.js?config=TeX-AMS-MML_SVG\"></script><script type=\"text/javascript\">if (window.MathJax) {MathJax.Hub.Config({SVG: {font: \"STIX-Web\"}});}</script>\n",
       "                <script type=\"text/javascript\">window.PlotlyConfig = {MathJaxConfig: 'local'};</script>\n",
       "        <script src=\"https://cdn.plot.ly/plotly-latest.min.js\"></script>    \n",
       "            <div id=\"ac703423-aa0d-47df-ade7-2365b6264cb0\" class=\"plotly-graph-div\" style=\"height:525px; width:100%;\"></div>\n",
       "            <script type=\"text/javascript\">\n",
       "                \n",
       "                    window.PLOTLYENV=window.PLOTLYENV || {};\n",
       "                    \n",
       "                if (document.getElementById(\"ac703423-aa0d-47df-ade7-2365b6264cb0\")) {\n",
       "                    Plotly.newPlot(\n",
       "                        'ac703423-aa0d-47df-ade7-2365b6264cb0',\n",
       "                        [{\"name\": \"TotalSamplesTested\", \"text\": [6500.0, 13125.0, 14175.0, 15404.0, 16911.0, 18127.0, 20707.0, 22694.0, 25144.0, 42788.0, 27688.0, 42788.0, 42788.0, 38442.0, 42788.0, 47951.0, 55851.0, 69245.0, 79950.0, 89534.0, 101068.0, 114015.0, 127919.0, 144910.0, 161330.0, 179374.0], \"textposition\": \"outside\", \"texttemplate\": \"%{text:.2s}\", \"type\": \"bar\", \"x\": [\"2020-03-13\", \"2020-03-18\", \"2020-03-19\", \"2020-03-20\", \"2020-03-21\", \"2020-03-22\", \"2020-03-23\", \"2020-03-24\", \"2020-03-25\", \"2020-03-26\", \"2020-03-27\", \"2020-03-28\", \"2020-03-29\", \"2020-03-30\", \"2020-03-31\", \"2020-04-01\", \"2020-04-02\", \"2020-04-03\", \"2020-04-04\", \"2020-04-05\", \"2020-04-06\", \"2020-04-07\", \"2020-04-08\", \"2020-04-09\", \"2020-04-10\", \"2020-04-11\"], \"y\": [6500.0, 13125.0, 14175.0, 15404.0, 16911.0, 18127.0, 20707.0, 22694.0, 25144.0, 42788.0, 27688.0, 42788.0, 42788.0, 38442.0, 42788.0, 47951.0, 55851.0, 69245.0, 79950.0, 89534.0, 101068.0, 114015.0, 127919.0, 144910.0, 161330.0, 179374.0]}, {\"name\": \"TotalPositiveCases\", \"text\": [78.0, 150.0, 182.0, 236.0, 315.0, 396.0, 471.0, 536.0, 581.0, 1637.0, 691.0, 1637.0, 1637.0, 1637.0, 1637.0, 1637.0, 2056.0, 2653.0, 3113.0, 3554.0, 4135.0, 4616.0, 5114.0, 5705.0, 6872.0, 7703.0], \"textposition\": \"outside\", \"texttemplate\": \"%{text:.2s}\", \"type\": \"bar\", \"x\": [\"2020-03-13\", \"2020-03-18\", \"2020-03-19\", \"2020-03-20\", \"2020-03-21\", \"2020-03-22\", \"2020-03-23\", \"2020-03-24\", \"2020-03-25\", \"2020-03-26\", \"2020-03-27\", \"2020-03-28\", \"2020-03-29\", \"2020-03-30\", \"2020-03-31\", \"2020-04-01\", \"2020-04-02\", \"2020-04-03\", \"2020-04-04\", \"2020-04-05\", \"2020-04-06\", \"2020-04-07\", \"2020-04-08\", \"2020-04-09\", \"2020-04-10\", \"2020-04-11\"], \"y\": [78.0, 150.0, 182.0, 236.0, 315.0, 396.0, 471.0, 536.0, 581.0, 1637.0, 691.0, 1637.0, 1637.0, 1637.0, 1637.0, 1637.0, 2056.0, 2653.0, 3113.0, 3554.0, 4135.0, 4616.0, 5114.0, 5705.0, 6872.0, 7703.0]}],\n",
       "                        {\"template\": {\"data\": {\"bar\": [{\"error_x\": {\"color\": \"#2a3f5f\"}, \"error_y\": {\"color\": \"#2a3f5f\"}, \"marker\": {\"line\": {\"color\": \"#E5ECF6\", \"width\": 0.5}}, \"type\": \"bar\"}], \"barpolar\": [{\"marker\": {\"line\": {\"color\": \"#E5ECF6\", \"width\": 0.5}}, \"type\": \"barpolar\"}], \"carpet\": [{\"aaxis\": {\"endlinecolor\": \"#2a3f5f\", \"gridcolor\": \"white\", \"linecolor\": \"white\", \"minorgridcolor\": \"white\", \"startlinecolor\": \"#2a3f5f\"}, \"baxis\": {\"endlinecolor\": \"#2a3f5f\", \"gridcolor\": \"white\", \"linecolor\": \"white\", \"minorgridcolor\": \"white\", \"startlinecolor\": \"#2a3f5f\"}, \"type\": \"carpet\"}], \"choropleth\": [{\"colorbar\": {\"outlinewidth\": 0, \"ticks\": \"\"}, \"type\": \"choropleth\"}], \"contour\": [{\"colorbar\": {\"outlinewidth\": 0, \"ticks\": \"\"}, \"colorscale\": [[0.0, \"#0d0887\"], [0.1111111111111111, \"#46039f\"], [0.2222222222222222, \"#7201a8\"], [0.3333333333333333, \"#9c179e\"], [0.4444444444444444, \"#bd3786\"], [0.5555555555555556, \"#d8576b\"], [0.6666666666666666, \"#ed7953\"], [0.7777777777777778, \"#fb9f3a\"], [0.8888888888888888, \"#fdca26\"], [1.0, \"#f0f921\"]], \"type\": \"contour\"}], \"contourcarpet\": [{\"colorbar\": {\"outlinewidth\": 0, \"ticks\": \"\"}, \"type\": \"contourcarpet\"}], \"heatmap\": [{\"colorbar\": {\"outlinewidth\": 0, \"ticks\": \"\"}, \"colorscale\": [[0.0, \"#0d0887\"], [0.1111111111111111, \"#46039f\"], [0.2222222222222222, \"#7201a8\"], [0.3333333333333333, \"#9c179e\"], [0.4444444444444444, \"#bd3786\"], [0.5555555555555556, \"#d8576b\"], [0.6666666666666666, \"#ed7953\"], [0.7777777777777778, \"#fb9f3a\"], [0.8888888888888888, \"#fdca26\"], [1.0, \"#f0f921\"]], \"type\": \"heatmap\"}], \"heatmapgl\": [{\"colorbar\": {\"outlinewidth\": 0, \"ticks\": \"\"}, \"colorscale\": [[0.0, \"#0d0887\"], [0.1111111111111111, \"#46039f\"], [0.2222222222222222, \"#7201a8\"], [0.3333333333333333, \"#9c179e\"], [0.4444444444444444, \"#bd3786\"], [0.5555555555555556, \"#d8576b\"], [0.6666666666666666, \"#ed7953\"], [0.7777777777777778, \"#fb9f3a\"], [0.8888888888888888, \"#fdca26\"], [1.0, \"#f0f921\"]], \"type\": \"heatmapgl\"}], \"histogram\": [{\"marker\": {\"colorbar\": {\"outlinewidth\": 0, \"ticks\": \"\"}}, \"type\": \"histogram\"}], \"histogram2d\": [{\"colorbar\": {\"outlinewidth\": 0, \"ticks\": \"\"}, \"colorscale\": [[0.0, \"#0d0887\"], [0.1111111111111111, \"#46039f\"], [0.2222222222222222, \"#7201a8\"], [0.3333333333333333, \"#9c179e\"], [0.4444444444444444, \"#bd3786\"], [0.5555555555555556, \"#d8576b\"], [0.6666666666666666, \"#ed7953\"], [0.7777777777777778, \"#fb9f3a\"], [0.8888888888888888, \"#fdca26\"], [1.0, \"#f0f921\"]], \"type\": \"histogram2d\"}], \"histogram2dcontour\": [{\"colorbar\": {\"outlinewidth\": 0, \"ticks\": \"\"}, \"colorscale\": [[0.0, \"#0d0887\"], [0.1111111111111111, \"#46039f\"], [0.2222222222222222, \"#7201a8\"], [0.3333333333333333, \"#9c179e\"], [0.4444444444444444, \"#bd3786\"], [0.5555555555555556, \"#d8576b\"], [0.6666666666666666, \"#ed7953\"], [0.7777777777777778, \"#fb9f3a\"], [0.8888888888888888, \"#fdca26\"], [1.0, \"#f0f921\"]], \"type\": \"histogram2dcontour\"}], \"mesh3d\": [{\"colorbar\": {\"outlinewidth\": 0, \"ticks\": \"\"}, \"type\": \"mesh3d\"}], \"parcoords\": [{\"line\": {\"colorbar\": {\"outlinewidth\": 0, \"ticks\": \"\"}}, \"type\": \"parcoords\"}], \"pie\": [{\"automargin\": true, \"type\": \"pie\"}], \"scatter\": [{\"marker\": {\"colorbar\": {\"outlinewidth\": 0, \"ticks\": \"\"}}, \"type\": \"scatter\"}], \"scatter3d\": [{\"line\": {\"colorbar\": {\"outlinewidth\": 0, \"ticks\": \"\"}}, \"marker\": {\"colorbar\": {\"outlinewidth\": 0, \"ticks\": \"\"}}, \"type\": \"scatter3d\"}], \"scattercarpet\": [{\"marker\": {\"colorbar\": {\"outlinewidth\": 0, \"ticks\": \"\"}}, \"type\": \"scattercarpet\"}], \"scattergeo\": [{\"marker\": {\"colorbar\": {\"outlinewidth\": 0, \"ticks\": \"\"}}, \"type\": \"scattergeo\"}], \"scattergl\": [{\"marker\": {\"colorbar\": {\"outlinewidth\": 0, \"ticks\": \"\"}}, \"type\": \"scattergl\"}], \"scattermapbox\": [{\"marker\": {\"colorbar\": {\"outlinewidth\": 0, \"ticks\": \"\"}}, \"type\": \"scattermapbox\"}], \"scatterpolar\": [{\"marker\": {\"colorbar\": {\"outlinewidth\": 0, \"ticks\": \"\"}}, \"type\": \"scatterpolar\"}], \"scatterpolargl\": [{\"marker\": {\"colorbar\": {\"outlinewidth\": 0, \"ticks\": \"\"}}, \"type\": \"scatterpolargl\"}], \"scatterternary\": [{\"marker\": {\"colorbar\": {\"outlinewidth\": 0, \"ticks\": \"\"}}, \"type\": \"scatterternary\"}], \"surface\": [{\"colorbar\": {\"outlinewidth\": 0, \"ticks\": \"\"}, \"colorscale\": [[0.0, \"#0d0887\"], [0.1111111111111111, \"#46039f\"], [0.2222222222222222, \"#7201a8\"], [0.3333333333333333, \"#9c179e\"], [0.4444444444444444, \"#bd3786\"], [0.5555555555555556, \"#d8576b\"], [0.6666666666666666, \"#ed7953\"], [0.7777777777777778, \"#fb9f3a\"], [0.8888888888888888, \"#fdca26\"], [1.0, \"#f0f921\"]], \"type\": \"surface\"}], \"table\": [{\"cells\": {\"fill\": {\"color\": \"#EBF0F8\"}, \"line\": {\"color\": \"white\"}}, \"header\": {\"fill\": {\"color\": \"#C8D4E3\"}, \"line\": {\"color\": \"white\"}}, \"type\": \"table\"}]}, \"layout\": {\"annotationdefaults\": {\"arrowcolor\": \"#2a3f5f\", \"arrowhead\": 0, \"arrowwidth\": 1}, \"coloraxis\": {\"colorbar\": {\"outlinewidth\": 0, \"ticks\": \"\"}}, \"colorscale\": {\"diverging\": [[0, \"#8e0152\"], [0.1, \"#c51b7d\"], [0.2, \"#de77ae\"], [0.3, \"#f1b6da\"], [0.4, \"#fde0ef\"], [0.5, \"#f7f7f7\"], [0.6, \"#e6f5d0\"], [0.7, \"#b8e186\"], [0.8, \"#7fbc41\"], [0.9, \"#4d9221\"], [1, \"#276419\"]], \"sequential\": [[0.0, \"#0d0887\"], [0.1111111111111111, \"#46039f\"], [0.2222222222222222, \"#7201a8\"], [0.3333333333333333, \"#9c179e\"], [0.4444444444444444, \"#bd3786\"], [0.5555555555555556, \"#d8576b\"], [0.6666666666666666, \"#ed7953\"], [0.7777777777777778, \"#fb9f3a\"], [0.8888888888888888, \"#fdca26\"], [1.0, \"#f0f921\"]], \"sequentialminus\": [[0.0, \"#0d0887\"], [0.1111111111111111, \"#46039f\"], [0.2222222222222222, \"#7201a8\"], [0.3333333333333333, \"#9c179e\"], [0.4444444444444444, \"#bd3786\"], [0.5555555555555556, \"#d8576b\"], [0.6666666666666666, \"#ed7953\"], [0.7777777777777778, \"#fb9f3a\"], [0.8888888888888888, \"#fdca26\"], [1.0, \"#f0f921\"]]}, \"colorway\": [\"#636efa\", \"#EF553B\", \"#00cc96\", \"#ab63fa\", \"#FFA15A\", \"#19d3f3\", \"#FF6692\", \"#B6E880\", \"#FF97FF\", \"#FECB52\"], \"font\": {\"color\": \"#2a3f5f\"}, \"geo\": {\"bgcolor\": \"white\", \"lakecolor\": \"white\", \"landcolor\": \"#E5ECF6\", \"showlakes\": true, \"showland\": true, \"subunitcolor\": \"white\"}, \"hoverlabel\": {\"align\": \"left\"}, \"hovermode\": \"closest\", \"mapbox\": {\"style\": \"light\"}, \"paper_bgcolor\": \"white\", \"plot_bgcolor\": \"#E5ECF6\", \"polar\": {\"angularaxis\": {\"gridcolor\": \"white\", \"linecolor\": \"white\", \"ticks\": \"\"}, \"bgcolor\": \"#E5ECF6\", \"radialaxis\": {\"gridcolor\": \"white\", \"linecolor\": \"white\", \"ticks\": \"\"}}, \"scene\": {\"xaxis\": {\"backgroundcolor\": \"#E5ECF6\", \"gridcolor\": \"white\", \"gridwidth\": 2, \"linecolor\": \"white\", \"showbackground\": true, \"ticks\": \"\", \"zerolinecolor\": \"white\"}, \"yaxis\": {\"backgroundcolor\": \"#E5ECF6\", \"gridcolor\": \"white\", \"gridwidth\": 2, \"linecolor\": \"white\", \"showbackground\": true, \"ticks\": \"\", \"zerolinecolor\": \"white\"}, \"zaxis\": {\"backgroundcolor\": \"#E5ECF6\", \"gridcolor\": \"white\", \"gridwidth\": 2, \"linecolor\": \"white\", \"showbackground\": true, \"ticks\": \"\", \"zerolinecolor\": \"white\"}}, \"shapedefaults\": {\"line\": {\"color\": \"#2a3f5f\"}}, \"ternary\": {\"aaxis\": {\"gridcolor\": \"white\", \"linecolor\": \"white\", \"ticks\": \"\"}, \"baxis\": {\"gridcolor\": \"white\", \"linecolor\": \"white\", \"ticks\": \"\"}, \"bgcolor\": \"#E5ECF6\", \"caxis\": {\"gridcolor\": \"white\", \"linecolor\": \"white\", \"ticks\": \"\"}}, \"title\": {\"x\": 0.05}, \"xaxis\": {\"automargin\": true, \"gridcolor\": \"white\", \"linecolor\": \"white\", \"ticks\": \"\", \"title\": {\"standoff\": 15}, \"zerolinecolor\": \"white\", \"zerolinewidth\": 2}, \"yaxis\": {\"automargin\": true, \"gridcolor\": \"white\", \"linecolor\": \"white\", \"ticks\": \"\", \"title\": {\"standoff\": 15}, \"zerolinecolor\": \"white\", \"zerolinewidth\": 2}}}, \"title\": {\"text\": \"Day Wise Testing and Diagnosed Status\"}},\n",
       "                        {\"responsive\": true}\n",
       "                    ).then(function(){\n",
       "                            \n",
       "var gd = document.getElementById('ac703423-aa0d-47df-ade7-2365b6264cb0');\n",
       "var x = new MutationObserver(function (mutations, observer) {{\n",
       "        var display = window.getComputedStyle(gd).display;\n",
       "        if (!display || display === 'none') {{\n",
       "            console.log([gd, 'removed!']);\n",
       "            Plotly.purge(gd);\n",
       "            observer.disconnect();\n",
       "        }}\n",
       "}});\n",
       "\n",
       "// Listen for the removal of the full notebook cells\n",
       "var notebookContainer = gd.closest('#notebook-container');\n",
       "if (notebookContainer) {{\n",
       "    x.observe(notebookContainer, {childList: true});\n",
       "}}\n",
       "\n",
       "// Listen for the clearing of the current output cell\n",
       "var outputEl = gd.closest('.output');\n",
       "if (outputEl) {{\n",
       "    x.observe(outputEl, {childList: true});\n",
       "}}\n",
       "\n",
       "                        })\n",
       "                };\n",
       "                \n",
       "            </script>\n",
       "        </div>\n",
       "</body>\n",
       "</html>"
      ]
     },
     "metadata": {
      "tags": []
     },
     "output_type": "display_data"
    }
   ],
   "source": [
    "fig=go.Figure(data=[\n",
    "                    go.Bar(name='TotalSamplesTested',x=df_testing_dtls['Date'],y=df_testing_dtls['TotalSamplesTested'],text=df_testing_dtls['TotalSamplesTested']),\n",
    "                     go.Bar(name='TotalPositiveCases',x=df_testing_dtls['Date'],y=df_testing_dtls['TotalPositiveCases'],text=df_testing_dtls['TotalPositiveCases'])\n",
    "])\n",
    "fig.update_traces(texttemplate='%{text:.2s}',textposition='outside')\n",
    "fig.update_layout(title='Day Wise Testing and Diagnosed Status')"
   ]
  },
  {
   "cell_type": "code",
   "execution_count": 0,
   "metadata": {
    "colab": {
     "base_uri": "https://localhost:8080/",
     "height": 34
    },
    "colab_type": "code",
    "id": "y7CD6gQxEjLb",
    "outputId": "071958be-7bfa-4be3-89d4-9d0cccce4e19"
   },
   "outputs": [
    {
     "data": {
      "text/plain": [
       "(array(7703.), 179374)"
      ]
     },
     "execution_count": 75,
     "metadata": {
      "tags": []
     },
     "output_type": "execute_result"
    }
   ],
   "source": [
    "np.array(df_testing_dtls['TotalPositiveCases'].max()),int(df_testing_dtls['TotalSamplesTested'].max())"
   ]
  },
  {
   "cell_type": "code",
   "execution_count": 0,
   "metadata": {
    "colab": {
     "base_uri": "https://localhost:8080/",
     "height": 542
    },
    "colab_type": "code",
    "id": "2QDIVsBsDqM3",
    "outputId": "3a65b8e9-bbdc-4fa9-b67c-58eaa6e815c4"
   },
   "outputs": [
    {
     "data": {
      "text/html": [
       "<html>\n",
       "<head><meta charset=\"utf-8\" /></head>\n",
       "<body>\n",
       "    <div>\n",
       "            <script src=\"https://cdnjs.cloudflare.com/ajax/libs/mathjax/2.7.5/MathJax.js?config=TeX-AMS-MML_SVG\"></script><script type=\"text/javascript\">if (window.MathJax) {MathJax.Hub.Config({SVG: {font: \"STIX-Web\"}});}</script>\n",
       "                <script type=\"text/javascript\">window.PlotlyConfig = {MathJaxConfig: 'local'};</script>\n",
       "        <script src=\"https://cdn.plot.ly/plotly-latest.min.js\"></script>    \n",
       "            <div id=\"6aabcd0f-ef6a-4023-b1e0-22436b639bf1\" class=\"plotly-graph-div\" style=\"height:525px; width:100%;\"></div>\n",
       "            <script type=\"text/javascript\">\n",
       "                \n",
       "                    window.PLOTLYENV=window.PLOTLYENV || {};\n",
       "                    \n",
       "                if (document.getElementById(\"6aabcd0f-ef6a-4023-b1e0-22436b639bf1\")) {\n",
       "                    Plotly.newPlot(\n",
       "                        '6aabcd0f-ef6a-4023-b1e0-22436b639bf1',\n",
       "                        [{\"labels\": [\"TotalSamplesTested\", \"Total Confirmed Cases\", \"India Population\"], \"type\": \"pie\", \"values\": [179374, 7703, 1387297452]}],\n",
       "                        {\"template\": {\"data\": {\"bar\": [{\"error_x\": {\"color\": \"#2a3f5f\"}, \"error_y\": {\"color\": \"#2a3f5f\"}, \"marker\": {\"line\": {\"color\": \"#E5ECF6\", \"width\": 0.5}}, \"type\": \"bar\"}], \"barpolar\": [{\"marker\": {\"line\": {\"color\": \"#E5ECF6\", \"width\": 0.5}}, \"type\": \"barpolar\"}], \"carpet\": [{\"aaxis\": {\"endlinecolor\": \"#2a3f5f\", \"gridcolor\": \"white\", \"linecolor\": \"white\", \"minorgridcolor\": \"white\", \"startlinecolor\": \"#2a3f5f\"}, \"baxis\": {\"endlinecolor\": \"#2a3f5f\", \"gridcolor\": \"white\", \"linecolor\": \"white\", \"minorgridcolor\": \"white\", \"startlinecolor\": \"#2a3f5f\"}, \"type\": \"carpet\"}], \"choropleth\": [{\"colorbar\": {\"outlinewidth\": 0, \"ticks\": \"\"}, \"type\": \"choropleth\"}], \"contour\": [{\"colorbar\": {\"outlinewidth\": 0, \"ticks\": \"\"}, \"colorscale\": [[0.0, \"#0d0887\"], [0.1111111111111111, \"#46039f\"], [0.2222222222222222, \"#7201a8\"], [0.3333333333333333, \"#9c179e\"], [0.4444444444444444, \"#bd3786\"], [0.5555555555555556, \"#d8576b\"], [0.6666666666666666, \"#ed7953\"], [0.7777777777777778, \"#fb9f3a\"], [0.8888888888888888, \"#fdca26\"], [1.0, \"#f0f921\"]], \"type\": \"contour\"}], \"contourcarpet\": [{\"colorbar\": {\"outlinewidth\": 0, \"ticks\": \"\"}, \"type\": \"contourcarpet\"}], \"heatmap\": [{\"colorbar\": {\"outlinewidth\": 0, \"ticks\": \"\"}, \"colorscale\": [[0.0, \"#0d0887\"], [0.1111111111111111, \"#46039f\"], [0.2222222222222222, \"#7201a8\"], [0.3333333333333333, \"#9c179e\"], [0.4444444444444444, \"#bd3786\"], [0.5555555555555556, \"#d8576b\"], [0.6666666666666666, \"#ed7953\"], [0.7777777777777778, \"#fb9f3a\"], [0.8888888888888888, \"#fdca26\"], [1.0, \"#f0f921\"]], \"type\": \"heatmap\"}], \"heatmapgl\": [{\"colorbar\": {\"outlinewidth\": 0, \"ticks\": \"\"}, \"colorscale\": [[0.0, \"#0d0887\"], [0.1111111111111111, \"#46039f\"], [0.2222222222222222, \"#7201a8\"], [0.3333333333333333, \"#9c179e\"], [0.4444444444444444, \"#bd3786\"], [0.5555555555555556, \"#d8576b\"], [0.6666666666666666, \"#ed7953\"], [0.7777777777777778, \"#fb9f3a\"], [0.8888888888888888, \"#fdca26\"], [1.0, \"#f0f921\"]], \"type\": \"heatmapgl\"}], \"histogram\": [{\"marker\": {\"colorbar\": {\"outlinewidth\": 0, \"ticks\": \"\"}}, \"type\": \"histogram\"}], \"histogram2d\": [{\"colorbar\": {\"outlinewidth\": 0, \"ticks\": \"\"}, \"colorscale\": [[0.0, \"#0d0887\"], [0.1111111111111111, \"#46039f\"], [0.2222222222222222, \"#7201a8\"], [0.3333333333333333, \"#9c179e\"], [0.4444444444444444, \"#bd3786\"], [0.5555555555555556, \"#d8576b\"], [0.6666666666666666, \"#ed7953\"], [0.7777777777777778, \"#fb9f3a\"], [0.8888888888888888, \"#fdca26\"], [1.0, \"#f0f921\"]], \"type\": \"histogram2d\"}], \"histogram2dcontour\": [{\"colorbar\": {\"outlinewidth\": 0, \"ticks\": \"\"}, \"colorscale\": [[0.0, \"#0d0887\"], [0.1111111111111111, \"#46039f\"], [0.2222222222222222, \"#7201a8\"], [0.3333333333333333, \"#9c179e\"], [0.4444444444444444, \"#bd3786\"], [0.5555555555555556, \"#d8576b\"], [0.6666666666666666, \"#ed7953\"], [0.7777777777777778, \"#fb9f3a\"], [0.8888888888888888, \"#fdca26\"], [1.0, \"#f0f921\"]], \"type\": \"histogram2dcontour\"}], \"mesh3d\": [{\"colorbar\": {\"outlinewidth\": 0, \"ticks\": \"\"}, \"type\": \"mesh3d\"}], \"parcoords\": [{\"line\": {\"colorbar\": {\"outlinewidth\": 0, \"ticks\": \"\"}}, \"type\": \"parcoords\"}], \"pie\": [{\"automargin\": true, \"type\": \"pie\"}], \"scatter\": [{\"marker\": {\"colorbar\": {\"outlinewidth\": 0, \"ticks\": \"\"}}, \"type\": \"scatter\"}], \"scatter3d\": [{\"line\": {\"colorbar\": {\"outlinewidth\": 0, \"ticks\": \"\"}}, \"marker\": {\"colorbar\": {\"outlinewidth\": 0, \"ticks\": \"\"}}, \"type\": \"scatter3d\"}], \"scattercarpet\": [{\"marker\": {\"colorbar\": {\"outlinewidth\": 0, \"ticks\": \"\"}}, \"type\": \"scattercarpet\"}], \"scattergeo\": [{\"marker\": {\"colorbar\": {\"outlinewidth\": 0, \"ticks\": \"\"}}, \"type\": \"scattergeo\"}], \"scattergl\": [{\"marker\": {\"colorbar\": {\"outlinewidth\": 0, \"ticks\": \"\"}}, \"type\": \"scattergl\"}], \"scattermapbox\": [{\"marker\": {\"colorbar\": {\"outlinewidth\": 0, \"ticks\": \"\"}}, \"type\": \"scattermapbox\"}], \"scatterpolar\": [{\"marker\": {\"colorbar\": {\"outlinewidth\": 0, \"ticks\": \"\"}}, \"type\": \"scatterpolar\"}], \"scatterpolargl\": [{\"marker\": {\"colorbar\": {\"outlinewidth\": 0, \"ticks\": \"\"}}, \"type\": \"scatterpolargl\"}], \"scatterternary\": [{\"marker\": {\"colorbar\": {\"outlinewidth\": 0, \"ticks\": \"\"}}, \"type\": \"scatterternary\"}], \"surface\": [{\"colorbar\": {\"outlinewidth\": 0, \"ticks\": \"\"}, \"colorscale\": [[0.0, \"#0d0887\"], [0.1111111111111111, \"#46039f\"], [0.2222222222222222, \"#7201a8\"], [0.3333333333333333, \"#9c179e\"], [0.4444444444444444, \"#bd3786\"], [0.5555555555555556, \"#d8576b\"], [0.6666666666666666, \"#ed7953\"], [0.7777777777777778, \"#fb9f3a\"], [0.8888888888888888, \"#fdca26\"], [1.0, \"#f0f921\"]], \"type\": \"surface\"}], \"table\": [{\"cells\": {\"fill\": {\"color\": \"#EBF0F8\"}, \"line\": {\"color\": \"white\"}}, \"header\": {\"fill\": {\"color\": \"#C8D4E3\"}, \"line\": {\"color\": \"white\"}}, \"type\": \"table\"}]}, \"layout\": {\"annotationdefaults\": {\"arrowcolor\": \"#2a3f5f\", \"arrowhead\": 0, \"arrowwidth\": 1}, \"coloraxis\": {\"colorbar\": {\"outlinewidth\": 0, \"ticks\": \"\"}}, \"colorscale\": {\"diverging\": [[0, \"#8e0152\"], [0.1, \"#c51b7d\"], [0.2, \"#de77ae\"], [0.3, \"#f1b6da\"], [0.4, \"#fde0ef\"], [0.5, \"#f7f7f7\"], [0.6, \"#e6f5d0\"], [0.7, \"#b8e186\"], [0.8, \"#7fbc41\"], [0.9, \"#4d9221\"], [1, \"#276419\"]], \"sequential\": [[0.0, \"#0d0887\"], [0.1111111111111111, \"#46039f\"], [0.2222222222222222, \"#7201a8\"], [0.3333333333333333, \"#9c179e\"], [0.4444444444444444, \"#bd3786\"], [0.5555555555555556, \"#d8576b\"], [0.6666666666666666, \"#ed7953\"], [0.7777777777777778, \"#fb9f3a\"], [0.8888888888888888, \"#fdca26\"], [1.0, \"#f0f921\"]], \"sequentialminus\": [[0.0, \"#0d0887\"], [0.1111111111111111, \"#46039f\"], [0.2222222222222222, \"#7201a8\"], [0.3333333333333333, \"#9c179e\"], [0.4444444444444444, \"#bd3786\"], [0.5555555555555556, \"#d8576b\"], [0.6666666666666666, \"#ed7953\"], [0.7777777777777778, \"#fb9f3a\"], [0.8888888888888888, \"#fdca26\"], [1.0, \"#f0f921\"]]}, \"colorway\": [\"#636efa\", \"#EF553B\", \"#00cc96\", \"#ab63fa\", \"#FFA15A\", \"#19d3f3\", \"#FF6692\", \"#B6E880\", \"#FF97FF\", \"#FECB52\"], \"font\": {\"color\": \"#2a3f5f\"}, \"geo\": {\"bgcolor\": \"white\", \"lakecolor\": \"white\", \"landcolor\": \"#E5ECF6\", \"showlakes\": true, \"showland\": true, \"subunitcolor\": \"white\"}, \"hoverlabel\": {\"align\": \"left\"}, \"hovermode\": \"closest\", \"mapbox\": {\"style\": \"light\"}, \"paper_bgcolor\": \"white\", \"plot_bgcolor\": \"#E5ECF6\", \"polar\": {\"angularaxis\": {\"gridcolor\": \"white\", \"linecolor\": \"white\", \"ticks\": \"\"}, \"bgcolor\": \"#E5ECF6\", \"radialaxis\": {\"gridcolor\": \"white\", \"linecolor\": \"white\", \"ticks\": \"\"}}, \"scene\": {\"xaxis\": {\"backgroundcolor\": \"#E5ECF6\", \"gridcolor\": \"white\", \"gridwidth\": 2, \"linecolor\": \"white\", \"showbackground\": true, \"ticks\": \"\", \"zerolinecolor\": \"white\"}, \"yaxis\": {\"backgroundcolor\": \"#E5ECF6\", \"gridcolor\": \"white\", \"gridwidth\": 2, \"linecolor\": \"white\", \"showbackground\": true, \"ticks\": \"\", \"zerolinecolor\": \"white\"}, \"zaxis\": {\"backgroundcolor\": \"#E5ECF6\", \"gridcolor\": \"white\", \"gridwidth\": 2, \"linecolor\": \"white\", \"showbackground\": true, \"ticks\": \"\", \"zerolinecolor\": \"white\"}}, \"shapedefaults\": {\"line\": {\"color\": \"#2a3f5f\"}}, \"ternary\": {\"aaxis\": {\"gridcolor\": \"white\", \"linecolor\": \"white\", \"ticks\": \"\"}, \"baxis\": {\"gridcolor\": \"white\", \"linecolor\": \"white\", \"ticks\": \"\"}, \"bgcolor\": \"#E5ECF6\", \"caxis\": {\"gridcolor\": \"white\", \"linecolor\": \"white\", \"ticks\": \"\"}}, \"title\": {\"x\": 0.05}, \"xaxis\": {\"automargin\": true, \"gridcolor\": \"white\", \"linecolor\": \"white\", \"ticks\": \"\", \"title\": {\"standoff\": 15}, \"zerolinecolor\": \"white\", \"zerolinewidth\": 2}, \"yaxis\": {\"automargin\": true, \"gridcolor\": \"white\", \"linecolor\": \"white\", \"ticks\": \"\", \"title\": {\"standoff\": 15}, \"zerolinecolor\": \"white\", \"zerolinewidth\": 2}}}},\n",
       "                        {\"responsive\": true}\n",
       "                    ).then(function(){\n",
       "                            \n",
       "var gd = document.getElementById('6aabcd0f-ef6a-4023-b1e0-22436b639bf1');\n",
       "var x = new MutationObserver(function (mutations, observer) {{\n",
       "        var display = window.getComputedStyle(gd).display;\n",
       "        if (!display || display === 'none') {{\n",
       "            console.log([gd, 'removed!']);\n",
       "            Plotly.purge(gd);\n",
       "            observer.disconnect();\n",
       "        }}\n",
       "}});\n",
       "\n",
       "// Listen for the removal of the full notebook cells\n",
       "var notebookContainer = gd.closest('#notebook-container');\n",
       "if (notebookContainer) {{\n",
       "    x.observe(notebookContainer, {childList: true});\n",
       "}}\n",
       "\n",
       "// Listen for the clearing of the current output cell\n",
       "var outputEl = gd.closest('.output');\n",
       "if (outputEl) {{\n",
       "    x.observe(outputEl, {childList: true});\n",
       "}}\n",
       "\n",
       "                        })\n",
       "                };\n",
       "                \n",
       "            </script>\n",
       "        </div>\n",
       "</body>\n",
       "</html>"
      ]
     },
     "metadata": {
      "tags": []
     },
     "output_type": "display_data"
    }
   ],
   "source": [
    "fig = go.Figure(data=[\n",
    "          # go.Bar(name='Total Confirmed',x=df_total_cases_beds['Total'],y=df_total_cases_beds['Total Confirmed'],text=df_total_cases_beds['Total Confirmed']),\n",
    "          # go.Bar(name='Total Deaths',x=df_total_cases_beds['Total'],y=df_total_cases_beds['Total Deaths'],text=df_total_cases_beds['Total Deaths']),\n",
    "          # go.Bar(name='Total Samples Tested',x=df_total_cases_beds['Total'],y=[df_testing_dtls['TotalSamplesTested'].sum()],text=[df_testing_dtls['TotalSamplesTested'].sum()]),\n",
    "          #  go.Bar(name='Total Deaths',x=df_total_cases_beds['Total'],y=['1387297452'],text=['1387297452'])\n",
    "           go.Pie(labels=['TotalSamplesTested','Total Confirmed Cases','India Population'],values=[179374,7703,1387297452])\n",
    "          \n",
    "    ])\n",
    "# fig.update_traces(texttemplate='%{text:.2s}',textposition='outside')\n",
    "# fig.update_layout(title='Total number cases versus number of beds available in India')\n",
    "fig.show()\n"
   ]
  },
  {
   "cell_type": "markdown",
   "metadata": {
    "colab_type": "text",
    "id": "s_p-TDkjKB0r"
   },
   "source": [
    "Lets get the geoJSON data for India"
   ]
  },
  {
   "cell_type": "code",
   "execution_count": 0,
   "metadata": {
    "colab": {},
    "colab_type": "code",
    "id": "UcKfDTJlL5Rn"
   },
   "outputs": [],
   "source": [
    "!wget 'https://raw.githubusercontent.com/geohacker/india/master/state/india_telengana.geojson' -o india.json"
   ]
  },
  {
   "cell_type": "code",
   "execution_count": 0,
   "metadata": {
    "colab": {},
    "colab_type": "code",
    "id": "rIack_i1PTu7"
   },
   "outputs": [],
   "source": [
    "\n",
    "req = requests.get('https://raw.githubusercontent.com/geohacker/india/master/state/india_telengana.geojson')\n",
    "# decoded_data = req.text.encode().decode('utf-8-sig')\n",
    "# india_geo = json.loads(decoded_data)\n",
    "india_geo = req.json()"
   ]
  },
  {
   "cell_type": "code",
   "execution_count": 0,
   "metadata": {
    "colab": {},
    "colab_type": "code",
    "id": "7OPAwBQ4NHIQ"
   },
   "outputs": [],
   "source": [
    "# india_geo = r'india.json'\n",
    "# india_map = folium.Map(location=(20.5937, 78.9629))"
   ]
  },
  {
   "cell_type": "code",
   "execution_count": 0,
   "metadata": {
    "colab": {},
    "colab_type": "code",
    "id": "yDe92NKjNXVK"
   },
   "outputs": [],
   "source": [
    "# fig = px.choropleth(df_state_beds, geojson=india_geo, locations='State/UT', color='Deaths',\n",
    "#                            color_continuous_scale=px.colors.sequential.Plasma,hover_data=['Cured','Deaths','Confirmed','Total_Beds'],\n",
    "#                            featureidkey=\"properties.NAME_1\",\n",
    "#                            title='State/UT Wise Breakdown of Cases and Beds available'\n",
    "#                           )\n",
    "# fig.update_geos(fitbounds=\"locations\", visible=True)\n",
    "# fig.update_geos(projection_type=\"orthographic\")\n",
    "# fig.update_layout(height=600,margin={\"r\":0,\"t\":30,\"l\":0,\"b\":30}\n",
    "                  \n",
    "#                                )\n",
    "# fig.show()"
   ]
  },
  {
   "cell_type": "markdown",
   "metadata": {
    "colab_type": "text",
    "id": "T7Nx2AfZU_nM"
   },
   "source": [
    "Prediction"
   ]
  },
  {
   "cell_type": "code",
   "execution_count": 0,
   "metadata": {
    "colab": {},
    "colab_type": "code",
    "id": "6u9GpGXnVDLX"
   },
   "outputs": [],
   "source": [
    "\n",
    "growth_rate_ind = calGrowthRate(df_covid,'Confirmed')\n",
    "avg_growth_rate = np.mean(growth_rate_ind)"
   ]
  },
  {
   "cell_type": "code",
   "execution_count": 0,
   "metadata": {
    "colab": {
     "base_uri": "https://localhost:8080/",
     "height": 34
    },
    "colab_type": "code",
    "id": "lZzylJ6BhT4a",
    "outputId": "db09c4d7-9a84-40cc-ed2d-e215c11255ef"
   },
   "outputs": [
    {
     "data": {
      "text/plain": [
       "1.168286310920373"
      ]
     },
     "execution_count": 367,
     "metadata": {
      "tags": []
     },
     "output_type": "execute_result"
    }
   ],
   "source": [
    "avg_growth_rate"
   ]
  },
  {
   "cell_type": "code",
   "execution_count": 0,
   "metadata": {
    "colab": {
     "base_uri": "https://localhost:8080/",
     "height": 517
    },
    "colab_type": "code",
    "id": "0nRAhnokVW-W",
    "outputId": "3d3c99ac-d57b-4c21-8b06-b22a9e5067f7"
   },
   "outputs": [
    {
     "data": {
      "text/html": [
       "<html>\n",
       "<head><meta charset=\"utf-8\" /></head>\n",
       "<body>\n",
       "    <div>\n",
       "            <script src=\"https://cdnjs.cloudflare.com/ajax/libs/mathjax/2.7.5/MathJax.js?config=TeX-AMS-MML_SVG\"></script><script type=\"text/javascript\">if (window.MathJax) {MathJax.Hub.Config({SVG: {font: \"STIX-Web\"}});}</script>\n",
       "                <script type=\"text/javascript\">window.PlotlyConfig = {MathJaxConfig: 'local'};</script>\n",
       "        <script src=\"https://cdn.plot.ly/plotly-latest.min.js\"></script>    \n",
       "            <div id=\"b4f542d5-79e8-48b6-b698-f79a0feeb520\" class=\"plotly-graph-div\" style=\"height:500px; width:800px;\"></div>\n",
       "            <script type=\"text/javascript\">\n",
       "                \n",
       "                    window.PLOTLYENV=window.PLOTLYENV || {};\n",
       "                    \n",
       "                if (document.getElementById(\"b4f542d5-79e8-48b6-b698-f79a0feeb520\")) {\n",
       "                    Plotly.newPlot(\n",
       "                        'b4f542d5-79e8-48b6-b698-f79a0feeb520',\n",
       "                        [{\"type\": \"scatter\", \"x\": [\"2020-01-30T00:00:00\", \"2020-01-31T00:00:00\", \"2020-02-01T00:00:00\", \"2020-02-02T00:00:00\", \"2020-02-03T00:00:00\", \"2020-02-04T00:00:00\", \"2020-02-05T00:00:00\", \"2020-02-06T00:00:00\", \"2020-02-07T00:00:00\", \"2020-02-08T00:00:00\", \"2020-02-09T00:00:00\", \"2020-02-10T00:00:00\", \"2020-02-11T00:00:00\", \"2020-02-12T00:00:00\", \"2020-02-13T00:00:00\", \"2020-02-14T00:00:00\", \"2020-02-15T00:00:00\", \"2020-02-16T00:00:00\", \"2020-02-17T00:00:00\", \"2020-02-18T00:00:00\", \"2020-02-19T00:00:00\", \"2020-02-20T00:00:00\", \"2020-02-21T00:00:00\", \"2020-02-22T00:00:00\", \"2020-02-23T00:00:00\", \"2020-02-24T00:00:00\", \"2020-02-25T00:00:00\", \"2020-02-26T00:00:00\", \"2020-02-27T00:00:00\", \"2020-02-28T00:00:00\", \"2020-02-29T00:00:00\", \"2020-03-01T00:00:00\", \"2020-03-02T00:00:00\", \"2020-03-03T00:00:00\", \"2020-03-04T00:00:00\", \"2020-03-05T00:00:00\", \"2020-03-06T00:00:00\", \"2020-03-07T00:00:00\", \"2020-03-08T00:00:00\", \"2020-03-09T00:00:00\", \"2020-03-10T00:00:00\", \"2020-03-11T00:00:00\", \"2020-03-12T00:00:00\", \"2020-03-13T00:00:00\", \"2020-03-14T00:00:00\", \"2020-03-15T00:00:00\", \"2020-03-16T00:00:00\", \"2020-03-17T00:00:00\", \"2020-03-18T00:00:00\", \"2020-03-19T00:00:00\", \"2020-03-20T00:00:00\", \"2020-03-21T00:00:00\", \"2020-03-22T00:00:00\", \"2020-03-23T00:00:00\", \"2020-03-24T00:00:00\", \"2020-03-25T00:00:00\", \"2020-03-26T00:00:00\", \"2020-03-27T00:00:00\", \"2020-03-28T00:00:00\", \"2020-03-29T00:00:00\", \"2020-03-30T00:00:00\", \"2020-03-31T00:00:00\", \"2020-04-01T00:00:00\", \"2020-04-02T00:00:00\", \"2020-04-03T00:00:00\", \"2020-04-04T00:00:00\", \"2020-04-05T00:00:00\", \"2020-04-06T00:00:00\", \"2020-04-07T00:00:00\", \"2020-04-08T00:00:00\", \"2020-04-09T00:00:00\", \"2020-04-10T00:00:00\", \"2020-04-11T00:00:00\", \"2020-04-12T00:00:00\"], \"y\": [1.0, 2.0, 1.5, 1.0, 1.0, 1.0, 1.0, 1.0, 1.0, 1.0, 1.0, 1.0, 1.0, 1.0, 1.0, 1.0, 1.0, 1.0, 1.0, 1.0, 1.0, 1.0, 1.0, 1.0, 1.0, 1.0, 1.0, 1.0, 1.0, 1.0, 1.0, 1.6666666666666667, 1.2, 4.666666666666667, 1.0714285714285714, 1.0333333333333334, 1.096774193548387, 1.1470588235294117, 1.1794871794871795, 1.2608695652173914, 1.0344827586206897, 1.2333333333333334, 1.0945945945945945, 1.037037037037037, 1.3095238095238095, 1.0363636363636364, 1.2017543859649122, 1.102189781021898, 1.1456953642384107, 1.2890173410404624, 1.2690582959641257, 1.2720848056537102, 1.2027777777777777, 1.1986143187066975, 1.1676300578034682, 1.1452145214521452, 1.043227665706052, 1.2555248618784531, 1.1265126512651265, 1.2216796875, 1.1167066346922463, 1.3128131710808877, 1.1281352235550708, 1.2310294828419526, 1.2061248527679622, 1.1643880208333333, 1.196812971764048, 1.1186638635832749, 1.1012737523491334, 1.1120591581342434, 1.152770673486786, 1.1135926638071292, 1.1219285429671935]}],\n",
       "                        {\"font\": {\"color\": \"white\", \"size\": 12}, \"height\": 500, \"paper_bgcolor\": \"Maroon\", \"plot_bgcolor\": \"Maroon\", \"template\": {\"data\": {\"bar\": [{\"error_x\": {\"color\": \"#2a3f5f\"}, \"error_y\": {\"color\": \"#2a3f5f\"}, \"marker\": {\"line\": {\"color\": \"#E5ECF6\", \"width\": 0.5}}, \"type\": \"bar\"}], \"barpolar\": [{\"marker\": {\"line\": {\"color\": \"#E5ECF6\", \"width\": 0.5}}, \"type\": \"barpolar\"}], \"carpet\": [{\"aaxis\": {\"endlinecolor\": \"#2a3f5f\", \"gridcolor\": \"white\", \"linecolor\": \"white\", \"minorgridcolor\": \"white\", \"startlinecolor\": \"#2a3f5f\"}, \"baxis\": {\"endlinecolor\": \"#2a3f5f\", \"gridcolor\": \"white\", \"linecolor\": \"white\", \"minorgridcolor\": \"white\", \"startlinecolor\": \"#2a3f5f\"}, \"type\": \"carpet\"}], \"choropleth\": [{\"colorbar\": {\"outlinewidth\": 0, \"ticks\": \"\"}, \"type\": \"choropleth\"}], \"contour\": [{\"colorbar\": {\"outlinewidth\": 0, \"ticks\": \"\"}, \"colorscale\": [[0.0, \"#0d0887\"], [0.1111111111111111, \"#46039f\"], [0.2222222222222222, \"#7201a8\"], [0.3333333333333333, \"#9c179e\"], [0.4444444444444444, \"#bd3786\"], [0.5555555555555556, \"#d8576b\"], [0.6666666666666666, \"#ed7953\"], [0.7777777777777778, \"#fb9f3a\"], [0.8888888888888888, \"#fdca26\"], [1.0, \"#f0f921\"]], \"type\": \"contour\"}], \"contourcarpet\": [{\"colorbar\": {\"outlinewidth\": 0, \"ticks\": \"\"}, \"type\": \"contourcarpet\"}], \"heatmap\": [{\"colorbar\": {\"outlinewidth\": 0, \"ticks\": \"\"}, \"colorscale\": [[0.0, \"#0d0887\"], [0.1111111111111111, \"#46039f\"], [0.2222222222222222, \"#7201a8\"], [0.3333333333333333, \"#9c179e\"], [0.4444444444444444, \"#bd3786\"], [0.5555555555555556, \"#d8576b\"], [0.6666666666666666, \"#ed7953\"], [0.7777777777777778, \"#fb9f3a\"], [0.8888888888888888, \"#fdca26\"], [1.0, \"#f0f921\"]], \"type\": \"heatmap\"}], \"heatmapgl\": [{\"colorbar\": {\"outlinewidth\": 0, \"ticks\": \"\"}, \"colorscale\": [[0.0, \"#0d0887\"], [0.1111111111111111, \"#46039f\"], [0.2222222222222222, \"#7201a8\"], [0.3333333333333333, \"#9c179e\"], [0.4444444444444444, \"#bd3786\"], [0.5555555555555556, \"#d8576b\"], [0.6666666666666666, \"#ed7953\"], [0.7777777777777778, \"#fb9f3a\"], [0.8888888888888888, \"#fdca26\"], [1.0, \"#f0f921\"]], \"type\": \"heatmapgl\"}], \"histogram\": [{\"marker\": {\"colorbar\": {\"outlinewidth\": 0, \"ticks\": \"\"}}, \"type\": \"histogram\"}], \"histogram2d\": [{\"colorbar\": {\"outlinewidth\": 0, \"ticks\": \"\"}, \"colorscale\": [[0.0, \"#0d0887\"], [0.1111111111111111, \"#46039f\"], [0.2222222222222222, \"#7201a8\"], [0.3333333333333333, \"#9c179e\"], [0.4444444444444444, \"#bd3786\"], [0.5555555555555556, \"#d8576b\"], [0.6666666666666666, \"#ed7953\"], [0.7777777777777778, \"#fb9f3a\"], [0.8888888888888888, \"#fdca26\"], [1.0, \"#f0f921\"]], \"type\": \"histogram2d\"}], \"histogram2dcontour\": [{\"colorbar\": {\"outlinewidth\": 0, \"ticks\": \"\"}, \"colorscale\": [[0.0, \"#0d0887\"], [0.1111111111111111, \"#46039f\"], [0.2222222222222222, \"#7201a8\"], [0.3333333333333333, \"#9c179e\"], [0.4444444444444444, \"#bd3786\"], [0.5555555555555556, \"#d8576b\"], [0.6666666666666666, \"#ed7953\"], [0.7777777777777778, \"#fb9f3a\"], [0.8888888888888888, \"#fdca26\"], [1.0, \"#f0f921\"]], \"type\": \"histogram2dcontour\"}], \"mesh3d\": [{\"colorbar\": {\"outlinewidth\": 0, \"ticks\": \"\"}, \"type\": \"mesh3d\"}], \"parcoords\": [{\"line\": {\"colorbar\": {\"outlinewidth\": 0, \"ticks\": \"\"}}, \"type\": \"parcoords\"}], \"pie\": [{\"automargin\": true, \"type\": \"pie\"}], \"scatter\": [{\"marker\": {\"colorbar\": {\"outlinewidth\": 0, \"ticks\": \"\"}}, \"type\": \"scatter\"}], \"scatter3d\": [{\"line\": {\"colorbar\": {\"outlinewidth\": 0, \"ticks\": \"\"}}, \"marker\": {\"colorbar\": {\"outlinewidth\": 0, \"ticks\": \"\"}}, \"type\": \"scatter3d\"}], \"scattercarpet\": [{\"marker\": {\"colorbar\": {\"outlinewidth\": 0, \"ticks\": \"\"}}, \"type\": \"scattercarpet\"}], \"scattergeo\": [{\"marker\": {\"colorbar\": {\"outlinewidth\": 0, \"ticks\": \"\"}}, \"type\": \"scattergeo\"}], \"scattergl\": [{\"marker\": {\"colorbar\": {\"outlinewidth\": 0, \"ticks\": \"\"}}, \"type\": \"scattergl\"}], \"scattermapbox\": [{\"marker\": {\"colorbar\": {\"outlinewidth\": 0, \"ticks\": \"\"}}, \"type\": \"scattermapbox\"}], \"scatterpolar\": [{\"marker\": {\"colorbar\": {\"outlinewidth\": 0, \"ticks\": \"\"}}, \"type\": \"scatterpolar\"}], \"scatterpolargl\": [{\"marker\": {\"colorbar\": {\"outlinewidth\": 0, \"ticks\": \"\"}}, \"type\": \"scatterpolargl\"}], \"scatterternary\": [{\"marker\": {\"colorbar\": {\"outlinewidth\": 0, \"ticks\": \"\"}}, \"type\": \"scatterternary\"}], \"surface\": [{\"colorbar\": {\"outlinewidth\": 0, \"ticks\": \"\"}, \"colorscale\": [[0.0, \"#0d0887\"], [0.1111111111111111, \"#46039f\"], [0.2222222222222222, \"#7201a8\"], [0.3333333333333333, \"#9c179e\"], [0.4444444444444444, \"#bd3786\"], [0.5555555555555556, \"#d8576b\"], [0.6666666666666666, \"#ed7953\"], [0.7777777777777778, \"#fb9f3a\"], [0.8888888888888888, \"#fdca26\"], [1.0, \"#f0f921\"]], \"type\": \"surface\"}], \"table\": [{\"cells\": {\"fill\": {\"color\": \"#EBF0F8\"}, \"line\": {\"color\": \"white\"}}, \"header\": {\"fill\": {\"color\": \"#C8D4E3\"}, \"line\": {\"color\": \"white\"}}, \"type\": \"table\"}]}, \"layout\": {\"annotationdefaults\": {\"arrowcolor\": \"#2a3f5f\", \"arrowhead\": 0, \"arrowwidth\": 1}, \"coloraxis\": {\"colorbar\": {\"outlinewidth\": 0, \"ticks\": \"\"}}, \"colorscale\": {\"diverging\": [[0, \"#8e0152\"], [0.1, \"#c51b7d\"], [0.2, \"#de77ae\"], [0.3, \"#f1b6da\"], [0.4, \"#fde0ef\"], [0.5, \"#f7f7f7\"], [0.6, \"#e6f5d0\"], [0.7, \"#b8e186\"], [0.8, \"#7fbc41\"], [0.9, \"#4d9221\"], [1, \"#276419\"]], \"sequential\": [[0.0, \"#0d0887\"], [0.1111111111111111, \"#46039f\"], [0.2222222222222222, \"#7201a8\"], [0.3333333333333333, \"#9c179e\"], [0.4444444444444444, \"#bd3786\"], [0.5555555555555556, \"#d8576b\"], [0.6666666666666666, \"#ed7953\"], [0.7777777777777778, \"#fb9f3a\"], [0.8888888888888888, \"#fdca26\"], [1.0, \"#f0f921\"]], \"sequentialminus\": [[0.0, \"#0d0887\"], [0.1111111111111111, \"#46039f\"], [0.2222222222222222, \"#7201a8\"], [0.3333333333333333, \"#9c179e\"], [0.4444444444444444, \"#bd3786\"], [0.5555555555555556, \"#d8576b\"], [0.6666666666666666, \"#ed7953\"], [0.7777777777777778, \"#fb9f3a\"], [0.8888888888888888, \"#fdca26\"], [1.0, \"#f0f921\"]]}, \"colorway\": [\"#636efa\", \"#EF553B\", \"#00cc96\", \"#ab63fa\", \"#FFA15A\", \"#19d3f3\", \"#FF6692\", \"#B6E880\", \"#FF97FF\", \"#FECB52\"], \"font\": {\"color\": \"#2a3f5f\"}, \"geo\": {\"bgcolor\": \"white\", \"lakecolor\": \"white\", \"landcolor\": \"#E5ECF6\", \"showlakes\": true, \"showland\": true, \"subunitcolor\": \"white\"}, \"hoverlabel\": {\"align\": \"left\"}, \"hovermode\": \"closest\", \"mapbox\": {\"style\": \"light\"}, \"paper_bgcolor\": \"white\", \"plot_bgcolor\": \"#E5ECF6\", \"polar\": {\"angularaxis\": {\"gridcolor\": \"white\", \"linecolor\": \"white\", \"ticks\": \"\"}, \"bgcolor\": \"#E5ECF6\", \"radialaxis\": {\"gridcolor\": \"white\", \"linecolor\": \"white\", \"ticks\": \"\"}}, \"scene\": {\"xaxis\": {\"backgroundcolor\": \"#E5ECF6\", \"gridcolor\": \"white\", \"gridwidth\": 2, \"linecolor\": \"white\", \"showbackground\": true, \"ticks\": \"\", \"zerolinecolor\": \"white\"}, \"yaxis\": {\"backgroundcolor\": \"#E5ECF6\", \"gridcolor\": \"white\", \"gridwidth\": 2, \"linecolor\": \"white\", \"showbackground\": true, \"ticks\": \"\", \"zerolinecolor\": \"white\"}, \"zaxis\": {\"backgroundcolor\": \"#E5ECF6\", \"gridcolor\": \"white\", \"gridwidth\": 2, \"linecolor\": \"white\", \"showbackground\": true, \"ticks\": \"\", \"zerolinecolor\": \"white\"}}, \"shapedefaults\": {\"line\": {\"color\": \"#2a3f5f\"}}, \"ternary\": {\"aaxis\": {\"gridcolor\": \"white\", \"linecolor\": \"white\", \"ticks\": \"\"}, \"baxis\": {\"gridcolor\": \"white\", \"linecolor\": \"white\", \"ticks\": \"\"}, \"bgcolor\": \"#E5ECF6\", \"caxis\": {\"gridcolor\": \"white\", \"linecolor\": \"white\", \"ticks\": \"\"}}, \"title\": {\"x\": 0.05}, \"xaxis\": {\"automargin\": true, \"gridcolor\": \"white\", \"linecolor\": \"white\", \"ticks\": \"\", \"title\": {\"standoff\": 15}, \"zerolinecolor\": \"white\", \"zerolinewidth\": 2}, \"yaxis\": {\"automargin\": true, \"gridcolor\": \"white\", \"linecolor\": \"white\", \"ticks\": \"\", \"title\": {\"standoff\": 15}, \"zerolinecolor\": \"white\", \"zerolinewidth\": 2}}}, \"title\": {\"text\": \"COVID-19 Growth Rate\"}, \"width\": 800, \"xaxis\": {\"showgrid\": false}, \"yaxis\": {\"showgrid\": false, \"title\": {\"text\": \"Growth Rate\"}}},\n",
       "                        {\"responsive\": true}\n",
       "                    ).then(function(){\n",
       "                            \n",
       "var gd = document.getElementById('b4f542d5-79e8-48b6-b698-f79a0feeb520');\n",
       "var x = new MutationObserver(function (mutations, observer) {{\n",
       "        var display = window.getComputedStyle(gd).display;\n",
       "        if (!display || display === 'none') {{\n",
       "            console.log([gd, 'removed!']);\n",
       "            Plotly.purge(gd);\n",
       "            observer.disconnect();\n",
       "        }}\n",
       "}});\n",
       "\n",
       "// Listen for the removal of the full notebook cells\n",
       "var notebookContainer = gd.closest('#notebook-container');\n",
       "if (notebookContainer) {{\n",
       "    x.observe(notebookContainer, {childList: true});\n",
       "}}\n",
       "\n",
       "// Listen for the clearing of the current output cell\n",
       "var outputEl = gd.closest('.output');\n",
       "if (outputEl) {{\n",
       "    x.observe(outputEl, {childList: true});\n",
       "}}\n",
       "\n",
       "                        })\n",
       "                };\n",
       "                \n",
       "            </script>\n",
       "        </div>\n",
       "</body>\n",
       "</html>"
      ]
     },
     "metadata": {
      "tags": []
     },
     "output_type": "display_data"
    }
   ],
   "source": [
    "fig = go.Figure(data=[\n",
    "go.Scatter(x=df_covid['Date'], y=growth_rate_ind)])\n",
    "\n",
    "\n",
    "fig.update_layout(title_text='COVID-19 Growth Rate',xaxis_showgrid=False, yaxis_showgrid=False, width=800, yaxis_title='Growth Rate',\n",
    "        height=500,font=dict(\n",
    "        size=12,\n",
    "        color=\"white\"\n",
    "    ))\n",
    "fig.layout.plot_bgcolor = 'Maroon'\n",
    "fig.layout.paper_bgcolor = 'Maroon'\n",
    "fig.show()"
   ]
  },
  {
   "cell_type": "code",
   "execution_count": 0,
   "metadata": {
    "colab": {
     "base_uri": "https://localhost:8080/",
     "height": 84
    },
    "colab_type": "code",
    "id": "Hww154EwBp8I",
    "outputId": "0fb1453d-514a-4652-c9ce-5ba7c0995d1d"
   },
   "outputs": [
    {
     "name": "stderr",
     "output_type": "stream",
     "text": [
      "/usr/local/lib/python3.6/dist-packages/ipykernel_launcher.py:2: FutureWarning:\n",
      "\n",
      "pandas.io.json.json_normalize is deprecated, use pandas.json_normalize instead\n",
      "\n"
     ]
    }
   ],
   "source": [
    "import requests\n",
    "indiatest = pd.io.json.json_normalize(requests.get('https://api.rootnet.in/covid19-in/stats/testing/history').json()['data'])\n",
    "indiatest.drop(['totalIndividualsTested','source'], axis=1, inplace=True)\n",
    "indiatest['day'] = indiatest['day'].apply(pd.to_datetime)\n",
    "\n",
    "indiatest[\"totalSamplesTested_diff\"] = indiatest[\"totalSamplesTested\"].diff()\n",
    "indiatest[\"totalPositiveCases_diff\"] = indiatest[\"totalPositiveCases\"].diff()\n",
    "indiatest[\"p2t_ratio\"]= np.round(100*indiatest[\"totalPositiveCases_diff\"]/indiatest[\"totalSamplesTested_diff\"],2)"
   ]
  },
  {
   "cell_type": "code",
   "execution_count": 0,
   "metadata": {
    "colab": {
     "base_uri": "https://localhost:8080/",
     "height": 67
    },
    "colab_type": "code",
    "id": "pvvdNztkBxRz",
    "outputId": "ca8eee00-56ef-4026-a884-54cfa8810447"
   },
   "outputs": [
    {
     "name": "stdout",
     "output_type": "stream",
     "text": [
      "Total Sample Tested:  195748.0\n",
      "Total Positive to Test Ratio: 4.25\n",
      "Tests Per Million Peoples: 16.17\n"
     ]
    }
   ],
   "source": [
    "(\"** Present Sample Tested for COVID-19 in India**\")\n",
    "print('Total Sample Tested: ',indiatest['totalSamplesTested'].max())\n",
    "print('Total Positive to Test Ratio:',np.round(100*indiatest[\"totalPositiveCases\"].max()/indiatest[\"totalSamplesTested\"].max(),2))\n",
    "print('Tests Per Million Peoples:', np.round(100000*indiatest[\"totalSamplesTested\"].max()/df_pop[\"Population\"].sum(),2))pd"
   ]
  },
  {
   "cell_type": "code",
   "execution_count": 0,
   "metadata": {
    "colab": {
     "base_uri": "https://localhost:8080/",
     "height": 77
    },
    "colab_type": "code",
    "id": "IunIlK7ECCJJ",
    "outputId": "dc561747-e24c-472b-cb3f-96e7a6b8fca6"
   },
   "outputs": [
    {
     "data": {
      "text/html": [
       "<div>\n",
       "<style scoped>\n",
       "    .dataframe tbody tr th:only-of-type {\n",
       "        vertical-align: middle;\n",
       "    }\n",
       "\n",
       "    .dataframe tbody tr th {\n",
       "        vertical-align: top;\n",
       "    }\n",
       "\n",
       "    .dataframe thead th {\n",
       "        text-align: right;\n",
       "    }\n",
       "</style>\n",
       "<table border=\"1\" class=\"dataframe\">\n",
       "  <thead>\n",
       "    <tr style=\"text-align: right;\">\n",
       "      <th></th>\n",
       "      <th>Total Sample Tested</th>\n",
       "      <th>Total Positive to Test Ratio</th>\n",
       "      <th>Tests Per Million Peoples</th>\n",
       "    </tr>\n",
       "  </thead>\n",
       "  <tbody>\n",
       "    <tr>\n",
       "      <th>0</th>\n",
       "      <td>195748.0</td>\n",
       "      <td>4.25</td>\n",
       "      <td>16.17</td>\n",
       "    </tr>\n",
       "  </tbody>\n",
       "</table>\n",
       "</div>"
      ],
      "text/plain": [
       "  Total Sample Tested Total Positive to Test Ratio Tests Per Million Peoples\n",
       "0            195748.0                         4.25                     16.17"
      ]
     },
     "execution_count": 405,
     "metadata": {
      "tags": []
     },
     "output_type": "execute_result"
    }
   ],
   "source": [
    "pd.DataFrame({'Total Sample Tested': [ '195748.0'],'Total Positive to Test Ratio': ['4.25'],'Tests Per Million Peoples': ['16.17']})"
   ]
  },
  {
   "cell_type": "markdown",
   "metadata": {
    "colab_type": "text",
    "id": "51nXaTb0YmUe"
   },
   "source": [
    "Lets Predict for the next 30 days using the average growth rate"
   ]
  },
  {
   "cell_type": "code",
   "execution_count": 0,
   "metadata": {
    "colab": {
     "base_uri": "https://localhost:8080/",
     "height": 101
    },
    "colab_type": "code",
    "id": "mLYPG8YRZ6yg",
    "outputId": "13ff2eeb-06e1-4dd4-fc2a-253930ce04c0"
   },
   "outputs": [
    {
     "data": {
      "text/plain": [
       "Date         2020-02-01 00:00:00\n",
       "Confirmed                      2\n",
       "Deaths                         0\n",
       "Cured                          0\n",
       "Name: 2, dtype: object"
      ]
     },
     "execution_count": 336,
     "metadata": {
      "tags": []
     },
     "output_type": "execute_result"
    }
   ],
   "source": [
    "df_covid.iloc[2]"
   ]
  },
  {
   "cell_type": "code",
   "execution_count": 0,
   "metadata": {
    "colab": {},
    "colab_type": "code",
    "id": "ER0nEexhZoHV"
   },
   "outputs": [],
   "source": [
    "prediction_dates = []\n",
    "current_date = df_covid['Date'].iloc[len(df_covid)-1]\n",
    "for i in range(1,15):\n",
    "  date = current_date+dt.timedelta(days=i)\n",
    "  prediction_dates.append(date)\n",
    "  \n"
   ]
  },
  {
   "cell_type": "code",
   "execution_count": 0,
   "metadata": {
    "colab": {},
    "colab_type": "code",
    "id": "RKbha833aqrL"
   },
   "outputs": [],
   "source": [
    "starting_value = df_covid['Confirmed'].iloc[len(df_covid)-1]\n",
    "predictions =[]\n",
    "for i in range(1,15):\n",
    "  if not predictions:\n",
    "      predictions.append(starting_value * avg_growth_rate)\n",
    "  else:\n",
    "     predictions.append((predictions[i-2]) * avg_growth_rate)\n",
    "\n"
   ]
  },
  {
   "cell_type": "code",
   "execution_count": 0,
   "metadata": {
    "colab": {},
    "colab_type": "code",
    "id": "oomQ6zrYeAdC"
   },
   "outputs": [],
   "source": []
  },
  {
   "cell_type": "code",
   "execution_count": 0,
   "metadata": {
    "colab": {
     "base_uri": "https://localhost:8080/",
     "height": 542
    },
    "colab_type": "code",
    "id": "rU3lLAbHYTq8",
    "outputId": "3bba5671-aff9-4545-a8a8-9cad6cb94b91"
   },
   "outputs": [
    {
     "data": {
      "text/html": [
       "<html>\n",
       "<head><meta charset=\"utf-8\" /></head>\n",
       "<body>\n",
       "    <div>\n",
       "            <script src=\"https://cdnjs.cloudflare.com/ajax/libs/mathjax/2.7.5/MathJax.js?config=TeX-AMS-MML_SVG\"></script><script type=\"text/javascript\">if (window.MathJax) {MathJax.Hub.Config({SVG: {font: \"STIX-Web\"}});}</script>\n",
       "                <script type=\"text/javascript\">window.PlotlyConfig = {MathJaxConfig: 'local'};</script>\n",
       "        <script src=\"https://cdn.plot.ly/plotly-latest.min.js\"></script>    \n",
       "            <div id=\"56897bd4-c179-44f6-adab-5fa96fc59698\" class=\"plotly-graph-div\" style=\"height:525px; width:100%;\"></div>\n",
       "            <script type=\"text/javascript\">\n",
       "                \n",
       "                    window.PLOTLYENV=window.PLOTLYENV || {};\n",
       "                    \n",
       "                if (document.getElementById(\"56897bd4-c179-44f6-adab-5fa96fc59698\")) {\n",
       "                    Plotly.newPlot(\n",
       "                        '56897bd4-c179-44f6-adab-5fa96fc59698',\n",
       "                        [{\"name\": \"Cases\", \"text\": [1.0, 1.0, 2.0, 3.0, 3.0, 3.0, 3.0, 3.0, 3.0, 3.0, 3.0, 3.0, 3.0, 3.0, 3.0, 3.0, 3.0, 3.0, 3.0, 3.0, 3.0, 3.0, 3.0, 3.0, 3.0, 3.0, 3.0, 3.0, 3.0, 3.0, 3.0, 3.0, 5.0, 6.0, 28.0, 30.0, 31.0, 34.0, 39.0, 46.0, 58.0, 60.0, 74.0, 81.0, 84.0, 110.0, 114.0, 137.0, 151.0, 173.0, 223.0, 283.0, 360.0, 433.0, 519.0, 606.0, 694.0, 724.0, 909.0, 1024.0, 1251.0, 1397.0, 1834.0, 2069.0, 2547.0, 3072.0, 3577.0, 4281.0, 4789.0, 5274.0, 5865.0, 6761.0, 7529.0, 8447.0], \"textfont\": {\"family\": \"sans serif\", \"size\": 18}, \"textposition\": \"outside\", \"type\": \"bar\", \"x\": [\"2020-01-30T00:00:00\", \"2020-01-31T00:00:00\", \"2020-02-01T00:00:00\", \"2020-02-02T00:00:00\", \"2020-02-03T00:00:00\", \"2020-02-04T00:00:00\", \"2020-02-05T00:00:00\", \"2020-02-06T00:00:00\", \"2020-02-07T00:00:00\", \"2020-02-08T00:00:00\", \"2020-02-09T00:00:00\", \"2020-02-10T00:00:00\", \"2020-02-11T00:00:00\", \"2020-02-12T00:00:00\", \"2020-02-13T00:00:00\", \"2020-02-14T00:00:00\", \"2020-02-15T00:00:00\", \"2020-02-16T00:00:00\", \"2020-02-17T00:00:00\", \"2020-02-18T00:00:00\", \"2020-02-19T00:00:00\", \"2020-02-20T00:00:00\", \"2020-02-21T00:00:00\", \"2020-02-22T00:00:00\", \"2020-02-23T00:00:00\", \"2020-02-24T00:00:00\", \"2020-02-25T00:00:00\", \"2020-02-26T00:00:00\", \"2020-02-27T00:00:00\", \"2020-02-28T00:00:00\", \"2020-02-29T00:00:00\", \"2020-03-01T00:00:00\", \"2020-03-02T00:00:00\", \"2020-03-03T00:00:00\", \"2020-03-04T00:00:00\", \"2020-03-05T00:00:00\", \"2020-03-06T00:00:00\", \"2020-03-07T00:00:00\", \"2020-03-08T00:00:00\", \"2020-03-09T00:00:00\", \"2020-03-10T00:00:00\", \"2020-03-11T00:00:00\", \"2020-03-12T00:00:00\", \"2020-03-13T00:00:00\", \"2020-03-14T00:00:00\", \"2020-03-15T00:00:00\", \"2020-03-16T00:00:00\", \"2020-03-17T00:00:00\", \"2020-03-18T00:00:00\", \"2020-03-19T00:00:00\", \"2020-03-20T00:00:00\", \"2020-03-21T00:00:00\", \"2020-03-22T00:00:00\", \"2020-03-23T00:00:00\", \"2020-03-24T00:00:00\", \"2020-03-25T00:00:00\", \"2020-03-26T00:00:00\", \"2020-03-27T00:00:00\", \"2020-03-28T00:00:00\", \"2020-03-29T00:00:00\", \"2020-03-30T00:00:00\", \"2020-03-31T00:00:00\", \"2020-04-01T00:00:00\", \"2020-04-02T00:00:00\", \"2020-04-03T00:00:00\", \"2020-04-04T00:00:00\", \"2020-04-05T00:00:00\", \"2020-04-06T00:00:00\", \"2020-04-07T00:00:00\", \"2020-04-08T00:00:00\", \"2020-04-09T00:00:00\", \"2020-04-10T00:00:00\", \"2020-04-11T00:00:00\", \"2020-04-12T00:00:00\"], \"y\": [1, 1, 2, 3, 3, 3, 3, 3, 3, 3, 3, 3, 3, 3, 3, 3, 3, 3, 3, 3, 3, 3, 3, 3, 3, 3, 3, 3, 3, 3, 3, 3, 5, 6, 28, 30, 31, 34, 39, 46, 58, 60, 74, 81, 84, 110, 114, 137, 151, 173, 223, 283, 360, 433, 519, 606, 694, 724, 909, 1024, 1251, 1397, 1834, 2069, 2547, 3072, 3577, 4281, 4789, 5274, 5865, 6761, 7529, 8447]}, {\"name\": \"Predicted Cases\", \"text\": [\"9868.51446834439\", \"11529.250362486393\", \"13469.4653736666\", \"15736.192011470655\", \"18384.377713015696\", \"21478.21681690583\", \"25092.706690170828\", \"29315.465730066637\", \"34248.85731069217\", \"40012.4711607468\", \"46746.02232319669\", \"54612.73797016886\", \"63803.31417242956\", \"74540.53853900127\"], \"textfont\": {\"family\": \"sans serif\", \"size\": 18}, \"textposition\": \"outside\", \"type\": \"bar\", \"x\": [\"2020-04-13T00:00:00\", \"2020-04-14T00:00:00\", \"2020-04-15T00:00:00\", \"2020-04-16T00:00:00\", \"2020-04-17T00:00:00\", \"2020-04-18T00:00:00\", \"2020-04-19T00:00:00\", \"2020-04-20T00:00:00\", \"2020-04-21T00:00:00\", \"2020-04-22T00:00:00\", \"2020-04-23T00:00:00\", \"2020-04-24T00:00:00\", \"2020-04-25T00:00:00\", \"2020-04-26T00:00:00\"], \"y\": [9868.51446834439, 11529.250362486393, 13469.4653736666, 15736.192011470655, 18384.377713015696, 21478.21681690583, 25092.706690170828, 29315.465730066637, 34248.85731069217, 40012.4711607468, 46746.02232319669, 54612.73797016886, 63803.31417242956, 74540.53853900127]}],\n",
       "                        {\"annotations\": [{\"arrowhead\": 1, \"ax\": -50, \"ay\": -100, \"showarrow\": true, \"text\": \"Lockdown Imposed(23rd March)\", \"x\": \"2020-03-23\", \"xref\": \"x\", \"y\": 433, \"yref\": \"y\"}, {\"arrowhead\": 1, \"ax\": -50, \"ay\": -100, \"showarrow\": true, \"text\": \"First Case Detected(30th Jan)\", \"x\": \"2020-01-30\", \"xref\": \"x\", \"y\": 0, \"yref\": \"y\"}, {\"arrowhead\": 1, \"ax\": -50, \"ay\": -100, \"showarrow\": true, \"text\": \"Prediction\", \"x\": \"2020-04-13\", \"xref\": \"x\", \"y\": 0, \"yref\": \"y\"}], \"barmode\": \"stack\", \"template\": {\"data\": {\"bar\": [{\"error_x\": {\"color\": \"#2a3f5f\"}, \"error_y\": {\"color\": \"#2a3f5f\"}, \"marker\": {\"line\": {\"color\": \"#E5ECF6\", \"width\": 0.5}}, \"type\": \"bar\"}], \"barpolar\": [{\"marker\": {\"line\": {\"color\": \"#E5ECF6\", \"width\": 0.5}}, \"type\": \"barpolar\"}], \"carpet\": [{\"aaxis\": {\"endlinecolor\": \"#2a3f5f\", \"gridcolor\": \"white\", \"linecolor\": \"white\", \"minorgridcolor\": \"white\", \"startlinecolor\": \"#2a3f5f\"}, \"baxis\": {\"endlinecolor\": \"#2a3f5f\", \"gridcolor\": \"white\", \"linecolor\": \"white\", \"minorgridcolor\": \"white\", \"startlinecolor\": \"#2a3f5f\"}, \"type\": \"carpet\"}], \"choropleth\": [{\"colorbar\": {\"outlinewidth\": 0, \"ticks\": \"\"}, \"type\": \"choropleth\"}], \"contour\": [{\"colorbar\": {\"outlinewidth\": 0, \"ticks\": \"\"}, \"colorscale\": [[0.0, \"#0d0887\"], [0.1111111111111111, \"#46039f\"], [0.2222222222222222, \"#7201a8\"], [0.3333333333333333, \"#9c179e\"], [0.4444444444444444, \"#bd3786\"], [0.5555555555555556, \"#d8576b\"], [0.6666666666666666, \"#ed7953\"], [0.7777777777777778, \"#fb9f3a\"], [0.8888888888888888, \"#fdca26\"], [1.0, \"#f0f921\"]], \"type\": \"contour\"}], \"contourcarpet\": [{\"colorbar\": {\"outlinewidth\": 0, \"ticks\": \"\"}, \"type\": \"contourcarpet\"}], \"heatmap\": [{\"colorbar\": {\"outlinewidth\": 0, \"ticks\": \"\"}, \"colorscale\": [[0.0, \"#0d0887\"], [0.1111111111111111, \"#46039f\"], [0.2222222222222222, \"#7201a8\"], [0.3333333333333333, \"#9c179e\"], [0.4444444444444444, \"#bd3786\"], [0.5555555555555556, \"#d8576b\"], [0.6666666666666666, \"#ed7953\"], [0.7777777777777778, \"#fb9f3a\"], [0.8888888888888888, \"#fdca26\"], [1.0, \"#f0f921\"]], \"type\": \"heatmap\"}], \"heatmapgl\": [{\"colorbar\": {\"outlinewidth\": 0, \"ticks\": \"\"}, \"colorscale\": [[0.0, \"#0d0887\"], [0.1111111111111111, \"#46039f\"], [0.2222222222222222, \"#7201a8\"], [0.3333333333333333, \"#9c179e\"], [0.4444444444444444, \"#bd3786\"], [0.5555555555555556, \"#d8576b\"], [0.6666666666666666, \"#ed7953\"], [0.7777777777777778, \"#fb9f3a\"], [0.8888888888888888, \"#fdca26\"], [1.0, \"#f0f921\"]], \"type\": \"heatmapgl\"}], \"histogram\": [{\"marker\": {\"colorbar\": {\"outlinewidth\": 0, \"ticks\": \"\"}}, \"type\": \"histogram\"}], \"histogram2d\": [{\"colorbar\": {\"outlinewidth\": 0, \"ticks\": \"\"}, \"colorscale\": [[0.0, \"#0d0887\"], [0.1111111111111111, \"#46039f\"], [0.2222222222222222, \"#7201a8\"], [0.3333333333333333, \"#9c179e\"], [0.4444444444444444, \"#bd3786\"], [0.5555555555555556, \"#d8576b\"], [0.6666666666666666, \"#ed7953\"], [0.7777777777777778, \"#fb9f3a\"], [0.8888888888888888, \"#fdca26\"], [1.0, \"#f0f921\"]], \"type\": \"histogram2d\"}], \"histogram2dcontour\": [{\"colorbar\": {\"outlinewidth\": 0, \"ticks\": \"\"}, \"colorscale\": [[0.0, \"#0d0887\"], [0.1111111111111111, \"#46039f\"], [0.2222222222222222, \"#7201a8\"], [0.3333333333333333, \"#9c179e\"], [0.4444444444444444, \"#bd3786\"], [0.5555555555555556, \"#d8576b\"], [0.6666666666666666, \"#ed7953\"], [0.7777777777777778, \"#fb9f3a\"], [0.8888888888888888, \"#fdca26\"], [1.0, \"#f0f921\"]], \"type\": \"histogram2dcontour\"}], \"mesh3d\": [{\"colorbar\": {\"outlinewidth\": 0, \"ticks\": \"\"}, \"type\": \"mesh3d\"}], \"parcoords\": [{\"line\": {\"colorbar\": {\"outlinewidth\": 0, \"ticks\": \"\"}}, \"type\": \"parcoords\"}], \"pie\": [{\"automargin\": true, \"type\": \"pie\"}], \"scatter\": [{\"marker\": {\"colorbar\": {\"outlinewidth\": 0, \"ticks\": \"\"}}, \"type\": \"scatter\"}], \"scatter3d\": [{\"line\": {\"colorbar\": {\"outlinewidth\": 0, \"ticks\": \"\"}}, \"marker\": {\"colorbar\": {\"outlinewidth\": 0, \"ticks\": \"\"}}, \"type\": \"scatter3d\"}], \"scattercarpet\": [{\"marker\": {\"colorbar\": {\"outlinewidth\": 0, \"ticks\": \"\"}}, \"type\": \"scattercarpet\"}], \"scattergeo\": [{\"marker\": {\"colorbar\": {\"outlinewidth\": 0, \"ticks\": \"\"}}, \"type\": \"scattergeo\"}], \"scattergl\": [{\"marker\": {\"colorbar\": {\"outlinewidth\": 0, \"ticks\": \"\"}}, \"type\": \"scattergl\"}], \"scattermapbox\": [{\"marker\": {\"colorbar\": {\"outlinewidth\": 0, \"ticks\": \"\"}}, \"type\": \"scattermapbox\"}], \"scatterpolar\": [{\"marker\": {\"colorbar\": {\"outlinewidth\": 0, \"ticks\": \"\"}}, \"type\": \"scatterpolar\"}], \"scatterpolargl\": [{\"marker\": {\"colorbar\": {\"outlinewidth\": 0, \"ticks\": \"\"}}, \"type\": \"scatterpolargl\"}], \"scatterternary\": [{\"marker\": {\"colorbar\": {\"outlinewidth\": 0, \"ticks\": \"\"}}, \"type\": \"scatterternary\"}], \"surface\": [{\"colorbar\": {\"outlinewidth\": 0, \"ticks\": \"\"}, \"colorscale\": [[0.0, \"#0d0887\"], [0.1111111111111111, \"#46039f\"], [0.2222222222222222, \"#7201a8\"], [0.3333333333333333, \"#9c179e\"], [0.4444444444444444, \"#bd3786\"], [0.5555555555555556, \"#d8576b\"], [0.6666666666666666, \"#ed7953\"], [0.7777777777777778, \"#fb9f3a\"], [0.8888888888888888, \"#fdca26\"], [1.0, \"#f0f921\"]], \"type\": \"surface\"}], \"table\": [{\"cells\": {\"fill\": {\"color\": \"#EBF0F8\"}, \"line\": {\"color\": \"white\"}}, \"header\": {\"fill\": {\"color\": \"#C8D4E3\"}, \"line\": {\"color\": \"white\"}}, \"type\": \"table\"}]}, \"layout\": {\"annotationdefaults\": {\"arrowcolor\": \"#2a3f5f\", \"arrowhead\": 0, \"arrowwidth\": 1}, \"coloraxis\": {\"colorbar\": {\"outlinewidth\": 0, \"ticks\": \"\"}}, \"colorscale\": {\"diverging\": [[0, \"#8e0152\"], [0.1, \"#c51b7d\"], [0.2, \"#de77ae\"], [0.3, \"#f1b6da\"], [0.4, \"#fde0ef\"], [0.5, \"#f7f7f7\"], [0.6, \"#e6f5d0\"], [0.7, \"#b8e186\"], [0.8, \"#7fbc41\"], [0.9, \"#4d9221\"], [1, \"#276419\"]], \"sequential\": [[0.0, \"#0d0887\"], [0.1111111111111111, \"#46039f\"], [0.2222222222222222, \"#7201a8\"], [0.3333333333333333, \"#9c179e\"], [0.4444444444444444, \"#bd3786\"], [0.5555555555555556, \"#d8576b\"], [0.6666666666666666, \"#ed7953\"], [0.7777777777777778, \"#fb9f3a\"], [0.8888888888888888, \"#fdca26\"], [1.0, \"#f0f921\"]], \"sequentialminus\": [[0.0, \"#0d0887\"], [0.1111111111111111, \"#46039f\"], [0.2222222222222222, \"#7201a8\"], [0.3333333333333333, \"#9c179e\"], [0.4444444444444444, \"#bd3786\"], [0.5555555555555556, \"#d8576b\"], [0.6666666666666666, \"#ed7953\"], [0.7777777777777778, \"#fb9f3a\"], [0.8888888888888888, \"#fdca26\"], [1.0, \"#f0f921\"]]}, \"colorway\": [\"#636efa\", \"#EF553B\", \"#00cc96\", \"#ab63fa\", \"#FFA15A\", \"#19d3f3\", \"#FF6692\", \"#B6E880\", \"#FF97FF\", \"#FECB52\"], \"font\": {\"color\": \"#2a3f5f\"}, \"geo\": {\"bgcolor\": \"white\", \"lakecolor\": \"white\", \"landcolor\": \"#E5ECF6\", \"showlakes\": true, \"showland\": true, \"subunitcolor\": \"white\"}, \"hoverlabel\": {\"align\": \"left\"}, \"hovermode\": \"closest\", \"mapbox\": {\"style\": \"light\"}, \"paper_bgcolor\": \"white\", \"plot_bgcolor\": \"#E5ECF6\", \"polar\": {\"angularaxis\": {\"gridcolor\": \"white\", \"linecolor\": \"white\", \"ticks\": \"\"}, \"bgcolor\": \"#E5ECF6\", \"radialaxis\": {\"gridcolor\": \"white\", \"linecolor\": \"white\", \"ticks\": \"\"}}, \"scene\": {\"xaxis\": {\"backgroundcolor\": \"#E5ECF6\", \"gridcolor\": \"white\", \"gridwidth\": 2, \"linecolor\": \"white\", \"showbackground\": true, \"ticks\": \"\", \"zerolinecolor\": \"white\"}, \"yaxis\": {\"backgroundcolor\": \"#E5ECF6\", \"gridcolor\": \"white\", \"gridwidth\": 2, \"linecolor\": \"white\", \"showbackground\": true, \"ticks\": \"\", \"zerolinecolor\": \"white\"}, \"zaxis\": {\"backgroundcolor\": \"#E5ECF6\", \"gridcolor\": \"white\", \"gridwidth\": 2, \"linecolor\": \"white\", \"showbackground\": true, \"ticks\": \"\", \"zerolinecolor\": \"white\"}}, \"shapedefaults\": {\"line\": {\"color\": \"#2a3f5f\"}}, \"ternary\": {\"aaxis\": {\"gridcolor\": \"white\", \"linecolor\": \"white\", \"ticks\": \"\"}, \"baxis\": {\"gridcolor\": \"white\", \"linecolor\": \"white\", \"ticks\": \"\"}, \"bgcolor\": \"#E5ECF6\", \"caxis\": {\"gridcolor\": \"white\", \"linecolor\": \"white\", \"ticks\": \"\"}}, \"title\": {\"x\": 0.05}, \"xaxis\": {\"automargin\": true, \"gridcolor\": \"white\", \"linecolor\": \"white\", \"ticks\": \"\", \"title\": {\"standoff\": 15}, \"zerolinecolor\": \"white\", \"zerolinewidth\": 2}, \"yaxis\": {\"automargin\": true, \"gridcolor\": \"white\", \"linecolor\": \"white\", \"ticks\": \"\", \"title\": {\"standoff\": 15}, \"zerolinecolor\": \"white\", \"zerolinewidth\": 2}}}, \"title\": {\"text\": \"COVID-19  Current and Predicted Confirmed Cases\"}},\n",
       "                        {\"responsive\": true}\n",
       "                    ).then(function(){\n",
       "                            \n",
       "var gd = document.getElementById('56897bd4-c179-44f6-adab-5fa96fc59698');\n",
       "var x = new MutationObserver(function (mutations, observer) {{\n",
       "        var display = window.getComputedStyle(gd).display;\n",
       "        if (!display || display === 'none') {{\n",
       "            console.log([gd, 'removed!']);\n",
       "            Plotly.purge(gd);\n",
       "            observer.disconnect();\n",
       "        }}\n",
       "}});\n",
       "\n",
       "// Listen for the removal of the full notebook cells\n",
       "var notebookContainer = gd.closest('#notebook-container');\n",
       "if (notebookContainer) {{\n",
       "    x.observe(notebookContainer, {childList: true});\n",
       "}}\n",
       "\n",
       "// Listen for the clearing of the current output cell\n",
       "var outputEl = gd.closest('.output');\n",
       "if (outputEl) {{\n",
       "    x.observe(outputEl, {childList: true});\n",
       "}}\n",
       "\n",
       "                        })\n",
       "                };\n",
       "                \n",
       "            </script>\n",
       "        </div>\n",
       "</body>\n",
       "</html>"
      ]
     },
     "metadata": {
      "tags": []
     },
     "output_type": "display_data"
    }
   ],
   "source": [
    "fig = go.Figure(data=[\n",
    "    go.Bar(name='Cases', x=df_covid['Date'], y=df_covid['Confirmed'], text= df_covid['Confirmed'],textfont=dict(family=\"sans serif\", size=18),textposition='outside'\n",
    "     ),\n",
    "    go.Bar(name='Predicted Cases', x=prediction_dates, y=predictions,text=predictions,textfont=dict(family=\"sans serif\", size=18),textposition='outside')\n",
    "])\n",
    "# fig.update_traces(textposition='outside',texttemplate='%{text:.2s}')\n",
    "\n",
    "fig.update_layout(barmode='stack', title='COVID-19  Current and Predicted Confirmed Cases',\n",
    "                  annotations=[dict(x='2020-03-23', y=433, xref=\"x\", yref=\"y\",\n",
    "                                    text=\"Lockdown Imposed(23rd March)\", showarrow=True, arrowhead=1, ax=-50, ay=-100),\n",
    "                               dict(x='2020-01-30', y=0, xref=\"x\", yref=\"y\",\n",
    "                                    text=\"First Case Detected(30th Jan)\", showarrow=True, arrowhead=1, ax=-50, ay=-100),\n",
    "                               dict(x='2020-04-13', y=0, xref=\"x\", yref=\"y\",\n",
    "                                    text=\"Prediction\", showarrow=True, arrowhead=1, ax=-50, ay=-100),\n",
    "                               ])\n",
    "\n",
    "# fig.update_layout(uniformtext_minsize=8, uniformtext_mode='hide')\n",
    "# fig.update_xaxes(rangeslider_visible=True)\n",
    "\n",
    "fig.show()"
   ]
  },
  {
   "cell_type": "markdown",
   "metadata": {},
   "source": [
    "By using the average growth rate, I have predicted approximately the cases could reach 74K by April 26th."
   ]
  },
  {
   "cell_type": "markdown",
   "metadata": {},
   "source": [
    "<a id='item5'></a>"
   ]
  },
  {
   "cell_type": "markdown",
   "metadata": {
    "colab_type": "text",
    "id": "M0oxUYxeShwR"
   },
   "source": [
    "## 5.Conclusion"
   ]
  },
  {
   "cell_type": "markdown",
   "metadata": {},
   "source": [
    "We are in Stage2 at the moment, not very far behind the next stage if we don't act right. Reaching the inflection point will be the end game to this pandemic but not without the support of every one of you. So what we do????\n",
    "\n",
    "It's so simple. Stay Home! Stay Healthy! We can together defeat it."
   ]
  },
  {
   "cell_type": "markdown",
   "metadata": {
    "colab": {},
    "colab_type": "code",
    "id": "Y77nQ_NgGupN"
   },
   "source": [
    "<img src='Images/AvengersAssemble.jpg'>"
   ]
  },
  {
   "cell_type": "code",
   "execution_count": null,
   "metadata": {},
   "outputs": [],
   "source": []
  }
 ],
 "metadata": {
  "colab": {
   "collapsed_sections": [],
   "name": "COVID-19 India Analysis.ipynb",
   "provenance": []
  },
  "kernelspec": {
   "display_name": "Python 3",
   "language": "python",
   "name": "python3"
  },
  "language_info": {
   "codemirror_mode": {
    "name": "ipython",
    "version": 3
   },
   "file_extension": ".py",
   "mimetype": "text/x-python",
   "name": "python",
   "nbconvert_exporter": "python",
   "pygments_lexer": "ipython3",
   "version": "3.7.6"
  }
 },
 "nbformat": 4,
 "nbformat_minor": 1
}
